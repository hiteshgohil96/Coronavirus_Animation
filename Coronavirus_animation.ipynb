{
 "cells": [
  {
   "cell_type": "markdown",
   "metadata": {},
   "source": [
    "# CORONAVIRUS ANIMATION"
   ]
  },
  {
   "cell_type": "markdown",
   "metadata": {},
   "source": [
    "From the given data it is seen that overall death rate is 3.52% and recovery rate is 55.05% in the world. \n",
    "<br>\n",
    "Leaving China out of consideration, the recovery rate is 11.58% and death rate is 2.66% till now."
   ]
  },
  {
   "cell_type": "code",
   "execution_count": 198,
   "metadata": {},
   "outputs": [],
   "source": [
    "## Import Libraries\n",
    "\n",
    "import pandas as pd\n",
    "import numpy as np\n",
    "from plotnine import *\n",
    "import plotly.express as px\n",
    "import folium\n"
   ]
  },
  {
   "cell_type": "code",
   "execution_count": 199,
   "metadata": {},
   "outputs": [],
   "source": [
    "## CSV - https://github.com/RamiKrispin/coronavirus\n",
    "\n",
    "df = pd.read_csv(\"D:/Hitesh\\Case Study\\Coronavirus/coronavirus.csv\")"
   ]
  },
  {
   "cell_type": "code",
   "execution_count": 200,
   "metadata": {},
   "outputs": [
    {
     "data": {
      "text/html": [
       "<div>\n",
       "<style scoped>\n",
       "    .dataframe tbody tr th:only-of-type {\n",
       "        vertical-align: middle;\n",
       "    }\n",
       "\n",
       "    .dataframe tbody tr th {\n",
       "        vertical-align: top;\n",
       "    }\n",
       "\n",
       "    .dataframe thead th {\n",
       "        text-align: right;\n",
       "    }\n",
       "</style>\n",
       "<table border=\"1\" class=\"dataframe\">\n",
       "  <thead>\n",
       "    <tr style=\"text-align: right;\">\n",
       "      <th></th>\n",
       "      <th>Province.State</th>\n",
       "      <th>Country.Region</th>\n",
       "      <th>Lat</th>\n",
       "      <th>Long</th>\n",
       "      <th>date</th>\n",
       "      <th>cases</th>\n",
       "      <th>type</th>\n",
       "    </tr>\n",
       "  </thead>\n",
       "  <tbody>\n",
       "    <tr>\n",
       "      <th>0</th>\n",
       "      <td>NaN</td>\n",
       "      <td>Japan</td>\n",
       "      <td>36.0000</td>\n",
       "      <td>138.0000</td>\n",
       "      <td>1/22/2020</td>\n",
       "      <td>2</td>\n",
       "      <td>confirmed</td>\n",
       "    </tr>\n",
       "    <tr>\n",
       "      <th>1</th>\n",
       "      <td>NaN</td>\n",
       "      <td>South Korea</td>\n",
       "      <td>36.0000</td>\n",
       "      <td>128.0000</td>\n",
       "      <td>1/22/2020</td>\n",
       "      <td>1</td>\n",
       "      <td>confirmed</td>\n",
       "    </tr>\n",
       "    <tr>\n",
       "      <th>2</th>\n",
       "      <td>NaN</td>\n",
       "      <td>Thailand</td>\n",
       "      <td>15.0000</td>\n",
       "      <td>101.0000</td>\n",
       "      <td>1/22/2020</td>\n",
       "      <td>2</td>\n",
       "      <td>confirmed</td>\n",
       "    </tr>\n",
       "    <tr>\n",
       "      <th>3</th>\n",
       "      <td>Anhui</td>\n",
       "      <td>Mainland China</td>\n",
       "      <td>31.8257</td>\n",
       "      <td>117.2264</td>\n",
       "      <td>1/22/2020</td>\n",
       "      <td>1</td>\n",
       "      <td>confirmed</td>\n",
       "    </tr>\n",
       "    <tr>\n",
       "      <th>4</th>\n",
       "      <td>Beijing</td>\n",
       "      <td>Mainland China</td>\n",
       "      <td>40.1824</td>\n",
       "      <td>116.4142</td>\n",
       "      <td>1/22/2020</td>\n",
       "      <td>14</td>\n",
       "      <td>confirmed</td>\n",
       "    </tr>\n",
       "  </tbody>\n",
       "</table>\n",
       "</div>"
      ],
      "text/plain": [
       "  Province.State  Country.Region      Lat      Long       date  cases  \\\n",
       "0            NaN           Japan  36.0000  138.0000  1/22/2020      2   \n",
       "1            NaN     South Korea  36.0000  128.0000  1/22/2020      1   \n",
       "2            NaN        Thailand  15.0000  101.0000  1/22/2020      2   \n",
       "3          Anhui  Mainland China  31.8257  117.2264  1/22/2020      1   \n",
       "4        Beijing  Mainland China  40.1824  116.4142  1/22/2020     14   \n",
       "\n",
       "        type  \n",
       "0  confirmed  \n",
       "1  confirmed  \n",
       "2  confirmed  \n",
       "3  confirmed  \n",
       "4  confirmed  "
      ]
     },
     "execution_count": 200,
     "metadata": {},
     "output_type": "execute_result"
    }
   ],
   "source": [
    "df.head()"
   ]
  },
  {
   "cell_type": "code",
   "execution_count": 201,
   "metadata": {},
   "outputs": [],
   "source": [
    "## Rename value of country\n",
    "df['Country.Region'] = df['Country.Region'].replace('Mainland China','China')\n",
    "\n",
    "## Reanme variables\n",
    "df.rename(columns= {'Country.Region' : 'Country','Province.State' : 'State'}, inplace = True)"
   ]
  },
  {
   "cell_type": "code",
   "execution_count": 202,
   "metadata": {},
   "outputs": [],
   "source": [
    "## SEPARATING DIFFERENT TYPES OF CASES\n",
    "\n",
    "confirmed = df[df['type'] == 'confirmed']\n",
    "recovered = df[df['type'] == 'recovered']\n",
    "dead = df[df['type'] == 'death']"
   ]
  },
  {
   "cell_type": "code",
   "execution_count": 203,
   "metadata": {},
   "outputs": [],
   "source": [
    "## FILL NAs IN CASES VARIABLE AS 0\n",
    "\n",
    "df['cases'] = df['cases'].fillna(0)"
   ]
  },
  {
   "cell_type": "markdown",
   "metadata": {},
   "source": [
    "# RECOVERY & DEATH RATE ALL OVER THE WORLD"
   ]
  },
  {
   "cell_type": "code",
   "execution_count": 204,
   "metadata": {},
   "outputs": [],
   "source": [
    "c = confirmed['cases'].sum()\n",
    "d = death['cases'].sum()\n",
    "r = recovered['cases'].sum()"
   ]
  },
  {
   "cell_type": "code",
   "execution_count": 216,
   "metadata": {},
   "outputs": [
    {
     "name": "stdout",
     "output_type": "stream",
     "text": [
      " The recovery_rate in the world is 55.05 %\n",
      " The death rate in the world is 3.52 %\n"
     ]
    }
   ],
   "source": [
    "recovery_rate = round(r*100/c,2)\n",
    "print(\" The recovery_rate in the world is\",recovery_rate,'%')\n",
    "death_rate = round(d*100/c,2)\n",
    "print(\" The death rate in the world is\",death_rate,'%')"
   ]
  },
  {
   "cell_type": "markdown",
   "metadata": {},
   "source": [
    "# RECOVERY & DEATH RATE OF THE WORLD; EXCLUDING CHINA"
   ]
  },
  {
   "cell_type": "code",
   "execution_count": 206,
   "metadata": {},
   "outputs": [
    {
     "name": "stdout",
     "output_type": "stream",
     "text": [
      "The recovery rate is 11.58 %\n",
      "The death rate is 2.66 %\n"
     ]
    }
   ],
   "source": [
    "## EXCLUDING CHINA \n",
    "\n",
    "confirmed_not_china = confirmed[confirmed['Country'] != 'China']\n",
    "recovered_not_china = recovered[recovered['Country'] != 'China']\n",
    "death_not_china = death[death['Country'] != 'China']\n",
    "\n",
    "\n",
    "cc = confirmed_not_china['cases'].sum()\n",
    "rr = recovered_not_china['cases'].sum()\n",
    "dd = death_not_china['cases'].sum()\n",
    "\n",
    "## Recovery rate\n",
    "rr_rate = round(rr*100/cc,2)\n",
    "print(\"The recovery rate is\", rr_rate, '%')\n",
    "\n",
    "## Death rate\n",
    "dd_rate = round(dd*100/cc,2)\n",
    "print(\"The death rate is\", dd_rate,'%')"
   ]
  },
  {
   "cell_type": "markdown",
   "metadata": {},
   "source": [
    "# SPREAD OF COVID-19 IN CHINA"
   ]
  },
  {
   "cell_type": "code",
   "execution_count": 207,
   "metadata": {},
   "outputs": [],
   "source": [
    "## CHINA\n",
    "\n",
    "china = df[(df['Country'] == 'China') & (df['type'] == 'confirmed')]"
   ]
  },
  {
   "cell_type": "code",
   "execution_count": 208,
   "metadata": {},
   "outputs": [
    {
     "data": {
      "text/html": [
       "<div>\n",
       "<style scoped>\n",
       "    .dataframe tbody tr th:only-of-type {\n",
       "        vertical-align: middle;\n",
       "    }\n",
       "\n",
       "    .dataframe tbody tr th {\n",
       "        vertical-align: top;\n",
       "    }\n",
       "\n",
       "    .dataframe thead th {\n",
       "        text-align: right;\n",
       "    }\n",
       "</style>\n",
       "<table border=\"1\" class=\"dataframe\">\n",
       "  <thead>\n",
       "    <tr style=\"text-align: right;\">\n",
       "      <th></th>\n",
       "      <th>State</th>\n",
       "      <th>Country</th>\n",
       "      <th>Lat</th>\n",
       "      <th>Long</th>\n",
       "      <th>date</th>\n",
       "      <th>cases</th>\n",
       "      <th>type</th>\n",
       "    </tr>\n",
       "  </thead>\n",
       "  <tbody>\n",
       "    <tr>\n",
       "      <th>3</th>\n",
       "      <td>Anhui</td>\n",
       "      <td>China</td>\n",
       "      <td>31.8257</td>\n",
       "      <td>117.2264</td>\n",
       "      <td>1/22/2020</td>\n",
       "      <td>1</td>\n",
       "      <td>confirmed</td>\n",
       "    </tr>\n",
       "    <tr>\n",
       "      <th>4</th>\n",
       "      <td>Beijing</td>\n",
       "      <td>China</td>\n",
       "      <td>40.1824</td>\n",
       "      <td>116.4142</td>\n",
       "      <td>1/22/2020</td>\n",
       "      <td>14</td>\n",
       "      <td>confirmed</td>\n",
       "    </tr>\n",
       "    <tr>\n",
       "      <th>5</th>\n",
       "      <td>Chongqing</td>\n",
       "      <td>China</td>\n",
       "      <td>30.0572</td>\n",
       "      <td>107.8740</td>\n",
       "      <td>1/22/2020</td>\n",
       "      <td>6</td>\n",
       "      <td>confirmed</td>\n",
       "    </tr>\n",
       "    <tr>\n",
       "      <th>6</th>\n",
       "      <td>Fujian</td>\n",
       "      <td>China</td>\n",
       "      <td>26.0789</td>\n",
       "      <td>117.9874</td>\n",
       "      <td>1/22/2020</td>\n",
       "      <td>1</td>\n",
       "      <td>confirmed</td>\n",
       "    </tr>\n",
       "    <tr>\n",
       "      <th>7</th>\n",
       "      <td>Guangdong</td>\n",
       "      <td>China</td>\n",
       "      <td>23.3417</td>\n",
       "      <td>113.4244</td>\n",
       "      <td>1/22/2020</td>\n",
       "      <td>26</td>\n",
       "      <td>confirmed</td>\n",
       "    </tr>\n",
       "  </tbody>\n",
       "</table>\n",
       "</div>"
      ],
      "text/plain": [
       "       State Country      Lat      Long       date  cases       type\n",
       "3      Anhui   China  31.8257  117.2264  1/22/2020      1  confirmed\n",
       "4    Beijing   China  40.1824  116.4142  1/22/2020     14  confirmed\n",
       "5  Chongqing   China  30.0572  107.8740  1/22/2020      6  confirmed\n",
       "6     Fujian   China  26.0789  117.9874  1/22/2020      1  confirmed\n",
       "7  Guangdong   China  23.3417  113.4244  1/22/2020     26  confirmed"
      ]
     },
     "execution_count": 208,
     "metadata": {},
     "output_type": "execute_result"
    }
   ],
   "source": [
    "china.head()"
   ]
  },
  {
   "cell_type": "code",
   "execution_count": 209,
   "metadata": {},
   "outputs": [
    {
     "data": {
      "application/vnd.plotly.v1+json": {
       "config": {
        "plotlyServerURL": "https://plot.ly"
       },
       "data": [
        {
         "geo": "geo",
         "hoverlabel": {
          "namelength": 0
         },
         "hovertemplate": "<b>%{hovertext}</b><br><br>date=01/22/2020<br>size=%{marker.color}<br>Lat=%{lat}<br>Long=%{lon}",
         "hovertext": [
          "Anhui",
          "Beijing",
          "Chongqing",
          "Fujian",
          "Guangdong",
          "Guangxi",
          "Guizhou",
          "Hainan",
          "Hebei",
          "Henan",
          "Hubei",
          "Hunan",
          "Jiangsu",
          "Jiangxi",
          "Liaoning",
          "Ningxia",
          "Shandong",
          "Shanghai",
          "Shanxi",
          "Sichuan",
          "Tianjin",
          "Yunnan",
          "Zhejiang"
         ],
         "lat": [
          31.8257,
          40.1824,
          30.0572,
          26.0789,
          23.3417,
          23.8298,
          26.8154,
          19.1959,
          38.0428,
          33.882020000000004,
          30.9756,
          27.6104,
          32.9711,
          27.614,
          41.2956,
          37.2692,
          36.3427,
          31.201999999999998,
          37.5777,
          30.6171,
          39.3054,
          24.974,
          29.1832
         ],
         "legendgroup": "",
         "lon": [
          117.2264,
          116.4142,
          107.874,
          117.9874,
          113.4244,
          108.7881,
          106.8748,
          109.7453,
          114.5149,
          113.61399999999999,
          112.2707,
          111.7088,
          119.455,
          115.7221,
          122.6085,
          106.1655,
          118.1498,
          121.4491,
          112.2922,
          102.7103,
          117.323,
          101.48700000000001,
          120.0934
         ],
         "marker": {
          "color": [
           1,
           3.7416573867739413,
           2.449489742783178,
           1,
           5.0990195135927845,
           1.4142135623730951,
           1,
           2,
           1,
           2.23606797749979,
           21.071307505705477,
           2,
           1,
           1.4142135623730951,
           1.4142135623730951,
           1,
           1.4142135623730951,
           3,
           1,
           2.23606797749979,
           2,
           1,
           3.1622776601683795
          ],
          "coloraxis": "coloraxis",
          "size": [
           1,
           3.7416573867739413,
           2.449489742783178,
           1,
           5.0990195135927845,
           1.4142135623730951,
           1,
           2,
           1,
           2.23606797749979,
           21.071307505705477,
           2,
           1,
           1.4142135623730951,
           1.4142135623730951,
           1,
           1.4142135623730951,
           3,
           1,
           2.23606797749979,
           2,
           1,
           3.1622776601683795
          ],
          "sizemode": "area",
          "sizeref": 0.30454884665682125
         },
         "name": "",
         "showlegend": false,
         "type": "scattergeo"
        }
       ],
       "frames": [
        {
         "data": [
          {
           "geo": "geo",
           "hoverlabel": {
            "namelength": 0
           },
           "hovertemplate": "<b>%{hovertext}</b><br><br>date=01/22/2020<br>size=%{marker.color}<br>Lat=%{lat}<br>Long=%{lon}",
           "hovertext": [
            "Anhui",
            "Beijing",
            "Chongqing",
            "Fujian",
            "Guangdong",
            "Guangxi",
            "Guizhou",
            "Hainan",
            "Hebei",
            "Henan",
            "Hubei",
            "Hunan",
            "Jiangsu",
            "Jiangxi",
            "Liaoning",
            "Ningxia",
            "Shandong",
            "Shanghai",
            "Shanxi",
            "Sichuan",
            "Tianjin",
            "Yunnan",
            "Zhejiang"
           ],
           "lat": [
            31.8257,
            40.1824,
            30.0572,
            26.0789,
            23.3417,
            23.8298,
            26.8154,
            19.1959,
            38.0428,
            33.882020000000004,
            30.9756,
            27.6104,
            32.9711,
            27.614,
            41.2956,
            37.2692,
            36.3427,
            31.201999999999998,
            37.5777,
            30.6171,
            39.3054,
            24.974,
            29.1832
           ],
           "legendgroup": "",
           "lon": [
            117.2264,
            116.4142,
            107.874,
            117.9874,
            113.4244,
            108.7881,
            106.8748,
            109.7453,
            114.5149,
            113.61399999999999,
            112.2707,
            111.7088,
            119.455,
            115.7221,
            122.6085,
            106.1655,
            118.1498,
            121.4491,
            112.2922,
            102.7103,
            117.323,
            101.48700000000001,
            120.0934
           ],
           "marker": {
            "color": [
             1,
             3.7416573867739413,
             2.449489742783178,
             1,
             5.0990195135927845,
             1.4142135623730951,
             1,
             2,
             1,
             2.23606797749979,
             21.071307505705477,
             2,
             1,
             1.4142135623730951,
             1.4142135623730951,
             1,
             1.4142135623730951,
             3,
             1,
             2.23606797749979,
             2,
             1,
             3.1622776601683795
            ],
            "coloraxis": "coloraxis",
            "size": [
             1,
             3.7416573867739413,
             2.449489742783178,
             1,
             5.0990195135927845,
             1.4142135623730951,
             1,
             2,
             1,
             2.23606797749979,
             21.071307505705477,
             2,
             1,
             1.4142135623730951,
             1.4142135623730951,
             1,
             1.4142135623730951,
             3,
             1,
             2.23606797749979,
             2,
             1,
             3.1622776601683795
            ],
            "sizemode": "area",
            "sizeref": 0.30454884665682125
           },
           "name": "",
           "showlegend": false,
           "type": "scattergeo"
          }
         ],
         "name": "01/22/2020"
        },
        {
         "data": [
          {
           "geo": "geo",
           "hoverlabel": {
            "namelength": 0
           },
           "hovertemplate": "<b>%{hovertext}</b><br><br>date=01/23/2020<br>size=%{marker.color}<br>Lat=%{lat}<br>Long=%{lon}",
           "hovertext": [
            "Anhui",
            "Beijing",
            "Chongqing",
            "Fujian",
            "Gansu",
            "Guangdong",
            "Guangxi",
            "Guizhou",
            "Hainan",
            "Heilongjiang",
            "Hunan",
            "Jiangsu",
            "Jiangxi",
            "Jilin",
            "Liaoning",
            "Shaanxi",
            "Shandong",
            "Shanghai",
            "Sichuan",
            "Xinjiang",
            "Yunnan",
            "Zhejiang"
           ],
           "lat": [
            31.8257,
            40.1824,
            30.0572,
            26.0789,
            36.0611,
            23.3417,
            23.8298,
            26.8154,
            19.1959,
            47.861999999999995,
            27.6104,
            32.9711,
            27.614,
            43.6661,
            41.2956,
            35.1917,
            36.3427,
            31.201999999999998,
            30.6171,
            41.1129,
            24.974,
            29.1832
           ],
           "legendgroup": "",
           "lon": [
            117.2264,
            116.4142,
            107.874,
            117.9874,
            103.8343,
            113.4244,
            108.7881,
            106.8748,
            109.7453,
            127.7615,
            111.7088,
            119.455,
            115.7221,
            126.1923,
            122.6085,
            108.8701,
            118.1498,
            121.4491,
            102.7103,
            85.2401,
            101.48700000000001,
            120.0934
           ],
           "marker": {
            "color": [
             2.8284271247461903,
             2.8284271247461903,
             1.7320508075688772,
             2,
             1.4142135623730951,
             2.449489742783178,
             1.7320508075688772,
             1.4142135623730951,
             1,
             1.4142135623730951,
             2.23606797749979,
             2,
             2.23606797749979,
             1,
             1,
             1.7320508075688772,
             2,
             2.6457513110645907,
             1.7320508075688772,
             1.4142135623730951,
             1,
             4.123105625617661
            ],
            "coloraxis": "coloraxis",
            "size": [
             2.8284271247461903,
             2.8284271247461903,
             1.7320508075688772,
             2,
             1.4142135623730951,
             2.449489742783178,
             1.7320508075688772,
             1.4142135623730951,
             1,
             1.4142135623730951,
             2.23606797749979,
             2,
             2.23606797749979,
             1,
             1,
             1.7320508075688772,
             2,
             2.6457513110645907,
             1.7320508075688772,
             1.4142135623730951,
             1,
             4.123105625617661
            ],
            "sizemode": "area",
            "sizeref": 0.30454884665682125
           },
           "name": "",
           "showlegend": false,
           "type": "scattergeo"
          }
         ],
         "name": "01/23/2020"
        },
        {
         "data": [
          {
           "geo": "geo",
           "hoverlabel": {
            "namelength": 0
           },
           "hovertemplate": "<b>%{hovertext}</b><br><br>date=01/24/2020<br>size=%{marker.color}<br>Lat=%{lat}<br>Long=%{lon}",
           "hovertext": [
            "Anhui",
            "Beijing",
            "Chongqing",
            "Fujian",
            "Guangdong",
            "Guangxi",
            "Hainan",
            "Hebei",
            "Heilongjiang",
            "Henan",
            "Hubei",
            "Hunan",
            "Inner Mongolia",
            "Jiangsu",
            "Jiangxi",
            "Jilin",
            "Liaoning",
            "Ningxia",
            "Shaanxi",
            "Shandong",
            "Shanghai",
            "Sichuan",
            "Tianjin",
            "Yunnan",
            "Zhejiang"
           ],
           "lat": [
            31.8257,
            40.1824,
            30.0572,
            26.0789,
            23.3417,
            23.8298,
            19.1959,
            38.0428,
            47.861999999999995,
            33.882020000000004,
            30.9756,
            27.6104,
            44.0935,
            32.9711,
            27.614,
            43.6661,
            41.2956,
            37.2692,
            35.1917,
            36.3427,
            31.201999999999998,
            30.6171,
            39.3054,
            24.974,
            29.1832
           ],
           "legendgroup": "",
           "lon": [
            117.2264,
            116.4142,
            107.874,
            117.9874,
            113.4244,
            108.7881,
            109.7453,
            114.5149,
            127.7615,
            113.61399999999999,
            112.2707,
            111.7088,
            113.9448,
            119.455,
            115.7221,
            126.1923,
            122.6085,
            106.1655,
            108.8701,
            118.1498,
            121.4491,
            102.7103,
            117.323,
            101.48700000000001,
            120.0934
           ],
           "marker": {
            "color": [
             2.449489742783178,
             3.7416573867739413,
             4.242640687119285,
             2.23606797749979,
             4.58257569495584,
             4.242640687119285,
             1.7320508075688772,
             1,
             1.4142135623730951,
             2,
             10.246950765959598,
             3.872983346207417,
             1,
             2,
             3.3166247903554,
             1.4142135623730951,
             1,
             1,
             1.4142135623730951,
             3,
             2,
             2.6457513110645907,
             2,
             1.7320508075688772,
             4
            ],
            "coloraxis": "coloraxis",
            "size": [
             2.449489742783178,
             3.7416573867739413,
             4.242640687119285,
             2.23606797749979,
             4.58257569495584,
             4.242640687119285,
             1.7320508075688772,
             1,
             1.4142135623730951,
             2,
             10.246950765959598,
             3.872983346207417,
             1,
             2,
             3.3166247903554,
             1.4142135623730951,
             1,
             1,
             1.4142135623730951,
             3,
             2,
             2.6457513110645907,
             2,
             1.7320508075688772,
             4
            ],
            "sizemode": "area",
            "sizeref": 0.30454884665682125
           },
           "name": "",
           "showlegend": false,
           "type": "scattergeo"
          }
         ],
         "name": "01/24/2020"
        },
        {
         "data": [
          {
           "geo": "geo",
           "hoverlabel": {
            "namelength": 0
           },
           "hovertemplate": "<b>%{hovertext}</b><br><br>date=01/25/2020<br>size=%{marker.color}<br>Lat=%{lat}<br>Long=%{lon}",
           "hovertext": [
            "Anhui",
            "Beijing",
            "Chongqing",
            "Fujian",
            "Gansu",
            "Guangdong",
            "Guizhou",
            "Hainan",
            "Hebei",
            "Heilongjiang",
            "Henan",
            "Hubei",
            "Hunan",
            "Inner Mongolia",
            "Jiangsu",
            "Jilin",
            "Liaoning",
            "Ningxia",
            "Qinghai",
            "Shaanxi",
            "Shandong",
            "Shanghai",
            "Shanxi",
            "Sichuan",
            "Tianjin",
            "Xinjiang",
            "Yunnan",
            "Zhejiang"
           ],
           "lat": [
            31.8257,
            40.1824,
            30.0572,
            26.0789,
            36.0611,
            23.3417,
            26.8154,
            19.1959,
            38.0428,
            47.861999999999995,
            33.882020000000004,
            30.9756,
            27.6104,
            44.0935,
            32.9711,
            43.6661,
            41.2956,
            37.2692,
            35.7452,
            35.1917,
            36.3427,
            31.201999999999998,
            37.5777,
            30.6171,
            39.3054,
            41.1129,
            24.974,
            29.1832
           ],
           "legendgroup": "",
           "lon": [
            117.2264,
            116.4142,
            107.874,
            117.9874,
            103.8343,
            113.4244,
            106.8748,
            109.7453,
            114.5149,
            127.7615,
            113.61399999999999,
            112.2707,
            111.7088,
            113.9448,
            119.455,
            126.1923,
            122.6085,
            106.1655,
            95.9956,
            108.8701,
            118.1498,
            121.4491,
            112.2922,
            102.7103,
            117.323,
            85.2401,
            101.48700000000001,
            120.0934
           ],
           "marker": {
            "color": [
             4.898979485566356,
             2.23606797749979,
             5.477225575051661,
             2.8284271247461903,
             1.4142135623730951,
             5,
             1,
             3.3166247903554,
             2.449489742783178,
             2.23606797749979,
             4.795831523312719,
             14.560219778561036,
             4.358898943540674,
             2.449489742783178,
             3,
             1,
             3.605551275463989,
             1,
             1,
             3.1622776601683795,
             3.4641016151377544,
             3.605551275463989,
             2.23606797749979,
             3.605551275463989,
             1.4142135623730951,
             1,
             2.449489742783178,
             4.358898943540674
            ],
            "coloraxis": "coloraxis",
            "size": [
             4.898979485566356,
             2.23606797749979,
             5.477225575051661,
             2.8284271247461903,
             1.4142135623730951,
             5,
             1,
             3.3166247903554,
             2.449489742783178,
             2.23606797749979,
             4.795831523312719,
             14.560219778561036,
             4.358898943540674,
             2.449489742783178,
             3,
             1,
             3.605551275463989,
             1,
             1,
             3.1622776601683795,
             3.4641016151377544,
             3.605551275463989,
             2.23606797749979,
             3.605551275463989,
             1.4142135623730951,
             1,
             2.449489742783178,
             4.358898943540674
            ],
            "sizemode": "area",
            "sizeref": 0.30454884665682125
           },
           "name": "",
           "showlegend": false,
           "type": "scattergeo"
          }
         ],
         "name": "01/25/2020"
        },
        {
         "data": [
          {
           "geo": "geo",
           "hoverlabel": {
            "namelength": 0
           },
           "hovertemplate": "<b>%{hovertext}</b><br><br>date=01/26/2020<br>size=%{marker.color}<br>Lat=%{lat}<br>Long=%{lon}",
           "hovertext": [
            "Anhui",
            "Beijing",
            "Chongqing",
            "Fujian",
            "Gansu",
            "Guangdong",
            "Guangxi",
            "Guizhou",
            "Hainan",
            "Hebei",
            "Heilongjiang",
            "Henan",
            "Hubei",
            "Hunan",
            "Jiangsu",
            "Jiangxi",
            "Liaoning",
            "Ningxia",
            "Shaanxi",
            "Shandong",
            "Shanghai",
            "Shanxi",
            "Sichuan",
            "Tianjin",
            "Xinjiang",
            "Yunnan",
            "Zhejiang"
           ],
           "lat": [
            31.8257,
            40.1824,
            30.0572,
            26.0789,
            36.0611,
            23.3417,
            23.8298,
            26.8154,
            19.1959,
            38.0428,
            47.861999999999995,
            33.882020000000004,
            30.9756,
            27.6104,
            32.9711,
            27.614,
            41.2956,
            37.2692,
            35.1917,
            36.3427,
            31.201999999999998,
            37.5777,
            30.6171,
            39.3054,
            41.1129,
            24.974,
            29.1832
           ],
           "legendgroup": "",
           "lon": [
            117.2264,
            116.4142,
            107.874,
            117.9874,
            103.8343,
            113.4244,
            108.7881,
            106.8748,
            109.7453,
            114.5149,
            127.7615,
            113.61399999999999,
            112.2707,
            111.7088,
            119.455,
            115.7221,
            122.6085,
            106.1655,
            108.8701,
            118.1498,
            121.4491,
            112.2922,
            102.7103,
            117.323,
            85.2401,
            101.48700000000001,
            120.0934
           ],
           "marker": {
            "color": [
             4.58257569495584,
             5.196152422706632,
             4.242640687119285,
             4.123105625617661,
             1.7320508075688772,
             5.744562646538029,
             3.605551275463989,
             1,
             1.7320508075688772,
             2.23606797749979,
             2.449489742783178,
             7.14142842854285,
             17.233687939614086,
             5.0990195135927845,
             3.872983346207417,
             4.242640687119285,
             2,
             1,
             2.6457513110645907,
             4.358898943540674,
             2.6457513110645907,
             1.7320508075688772,
             4,
             2,
             1,
             2.23606797749979,
             6.48074069840786
            ],
            "coloraxis": "coloraxis",
            "size": [
             4.58257569495584,
             5.196152422706632,
             4.242640687119285,
             4.123105625617661,
             1.7320508075688772,
             5.744562646538029,
             3.605551275463989,
             1,
             1.7320508075688772,
             2.23606797749979,
             2.449489742783178,
             7.14142842854285,
             17.233687939614086,
             5.0990195135927845,
             3.872983346207417,
             4.242640687119285,
             2,
             1,
             2.6457513110645907,
             4.358898943540674,
             2.6457513110645907,
             1.7320508075688772,
             4,
             2,
             1,
             2.23606797749979,
             6.48074069840786
            ],
            "sizemode": "area",
            "sizeref": 0.30454884665682125
           },
           "name": "",
           "showlegend": false,
           "type": "scattergeo"
          }
         ],
         "name": "01/26/2020"
        },
        {
         "data": [
          {
           "geo": "geo",
           "hoverlabel": {
            "namelength": 0
           },
           "hovertemplate": "<b>%{hovertext}</b><br><br>date=01/27/2020<br>size=%{marker.color}<br>Lat=%{lat}<br>Long=%{lon}",
           "hovertext": [
            "Anhui",
            "Beijing",
            "Chongqing",
            "Fujian",
            "Gansu",
            "Guangdong",
            "Guangxi",
            "Guizhou",
            "Hainan",
            "Hebei",
            "Heilongjiang",
            "Henan",
            "Hubei",
            "Hunan",
            "Inner Mongolia",
            "Jiangsu",
            "Jiangxi",
            "Jilin",
            "Liaoning",
            "Ningxia",
            "Qinghai",
            "Shaanxi",
            "Shandong",
            "Shanghai",
            "Shanxi",
            "Sichuan",
            "Tianjin",
            "Xinjiang",
            "Yunnan",
            "Zhejiang"
           ],
           "lat": [
            31.8257,
            40.1824,
            30.0572,
            26.0789,
            36.0611,
            23.3417,
            23.8298,
            26.8154,
            19.1959,
            38.0428,
            47.861999999999995,
            33.882020000000004,
            30.9756,
            27.6104,
            44.0935,
            32.9711,
            27.614,
            43.6661,
            41.2956,
            37.2692,
            35.7452,
            35.1917,
            36.3427,
            31.201999999999998,
            37.5777,
            30.6171,
            39.3054,
            41.1129,
            24.974,
            29.1832
           ],
           "legendgroup": "",
           "lon": [
            117.2264,
            116.4142,
            107.874,
            117.9874,
            103.8343,
            113.4244,
            108.7881,
            106.8748,
            109.7453,
            114.5149,
            127.7615,
            113.61399999999999,
            112.2707,
            111.7088,
            113.9448,
            119.455,
            115.7221,
            126.1923,
            122.6085,
            106.1655,
            95.9956,
            108.8701,
            118.1498,
            121.4491,
            112.2922,
            102.7103,
            117.323,
            85.2401,
            101.48700000000001,
            120.0934
           ],
           "marker": {
            "color": [
             3.1622776601683795,
             3.4641016151377544,
             5.916079783099616,
             4.898979485566356,
             2.6457513110645907,
             6.324555320336759,
             3.1622776601683795,
             1.4142135623730951,
             3.3166247903554,
             2.23606797749979,
             2.449489742783178,
             6.708203932499369,
             19.1049731745428,
             5.5677643628300215,
             2,
             3.7416573867739413,
             6,
             1.4142135623730951,
             2.449489742783178,
             1.7320508075688772,
             2.23606797749979,
             3.605551275463989,
             5.385164807134504,
             3.605551275463989,
             2,
             5,
             3,
             1,
             3.1622776601683795,
             4.898979485566356
            ],
            "coloraxis": "coloraxis",
            "size": [
             3.1622776601683795,
             3.4641016151377544,
             5.916079783099616,
             4.898979485566356,
             2.6457513110645907,
             6.324555320336759,
             3.1622776601683795,
             1.4142135623730951,
             3.3166247903554,
             2.23606797749979,
             2.449489742783178,
             6.708203932499369,
             19.1049731745428,
             5.5677643628300215,
             2,
             3.7416573867739413,
             6,
             1.4142135623730951,
             2.449489742783178,
             1.7320508075688772,
             2.23606797749979,
             3.605551275463989,
             5.385164807134504,
             3.605551275463989,
             2,
             5,
             3,
             1,
             3.1622776601683795,
             4.898979485566356
            ],
            "sizemode": "area",
            "sizeref": 0.30454884665682125
           },
           "name": "",
           "showlegend": false,
           "type": "scattergeo"
          }
         ],
         "name": "01/27/2020"
        },
        {
         "data": [
          {
           "geo": "geo",
           "hoverlabel": {
            "namelength": 0
           },
           "hovertemplate": "<b>%{hovertext}</b><br><br>date=01/28/2020<br>size=%{marker.color}<br>Lat=%{lat}<br>Long=%{lon}",
           "hovertext": [
            "Anhui",
            "Beijing",
            "Chongqing",
            "Fujian",
            "Gansu",
            "Guangdong",
            "Guangxi",
            "Guizhou",
            "Hainan",
            "Hebei",
            "Heilongjiang",
            "Henan",
            "Hubei",
            "Hunan",
            "Inner Mongolia",
            "Jiangsu",
            "Jiangxi",
            "Jilin",
            "Liaoning",
            "Ningxia",
            "Shaanxi",
            "Shandong",
            "Shanghai",
            "Shanxi",
            "Sichuan",
            "Tianjin",
            "Xinjiang",
            "Yunnan",
            "Zhejiang"
           ],
           "lat": [
            31.8257,
            40.1824,
            30.0572,
            26.0789,
            36.0611,
            23.3417,
            23.8298,
            26.8154,
            19.1959,
            38.0428,
            47.861999999999995,
            33.882020000000004,
            30.9756,
            27.6104,
            44.0935,
            32.9711,
            27.614,
            43.6661,
            41.2956,
            37.2692,
            35.1917,
            36.3427,
            31.201999999999998,
            37.5777,
            30.6171,
            39.3054,
            41.1129,
            24.974,
            29.1832
           ],
           "legendgroup": "",
           "lon": [
            117.2264,
            116.4142,
            107.874,
            117.9874,
            103.8343,
            113.4244,
            108.7881,
            106.8748,
            109.7453,
            114.5149,
            127.7615,
            113.61399999999999,
            112.2707,
            111.7088,
            113.9448,
            119.455,
            115.7221,
            126.1923,
            122.6085,
            106.1655,
            108.8701,
            118.1498,
            121.4491,
            112.2922,
            102.7103,
            117.323,
            85.2401,
            101.48700000000001,
            120.0934
           ],
           "marker": {
            "color": [
             6,
             3.3166247903554,
             4.69041575982343,
             4.58257569495584,
             2.23606797749979,
             7.483314773547883,
             2.23606797749979,
             1.4142135623730951,
             2.6457513110645907,
             3.872983346207417,
             3.4641016151377544,
             6.324555320336759,
             46.16275555033516,
             6.557438524302,
             2,
             4.795831523312719,
             6.082762530298219,
             1.4142135623730951,
             2.6457513110645907,
             2,
             3.3166247903554,
             4.47213595499958,
             3.605551275463989,
             3.7416573867739413,
             4.58257569495584,
             1,
             2.23606797749979,
             4.242640687119285,
             6.708203932499369
            ],
            "coloraxis": "coloraxis",
            "size": [
             6,
             3.3166247903554,
             4.69041575982343,
             4.58257569495584,
             2.23606797749979,
             7.483314773547883,
             2.23606797749979,
             1.4142135623730951,
             2.6457513110645907,
             3.872983346207417,
             3.4641016151377544,
             6.324555320336759,
             46.16275555033516,
             6.557438524302,
             2,
             4.795831523312719,
             6.082762530298219,
             1.4142135623730951,
             2.6457513110645907,
             2,
             3.3166247903554,
             4.47213595499958,
             3.605551275463989,
             3.7416573867739413,
             4.58257569495584,
             1,
             2.23606797749979,
             4.242640687119285,
             6.708203932499369
            ],
            "sizemode": "area",
            "sizeref": 0.30454884665682125
           },
           "name": "",
           "showlegend": false,
           "type": "scattergeo"
          }
         ],
         "name": "01/28/2020"
        },
        {
         "data": [
          {
           "geo": "geo",
           "hoverlabel": {
            "namelength": 0
           },
           "hovertemplate": "<b>%{hovertext}</b><br><br>date=01/29/2020<br>size=%{marker.color}<br>Lat=%{lat}<br>Long=%{lon}",
           "hovertext": [
            "Anhui",
            "Beijing",
            "Chongqing",
            "Fujian",
            "Gansu",
            "Guangdong",
            "Guangxi",
            "Hainan",
            "Hebei",
            "Heilongjiang",
            "Henan",
            "Hunan",
            "Inner Mongolia",
            "Jiangsu",
            "Jilin",
            "Liaoning",
            "Ningxia",
            "Shaanxi",
            "Shandong",
            "Shanghai",
            "Sichuan",
            "Tianjin",
            "Xinjiang",
            "Yunnan",
            "Zhejiang"
           ],
           "lat": [
            31.8257,
            40.1824,
            30.0572,
            26.0789,
            36.0611,
            23.3417,
            23.8298,
            19.1959,
            38.0428,
            47.861999999999995,
            33.882020000000004,
            27.6104,
            44.0935,
            32.9711,
            43.6661,
            41.2956,
            37.2692,
            35.1917,
            36.3427,
            31.201999999999998,
            30.6171,
            39.3054,
            41.1129,
            24.974,
            29.1832
           ],
           "legendgroup": "",
           "lon": [
            117.2264,
            116.4142,
            107.874,
            117.9874,
            103.8343,
            113.4244,
            108.7881,
            109.7453,
            114.5149,
            127.7615,
            113.61399999999999,
            111.7088,
            113.9448,
            119.455,
            126.1923,
            122.6085,
            106.1655,
            108.8701,
            118.1498,
            121.4491,
            102.7103,
            117.323,
            85.2401,
            101.48700000000001,
            120.0934
           ],
           "marker": {
            "color": [
             6.782329983125268,
             4.47213595499958,
             3.872983346207417,
             2,
             2.23606797749979,
             8.366600265340756,
             2.6457513110645907,
             1.7320508075688772,
             3.872983346207417,
             2.23606797749979,
             6.164414002968976,
             8.831760866327848,
             1,
             5.385164807134504,
             1,
             2.23606797749979,
             1,
             3.1622776601683795,
             5.916079783099616,
             5.477225575051661,
             4.242640687119285,
             1.7320508075688772,
             1.7320508075688772,
             3.3166247903554,
             11.090536506409418
            ],
            "coloraxis": "coloraxis",
            "size": [
             6.782329983125268,
             4.47213595499958,
             3.872983346207417,
             2,
             2.23606797749979,
             8.366600265340756,
             2.6457513110645907,
             1.7320508075688772,
             3.872983346207417,
             2.23606797749979,
             6.164414002968976,
             8.831760866327848,
             1,
             5.385164807134504,
             1,
             2.23606797749979,
             1,
             3.1622776601683795,
             5.916079783099616,
             5.477225575051661,
             4.242640687119285,
             1.7320508075688772,
             1.7320508075688772,
             3.3166247903554,
             11.090536506409418
            ],
            "sizemode": "area",
            "sizeref": 0.30454884665682125
           },
           "name": "",
           "showlegend": false,
           "type": "scattergeo"
          }
         ],
         "name": "01/29/2020"
        },
        {
         "data": [
          {
           "geo": "geo",
           "hoverlabel": {
            "namelength": 0
           },
           "hovertemplate": "<b>%{hovertext}</b><br><br>date=01/30/2020<br>size=%{marker.color}<br>Lat=%{lat}<br>Long=%{lon}",
           "hovertext": [
            "Anhui",
            "Beijing",
            "Chongqing",
            "Fujian",
            "Gansu",
            "Guangdong",
            "Guangxi",
            "Guizhou",
            "Hainan",
            "Hebei",
            "Heilongjiang",
            "Henan",
            "Hubei",
            "Hunan",
            "Inner Mongolia",
            "Jiangsu",
            "Jiangxi",
            "Jilin",
            "Liaoning",
            "Ningxia",
            "Qinghai",
            "Shaanxi",
            "Shandong",
            "Shanghai",
            "Shanxi",
            "Sichuan",
            "Tianjin",
            "Tibet",
            "Xinjiang",
            "Yunnan",
            "Zhejiang"
           ],
           "lat": [
            31.8257,
            40.1824,
            30.0572,
            26.0789,
            36.0611,
            23.3417,
            23.8298,
            26.8154,
            19.1959,
            38.0428,
            47.861999999999995,
            33.882020000000004,
            30.9756,
            27.6104,
            44.0935,
            32.9711,
            27.614,
            43.6661,
            41.2956,
            37.2692,
            35.7452,
            35.1917,
            36.3427,
            31.201999999999998,
            37.5777,
            30.6171,
            39.3054,
            31.6927,
            41.1129,
            24.974,
            29.1832
           ],
           "legendgroup": "",
           "lon": [
            117.2264,
            116.4142,
            107.874,
            117.9874,
            103.8343,
            113.4244,
            108.7881,
            106.8748,
            109.7453,
            114.5149,
            127.7615,
            113.61399999999999,
            112.2707,
            111.7088,
            113.9448,
            119.455,
            115.7221,
            126.1923,
            122.6085,
            106.1655,
            95.9956,
            108.8701,
            118.1498,
            121.4491,
            112.2922,
            102.7103,
            117.323,
            88.0924,
            85.2401,
            101.48700000000001,
            120.0934
           ],
           "marker": {
            "color": [
             6.928203230275509,
             1.7320508075688772,
             5.916079783099616,
             4.123105625617661,
             1.4142135623730951,
             8.774964387392123,
             4.47213595499958,
             1.7320508075688772,
             1.7320508075688772,
             4.123105625617661,
             2.449489742783178,
             8.48528137423857,
             36.72873534441391,
             7.483314773547883,
             1.7320508075688772,
             5.477225575051661,
             7.280109889280518,
             2.23606797749979,
             1.4142135623730951,
             2.23606797749979,
             1.4142135623730951,
             2.6457513110645907,
             5.291502622129181,
             4,
             2.8284271247461903,
             5.830951894845301,
             2,
             1,
             1,
             3.872983346207417,
             11.489125293076057
            ],
            "coloraxis": "coloraxis",
            "size": [
             6.928203230275509,
             1.7320508075688772,
             5.916079783099616,
             4.123105625617661,
             1.4142135623730951,
             8.774964387392123,
             4.47213595499958,
             1.7320508075688772,
             1.7320508075688772,
             4.123105625617661,
             2.449489742783178,
             8.48528137423857,
             36.72873534441391,
             7.483314773547883,
             1.7320508075688772,
             5.477225575051661,
             7.280109889280518,
             2.23606797749979,
             1.4142135623730951,
             2.23606797749979,
             1.4142135623730951,
             2.6457513110645907,
             5.291502622129181,
             4,
             2.8284271247461903,
             5.830951894845301,
             2,
             1,
             1,
             3.872983346207417,
             11.489125293076057
            ],
            "sizemode": "area",
            "sizeref": 0.30454884665682125
           },
           "name": "",
           "showlegend": false,
           "type": "scattergeo"
          }
         ],
         "name": "01/30/2020"
        },
        {
         "data": [
          {
           "geo": "geo",
           "hoverlabel": {
            "namelength": 0
           },
           "hovertemplate": "<b>%{hovertext}</b><br><br>date=01/31/2020<br>size=%{marker.color}<br>Lat=%{lat}<br>Long=%{lon}",
           "hovertext": [
            "Anhui",
            "Beijing",
            "Chongqing",
            "Fujian",
            "Gansu",
            "Guangdong",
            "Guangxi",
            "Guizhou",
            "Hainan",
            "Hebei",
            "Heilongjiang",
            "Henan",
            "Hubei",
            "Hunan",
            "Inner Mongolia",
            "Jiangsu",
            "Jiangxi",
            "Liaoning",
            "Ningxia",
            "Shaanxi",
            "Shandong",
            "Shanghai",
            "Shanxi",
            "Sichuan",
            "Tianjin",
            "Xinjiang",
            "Yunnan",
            "Zhejiang"
           ],
           "lat": [
            31.8257,
            40.1824,
            30.0572,
            26.0789,
            36.0611,
            23.3417,
            23.8298,
            26.8154,
            19.1959,
            38.0428,
            47.861999999999995,
            33.882020000000004,
            30.9756,
            27.6104,
            44.0935,
            32.9711,
            27.614,
            41.2956,
            37.2692,
            35.1917,
            36.3427,
            31.201999999999998,
            37.5777,
            30.6171,
            39.3054,
            41.1129,
            24.974,
            29.1832
           ],
           "legendgroup": "",
           "lon": [
            117.2264,
            116.4142,
            107.874,
            117.9874,
            103.8343,
            113.4244,
            108.7881,
            106.8748,
            109.7453,
            114.5149,
            127.7615,
            113.61399999999999,
            112.2707,
            111.7088,
            113.9448,
            119.455,
            115.7221,
            122.6085,
            106.1655,
            108.8701,
            118.1498,
            121.4491,
            112.2922,
            102.7103,
            117.323,
            85.2401,
            101.48700000000001,
            120.0934
           ],
           "marker": {
            "color": [
             6.082762530298219,
             5,
             5.385164807134504,
             4.358898943540674,
             1.7320508075688772,
             9.055385138137417,
             3,
             4.123105625617661,
             2.449489742783178,
             4.123105625617661,
             3.872983346207417,
             8.602325267042627,
             30.04995840263344,
             7.416198487095663,
             1,
             6.244997998398398,
             8.831760866327848,
             2.6457513110645907,
             2,
             4.898979485566356,
             5.0990195135927845,
             4.795831523312719,
             2,
             5.916079783099616,
             1,
             1.7320508075688772,
             3.605551275463989,
             10.488088481701515
            ],
            "coloraxis": "coloraxis",
            "size": [
             6.082762530298219,
             5,
             5.385164807134504,
             4.358898943540674,
             1.7320508075688772,
             9.055385138137417,
             3,
             4.123105625617661,
             2.449489742783178,
             4.123105625617661,
             3.872983346207417,
             8.602325267042627,
             30.04995840263344,
             7.416198487095663,
             1,
             6.244997998398398,
             8.831760866327848,
             2.6457513110645907,
             2,
             4.898979485566356,
             5.0990195135927845,
             4.795831523312719,
             2,
             5.916079783099616,
             1,
             1.7320508075688772,
             3.605551275463989,
             10.488088481701515
            ],
            "sizemode": "area",
            "sizeref": 0.30454884665682125
           },
           "name": "",
           "showlegend": false,
           "type": "scattergeo"
          }
         ],
         "name": "01/31/2020"
        },
        {
         "data": [
          {
           "geo": "geo",
           "hoverlabel": {
            "namelength": 0
           },
           "hovertemplate": "<b>%{hovertext}</b><br><br>date=02/01/2020<br>size=%{marker.color}<br>Lat=%{lat}<br>Long=%{lon}",
           "hovertext": [
            "Anhui",
            "Beijing",
            "Chongqing",
            "Fujian",
            "Gansu",
            "Guangdong",
            "Guangxi",
            "Hainan",
            "Hebei",
            "Heilongjiang",
            "Henan",
            "Hubei",
            "Hunan",
            "Inner Mongolia",
            "Jiangsu",
            "Jiangxi",
            "Jilin",
            "Liaoning",
            "Ningxia",
            "Qinghai",
            "Shaanxi",
            "Shandong",
            "Shanghai",
            "Shanxi",
            "Sichuan",
            "Tianjin",
            "Xinjiang",
            "Yunnan",
            "Zhejiang"
           ],
           "lat": [
            31.8257,
            40.1824,
            30.0572,
            26.0789,
            36.0611,
            23.3417,
            23.8298,
            19.1959,
            38.0428,
            47.861999999999995,
            33.882020000000004,
            30.9756,
            27.6104,
            44.0935,
            32.9711,
            27.614,
            43.6661,
            41.2956,
            37.2692,
            35.7452,
            35.1917,
            36.3427,
            31.201999999999998,
            37.5777,
            30.6171,
            39.3054,
            41.1129,
            24.974,
            29.1832
           ],
           "legendgroup": "",
           "lon": [
            117.2264,
            116.4142,
            107.874,
            117.9874,
            103.8343,
            113.4244,
            108.7881,
            109.7453,
            114.5149,
            127.7615,
            113.61399999999999,
            112.2707,
            111.7088,
            113.9448,
            119.455,
            115.7221,
            126.1923,
            122.6085,
            106.1655,
            95.9956,
            108.8701,
            118.1498,
            121.4491,
            112.2922,
            102.7103,
            117.323,
            85.2401,
            101.48700000000001,
            120.0934
           ],
           "marker": {
            "color": [
             7.745966692414834,
             5.385164807134504,
             6,
             4.898979485566356,
             3.3166247903554,
             9.9498743710662,
             3.605551275463989,
             3.1622776601683795,
             3.7416573867739413,
             4.58257569495584,
             8.366600265340756,
             36.701498607005135,
             7.54983443527075,
             1.7320508075688772,
             5.830951894845301,
             6.782329983125268,
             1.7320508075688772,
             4,
             2.23606797749979,
             1,
             3.7416573867739413,
             4.69041575982343,
             5.830951894845301,
             2.8284271247461903,
             5.477225575051661,
             3,
             1,
             3.1622776601683795,
             7.810249675906654
            ],
            "coloraxis": "coloraxis",
            "size": [
             7.745966692414834,
             5.385164807134504,
             6,
             4.898979485566356,
             3.3166247903554,
             9.9498743710662,
             3.605551275463989,
             3.1622776601683795,
             3.7416573867739413,
             4.58257569495584,
             8.366600265340756,
             36.701498607005135,
             7.54983443527075,
             1.7320508075688772,
             5.830951894845301,
             6.782329983125268,
             1.7320508075688772,
             4,
             2.23606797749979,
             1,
             3.7416573867739413,
             4.69041575982343,
             5.830951894845301,
             2.8284271247461903,
             5.477225575051661,
             3,
             1,
             3.1622776601683795,
             7.810249675906654
            ],
            "sizemode": "area",
            "sizeref": 0.30454884665682125
           },
           "name": "",
           "showlegend": false,
           "type": "scattergeo"
          }
         ],
         "name": "02/01/2020"
        },
        {
         "data": [
          {
           "geo": "geo",
           "hoverlabel": {
            "namelength": 0
           },
           "hovertemplate": "<b>%{hovertext}</b><br><br>date=02/10/2020<br>size=%{marker.color}<br>Lat=%{lat}<br>Long=%{lon}",
           "hovertext": [
            "Anhui",
            "Beijing",
            "Chongqing",
            "Fujian",
            "Guangdong",
            "Guangxi",
            "Guizhou",
            "Hainan",
            "Hebei",
            "Heilongjiang",
            "Henan",
            "Hubei",
            "Hunan",
            "Inner Mongolia",
            "Jiangsu",
            "Jiangxi",
            "Jilin",
            "Liaoning",
            "Ningxia",
            "Shaanxi",
            "Shandong",
            "Shanghai",
            "Sichuan",
            "Tianjin",
            "Xinjiang",
            "Yunnan",
            "Zhejiang"
           ],
           "lat": [
            31.8257,
            40.1824,
            30.0572,
            26.0789,
            23.3417,
            23.8298,
            26.8154,
            19.1959,
            38.0428,
            47.861999999999995,
            33.882020000000004,
            30.9756,
            27.6104,
            44.0935,
            32.9711,
            27.614,
            43.6661,
            41.2956,
            37.2692,
            35.1917,
            36.3427,
            31.201999999999998,
            30.6171,
            39.3054,
            41.1129,
            24.974,
            29.1832
           ],
           "legendgroup": "",
           "lon": [
            117.2264,
            116.4142,
            107.874,
            117.9874,
            113.4244,
            108.7881,
            106.8748,
            109.7453,
            114.5149,
            127.7615,
            113.61399999999999,
            112.2707,
            111.7088,
            113.9448,
            119.455,
            115.7221,
            126.1923,
            122.6085,
            106.1655,
            108.8701,
            118.1498,
            121.4491,
            102.7103,
            117.323,
            85.2401,
            101.48700000000001,
            120.0934
           ],
           "marker": {
            "color": [
             7.14142842854285,
             3.3166247903554,
             4.242640687119285,
             3.3166247903554,
             5.291502622129181,
             3.872983346207417,
             3.1622776601683795,
             2.6457513110645907,
             3.4641016151377544,
             4.898979485566356,
             6.324555320336759,
             45.79301256742124,
             6.4031242374328485,
             2,
             4.898979485566356,
             5.5677643628300215,
             1.4142135623730951,
             1,
             2,
             2.23606797749979,
             4.69041575982343,
             2.449489742783178,
             4.358898943540674,
             2,
             2,
             2.8284271247461903,
             4.123105625617661
            ],
            "coloraxis": "coloraxis",
            "size": [
             7.14142842854285,
             3.3166247903554,
             4.242640687119285,
             3.3166247903554,
             5.291502622129181,
             3.872983346207417,
             3.1622776601683795,
             2.6457513110645907,
             3.4641016151377544,
             4.898979485566356,
             6.324555320336759,
             45.79301256742124,
             6.4031242374328485,
             2,
             4.898979485566356,
             5.5677643628300215,
             1.4142135623730951,
             1,
             2,
             2.23606797749979,
             4.69041575982343,
             2.449489742783178,
             4.358898943540674,
             2,
             2,
             2.8284271247461903,
             4.123105625617661
            ],
            "sizemode": "area",
            "sizeref": 0.30454884665682125
           },
           "name": "",
           "showlegend": false,
           "type": "scattergeo"
          }
         ],
         "name": "02/10/2020"
        },
        {
         "data": [
          {
           "geo": "geo",
           "hoverlabel": {
            "namelength": 0
           },
           "hovertemplate": "<b>%{hovertext}</b><br><br>date=02/11/2020<br>size=%{marker.color}<br>Lat=%{lat}<br>Long=%{lon}",
           "hovertext": [
            "Anhui",
            "Beijing",
            "Chongqing",
            "Fujian",
            "Gansu",
            "Guangdong",
            "Guangxi",
            "Guizhou",
            "Hainan",
            "Hebei",
            "Heilongjiang",
            "Henan",
            "Hubei",
            "Hunan",
            "Jiangsu",
            "Jiangxi",
            "Jilin",
            "Liaoning",
            "Ningxia",
            "Shaanxi",
            "Shandong",
            "Shanghai",
            "Shanxi",
            "Sichuan",
            "Tianjin",
            "Xinjiang",
            "Yunnan",
            "Zhejiang"
           ],
           "lat": [
            31.8257,
            40.1824,
            30.0572,
            26.0789,
            36.0611,
            23.3417,
            23.8298,
            26.8154,
            19.1959,
            38.0428,
            47.861999999999995,
            33.882020000000004,
            30.9756,
            27.6104,
            32.9711,
            27.614,
            43.6661,
            41.2956,
            37.2692,
            35.1917,
            36.3427,
            31.201999999999998,
            37.5777,
            30.6171,
            39.3054,
            41.1129,
            24.974,
            29.1832
           ],
           "legendgroup": "",
           "lon": [
            117.2264,
            116.4142,
            107.874,
            117.9874,
            103.8343,
            113.4244,
            108.7881,
            106.8748,
            109.7453,
            114.5149,
            127.7615,
            113.61399999999999,
            112.2707,
            111.7088,
            119.455,
            115.7221,
            126.1923,
            122.6085,
            106.1655,
            108.8701,
            118.1498,
            121.4491,
            112.2922,
            102.7103,
            117.323,
            85.2401,
            101.48700000000001,
            120.0934
           ],
           "marker": {
            "color": [
             5.477225575051661,
             2.23606797749979,
             4.358898943540674,
             2.449489742783178,
             1.7320508075688772,
             4.242640687119285,
             2.23606797749979,
             4.242640687119285,
             2.449489742783178,
             4.58257569495584,
             5.385164807134504,
             5.656854249492381,
             40.47221268969612,
             5.744562646538029,
             4.795831523312719,
             5.744562646538029,
             1,
             1.7320508075688772,
             2,
             2.449489742783178,
             4.58257569495584,
             2,
             2.23606797749979,
             3.4641016151377544,
             3.3166247903554,
             2.449489742783178,
             2,
             5
            ],
            "coloraxis": "coloraxis",
            "size": [
             5.477225575051661,
             2.23606797749979,
             4.358898943540674,
             2.449489742783178,
             1.7320508075688772,
             4.242640687119285,
             2.23606797749979,
             4.242640687119285,
             2.449489742783178,
             4.58257569495584,
             5.385164807134504,
             5.656854249492381,
             40.47221268969612,
             5.744562646538029,
             4.795831523312719,
             5.744562646538029,
             1,
             1.7320508075688772,
             2,
             2.449489742783178,
             4.58257569495584,
             2,
             2.23606797749979,
             3.4641016151377544,
             3.3166247903554,
             2.449489742783178,
             2,
             5
            ],
            "sizemode": "area",
            "sizeref": 0.30454884665682125
           },
           "name": "",
           "showlegend": false,
           "type": "scattergeo"
          }
         ],
         "name": "02/11/2020"
        },
        {
         "data": [
          {
           "geo": "geo",
           "hoverlabel": {
            "namelength": 0
           },
           "hovertemplate": "<b>%{hovertext}</b><br><br>date=02/12/2020<br>size=%{marker.color}<br>Lat=%{lat}<br>Long=%{lon}",
           "hovertext": [
            "Anhui",
            "Beijing",
            "Chongqing",
            "Fujian",
            "Gansu",
            "Guangdong",
            "Guangxi",
            "Guizhou",
            "Hainan",
            "Hebei",
            "Heilongjiang",
            "Henan",
            "Hunan",
            "Inner Mongolia",
            "Jiangsu",
            "Jiangxi",
            "Jilin",
            "Liaoning",
            "Ningxia",
            "Shaanxi",
            "Shandong",
            "Shanghai",
            "Shanxi",
            "Sichuan",
            "Tianjin",
            "Xinjiang",
            "Yunnan",
            "Zhejiang"
           ],
           "lat": [
            31.8257,
            40.1824,
            30.0572,
            26.0789,
            36.0611,
            23.3417,
            23.8298,
            26.8154,
            19.1959,
            38.0428,
            47.861999999999995,
            33.882020000000004,
            27.6104,
            44.0935,
            32.9711,
            27.614,
            43.6661,
            41.2956,
            37.2692,
            35.1917,
            36.3427,
            31.201999999999998,
            37.5777,
            30.6171,
            39.3054,
            41.1129,
            24.974,
            29.1832
           ],
           "legendgroup": "",
           "lon": [
            117.2264,
            116.4142,
            107.874,
            117.9874,
            103.8343,
            113.4244,
            108.7881,
            106.8748,
            109.7453,
            114.5149,
            127.7615,
            113.61399999999999,
            111.7088,
            113.9448,
            119.455,
            115.7221,
            126.1923,
            122.6085,
            106.1655,
            108.8701,
            118.1498,
            121.4491,
            112.2922,
            102.7103,
            117.323,
            85.2401,
            101.48700000000001,
            120.0934
           ],
           "marker": {
            "color": [
             5.385164807134504,
             3.1622776601683795,
             3.605551275463989,
             2.23606797749979,
             1,
             6.48074069840786,
             2.6457513110645907,
             2.449489742783178,
             3.605551275463989,
             3.4641016151377544,
             4.242640687119285,
             5.477225575051661,
             5.830951894845301,
             1.4142135623730951,
             5.291502622129181,
             6.324555320336759,
             1.4142135623730951,
             2.23606797749979,
             2.23606797749979,
             2.449489742783178,
             3.1622776601683795,
             2.8284271247461903,
             1.4142135623730951,
             4.358898943540674,
             2.449489742783178,
             2,
             1,
             3.7416573867739413
            ],
            "coloraxis": "coloraxis",
            "size": [
             5.385164807134504,
             3.1622776601683795,
             3.605551275463989,
             2.23606797749979,
             1,
             6.48074069840786,
             2.6457513110645907,
             2.449489742783178,
             3.605551275463989,
             3.4641016151377544,
             4.242640687119285,
             5.477225575051661,
             5.830951894845301,
             1.4142135623730951,
             5.291502622129181,
             6.324555320336759,
             1.4142135623730951,
             2.23606797749979,
             2.23606797749979,
             2.449489742783178,
             3.1622776601683795,
             2.8284271247461903,
             1.4142135623730951,
             4.358898943540674,
             2.449489742783178,
             2,
             1,
             3.7416573867739413
            ],
            "sizemode": "area",
            "sizeref": 0.30454884665682125
           },
           "name": "",
           "showlegend": false,
           "type": "scattergeo"
          }
         ],
         "name": "02/12/2020"
        },
        {
         "data": [
          {
           "geo": "geo",
           "hoverlabel": {
            "namelength": 0
           },
           "hovertemplate": "<b>%{hovertext}</b><br><br>date=02/13/2020<br>size=%{marker.color}<br>Lat=%{lat}<br>Long=%{lon}",
           "hovertext": [
            "Anhui",
            "Beijing",
            "Chongqing",
            "Fujian",
            "Gansu",
            "Guangdong",
            "Guizhou",
            "Hebei",
            "Heilongjiang",
            "Henan",
            "Hubei",
            "Hunan",
            "Inner Mongolia",
            "Jiangsu",
            "Jiangxi",
            "Jilin",
            "Liaoning",
            "Ningxia",
            "Shaanxi",
            "Shandong",
            "Shanghai",
            "Sichuan",
            "Tianjin",
            "Xinjiang",
            "Yunnan",
            "Zhejiang"
           ],
           "lat": [
            31.8257,
            40.1824,
            30.0572,
            26.0789,
            36.0611,
            23.3417,
            26.8154,
            38.0428,
            47.861999999999995,
            33.882020000000004,
            30.9756,
            27.6104,
            44.0935,
            32.9711,
            27.614,
            43.6661,
            41.2956,
            37.2692,
            35.1917,
            36.3427,
            31.201999999999998,
            30.6171,
            39.3054,
            41.1129,
            24.974,
            29.1832
           ],
           "legendgroup": "",
           "lon": [
            117.2264,
            116.4142,
            107.874,
            117.9874,
            103.8343,
            113.4244,
            106.8748,
            114.5149,
            127.7615,
            113.61399999999999,
            112.2707,
            111.7088,
            113.9448,
            119.455,
            115.7221,
            126.1923,
            122.6085,
            106.1655,
            108.8701,
            118.1498,
            121.4491,
            102.7103,
            117.323,
            85.2401,
            101.48700000000001,
            120.0934
           ],
           "marker": {
            "color": [
             4.58257569495584,
             3.7416573867739413,
             3.3166247903554,
             2.6457513110645907,
             1.7320508075688772,
             4.69041575982343,
             1.4142135623730951,
             3.7416573867739413,
             4.123105625617661,
             5.830951894845301,
             121.81953866272849,
             4.69041575982343,
             1,
             5.196152422706632,
             5.291502622129181,
             1,
             1,
             2.449489742783178,
             2,
             3.4641016151377544,
             2,
             3.872983346207417,
             2.6457513110645907,
             2,
             1.4142135623730951,
             3.7416573867739413
            ],
            "coloraxis": "coloraxis",
            "size": [
             4.58257569495584,
             3.7416573867739413,
             3.3166247903554,
             2.6457513110645907,
             1.7320508075688772,
             4.69041575982343,
             1.4142135623730951,
             3.7416573867739413,
             4.123105625617661,
             5.830951894845301,
             121.81953866272849,
             4.69041575982343,
             1,
             5.196152422706632,
             5.291502622129181,
             1,
             1,
             2.449489742783178,
             2,
             3.4641016151377544,
             2,
             3.872983346207417,
             2.6457513110645907,
             2,
             1.4142135623730951,
             3.7416573867739413
            ],
            "sizemode": "area",
            "sizeref": 0.30454884665682125
           },
           "name": "",
           "showlegend": false,
           "type": "scattergeo"
          }
         ],
         "name": "02/13/2020"
        },
        {
         "data": [
          {
           "geo": "geo",
           "hoverlabel": {
            "namelength": 0
           },
           "hovertemplate": "<b>%{hovertext}</b><br><br>date=02/14/2020<br>size=%{marker.color}<br>Lat=%{lat}<br>Long=%{lon}",
           "hovertext": [
            "Anhui",
            "Beijing",
            "Chongqing",
            "Fujian",
            "Guangdong",
            "Guangxi",
            "Guizhou",
            "Hainan",
            "Hebei",
            "Heilongjiang",
            "Henan",
            "Hubei",
            "Hunan",
            "Inner Mongolia",
            "Jiangsu",
            "Jiangxi",
            "Jilin",
            "Liaoning",
            "Ningxia",
            "Shaanxi",
            "Shandong",
            "Shanghai",
            "Shanxi",
            "Sichuan",
            "Tianjin",
            "Xinjiang",
            "Yunnan",
            "Zhejiang"
           ],
           "lat": [
            31.8257,
            40.1824,
            30.0572,
            26.0789,
            23.3417,
            23.8298,
            26.8154,
            19.1959,
            38.0428,
            47.861999999999995,
            33.882020000000004,
            30.9756,
            27.6104,
            44.0935,
            32.9711,
            27.614,
            43.6661,
            41.2956,
            37.2692,
            35.1917,
            36.3427,
            31.201999999999998,
            37.5777,
            30.6171,
            39.3054,
            41.1129,
            24.974,
            29.1832
           ],
           "legendgroup": "",
           "lon": [
            117.2264,
            116.4142,
            107.874,
            117.9874,
            113.4244,
            108.7881,
            106.8748,
            109.7453,
            114.5149,
            127.7615,
            113.61399999999999,
            112.2707,
            111.7088,
            113.9448,
            119.455,
            115.7221,
            126.1923,
            122.6085,
            106.1655,
            108.8701,
            118.1498,
            121.4491,
            112.2922,
            102.7103,
            117.323,
            85.2401,
            101.48700000000001,
            120.0934
           ],
           "marker": {
            "color": [
             4.898979485566356,
             2.449489742783178,
             2.8284271247461903,
             1.4142135623730951,
             4.47213595499958,
             2,
             2.23606797749979,
             1.4142135623730951,
             4.242640687119285,
             4.898979485566356,
             3.872983346207417,
             78.74007874011811,
             4.47213595499958,
             2,
             4.795831523312719,
             5.291502622129181,
             1.4142135623730951,
             1.4142135623730951,
             1.7320508075688772,
             1,
             3.7416573867739413,
             1.7320508075688772,
             1,
             3.4641016151377544,
             1,
             1.4142135623730951,
             2.449489742783178,
             3.1622776601683795
            ],
            "coloraxis": "coloraxis",
            "size": [
             4.898979485566356,
             2.449489742783178,
             2.8284271247461903,
             1.4142135623730951,
             4.47213595499958,
             2,
             2.23606797749979,
             1.4142135623730951,
             4.242640687119285,
             4.898979485566356,
             3.872983346207417,
             78.74007874011811,
             4.47213595499958,
             2,
             4.795831523312719,
             5.291502622129181,
             1.4142135623730951,
             1.4142135623730951,
             1.7320508075688772,
             1,
             3.7416573867739413,
             1.7320508075688772,
             1,
             3.4641016151377544,
             1,
             1.4142135623730951,
             2.449489742783178,
             3.1622776601683795
            ],
            "sizemode": "area",
            "sizeref": 0.30454884665682125
           },
           "name": "",
           "showlegend": false,
           "type": "scattergeo"
          }
         ],
         "name": "02/14/2020"
        },
        {
         "data": [
          {
           "geo": "geo",
           "hoverlabel": {
            "namelength": 0
           },
           "hovertemplate": "<b>%{hovertext}</b><br><br>date=02/15/2020<br>size=%{marker.color}<br>Lat=%{lat}<br>Long=%{lon}",
           "hovertext": [
            "Anhui",
            "Beijing",
            "Chongqing",
            "Fujian",
            "Guangdong",
            "Guangxi",
            "Guizhou",
            "Hainan",
            "Hebei",
            "Heilongjiang",
            "Henan",
            "Hubei",
            "Hunan",
            "Inner Mongolia",
            "Jiangsu",
            "Jiangxi",
            "Jilin",
            "Ningxia",
            "Shaanxi",
            "Shandong",
            "Shanghai",
            "Shanxi",
            "Sichuan",
            "Tianjin",
            "Xinjiang",
            "Yunnan",
            "Zhejiang"
           ],
           "lat": [
            31.8257,
            40.1824,
            30.0572,
            26.0789,
            23.3417,
            23.8298,
            26.8154,
            19.1959,
            38.0428,
            47.861999999999995,
            33.882020000000004,
            30.9756,
            27.6104,
            44.0935,
            32.9711,
            27.614,
            43.6661,
            37.2692,
            35.1917,
            36.3427,
            31.201999999999998,
            37.5777,
            30.6171,
            39.3054,
            41.1129,
            24.974,
            29.1832
           ],
           "legendgroup": "",
           "lon": [
            117.2264,
            116.4142,
            107.874,
            117.9874,
            113.4244,
            108.7881,
            106.8748,
            109.7453,
            114.5149,
            127.7615,
            113.61399999999999,
            112.2707,
            111.7088,
            113.9448,
            119.455,
            115.7221,
            126.1923,
            106.1655,
            108.8701,
            118.1498,
            121.4491,
            112.2922,
            102.7103,
            117.323,
            85.2401,
            101.48700000000001,
            120.0934
           ],
           "marker": {
            "color": [
             4,
             1.7320508075688772,
             2.6457513110645907,
             2,
             5.744562646538029,
             3,
             1.7320508075688772,
             1.7320508075688772,
             2.8284271247461903,
             2.449489742783178,
             5.291502622129181,
             42.930175867331364,
             3.605551275463989,
             1.7320508075688772,
             3.3166247903554,
             3.605551275463989,
             1.4142135623730951,
             1.7320508075688772,
             1.4142135623730951,
             3,
             2.8284271247461903,
             1,
             2.6457513110645907,
             1.4142135623730951,
             2.23606797749979,
             2.449489742783178,
             2.6457513110645907
            ],
            "coloraxis": "coloraxis",
            "size": [
             4,
             1.7320508075688772,
             2.6457513110645907,
             2,
             5.744562646538029,
             3,
             1.7320508075688772,
             1.7320508075688772,
             2.8284271247461903,
             2.449489742783178,
             5.291502622129181,
             42.930175867331364,
             3.605551275463989,
             1.7320508075688772,
             3.3166247903554,
             3.605551275463989,
             1.4142135623730951,
             1.7320508075688772,
             1.4142135623730951,
             3,
             2.8284271247461903,
             1,
             2.6457513110645907,
             1.4142135623730951,
             2.23606797749979,
             2.449489742783178,
             2.6457513110645907
            ],
            "sizemode": "area",
            "sizeref": 0.30454884665682125
           },
           "name": "",
           "showlegend": false,
           "type": "scattergeo"
          }
         ],
         "name": "02/15/2020"
        },
        {
         "data": [
          {
           "geo": "geo",
           "hoverlabel": {
            "namelength": 0
           },
           "hovertemplate": "<b>%{hovertext}</b><br><br>date=02/16/2020<br>size=%{marker.color}<br>Lat=%{lat}<br>Long=%{lon}",
           "hovertext": [
            "Anhui",
            "Beijing",
            "Chongqing",
            "Fujian",
            "Guangdong",
            "Guangxi",
            "Guizhou",
            "Hebei",
            "Heilongjiang",
            "Henan",
            "Hubei",
            "Hunan",
            "Inner Mongolia",
            "Jiangsu",
            "Jiangxi",
            "Jilin",
            "Liaoning",
            "Shaanxi",
            "Shandong",
            "Shanghai",
            "Shanxi",
            "Sichuan",
            "Tianjin",
            "Xinjiang",
            "Yunnan",
            "Zhejiang"
           ],
           "lat": [
            31.8257,
            40.1824,
            30.0572,
            26.0789,
            23.3417,
            23.8298,
            26.8154,
            38.0428,
            47.861999999999995,
            33.882020000000004,
            30.9756,
            27.6104,
            44.0935,
            32.9711,
            27.614,
            43.6661,
            41.2956,
            35.1917,
            36.3427,
            31.201999999999998,
            37.5777,
            30.6171,
            39.3054,
            41.1129,
            24.974,
            29.1832
           ],
           "legendgroup": "",
           "lon": [
            117.2264,
            116.4142,
            107.874,
            117.9874,
            113.4244,
            108.7881,
            106.8748,
            114.5149,
            127.7615,
            113.61399999999999,
            112.2707,
            111.7088,
            113.9448,
            119.455,
            115.7221,
            126.1923,
            122.6085,
            108.8701,
            118.1498,
            121.4491,
            112.2922,
            102.7103,
            117.323,
            85.2401,
            101.48700000000001,
            120.0934
           ],
           "marker": {
            "color": [
             3.4641016151377544,
             2.23606797749979,
             2.6457513110645907,
             1.4142135623730951,
             4.69041575982343,
             1.4142135623730951,
             1,
             3,
             4.47213595499958,
             4.358898943540674,
             43.965895873961216,
             1.7320508075688772,
             1.4142135623730951,
             3.605551275463989,
             3.4641016151377544,
             1,
             1.4142135623730951,
             2,
             2.23606797749979,
             1.4142135623730951,
             1,
             3.3166247903554,
             1.4142135623730951,
             1,
             1.7320508075688772,
             2.23606797749979
            ],
            "coloraxis": "coloraxis",
            "size": [
             3.4641016151377544,
             2.23606797749979,
             2.6457513110645907,
             1.4142135623730951,
             4.69041575982343,
             1.4142135623730951,
             1,
             3,
             4.47213595499958,
             4.358898943540674,
             43.965895873961216,
             1.7320508075688772,
             1.4142135623730951,
             3.605551275463989,
             3.4641016151377544,
             1,
             1.4142135623730951,
             2,
             2.23606797749979,
             1.4142135623730951,
             1,
             3.3166247903554,
             1.4142135623730951,
             1,
             1.7320508075688772,
             2.23606797749979
            ],
            "sizemode": "area",
            "sizeref": 0.30454884665682125
           },
           "name": "",
           "showlegend": false,
           "type": "scattergeo"
          }
         ],
         "name": "02/16/2020"
        },
        {
         "data": [
          {
           "geo": "geo",
           "hoverlabel": {
            "namelength": 0
           },
           "hovertemplate": "<b>%{hovertext}</b><br><br>date=02/17/2020<br>size=%{marker.color}<br>Lat=%{lat}<br>Long=%{lon}",
           "hovertext": [
            "Anhui",
            "Beijing",
            "Chongqing",
            "Fujian",
            "Gansu",
            "Guangdong",
            "Guangxi",
            "Guizhou",
            "Hainan",
            "Hebei",
            "Heilongjiang",
            "Henan",
            "Hubei",
            "Hunan",
            "Inner Mongolia",
            "Jiangsu",
            "Jiangxi",
            "Shaanxi",
            "Shandong",
            "Shanghai",
            "Shanxi",
            "Sichuan",
            "Tianjin",
            "Xinjiang",
            "Zhejiang"
           ],
           "lat": [
            31.8257,
            40.1824,
            30.0572,
            26.0789,
            36.0611,
            23.3417,
            23.8298,
            26.8154,
            19.1959,
            38.0428,
            47.861999999999995,
            33.882020000000004,
            30.9756,
            27.6104,
            44.0935,
            32.9711,
            27.614,
            35.1917,
            36.3427,
            31.201999999999998,
            37.5777,
            30.6171,
            39.3054,
            41.1129,
            29.1832
           ],
           "legendgroup": "",
           "lon": [
            117.2264,
            116.4142,
            107.874,
            117.9874,
            103.8343,
            113.4244,
            108.7881,
            106.8748,
            109.7453,
            114.5149,
            127.7615,
            113.61399999999999,
            112.2707,
            111.7088,
            113.9448,
            119.455,
            115.7221,
            108.8701,
            118.1498,
            121.4491,
            112.2922,
            102.7103,
            117.323,
            85.2401,
            120.0934
           ],
           "marker": {
            "color": [
             3.3166247903554,
             1,
             1.4142135623730951,
             1.7320508075688772,
             1,
             2.449489742783178,
             1,
             1.4142135623730951,
             1,
             1,
             3.4641016151377544,
             3.872983346207417,
             42.50882261366456,
             1.4142135623730951,
             1.4142135623730951,
             3,
             2.23606797749979,
             2,
             2,
             2.23606797749979,
             1,
             3.7416573867739413,
             1,
             2,
             2
            ],
            "coloraxis": "coloraxis",
            "size": [
             3.3166247903554,
             1,
             1.4142135623730951,
             1.7320508075688772,
             1,
             2.449489742783178,
             1,
             1.4142135623730951,
             1,
             1,
             3.4641016151377544,
             3.872983346207417,
             42.50882261366456,
             1.4142135623730951,
             1.4142135623730951,
             3,
             2.23606797749979,
             2,
             2,
             2.23606797749979,
             1,
             3.7416573867739413,
             1,
             2,
             2
            ],
            "sizemode": "area",
            "sizeref": 0.30454884665682125
           },
           "name": "",
           "showlegend": false,
           "type": "scattergeo"
          }
         ],
         "name": "02/17/2020"
        },
        {
         "data": [
          {
           "geo": "geo",
           "hoverlabel": {
            "namelength": 0
           },
           "hovertemplate": "<b>%{hovertext}</b><br><br>date=02/18/2020<br>size=%{marker.color}<br>Lat=%{lat}<br>Long=%{lon}",
           "hovertext": [
            "Anhui",
            "Beijing",
            "Chongqing",
            "Fujian",
            "Guangdong",
            "Guangxi",
            "Hebei",
            "Heilongjiang",
            "Henan",
            "Hubei",
            "Hunan",
            "Inner Mongolia",
            "Jiangsu",
            "Jiangxi",
            "Shandong",
            "Shanxi",
            "Sichuan",
            "Tianjin",
            "Xinjiang",
            "Yunnan",
            "Zhejiang"
           ],
           "lat": [
            31.8257,
            40.1824,
            30.0572,
            26.0789,
            23.3417,
            23.8298,
            38.0428,
            47.861999999999995,
            33.882020000000004,
            30.9756,
            27.6104,
            44.0935,
            32.9711,
            27.614,
            36.3427,
            37.5777,
            30.6171,
            39.3054,
            41.1129,
            24.974,
            29.1832
           ],
           "legendgroup": "",
           "lon": [
            117.2264,
            116.4142,
            107.874,
            117.9874,
            113.4244,
            108.7881,
            114.5149,
            127.7615,
            113.61399999999999,
            112.2707,
            111.7088,
            113.9448,
            119.455,
            115.7221,
            118.1498,
            112.2922,
            102.7103,
            117.323,
            85.2401,
            101.48700000000001,
            120.0934
           ],
           "marker": {
            "color": [
             3,
             2.449489742783178,
             1.4142135623730951,
             1.4142135623730951,
             2.449489742783178,
             2,
             2.23606797749979,
             2.6457513110645907,
             3.3166247903554,
             41.14608122288197,
             1,
             1,
             1.7320508075688772,
             1.7320508075688772,
             1.4142135623730951,
             1,
             3.605551275463989,
             1.7320508075688772,
             1,
             1,
             1
            ],
            "coloraxis": "coloraxis",
            "size": [
             3,
             2.449489742783178,
             1.4142135623730951,
             1.4142135623730951,
             2.449489742783178,
             2,
             2.23606797749979,
             2.6457513110645907,
             3.3166247903554,
             41.14608122288197,
             1,
             1,
             1.7320508075688772,
             1.7320508075688772,
             1.4142135623730951,
             1,
             3.605551275463989,
             1.7320508075688772,
             1,
             1,
             1
            ],
            "sizemode": "area",
            "sizeref": 0.30454884665682125
           },
           "name": "",
           "showlegend": false,
           "type": "scattergeo"
          }
         ],
         "name": "02/18/2020"
        },
        {
         "data": [
          {
           "geo": "geo",
           "hoverlabel": {
            "namelength": 0
           },
           "hovertemplate": "<b>%{hovertext}</b><br><br>date=02/19/2020<br>size=%{marker.color}<br>Lat=%{lat}<br>Long=%{lon}",
           "hovertext": [
            "Anhui",
            "Beijing",
            "Chongqing",
            "Fujian",
            "Guangdong",
            "Guangxi",
            "Hainan",
            "Heilongjiang",
            "Henan",
            "Hubei",
            "Hunan",
            "Inner Mongolia",
            "Jiangsu",
            "Jiangxi",
            "Jilin",
            "Ningxia",
            "Shaanxi",
            "Shandong",
            "Sichuan",
            "Tianjin",
            "Zhejiang"
           ],
           "lat": [
            31.8257,
            40.1824,
            30.0572,
            26.0789,
            23.3417,
            23.8298,
            19.1959,
            47.861999999999995,
            33.882020000000004,
            30.9756,
            27.6104,
            44.0935,
            32.9711,
            27.614,
            43.6661,
            37.2692,
            35.1917,
            36.3427,
            30.6171,
            39.3054,
            29.1832
           ],
           "legendgroup": "",
           "lon": [
            117.2264,
            116.4142,
            107.874,
            117.9874,
            113.4244,
            108.7881,
            109.7453,
            127.7615,
            113.61399999999999,
            112.2707,
            111.7088,
            113.9448,
            119.455,
            115.7221,
            126.1923,
            106.1655,
            108.8701,
            118.1498,
            102.7103,
            117.323,
            120.0934
           ],
           "marker": {
            "color": [
             2,
             2.449489742783178,
             2.23606797749979,
             1,
             1.7320508075688772,
             1.4142135623730951,
             2.23606797749979,
             2.449489742783178,
             2.23606797749979,
             18.681541692269406,
             1,
             1.4142135623730951,
             1.4142135623730951,
             1,
             1,
             1,
             1.4142135623730951,
             1,
             2.449489742783178,
             1.4142135623730951,
             1.4142135623730951
            ],
            "coloraxis": "coloraxis",
            "size": [
             2,
             2.449489742783178,
             2.23606797749979,
             1,
             1.7320508075688772,
             1.4142135623730951,
             2.23606797749979,
             2.449489742783178,
             2.23606797749979,
             18.681541692269406,
             1,
             1.4142135623730951,
             1.4142135623730951,
             1,
             1,
             1,
             1.4142135623730951,
             1,
             2.449489742783178,
             1.4142135623730951,
             1.4142135623730951
            ],
            "sizemode": "area",
            "sizeref": 0.30454884665682125
           },
           "name": "",
           "showlegend": false,
           "type": "scattergeo"
          }
         ],
         "name": "02/19/2020"
        },
        {
         "data": [
          {
           "geo": "geo",
           "hoverlabel": {
            "namelength": 0
           },
           "hovertemplate": "<b>%{hovertext}</b><br><br>date=02/02/2020<br>size=%{marker.color}<br>Lat=%{lat}<br>Long=%{lon}",
           "hovertext": [
            "Anhui",
            "Beijing",
            "Chongqing",
            "Fujian",
            "Gansu",
            "Guangdong",
            "Guangxi",
            "Guizhou",
            "Hainan",
            "Hebei",
            "Heilongjiang",
            "Henan",
            "Hubei",
            "Hunan",
            "Inner Mongolia",
            "Jiangsu",
            "Jiangxi",
            "Jilin",
            "Liaoning",
            "Ningxia",
            "Qinghai",
            "Shaanxi",
            "Shandong",
            "Shanghai",
            "Shanxi",
            "Sichuan",
            "Tianjin",
            "Xinjiang",
            "Yunnan",
            "Zhejiang"
           ],
           "lat": [
            31.8257,
            40.1824,
            30.0572,
            26.0789,
            36.0611,
            23.3417,
            23.8298,
            26.8154,
            19.1959,
            38.0428,
            47.861999999999995,
            33.882020000000004,
            30.9756,
            27.6104,
            44.0935,
            32.9711,
            27.614,
            43.6661,
            41.2956,
            37.2692,
            35.7452,
            35.1917,
            36.3427,
            31.201999999999998,
            37.5777,
            30.6171,
            39.3054,
            41.1129,
            24.974,
            29.1832
           ],
           "legendgroup": "",
           "lon": [
            117.2264,
            116.4142,
            107.874,
            117.9874,
            103.8343,
            113.4244,
            108.7881,
            106.8748,
            109.7453,
            114.5149,
            127.7615,
            113.61399999999999,
            112.2707,
            111.7088,
            113.9448,
            119.455,
            115.7221,
            126.1923,
            122.6085,
            106.1655,
            95.9956,
            108.8701,
            118.1498,
            121.4491,
            112.2922,
            102.7103,
            117.323,
            85.2401,
            101.48700000000001,
            120.0934
           ],
           "marker": {
            "color": [
             6.557438524302,
             4.795831523312719,
             7.280109889280518,
             3.872983346207417,
             3.3166247903554,
             9.848857801796104,
             3.3166247903554,
             3,
             1.4142135623730951,
             2.8284271247461903,
             3.872983346207417,
             8.426149773176359,
             63.43500610861482,
             8.602325267042627,
             2,
             5.830951894845301,
             6.855654600401044,
             2.449489742783178,
             2.449489742783178,
             1.4142135623730951,
             1.4142135623730951,
             3.872983346207417,
             4.898979485566356,
             3.605551275463989,
             4.358898943540674,
             4.898979485566356,
             2.6457513110645907,
             1.7320508075688772,
             3.4641016151377544,
             7.874007874011811
            ],
            "coloraxis": "coloraxis",
            "size": [
             6.557438524302,
             4.795831523312719,
             7.280109889280518,
             3.872983346207417,
             3.3166247903554,
             9.848857801796104,
             3.3166247903554,
             3,
             1.4142135623730951,
             2.8284271247461903,
             3.872983346207417,
             8.426149773176359,
             63.43500610861482,
             8.602325267042627,
             2,
             5.830951894845301,
             6.855654600401044,
             2.449489742783178,
             2.449489742783178,
             1.4142135623730951,
             1.4142135623730951,
             3.872983346207417,
             4.898979485566356,
             3.605551275463989,
             4.358898943540674,
             4.898979485566356,
             2.6457513110645907,
             1.7320508075688772,
             3.4641016151377544,
             7.874007874011811
            ],
            "sizemode": "area",
            "sizeref": 0.30454884665682125
           },
           "name": "",
           "showlegend": false,
           "type": "scattergeo"
          }
         ],
         "name": "02/02/2020"
        },
        {
         "data": [
          {
           "geo": "geo",
           "hoverlabel": {
            "namelength": 0
           },
           "hovertemplate": "<b>%{hovertext}</b><br><br>date=02/20/2020<br>size=%{marker.color}<br>Lat=%{lat}<br>Long=%{lon}",
           "hovertext": [
            "Anhui",
            "Beijing",
            "Chongqing",
            "Guangdong",
            "Guangxi",
            "Hebei",
            "Heilongjiang",
            "Henan",
            "Hubei",
            "Hunan",
            "Jilin",
            "Shaanxi",
            "Shandong",
            "Shanghai",
            "Shanxi",
            "Sichuan",
            "Tianjin",
            "Yunnan",
            "Zhejiang"
           ],
           "lat": [
            31.8257,
            40.1824,
            30.0572,
            23.3417,
            23.8298,
            38.0428,
            47.861999999999995,
            33.882020000000004,
            30.9756,
            27.6104,
            43.6661,
            35.1917,
            36.3427,
            31.201999999999998,
            37.5777,
            30.6171,
            39.3054,
            24.974,
            29.1832
           ],
           "legendgroup": "",
           "lon": [
            117.2264,
            116.4142,
            107.874,
            113.4244,
            108.7881,
            114.5149,
            127.7615,
            113.61399999999999,
            112.2707,
            111.7088,
            126.1923,
            108.8701,
            118.1498,
            121.4491,
            112.2922,
            102.7103,
            117.323,
            101.48700000000001,
            120.0934
           ],
           "marker": {
            "color": [
             1,
             1.4142135623730951,
             2.6457513110645907,
             1,
             1,
             1,
             2.449489742783178,
             1.7320508075688772,
             20.273134932713294,
             1.4142135623730951,
             1,
             1.7320508075688772,
             1.4142135623730951,
             1,
             1,
             2.449489742783178,
             1,
             1.4142135623730951,
             1
            ],
            "coloraxis": "coloraxis",
            "size": [
             1,
             1.4142135623730951,
             2.6457513110645907,
             1,
             1,
             1,
             2.449489742783178,
             1.7320508075688772,
             20.273134932713294,
             1.4142135623730951,
             1,
             1.7320508075688772,
             1.4142135623730951,
             1,
             1,
             2.449489742783178,
             1,
             1.4142135623730951,
             1
            ],
            "sizemode": "area",
            "sizeref": 0.30454884665682125
           },
           "name": "",
           "showlegend": false,
           "type": "scattergeo"
          }
         ],
         "name": "02/20/2020"
        },
        {
         "data": [
          {
           "geo": "geo",
           "hoverlabel": {
            "namelength": 0
           },
           "hovertemplate": "<b>%{hovertext}</b><br><br>date=02/21/2020<br>size=%{marker.color}<br>Lat=%{lat}<br>Long=%{lon}",
           "hovertext": [
            "Anhui",
            "Beijing",
            "Chongqing",
            "Guangdong",
            "Guangxi",
            "Hebei",
            "Heilongjiang",
            "Henan",
            "Hubei",
            "Hunan",
            "Shandong",
            "Sichuan",
            "Tianjin",
            "Zhejiang"
           ],
           "lat": [
            31.8257,
            40.1824,
            30.0572,
            23.3417,
            23.8298,
            38.0428,
            47.861999999999995,
            33.882020000000004,
            30.9756,
            27.6104,
            36.3427,
            30.6171,
            39.3054,
            29.1832
           ],
           "legendgroup": "",
           "lon": [
            117.2264,
            116.4142,
            107.874,
            113.4244,
            108.7881,
            114.5149,
            127.7615,
            113.61399999999999,
            112.2707,
            111.7088,
            118.1498,
            102.7103,
            117.323,
            120.0934
           ],
           "marker": {
            "color": [
             1,
             1,
             2.23606797749979,
             1,
             1,
             1,
             1.7320508075688772,
             1.4142135623730951,
             14.832396974191326,
             1,
             14.247806848775006,
             2.23606797749979,
             1,
             5.291502622129181
            ],
            "coloraxis": "coloraxis",
            "size": [
             1,
             1,
             2.23606797749979,
             1,
             1,
             1,
             1.7320508075688772,
             1.4142135623730951,
             14.832396974191326,
             1,
             14.247806848775006,
             2.23606797749979,
             1,
             5.291502622129181
            ],
            "sizemode": "area",
            "sizeref": 0.30454884665682125
           },
           "name": "",
           "showlegend": false,
           "type": "scattergeo"
          }
         ],
         "name": "02/21/2020"
        },
        {
         "data": [
          {
           "geo": "geo",
           "hoverlabel": {
            "namelength": 0
           },
           "hovertemplate": "<b>%{hovertext}</b><br><br>date=02/22/2020<br>size=%{marker.color}<br>Lat=%{lat}<br>Long=%{lon}",
           "hovertext": [
            "Anhui",
            "Beijing",
            "Chongqing",
            "Guangdong",
            "Guangxi",
            "Hebei",
            "Henan",
            "Hubei",
            "Hunan",
            "Shandong",
            "Shanghai",
            "Sichuan",
            "Tianjin",
            "Zhejiang"
           ],
           "lat": [
            31.8257,
            40.1824,
            30.0572,
            23.3417,
            23.8298,
            38.0428,
            33.882020000000004,
            30.9756,
            27.6104,
            36.3427,
            31.201999999999998,
            30.6171,
            39.3054,
            29.1832
           ],
           "legendgroup": "",
           "lon": [
            117.2264,
            116.4142,
            107.874,
            113.4244,
            108.7881,
            114.5149,
            113.61399999999999,
            112.2707,
            111.7088,
            118.1498,
            121.4491,
            102.7103,
            117.323,
            120.0934
           ],
           "marker": {
            "color": [
             1,
             1.7320508075688772,
             1,
             2.449489742783178,
             1.7320508075688772,
             1,
             1.7320508075688772,
             37.70941526992961,
             1.4142135623730951,
             1,
             1,
             1,
             1.7320508075688772,
             1.4142135623730951
            ],
            "coloraxis": "coloraxis",
            "size": [
             1,
             1.7320508075688772,
             1,
             2.449489742783178,
             1.7320508075688772,
             1,
             1.7320508075688772,
             37.70941526992961,
             1.4142135623730951,
             1,
             1,
             1,
             1.7320508075688772,
             1.4142135623730951
            ],
            "sizemode": "area",
            "sizeref": 0.30454884665682125
           },
           "name": "",
           "showlegend": false,
           "type": "scattergeo"
          }
         ],
         "name": "02/22/2020"
        },
        {
         "data": [
          {
           "geo": "geo",
           "hoverlabel": {
            "namelength": 0
           },
           "hovertemplate": "<b>%{hovertext}</b><br><br>date=02/23/2020<br>size=%{marker.color}<br>Lat=%{lat}<br>Long=%{lon}",
           "hovertext": [
            "Chongqing",
            "Guangdong",
            "Hebei",
            "Heilongjiang",
            "Henan",
            "Hunan",
            "Shandong"
           ],
           "lat": [
            30.0572,
            23.3417,
            38.0428,
            47.861999999999995,
            33.882020000000004,
            27.6104,
            36.3427
           ],
           "legendgroup": "",
           "lon": [
            107.874,
            113.4244,
            114.5149,
            127.7615,
            113.61399999999999,
            111.7088,
            118.1498
           ],
           "marker": {
            "color": [
             1.4142135623730951,
             1.7320508075688772,
             1.4142135623730951,
             1,
             1,
             1.7320508075688772,
             2
            ],
            "coloraxis": "coloraxis",
            "size": [
             1.4142135623730951,
             1.7320508075688772,
             1.4142135623730951,
             1,
             1,
             1.7320508075688772,
             2
            ],
            "sizemode": "area",
            "sizeref": 0.30454884665682125
           },
           "name": "",
           "showlegend": false,
           "type": "scattergeo"
          }
         ],
         "name": "02/23/2020"
        },
        {
         "data": [
          {
           "geo": "geo",
           "hoverlabel": {
            "namelength": 0
           },
           "hovertemplate": "<b>%{hovertext}</b><br><br>date=02/24/2020<br>size=%{marker.color}<br>Lat=%{lat}<br>Long=%{lon}",
           "hovertext": [
            "Chongqing",
            "Guangdong",
            "Guangxi",
            "Hubei",
            "Jilin",
            "Shandong",
            "Shanxi",
            "Sichuan"
           ],
           "lat": [
            30.0572,
            23.3417,
            23.8298,
            30.9756,
            43.6661,
            36.3427,
            37.5777,
            30.6171
           ],
           "legendgroup": "",
           "lon": [
            107.874,
            113.4244,
            108.7881,
            112.2707,
            126.1923,
            118.1498,
            112.2922,
            102.7103
           ],
           "marker": {
            "color": [
             1,
             1.7320508075688772,
             1.4142135623730951,
             14.247806848775006,
             1.4142135623730951,
             1,
             1,
             1
            ],
            "coloraxis": "coloraxis",
            "size": [
             1,
             1.7320508075688772,
             1.4142135623730951,
             14.247806848775006,
             1.4142135623730951,
             1,
             1,
             1
            ],
            "sizemode": "area",
            "sizeref": 0.30454884665682125
           },
           "name": "",
           "showlegend": false,
           "type": "scattergeo"
          }
         ],
         "name": "02/24/2020"
        },
        {
         "data": [
          {
           "geo": "geo",
           "hoverlabel": {
            "namelength": 0
           },
           "hovertemplate": "<b>%{hovertext}</b><br><br>date=02/25/2020<br>size=%{marker.color}<br>Lat=%{lat}<br>Long=%{lon}",
           "hovertext": [
            "Beijing",
            "Fujian",
            "Guangdong",
            "Guangxi",
            "Hubei",
            "Shandong",
            "Shanghai",
            "Sichuan"
           ],
           "lat": [
            40.1824,
            26.0789,
            23.3417,
            23.8298,
            30.9756,
            36.3427,
            31.201999999999998,
            30.6171
           ],
           "legendgroup": "",
           "lon": [
            116.4142,
            117.9874,
            113.4244,
            108.7881,
            112.2707,
            118.1498,
            121.4491,
            102.7103
           ],
           "marker": {
            "color": [
             1,
             1,
             1.4142135623730951,
             1,
             22.338307903688676,
             1,
             1,
             1.4142135623730951
            ],
            "coloraxis": "coloraxis",
            "size": [
             1,
             1,
             1.4142135623730951,
             1,
             22.338307903688676,
             1,
             1,
             1.4142135623730951
            ],
            "sizemode": "area",
            "sizeref": 0.30454884665682125
           },
           "name": "",
           "showlegend": false,
           "type": "scattergeo"
          }
         ],
         "name": "02/25/2020"
        },
        {
         "data": [
          {
           "geo": "geo",
           "hoverlabel": {
            "namelength": 0
           },
           "hovertemplate": "<b>%{hovertext}</b><br><br>date=02/26/2020<br>size=%{marker.color}<br>Lat=%{lat}<br>Long=%{lon}",
           "hovertext": [
            "Hebei",
            "Hubei",
            "Shanghai",
            "Sichuan"
           ],
           "lat": [
            38.0428,
            30.9756,
            31.201999999999998,
            30.6171
           ],
           "legendgroup": "",
           "lon": [
            114.5149,
            112.2707,
            121.4491,
            102.7103
           ],
           "marker": {
            "color": [
             1,
             20.024984394500787,
             1,
             1.4142135623730951
            ],
            "coloraxis": "coloraxis",
            "size": [
             1,
             20.024984394500787,
             1,
             1.4142135623730951
            ],
            "sizemode": "area",
            "sizeref": 0.30454884665682125
           },
           "name": "",
           "showlegend": false,
           "type": "scattergeo"
          }
         ],
         "name": "02/26/2020"
        },
        {
         "data": [
          {
           "geo": "geo",
           "hoverlabel": {
            "namelength": 0
           },
           "hovertemplate": "<b>%{hovertext}</b><br><br>date=02/27/2020<br>size=%{marker.color}<br>Lat=%{lat}<br>Long=%{lon}",
           "hovertext": [
            "Beijing",
            "Fujian",
            "Hebei",
            "Henan",
            "Hubei",
            "Hunan",
            "Ningxia",
            "Sichuan",
            "Tianjin"
           ],
           "lat": [
            40.1824,
            26.0789,
            38.0428,
            33.882020000000004,
            30.9756,
            27.6104,
            37.2692,
            30.6171,
            39.3054
           ],
           "legendgroup": "",
           "lon": [
            116.4142,
            117.9874,
            114.5149,
            113.61399999999999,
            112.2707,
            111.7088,
            106.1655,
            102.7103,
            117.323
           ],
           "marker": {
            "color": [
             3.1622776601683795,
             1.4142135623730951,
             2.23606797749979,
             1,
             20.223748416156685,
             1,
             1,
             1.7320508075688772,
             1
            ],
            "coloraxis": "coloraxis",
            "size": [
             3.1622776601683795,
             1.4142135623730951,
             2.23606797749979,
             1,
             20.223748416156685,
             1,
             1,
             1.7320508075688772,
             1
            ],
            "sizemode": "area",
            "sizeref": 0.30454884665682125
           },
           "name": "",
           "showlegend": false,
           "type": "scattergeo"
          }
         ],
         "name": "02/27/2020"
        },
        {
         "data": [
          {
           "geo": "geo",
           "hoverlabel": {
            "namelength": 0
           },
           "hovertemplate": "<b>%{hovertext}</b><br><br>date=02/28/2020<br>size=%{marker.color}<br>Lat=%{lat}<br>Long=%{lon}",
           "hovertext": [
            "Anhui",
            "Guangdong",
            "Hebei",
            "Hubei",
            "Jiangxi",
            "Sichuan"
           ],
           "lat": [
            31.8257,
            23.3417,
            38.0428,
            30.9756,
            27.614,
            30.6171
           ],
           "legendgroup": "",
           "lon": [
            117.2264,
            113.4244,
            114.5149,
            112.2707,
            115.7221,
            102.7103
           ],
           "marker": {
            "color": [
             1,
             1,
             1,
             17.832554500127006,
             1,
             2
            ],
            "coloraxis": "coloraxis",
            "size": [
             1,
             1,
             1,
             17.832554500127006,
             1,
             2
            ],
            "sizemode": "area",
            "sizeref": 0.30454884665682125
           },
           "name": "",
           "showlegend": false,
           "type": "scattergeo"
          }
         ],
         "name": "02/28/2020"
        },
        {
         "data": [
          {
           "geo": "geo",
           "hoverlabel": {
            "namelength": 0
           },
           "hovertemplate": "<b>%{hovertext}</b><br><br>date=02/29/2020<br>size=%{marker.color}<br>Lat=%{lat}<br>Long=%{lon}",
           "hovertext": [
            "Beijing",
            "Guangdong",
            "Hubei",
            "Hunan",
            "Ningxia"
           ],
           "lat": [
            40.1824,
            23.3417,
            30.9756,
            27.6104,
            37.2692
           ],
           "legendgroup": "",
           "lon": [
            116.4142,
            113.4244,
            112.2707,
            111.7088,
            106.1655
           ],
           "marker": {
            "color": [
             1,
             1,
             20.566963801203133,
             1,
             1
            ],
            "coloraxis": "coloraxis",
            "size": [
             1,
             1,
             20.566963801203133,
             1,
             1
            ],
            "sizemode": "area",
            "sizeref": 0.30454884665682125
           },
           "name": "",
           "showlegend": false,
           "type": "scattergeo"
          }
         ],
         "name": "02/29/2020"
        },
        {
         "data": [
          {
           "geo": "geo",
           "hoverlabel": {
            "namelength": 0
           },
           "hovertemplate": "<b>%{hovertext}</b><br><br>date=02/03/2020<br>size=%{marker.color}<br>Lat=%{lat}<br>Long=%{lon}",
           "hovertext": [
            "Anhui",
            "Beijing",
            "Chongqing",
            "Fujian",
            "Gansu",
            "Guangdong",
            "Guangxi",
            "Guizhou",
            "Hainan",
            "Hebei",
            "Heilongjiang",
            "Henan",
            "Hubei",
            "Hunan",
            "Inner Mongolia",
            "Jiangsu",
            "Jiangxi",
            "Jilin",
            "Liaoning",
            "Ningxia",
            "Qinghai",
            "Shaanxi",
            "Shandong",
            "Shanghai",
            "Shanxi",
            "Sichuan",
            "Tianjin",
            "Xinjiang",
            "Yunnan",
            "Zhejiang"
           ],
           "lat": [
            31.8257,
            40.1824,
            30.0572,
            26.0789,
            36.0611,
            23.3417,
            23.8298,
            26.8154,
            19.1959,
            38.0428,
            47.861999999999995,
            33.882020000000004,
            30.9756,
            27.6104,
            44.0935,
            32.9711,
            27.614,
            43.6661,
            41.2956,
            37.2692,
            35.7452,
            35.1917,
            36.3427,
            31.201999999999998,
            37.5777,
            30.6171,
            39.3054,
            41.1129,
            24.974,
            29.1832
           ],
           "legendgroup": "",
           "lon": [
            117.2264,
            116.4142,
            107.874,
            117.9874,
            103.8343,
            113.4244,
            108.7881,
            106.8748,
            109.7453,
            114.5149,
            127.7615,
            113.61399999999999,
            112.2707,
            111.7088,
            113.9448,
            119.455,
            115.7221,
            126.1923,
            122.6085,
            106.1655,
            95.9956,
            108.8701,
            118.1498,
            121.4491,
            112.2922,
            102.7103,
            117.323,
            85.2401,
            101.48700000000001,
            120.0934
           ],
           "marker": {
            "color": [
             8.246211251235321,
             4.58257569495584,
             6.082762530298219,
             4.47213595499958,
             2,
             9.643650760992955,
             4,
             2.8284271247461903,
             2.8284271247461903,
             3,
             5.0990195135927845,
             8.54400374531753,
             48.425200051213004,
             7.615773105863909,
             2.6457513110645907,
             5.916079783099616,
             7.615773105863909,
             2.8284271247461903,
             2,
             1.7320508075688772,
             1.4142135623730951,
             3.4641016151377544,
             5.385164807134504,
             4.58257569495584,
             2.8284271247461903,
             4.795831523312719,
             3.4641016151377544,
             1.7320508075688772,
             3.4641016151377544,
             7.937253933193772
            ],
            "coloraxis": "coloraxis",
            "size": [
             8.246211251235321,
             4.58257569495584,
             6.082762530298219,
             4.47213595499958,
             2,
             9.643650760992955,
             4,
             2.8284271247461903,
             2.8284271247461903,
             3,
             5.0990195135927845,
             8.54400374531753,
             48.425200051213004,
             7.615773105863909,
             2.6457513110645907,
             5.916079783099616,
             7.615773105863909,
             2.8284271247461903,
             2,
             1.7320508075688772,
             1.4142135623730951,
             3.4641016151377544,
             5.385164807134504,
             4.58257569495584,
             2.8284271247461903,
             4.795831523312719,
             3.4641016151377544,
             1.7320508075688772,
             3.4641016151377544,
             7.937253933193772
            ],
            "sizemode": "area",
            "sizeref": 0.30454884665682125
           },
           "name": "",
           "showlegend": false,
           "type": "scattergeo"
          }
         ],
         "name": "02/03/2020"
        },
        {
         "data": [
          {
           "geo": "geo",
           "hoverlabel": {
            "namelength": 0
           },
           "hovertemplate": "<b>%{hovertext}</b><br><br>date=02/04/2020<br>size=%{marker.color}<br>Lat=%{lat}<br>Long=%{lon}",
           "hovertext": [
            "Anhui",
            "Beijing",
            "Chongqing",
            "Fujian",
            "Gansu",
            "Guangdong",
            "Guangxi",
            "Guizhou",
            "Hainan",
            "Hebei",
            "Heilongjiang",
            "Henan",
            "Hubei",
            "Hunan",
            "Inner Mongolia",
            "Jiangsu",
            "Jiangxi",
            "Jilin",
            "Liaoning",
            "Ningxia",
            "Qinghai",
            "Shaanxi",
            "Shandong",
            "Shanghai",
            "Shanxi",
            "Sichuan",
            "Tianjin",
            "Xinjiang",
            "Yunnan",
            "Zhejiang"
           ],
           "lat": [
            31.8257,
            40.1824,
            30.0572,
            26.0789,
            36.0611,
            23.3417,
            23.8298,
            26.8154,
            19.1959,
            38.0428,
            47.861999999999995,
            33.882020000000004,
            30.9756,
            27.6104,
            44.0935,
            32.9711,
            27.614,
            43.6661,
            41.2956,
            37.2692,
            35.7452,
            35.1917,
            36.3427,
            31.201999999999998,
            37.5777,
            30.6171,
            39.3054,
            41.1129,
            24.974,
            29.1832
           ],
           "legendgroup": "",
           "lon": [
            117.2264,
            116.4142,
            107.874,
            117.9874,
            103.8343,
            113.4244,
            108.7881,
            106.8748,
            109.7453,
            114.5149,
            127.7615,
            113.61399999999999,
            112.2707,
            111.7088,
            113.9448,
            119.455,
            115.7221,
            126.1923,
            122.6085,
            106.1655,
            95.9956,
            108.8701,
            118.1498,
            121.4491,
            112.2922,
            102.7103,
            117.323,
            85.2401,
            101.48700000000001,
            120.0934
           ],
           "marker": {
            "color": [
             8.48528137423857,
             4,
             5.385164807134504,
             3.872983346207417,
             1.4142135623730951,
             9.38083151964686,
             3.4641016151377544,
             3.4641016151377544,
             2.8284271247461903,
             3.605551275463989,
             5.830951894845301,
             10.44030650891055,
             56.178287620752556,
             8.48528137423857,
             1,
             6.082762530298219,
             9.219544457292887,
             3.3166247903554,
             2.6457513110645907,
             1.7320508075688772,
             1.4142135623730951,
             3.7416573867739413,
             4,
             4,
             2.6457513110645907,
             5.291502622129181,
             2.6457513110645907,
             2.23606797749979,
             2.23606797749979,
             10.246950765959598
            ],
            "coloraxis": "coloraxis",
            "size": [
             8.48528137423857,
             4,
             5.385164807134504,
             3.872983346207417,
             1.4142135623730951,
             9.38083151964686,
             3.4641016151377544,
             3.4641016151377544,
             2.8284271247461903,
             3.605551275463989,
             5.830951894845301,
             10.44030650891055,
             56.178287620752556,
             8.48528137423857,
             1,
             6.082762530298219,
             9.219544457292887,
             3.3166247903554,
             2.6457513110645907,
             1.7320508075688772,
             1.4142135623730951,
             3.7416573867739413,
             4,
             4,
             2.6457513110645907,
             5.291502622129181,
             2.6457513110645907,
             2.23606797749979,
             2.23606797749979,
             10.246950765959598
            ],
            "sizemode": "area",
            "sizeref": 0.30454884665682125
           },
           "name": "",
           "showlegend": false,
           "type": "scattergeo"
          }
         ],
         "name": "02/04/2020"
        },
        {
         "data": [
          {
           "geo": "geo",
           "hoverlabel": {
            "namelength": 0
           },
           "hovertemplate": "<b>%{hovertext}</b><br><br>date=02/05/2020<br>size=%{marker.color}<br>Lat=%{lat}<br>Long=%{lon}",
           "hovertext": [
            "Anhui",
            "Beijing",
            "Chongqing",
            "Fujian",
            "Gansu",
            "Guangdong",
            "Guangxi",
            "Guizhou",
            "Hainan",
            "Hebei",
            "Heilongjiang",
            "Henan",
            "Hubei",
            "Hunan",
            "Inner Mongolia",
            "Jiangsu",
            "Jiangxi",
            "Jilin",
            "Liaoning",
            "Qinghai",
            "Shaanxi",
            "Shandong",
            "Shanghai",
            "Sichuan",
            "Tianjin",
            "Xinjiang",
            "Yunnan",
            "Zhejiang"
           ],
           "lat": [
            31.8257,
            40.1824,
            30.0572,
            26.0789,
            36.0611,
            23.3417,
            23.8298,
            26.8154,
            19.1959,
            38.0428,
            47.861999999999995,
            33.882020000000004,
            30.9756,
            27.6104,
            44.0935,
            32.9711,
            27.614,
            43.6661,
            41.2956,
            35.7452,
            35.1917,
            36.3427,
            31.201999999999998,
            30.6171,
            39.3054,
            41.1129,
            24.974,
            29.1832
           ],
           "legendgroup": "",
           "lon": [
            117.2264,
            116.4142,
            107.874,
            117.9874,
            103.8343,
            113.4244,
            108.7881,
            106.8748,
            109.7453,
            114.5149,
            127.7615,
            113.61399999999999,
            112.2707,
            111.7088,
            113.9448,
            119.455,
            115.7221,
            126.1923,
            122.6085,
            95.9956,
            108.8701,
            118.1498,
            121.4491,
            102.7103,
            117.323,
            85.2401,
            101.48700000000001,
            120.0934
           ],
           "marker": {
            "color": [
             7.0710678118654755,
             5,
             4.795831523312719,
             3.3166247903554,
             2.23606797749979,
             9.055385138137417,
             3.3166247903554,
             2.449489742783178,
             4.358898943540674,
             3,
             5.916079783099616,
             9.433981132056603,
             54.653453687758834,
             8.246211251235321,
             2.6457513110645907,
             5.744562646538029,
             8.48528137423857,
             3.4641016151377544,
             2.8284271247461903,
             1.4142135623730951,
             4.795831523312719,
             5.656854249492381,
             4.898979485566356,
             4.358898943540674,
             1.4142135623730951,
             1.7320508075688772,
             2.449489742783178,
             8.12403840463596
            ],
            "coloraxis": "coloraxis",
            "size": [
             7.0710678118654755,
             5,
             4.795831523312719,
             3.3166247903554,
             2.23606797749979,
             9.055385138137417,
             3.3166247903554,
             2.449489742783178,
             4.358898943540674,
             3,
             5.916079783099616,
             9.433981132056603,
             54.653453687758834,
             8.246211251235321,
             2.6457513110645907,
             5.744562646538029,
             8.48528137423857,
             3.4641016151377544,
             2.8284271247461903,
             1.4142135623730951,
             4.795831523312719,
             5.656854249492381,
             4.898979485566356,
             4.358898943540674,
             1.4142135623730951,
             1.7320508075688772,
             2.449489742783178,
             8.12403840463596
            ],
            "sizemode": "area",
            "sizeref": 0.30454884665682125
           },
           "name": "",
           "showlegend": false,
           "type": "scattergeo"
          }
         ],
         "name": "02/05/2020"
        },
        {
         "data": [
          {
           "geo": "geo",
           "hoverlabel": {
            "namelength": 0
           },
           "hovertemplate": "<b>%{hovertext}</b><br><br>date=02/06/2020<br>size=%{marker.color}<br>Lat=%{lat}<br>Long=%{lon}",
           "hovertext": [
            "Anhui",
            "Beijing",
            "Chongqing",
            "Fujian",
            "Guangdong",
            "Guangxi",
            "Guizhou",
            "Hainan",
            "Hebei",
            "Heilongjiang",
            "Henan",
            "Hubei",
            "Hunan",
            "Inner Mongolia",
            "Jiangsu",
            "Jiangxi",
            "Jilin",
            "Liaoning",
            "Ningxia",
            "Qinghai",
            "Shaanxi",
            "Shandong",
            "Shanghai",
            "Shanxi",
            "Sichuan",
            "Tianjin",
            "Xinjiang",
            "Yunnan",
            "Zhejiang"
           ],
           "lat": [
            31.8257,
            40.1824,
            30.0572,
            26.0789,
            23.3417,
            23.8298,
            26.8154,
            19.1959,
            38.0428,
            47.861999999999995,
            33.882020000000004,
            30.9756,
            27.6104,
            44.0935,
            32.9711,
            27.614,
            43.6661,
            41.2956,
            37.2692,
            35.7452,
            35.1917,
            36.3427,
            31.201999999999998,
            37.5777,
            30.6171,
            39.3054,
            41.1129,
            24.974,
            29.1832
           ],
           "legendgroup": "",
           "lon": [
            117.2264,
            116.4142,
            107.874,
            117.9874,
            113.4244,
            108.7881,
            106.8748,
            109.7453,
            114.5149,
            127.7615,
            113.61399999999999,
            112.2707,
            111.7088,
            113.9448,
            119.455,
            115.7221,
            126.1923,
            122.6085,
            106.1655,
            95.9956,
            108.8701,
            118.1498,
            121.4491,
            112.2922,
            102.7103,
            117.323,
            85.2401,
            101.48700000000001,
            120.0934
           ],
           "marker": {
            "color": [
             7.810249675906654,
             4.58257569495584,
             4.69041575982343,
             3.1622776601683795,
             8.660254037844387,
             4.242640687119285,
             2.6457513110645907,
             2.6457513110645907,
             4.69041575982343,
             6.082762530298219,
             9.327379053088816,
             49.467160824126545,
             7.0710678118654755,
             2,
             5.656854249492381,
             7.211102550927978,
             2.23606797749979,
             2.23606797749979,
             2.449489742783178,
             1,
             2.8284271247461903,
             6.324555320336759,
             3.7416573867739413,
             3.872983346207417,
             4.47213595499958,
             3.1622776601683795,
             2,
             2.23606797749979,
             7.681145747868608
            ],
            "coloraxis": "coloraxis",
            "size": [
             7.810249675906654,
             4.58257569495584,
             4.69041575982343,
             3.1622776601683795,
             8.660254037844387,
             4.242640687119285,
             2.6457513110645907,
             2.6457513110645907,
             4.69041575982343,
             6.082762530298219,
             9.327379053088816,
             49.467160824126545,
             7.0710678118654755,
             2,
             5.656854249492381,
             7.211102550927978,
             2.23606797749979,
             2.23606797749979,
             2.449489742783178,
             1,
             2.8284271247461903,
             6.324555320336759,
             3.7416573867739413,
             3.872983346207417,
             4.47213595499958,
             3.1622776601683795,
             2,
             2.23606797749979,
             7.681145747868608
            ],
            "sizemode": "area",
            "sizeref": 0.30454884665682125
           },
           "name": "",
           "showlegend": false,
           "type": "scattergeo"
          }
         ],
         "name": "02/06/2020"
        },
        {
         "data": [
          {
           "geo": "geo",
           "hoverlabel": {
            "namelength": 0
           },
           "hovertemplate": "<b>%{hovertext}</b><br><br>date=02/07/2020<br>size=%{marker.color}<br>Lat=%{lat}<br>Long=%{lon}",
           "hovertext": [
            "Anhui",
            "Beijing",
            "Chongqing",
            "Fujian",
            "Gansu",
            "Guangdong",
            "Guangxi",
            "Guizhou",
            "Hainan",
            "Hebei",
            "Heilongjiang",
            "Henan",
            "Hubei",
            "Hunan",
            "Inner Mongolia",
            "Jiangsu",
            "Jiangxi",
            "Jilin",
            "Liaoning",
            "Ningxia",
            "Shaanxi",
            "Shandong",
            "Shanghai",
            "Shanxi",
            "Sichuan",
            "Tianjin",
            "Xinjiang",
            "Yunnan",
            "Zhejiang"
           ],
           "lat": [
            31.8257,
            40.1824,
            30.0572,
            26.0789,
            36.0611,
            23.3417,
            23.8298,
            26.8154,
            19.1959,
            38.0428,
            47.861999999999995,
            33.882020000000004,
            30.9756,
            27.6104,
            44.0935,
            32.9711,
            27.614,
            43.6661,
            41.2956,
            37.2692,
            35.1917,
            36.3427,
            31.201999999999998,
            37.5777,
            30.6171,
            39.3054,
            41.1129,
            24.974,
            29.1832
           ],
           "legendgroup": "",
           "lon": [
            117.2264,
            116.4142,
            107.874,
            117.9874,
            103.8343,
            113.4244,
            108.7881,
            106.8748,
            109.7453,
            114.5149,
            127.7615,
            113.61399999999999,
            112.2707,
            111.7088,
            113.9448,
            119.455,
            115.7221,
            126.1923,
            122.6085,
            106.1655,
            108.8701,
            118.1498,
            121.4491,
            112.2922,
            102.7103,
            117.323,
            85.2401,
            101.48700000000001,
            120.0934
           ],
           "marker": {
            "color": [
             8.602325267042627,
             4.795831523312719,
             3.872983346207417,
             3,
             2.23606797749979,
             8,
             2,
             3.1622776601683795,
             3.3166247903554,
             3.872983346207417,
             7.0710678118654755,
             7.937253933193772,
             53.301031884945715,
             7.810249675906654,
             2,
             5.916079783099616,
             7.810249675906654,
             2.449489742783178,
             2.23606797749979,
             1.7320508075688772,
             3.3166247903554,
             6.244997998398398,
             4.47213595499958,
             2.8284271247461903,
             4.795831523312719,
             1.4142135623730951,
             1.7320508075688772,
             2.23606797749979,
             7.211102550927978
            ],
            "coloraxis": "coloraxis",
            "size": [
             8.602325267042627,
             4.795831523312719,
             3.872983346207417,
             3,
             2.23606797749979,
             8,
             2,
             3.1622776601683795,
             3.3166247903554,
             3.872983346207417,
             7.0710678118654755,
             7.937253933193772,
             53.301031884945715,
             7.810249675906654,
             2,
             5.916079783099616,
             7.810249675906654,
             2.449489742783178,
             2.23606797749979,
             1.7320508075688772,
             3.3166247903554,
             6.244997998398398,
             4.47213595499958,
             2.8284271247461903,
             4.795831523312719,
             1.4142135623730951,
             1.7320508075688772,
             2.23606797749979,
             7.211102550927978
            ],
            "sizemode": "area",
            "sizeref": 0.30454884665682125
           },
           "name": "",
           "showlegend": false,
           "type": "scattergeo"
          }
         ],
         "name": "02/07/2020"
        },
        {
         "data": [
          {
           "geo": "geo",
           "hoverlabel": {
            "namelength": 0
           },
           "hovertemplate": "<b>%{hovertext}</b><br><br>date=02/08/2020<br>size=%{marker.color}<br>Lat=%{lat}<br>Long=%{lon}",
           "hovertext": [
            "Anhui",
            "Beijing",
            "Chongqing",
            "Fujian",
            "Gansu",
            "Guangdong",
            "Guangxi",
            "Guizhou",
            "Hainan",
            "Hebei",
            "Heilongjiang",
            "Henan",
            "Hubei",
            "Hunan",
            "Inner Mongolia",
            "Jiangsu",
            "Jiangxi",
            "Jilin",
            "Liaoning",
            "Ningxia",
            "Shaanxi",
            "Shandong",
            "Shanghai",
            "Shanxi",
            "Sichuan",
            "Tianjin",
            "Xinjiang",
            "Zhejiang"
           ],
           "lat": [
            31.8257,
            40.1824,
            30.0572,
            26.0789,
            36.0611,
            23.3417,
            23.8298,
            26.8154,
            19.1959,
            38.0428,
            47.861999999999995,
            33.882020000000004,
            30.9756,
            27.6104,
            44.0935,
            32.9711,
            27.614,
            43.6661,
            41.2956,
            37.2692,
            35.1917,
            36.3427,
            31.201999999999998,
            37.5777,
            30.6171,
            39.3054,
            41.1129,
            29.1832
           ],
           "legendgroup": "",
           "lon": [
            117.2264,
            116.4142,
            107.874,
            117.9874,
            103.8343,
            113.4244,
            108.7881,
            106.8748,
            109.7453,
            114.5149,
            127.7615,
            113.61399999999999,
            112.2707,
            111.7088,
            113.9448,
            119.455,
            115.7221,
            126.1923,
            122.6085,
            106.1655,
            108.8701,
            118.1498,
            121.4491,
            112.2922,
            102.7103,
            117.323,
            85.2401,
            120.0934
           ],
           "marker": {
            "color": [
             8.246211251235321,
             4.242640687119285,
             1.4142135623730951,
             3.872983346207417,
             3.4641016151377544,
             7.810249675906654,
             3.3166247903554,
             2.8284271247461903,
             2.6457513110645907,
             4.795831523312719,
             4.242640687119285,
             8.18535277187245,
             46.33573135281238,
             5.5677643628300215,
             1.4142135623730951,
             5.5677643628300215,
             6.082762530298219,
             2,
             2.449489742783178,
             1.4142135623730951,
             3.3166247903554,
             5.477225575051661,
             3,
             3.3166247903554,
             4.47213595499958,
             2.6457513110645907,
             1.7320508075688772,
             6.48074069840786
            ],
            "coloraxis": "coloraxis",
            "size": [
             8.246211251235321,
             4.242640687119285,
             1.4142135623730951,
             3.872983346207417,
             3.4641016151377544,
             7.810249675906654,
             3.3166247903554,
             2.8284271247461903,
             2.6457513110645907,
             4.795831523312719,
             4.242640687119285,
             8.18535277187245,
             46.33573135281238,
             5.5677643628300215,
             1.4142135623730951,
             5.5677643628300215,
             6.082762530298219,
             2,
             2.449489742783178,
             1.4142135623730951,
             3.3166247903554,
             5.477225575051661,
             3,
             3.3166247903554,
             4.47213595499958,
             2.6457513110645907,
             1.7320508075688772,
             6.48074069840786
            ],
            "sizemode": "area",
            "sizeref": 0.30454884665682125
           },
           "name": "",
           "showlegend": false,
           "type": "scattergeo"
          }
         ],
         "name": "02/08/2020"
        },
        {
         "data": [
          {
           "geo": "geo",
           "hoverlabel": {
            "namelength": 0
           },
           "hovertemplate": "<b>%{hovertext}</b><br><br>date=02/09/2020<br>size=%{marker.color}<br>Lat=%{lat}<br>Long=%{lon}",
           "hovertext": [
            "Anhui",
            "Beijing",
            "Chongqing",
            "Fujian",
            "Gansu",
            "Guangdong",
            "Guangxi",
            "Guizhou",
            "Hainan",
            "Hebei",
            "Heilongjiang",
            "Henan",
            "Hubei",
            "Hunan",
            "Inner Mongolia",
            "Jiangsu",
            "Jiangxi",
            "Jilin",
            "Liaoning",
            "Shaanxi",
            "Shandong",
            "Shanghai",
            "Shanxi",
            "Sichuan",
            "Tianjin",
            "Xinjiang",
            "Yunnan",
            "Zhejiang"
           ],
           "lat": [
            31.8257,
            40.1824,
            30.0572,
            26.0789,
            36.0611,
            23.3417,
            23.8298,
            26.8154,
            19.1959,
            38.0428,
            47.861999999999995,
            33.882020000000004,
            30.9756,
            27.6104,
            44.0935,
            32.9711,
            27.614,
            43.6661,
            41.2956,
            35.1917,
            36.3427,
            31.201999999999998,
            37.5777,
            30.6171,
            39.3054,
            41.1129,
            24.974,
            29.1832
           ],
           "legendgroup": "",
           "lon": [
            117.2264,
            116.4142,
            107.874,
            117.9874,
            103.8343,
            113.4244,
            108.7881,
            106.8748,
            109.7453,
            114.5149,
            127.7615,
            113.61399999999999,
            112.2707,
            111.7088,
            113.9448,
            119.455,
            115.7221,
            126.1923,
            122.6085,
            108.8701,
            118.1498,
            121.4491,
            112.2922,
            102.7103,
            117.323,
            85.2401,
            101.48700000000001,
            120.0934
           ],
           "marker": {
            "color": [
             6.782329983125268,
             3.3166247903554,
             6.324555320336759,
             3.3166247903554,
             2,
             6,
             3.4641016151377544,
             3.1622776601683795,
             2.6457513110645907,
             3.3166247903554,
             3.4641016151377544,
             7.211102550927978,
             50.309044912421065,
             5.916079783099616,
             1.4142135623730951,
             5.385164807134504,
             6.48074069840786,
             3,
             1.4142135623730951,
             3.605551275463989,
             5.291502622129181,
             2.6457513110645907,
             2,
             4.69041575982343,
             1.7320508075688772,
             1.7320508075688772,
             1.7320508075688772,
             5.196152422706632
            ],
            "coloraxis": "coloraxis",
            "size": [
             6.782329983125268,
             3.3166247903554,
             6.324555320336759,
             3.3166247903554,
             2,
             6,
             3.4641016151377544,
             3.1622776601683795,
             2.6457513110645907,
             3.3166247903554,
             3.4641016151377544,
             7.211102550927978,
             50.309044912421065,
             5.916079783099616,
             1.4142135623730951,
             5.385164807134504,
             6.48074069840786,
             3,
             1.4142135623730951,
             3.605551275463989,
             5.291502622129181,
             2.6457513110645907,
             2,
             4.69041575982343,
             1.7320508075688772,
             1.7320508075688772,
             1.7320508075688772,
             5.196152422706632
            ],
            "sizemode": "area",
            "sizeref": 0.30454884665682125
           },
           "name": "",
           "showlegend": false,
           "type": "scattergeo"
          }
         ],
         "name": "02/09/2020"
        },
        {
         "data": [
          {
           "geo": "geo",
           "hoverlabel": {
            "namelength": 0
           },
           "hovertemplate": "<b>%{hovertext}</b><br><br>date=03/01/2020<br>size=%{marker.color}<br>Lat=%{lat}<br>Long=%{lon}",
           "hovertext": [
            "Beijing",
            "Hubei",
            "Liaoning",
            "Shandong"
           ],
           "lat": [
            40.1824,
            30.9756,
            41.2956,
            36.3427
           ],
           "legendgroup": "",
           "lon": [
            116.4142,
            112.2707,
            122.6085,
            118.1498
           ],
           "marker": {
            "color": [
             1.4142135623730951,
             23.874672772626646,
             1,
             1.4142135623730951
            ],
            "coloraxis": "coloraxis",
            "size": [
             1.4142135623730951,
             23.874672772626646,
             1,
             1.4142135623730951
            ],
            "sizemode": "area",
            "sizeref": 0.30454884665682125
           },
           "name": "",
           "showlegend": false,
           "type": "scattergeo"
          }
         ],
         "name": "03/01/2020"
        },
        {
         "data": [
          {
           "geo": "geo",
           "hoverlabel": {
            "namelength": 0
           },
           "hovertemplate": "<b>%{hovertext}</b><br><br>date=03/02/2020<br>size=%{marker.color}<br>Lat=%{lat}<br>Long=%{lon}",
           "hovertext": [
            "Beijing",
            "Guangdong",
            "Hubei",
            "Ningxia",
            "Zhejiang"
           ],
           "lat": [
            40.1824,
            23.3417,
            30.9756,
            37.2692,
            29.1832
           ],
           "legendgroup": "",
           "lon": [
            116.4142,
            113.4244,
            112.2707,
            106.1655,
            120.0934
           ],
           "marker": {
            "color": [
             1,
             1,
             14,
             1,
             1
            ],
            "coloraxis": "coloraxis",
            "size": [
             1,
             1,
             14,
             1,
             1
            ],
            "sizemode": "area",
            "sizeref": 0.30454884665682125
           },
           "name": "",
           "showlegend": false,
           "type": "scattergeo"
          }
         ],
         "name": "03/02/2020"
        },
        {
         "data": [
          {
           "geo": "geo",
           "hoverlabel": {
            "namelength": 0
           },
           "hovertemplate": "<b>%{hovertext}</b><br><br>date=03/03/2020<br>size=%{marker.color}<br>Lat=%{lat}<br>Long=%{lon}",
           "hovertext": [
            "Hubei",
            "Liaoning",
            "Shanghai",
            "Zhejiang"
           ],
           "lat": [
            30.9756,
            41.2956,
            31.201999999999998,
            29.1832
           ],
           "legendgroup": "",
           "lon": [
            112.2707,
            122.6085,
            121.4491,
            120.0934
           ],
           "marker": {
            "color": [
             10.677078252031311,
             1.7320508075688772,
             1,
             2.6457513110645907
            ],
            "coloraxis": "coloraxis",
            "size": [
             10.677078252031311,
             1.7320508075688772,
             1,
             2.6457513110645907
            ],
            "sizemode": "area",
            "sizeref": 0.30454884665682125
           },
           "name": "",
           "showlegend": false,
           "type": "scattergeo"
          }
         ],
         "name": "03/03/2020"
        },
        {
         "data": [
          {
           "geo": "geo",
           "hoverlabel": {
            "namelength": 0
           },
           "hovertemplate": "<b>%{hovertext}</b><br><br>date=03/04/2020<br>size=%{marker.color}<br>Lat=%{lat}<br>Long=%{lon}",
           "hovertext": [
            "Beijing",
            "Hubei",
            "Ningxia"
           ],
           "lat": [
            40.1824,
            30.9756,
            37.2692
           ],
           "legendgroup": "",
           "lon": [
            116.4142,
            112.2707,
            106.1655
           ],
           "marker": {
            "color": [
             2,
             10.723805294763608,
             1
            ],
            "coloraxis": "coloraxis",
            "size": [
             2,
             10.723805294763608,
             1
            ],
            "sizemode": "area",
            "sizeref": 0.30454884665682125
           },
           "name": "",
           "showlegend": false,
           "type": "scattergeo"
          }
         ],
         "name": "03/04/2020"
        },
        {
         "data": [
          {
           "geo": "geo",
           "hoverlabel": {
            "namelength": 0
           },
           "hovertemplate": "<b>%{hovertext}</b><br><br>date=03/05/2020<br>size=%{marker.color}<br>Lat=%{lat}<br>Long=%{lon}",
           "hovertext": [
            "Gansu",
            "Guangdong",
            "Heilongjiang",
            "Hubei",
            "Shanghai",
            "Sichuan",
            "Zhejiang"
           ],
           "lat": [
            36.0611,
            23.3417,
            47.861999999999995,
            30.9756,
            31.201999999999998,
            30.6171,
            29.1832
           ],
           "legendgroup": "",
           "lon": [
            103.8343,
            113.4244,
            127.7615,
            112.2707,
            121.4491,
            102.7103,
            120.0934
           ],
           "marker": {
            "color": [
             3.3166247903554,
             1,
             1,
             11.575836902790225,
             1,
             1,
             1.4142135623730951
            ],
            "coloraxis": "coloraxis",
            "size": [
             3.3166247903554,
             1,
             1,
             11.575836902790225,
             1,
             1,
             1.4142135623730951
            ],
            "sizemode": "area",
            "sizeref": 0.30454884665682125
           },
           "name": "",
           "showlegend": false,
           "type": "scattergeo"
          }
         ],
         "name": "03/05/2020"
        },
        {
         "data": [
          {
           "geo": "geo",
           "hoverlabel": {
            "namelength": 0
           },
           "hovertemplate": "<b>%{hovertext}</b><br><br>date=03/06/2020<br>size=%{marker.color}<br>Lat=%{lat}<br>Long=%{lon}",
           "hovertext": [
            "Beijing",
            "Gansu",
            "Guangdong",
            "Hubei",
            "Shanghai"
           ],
           "lat": [
            40.1824,
            36.0611,
            23.3417,
            30.9756,
            31.201999999999998
           ],
           "legendgroup": "",
           "lon": [
            116.4142,
            103.8343,
            113.4244,
            112.2707,
            121.4491
           ],
           "marker": {
            "color": [
             2,
             4.123105625617661,
             1,
             11.224972160321824,
             1.7320508075688772
            ],
            "coloraxis": "coloraxis",
            "size": [
             2,
             4.123105625617661,
             1,
             11.224972160321824,
             1.7320508075688772
            ],
            "sizemode": "area",
            "sizeref": 0.30454884665682125
           },
           "name": "",
           "showlegend": false,
           "type": "scattergeo"
          }
         ],
         "name": "03/06/2020"
        },
        {
         "data": [
          {
           "geo": "geo",
           "hoverlabel": {
            "namelength": 0
           },
           "hovertemplate": "<b>%{hovertext}</b><br><br>date=03/07/2020<br>size=%{marker.color}<br>Lat=%{lat}<br>Long=%{lon}",
           "hovertext": [
            "Beijing",
            "Gansu",
            "Hubei"
           ],
           "lat": [
            40.1824,
            36.0611,
            30.9756
           ],
           "legendgroup": "",
           "lon": [
            116.4142,
            103.8343,
            112.2707
           ],
           "marker": {
            "color": [
             2,
             1,
             8.602325267042627
            ],
            "coloraxis": "coloraxis",
            "size": [
             2,
             1,
             8.602325267042627
            ],
            "sizemode": "area",
            "sizeref": 0.30454884665682125
           },
           "name": "",
           "showlegend": false,
           "type": "scattergeo"
          }
         ],
         "name": "03/07/2020"
        },
        {
         "data": [
          {
           "geo": "geo",
           "hoverlabel": {
            "namelength": 0
           },
           "hovertemplate": "<b>%{hovertext}</b><br><br>date=03/08/2020<br>size=%{marker.color}<br>Lat=%{lat}<br>Long=%{lon}",
           "hovertext": [
            "Beijing",
            "Gansu",
            "Hubei"
           ],
           "lat": [
            40.1824,
            36.0611,
            30.9756
           ],
           "legendgroup": "",
           "lon": [
            116.4142,
            103.8343,
            112.2707
           ],
           "marker": {
            "color": [
             1.4142135623730951,
             2,
             6.4031242374328485
            ],
            "coloraxis": "coloraxis",
            "size": [
             1.4142135623730951,
             2,
             6.4031242374328485
            ],
            "sizemode": "area",
            "sizeref": 0.30454884665682125
           },
           "name": "",
           "showlegend": false,
           "type": "scattergeo"
          }
         ],
         "name": "03/08/2020"
        },
        {
         "data": [
          {
           "geo": "geo",
           "hoverlabel": {
            "namelength": 0
           },
           "hovertemplate": "<b>%{hovertext}</b><br><br>date=03/09/2020<br>size=%{marker.color}<br>Lat=%{lat}<br>Long=%{lon}",
           "hovertext": [
            "Hubei"
           ],
           "lat": [
            30.9756
           ],
           "legendgroup": "",
           "lon": [
            112.2707
           ],
           "marker": {
            "color": [
             6
            ],
            "coloraxis": "coloraxis",
            "size": [
             6
            ],
            "sizemode": "area",
            "sizeref": 0.30454884665682125
           },
           "name": "",
           "showlegend": false,
           "type": "scattergeo"
          }
         ],
         "name": "03/09/2020"
        }
       ],
       "layout": {
        "coloraxis": {
         "colorbar": {
          "title": {
           "text": "size"
          }
         },
         "colorscale": [
          [
           0,
           "#0d0887"
          ],
          [
           0.1111111111111111,
           "#46039f"
          ],
          [
           0.2222222222222222,
           "#7201a8"
          ],
          [
           0.3333333333333333,
           "#9c179e"
          ],
          [
           0.4444444444444444,
           "#bd3786"
          ],
          [
           0.5555555555555556,
           "#d8576b"
          ],
          [
           0.6666666666666666,
           "#ed7953"
          ],
          [
           0.7777777777777778,
           "#fb9f3a"
          ],
          [
           0.8888888888888888,
           "#fdca26"
          ],
          [
           1,
           "#f0f921"
          ]
         ],
         "showscale": true
        },
        "geo": {
         "center": {},
         "domain": {
          "x": [
           0,
           1
          ],
          "y": [
           0,
           1
          ]
         },
         "projection": {
          "type": "natural earth"
         },
         "scope": "asia"
        },
        "legend": {
         "itemsizing": "constant",
         "tracegroupgap": 0
        },
        "sliders": [
         {
          "active": 0,
          "currentvalue": {
           "prefix": "date="
          },
          "len": 0.9,
          "pad": {
           "b": 10,
           "t": 60
          },
          "steps": [
           {
            "args": [
             [
              "01/22/2020"
             ],
             {
              "frame": {
               "duration": 0,
               "redraw": true
              },
              "fromcurrent": true,
              "mode": "immediate",
              "transition": {
               "duration": 0,
               "easing": "linear"
              }
             }
            ],
            "label": "01/22/2020",
            "method": "animate"
           },
           {
            "args": [
             [
              "01/23/2020"
             ],
             {
              "frame": {
               "duration": 0,
               "redraw": true
              },
              "fromcurrent": true,
              "mode": "immediate",
              "transition": {
               "duration": 0,
               "easing": "linear"
              }
             }
            ],
            "label": "01/23/2020",
            "method": "animate"
           },
           {
            "args": [
             [
              "01/24/2020"
             ],
             {
              "frame": {
               "duration": 0,
               "redraw": true
              },
              "fromcurrent": true,
              "mode": "immediate",
              "transition": {
               "duration": 0,
               "easing": "linear"
              }
             }
            ],
            "label": "01/24/2020",
            "method": "animate"
           },
           {
            "args": [
             [
              "01/25/2020"
             ],
             {
              "frame": {
               "duration": 0,
               "redraw": true
              },
              "fromcurrent": true,
              "mode": "immediate",
              "transition": {
               "duration": 0,
               "easing": "linear"
              }
             }
            ],
            "label": "01/25/2020",
            "method": "animate"
           },
           {
            "args": [
             [
              "01/26/2020"
             ],
             {
              "frame": {
               "duration": 0,
               "redraw": true
              },
              "fromcurrent": true,
              "mode": "immediate",
              "transition": {
               "duration": 0,
               "easing": "linear"
              }
             }
            ],
            "label": "01/26/2020",
            "method": "animate"
           },
           {
            "args": [
             [
              "01/27/2020"
             ],
             {
              "frame": {
               "duration": 0,
               "redraw": true
              },
              "fromcurrent": true,
              "mode": "immediate",
              "transition": {
               "duration": 0,
               "easing": "linear"
              }
             }
            ],
            "label": "01/27/2020",
            "method": "animate"
           },
           {
            "args": [
             [
              "01/28/2020"
             ],
             {
              "frame": {
               "duration": 0,
               "redraw": true
              },
              "fromcurrent": true,
              "mode": "immediate",
              "transition": {
               "duration": 0,
               "easing": "linear"
              }
             }
            ],
            "label": "01/28/2020",
            "method": "animate"
           },
           {
            "args": [
             [
              "01/29/2020"
             ],
             {
              "frame": {
               "duration": 0,
               "redraw": true
              },
              "fromcurrent": true,
              "mode": "immediate",
              "transition": {
               "duration": 0,
               "easing": "linear"
              }
             }
            ],
            "label": "01/29/2020",
            "method": "animate"
           },
           {
            "args": [
             [
              "01/30/2020"
             ],
             {
              "frame": {
               "duration": 0,
               "redraw": true
              },
              "fromcurrent": true,
              "mode": "immediate",
              "transition": {
               "duration": 0,
               "easing": "linear"
              }
             }
            ],
            "label": "01/30/2020",
            "method": "animate"
           },
           {
            "args": [
             [
              "01/31/2020"
             ],
             {
              "frame": {
               "duration": 0,
               "redraw": true
              },
              "fromcurrent": true,
              "mode": "immediate",
              "transition": {
               "duration": 0,
               "easing": "linear"
              }
             }
            ],
            "label": "01/31/2020",
            "method": "animate"
           },
           {
            "args": [
             [
              "02/01/2020"
             ],
             {
              "frame": {
               "duration": 0,
               "redraw": true
              },
              "fromcurrent": true,
              "mode": "immediate",
              "transition": {
               "duration": 0,
               "easing": "linear"
              }
             }
            ],
            "label": "02/01/2020",
            "method": "animate"
           },
           {
            "args": [
             [
              "02/10/2020"
             ],
             {
              "frame": {
               "duration": 0,
               "redraw": true
              },
              "fromcurrent": true,
              "mode": "immediate",
              "transition": {
               "duration": 0,
               "easing": "linear"
              }
             }
            ],
            "label": "02/10/2020",
            "method": "animate"
           },
           {
            "args": [
             [
              "02/11/2020"
             ],
             {
              "frame": {
               "duration": 0,
               "redraw": true
              },
              "fromcurrent": true,
              "mode": "immediate",
              "transition": {
               "duration": 0,
               "easing": "linear"
              }
             }
            ],
            "label": "02/11/2020",
            "method": "animate"
           },
           {
            "args": [
             [
              "02/12/2020"
             ],
             {
              "frame": {
               "duration": 0,
               "redraw": true
              },
              "fromcurrent": true,
              "mode": "immediate",
              "transition": {
               "duration": 0,
               "easing": "linear"
              }
             }
            ],
            "label": "02/12/2020",
            "method": "animate"
           },
           {
            "args": [
             [
              "02/13/2020"
             ],
             {
              "frame": {
               "duration": 0,
               "redraw": true
              },
              "fromcurrent": true,
              "mode": "immediate",
              "transition": {
               "duration": 0,
               "easing": "linear"
              }
             }
            ],
            "label": "02/13/2020",
            "method": "animate"
           },
           {
            "args": [
             [
              "02/14/2020"
             ],
             {
              "frame": {
               "duration": 0,
               "redraw": true
              },
              "fromcurrent": true,
              "mode": "immediate",
              "transition": {
               "duration": 0,
               "easing": "linear"
              }
             }
            ],
            "label": "02/14/2020",
            "method": "animate"
           },
           {
            "args": [
             [
              "02/15/2020"
             ],
             {
              "frame": {
               "duration": 0,
               "redraw": true
              },
              "fromcurrent": true,
              "mode": "immediate",
              "transition": {
               "duration": 0,
               "easing": "linear"
              }
             }
            ],
            "label": "02/15/2020",
            "method": "animate"
           },
           {
            "args": [
             [
              "02/16/2020"
             ],
             {
              "frame": {
               "duration": 0,
               "redraw": true
              },
              "fromcurrent": true,
              "mode": "immediate",
              "transition": {
               "duration": 0,
               "easing": "linear"
              }
             }
            ],
            "label": "02/16/2020",
            "method": "animate"
           },
           {
            "args": [
             [
              "02/17/2020"
             ],
             {
              "frame": {
               "duration": 0,
               "redraw": true
              },
              "fromcurrent": true,
              "mode": "immediate",
              "transition": {
               "duration": 0,
               "easing": "linear"
              }
             }
            ],
            "label": "02/17/2020",
            "method": "animate"
           },
           {
            "args": [
             [
              "02/18/2020"
             ],
             {
              "frame": {
               "duration": 0,
               "redraw": true
              },
              "fromcurrent": true,
              "mode": "immediate",
              "transition": {
               "duration": 0,
               "easing": "linear"
              }
             }
            ],
            "label": "02/18/2020",
            "method": "animate"
           },
           {
            "args": [
             [
              "02/19/2020"
             ],
             {
              "frame": {
               "duration": 0,
               "redraw": true
              },
              "fromcurrent": true,
              "mode": "immediate",
              "transition": {
               "duration": 0,
               "easing": "linear"
              }
             }
            ],
            "label": "02/19/2020",
            "method": "animate"
           },
           {
            "args": [
             [
              "02/02/2020"
             ],
             {
              "frame": {
               "duration": 0,
               "redraw": true
              },
              "fromcurrent": true,
              "mode": "immediate",
              "transition": {
               "duration": 0,
               "easing": "linear"
              }
             }
            ],
            "label": "02/02/2020",
            "method": "animate"
           },
           {
            "args": [
             [
              "02/20/2020"
             ],
             {
              "frame": {
               "duration": 0,
               "redraw": true
              },
              "fromcurrent": true,
              "mode": "immediate",
              "transition": {
               "duration": 0,
               "easing": "linear"
              }
             }
            ],
            "label": "02/20/2020",
            "method": "animate"
           },
           {
            "args": [
             [
              "02/21/2020"
             ],
             {
              "frame": {
               "duration": 0,
               "redraw": true
              },
              "fromcurrent": true,
              "mode": "immediate",
              "transition": {
               "duration": 0,
               "easing": "linear"
              }
             }
            ],
            "label": "02/21/2020",
            "method": "animate"
           },
           {
            "args": [
             [
              "02/22/2020"
             ],
             {
              "frame": {
               "duration": 0,
               "redraw": true
              },
              "fromcurrent": true,
              "mode": "immediate",
              "transition": {
               "duration": 0,
               "easing": "linear"
              }
             }
            ],
            "label": "02/22/2020",
            "method": "animate"
           },
           {
            "args": [
             [
              "02/23/2020"
             ],
             {
              "frame": {
               "duration": 0,
               "redraw": true
              },
              "fromcurrent": true,
              "mode": "immediate",
              "transition": {
               "duration": 0,
               "easing": "linear"
              }
             }
            ],
            "label": "02/23/2020",
            "method": "animate"
           },
           {
            "args": [
             [
              "02/24/2020"
             ],
             {
              "frame": {
               "duration": 0,
               "redraw": true
              },
              "fromcurrent": true,
              "mode": "immediate",
              "transition": {
               "duration": 0,
               "easing": "linear"
              }
             }
            ],
            "label": "02/24/2020",
            "method": "animate"
           },
           {
            "args": [
             [
              "02/25/2020"
             ],
             {
              "frame": {
               "duration": 0,
               "redraw": true
              },
              "fromcurrent": true,
              "mode": "immediate",
              "transition": {
               "duration": 0,
               "easing": "linear"
              }
             }
            ],
            "label": "02/25/2020",
            "method": "animate"
           },
           {
            "args": [
             [
              "02/26/2020"
             ],
             {
              "frame": {
               "duration": 0,
               "redraw": true
              },
              "fromcurrent": true,
              "mode": "immediate",
              "transition": {
               "duration": 0,
               "easing": "linear"
              }
             }
            ],
            "label": "02/26/2020",
            "method": "animate"
           },
           {
            "args": [
             [
              "02/27/2020"
             ],
             {
              "frame": {
               "duration": 0,
               "redraw": true
              },
              "fromcurrent": true,
              "mode": "immediate",
              "transition": {
               "duration": 0,
               "easing": "linear"
              }
             }
            ],
            "label": "02/27/2020",
            "method": "animate"
           },
           {
            "args": [
             [
              "02/28/2020"
             ],
             {
              "frame": {
               "duration": 0,
               "redraw": true
              },
              "fromcurrent": true,
              "mode": "immediate",
              "transition": {
               "duration": 0,
               "easing": "linear"
              }
             }
            ],
            "label": "02/28/2020",
            "method": "animate"
           },
           {
            "args": [
             [
              "02/29/2020"
             ],
             {
              "frame": {
               "duration": 0,
               "redraw": true
              },
              "fromcurrent": true,
              "mode": "immediate",
              "transition": {
               "duration": 0,
               "easing": "linear"
              }
             }
            ],
            "label": "02/29/2020",
            "method": "animate"
           },
           {
            "args": [
             [
              "02/03/2020"
             ],
             {
              "frame": {
               "duration": 0,
               "redraw": true
              },
              "fromcurrent": true,
              "mode": "immediate",
              "transition": {
               "duration": 0,
               "easing": "linear"
              }
             }
            ],
            "label": "02/03/2020",
            "method": "animate"
           },
           {
            "args": [
             [
              "02/04/2020"
             ],
             {
              "frame": {
               "duration": 0,
               "redraw": true
              },
              "fromcurrent": true,
              "mode": "immediate",
              "transition": {
               "duration": 0,
               "easing": "linear"
              }
             }
            ],
            "label": "02/04/2020",
            "method": "animate"
           },
           {
            "args": [
             [
              "02/05/2020"
             ],
             {
              "frame": {
               "duration": 0,
               "redraw": true
              },
              "fromcurrent": true,
              "mode": "immediate",
              "transition": {
               "duration": 0,
               "easing": "linear"
              }
             }
            ],
            "label": "02/05/2020",
            "method": "animate"
           },
           {
            "args": [
             [
              "02/06/2020"
             ],
             {
              "frame": {
               "duration": 0,
               "redraw": true
              },
              "fromcurrent": true,
              "mode": "immediate",
              "transition": {
               "duration": 0,
               "easing": "linear"
              }
             }
            ],
            "label": "02/06/2020",
            "method": "animate"
           },
           {
            "args": [
             [
              "02/07/2020"
             ],
             {
              "frame": {
               "duration": 0,
               "redraw": true
              },
              "fromcurrent": true,
              "mode": "immediate",
              "transition": {
               "duration": 0,
               "easing": "linear"
              }
             }
            ],
            "label": "02/07/2020",
            "method": "animate"
           },
           {
            "args": [
             [
              "02/08/2020"
             ],
             {
              "frame": {
               "duration": 0,
               "redraw": true
              },
              "fromcurrent": true,
              "mode": "immediate",
              "transition": {
               "duration": 0,
               "easing": "linear"
              }
             }
            ],
            "label": "02/08/2020",
            "method": "animate"
           },
           {
            "args": [
             [
              "02/09/2020"
             ],
             {
              "frame": {
               "duration": 0,
               "redraw": true
              },
              "fromcurrent": true,
              "mode": "immediate",
              "transition": {
               "duration": 0,
               "easing": "linear"
              }
             }
            ],
            "label": "02/09/2020",
            "method": "animate"
           },
           {
            "args": [
             [
              "03/01/2020"
             ],
             {
              "frame": {
               "duration": 0,
               "redraw": true
              },
              "fromcurrent": true,
              "mode": "immediate",
              "transition": {
               "duration": 0,
               "easing": "linear"
              }
             }
            ],
            "label": "03/01/2020",
            "method": "animate"
           },
           {
            "args": [
             [
              "03/02/2020"
             ],
             {
              "frame": {
               "duration": 0,
               "redraw": true
              },
              "fromcurrent": true,
              "mode": "immediate",
              "transition": {
               "duration": 0,
               "easing": "linear"
              }
             }
            ],
            "label": "03/02/2020",
            "method": "animate"
           },
           {
            "args": [
             [
              "03/03/2020"
             ],
             {
              "frame": {
               "duration": 0,
               "redraw": true
              },
              "fromcurrent": true,
              "mode": "immediate",
              "transition": {
               "duration": 0,
               "easing": "linear"
              }
             }
            ],
            "label": "03/03/2020",
            "method": "animate"
           },
           {
            "args": [
             [
              "03/04/2020"
             ],
             {
              "frame": {
               "duration": 0,
               "redraw": true
              },
              "fromcurrent": true,
              "mode": "immediate",
              "transition": {
               "duration": 0,
               "easing": "linear"
              }
             }
            ],
            "label": "03/04/2020",
            "method": "animate"
           },
           {
            "args": [
             [
              "03/05/2020"
             ],
             {
              "frame": {
               "duration": 0,
               "redraw": true
              },
              "fromcurrent": true,
              "mode": "immediate",
              "transition": {
               "duration": 0,
               "easing": "linear"
              }
             }
            ],
            "label": "03/05/2020",
            "method": "animate"
           },
           {
            "args": [
             [
              "03/06/2020"
             ],
             {
              "frame": {
               "duration": 0,
               "redraw": true
              },
              "fromcurrent": true,
              "mode": "immediate",
              "transition": {
               "duration": 0,
               "easing": "linear"
              }
             }
            ],
            "label": "03/06/2020",
            "method": "animate"
           },
           {
            "args": [
             [
              "03/07/2020"
             ],
             {
              "frame": {
               "duration": 0,
               "redraw": true
              },
              "fromcurrent": true,
              "mode": "immediate",
              "transition": {
               "duration": 0,
               "easing": "linear"
              }
             }
            ],
            "label": "03/07/2020",
            "method": "animate"
           },
           {
            "args": [
             [
              "03/08/2020"
             ],
             {
              "frame": {
               "duration": 0,
               "redraw": true
              },
              "fromcurrent": true,
              "mode": "immediate",
              "transition": {
               "duration": 0,
               "easing": "linear"
              }
             }
            ],
            "label": "03/08/2020",
            "method": "animate"
           },
           {
            "args": [
             [
              "03/09/2020"
             ],
             {
              "frame": {
               "duration": 0,
               "redraw": true
              },
              "fromcurrent": true,
              "mode": "immediate",
              "transition": {
               "duration": 0,
               "easing": "linear"
              }
             }
            ],
            "label": "03/09/2020",
            "method": "animate"
           }
          ],
          "x": 0.1,
          "xanchor": "left",
          "y": 0,
          "yanchor": "top"
         }
        ],
        "template": {
         "data": {
          "bar": [
           {
            "error_x": {
             "color": "#2a3f5f"
            },
            "error_y": {
             "color": "#2a3f5f"
            },
            "marker": {
             "line": {
              "color": "#E5ECF6",
              "width": 0.5
             }
            },
            "type": "bar"
           }
          ],
          "barpolar": [
           {
            "marker": {
             "line": {
              "color": "#E5ECF6",
              "width": 0.5
             }
            },
            "type": "barpolar"
           }
          ],
          "carpet": [
           {
            "aaxis": {
             "endlinecolor": "#2a3f5f",
             "gridcolor": "white",
             "linecolor": "white",
             "minorgridcolor": "white",
             "startlinecolor": "#2a3f5f"
            },
            "baxis": {
             "endlinecolor": "#2a3f5f",
             "gridcolor": "white",
             "linecolor": "white",
             "minorgridcolor": "white",
             "startlinecolor": "#2a3f5f"
            },
            "type": "carpet"
           }
          ],
          "choropleth": [
           {
            "colorbar": {
             "outlinewidth": 0,
             "ticks": ""
            },
            "type": "choropleth"
           }
          ],
          "contour": [
           {
            "colorbar": {
             "outlinewidth": 0,
             "ticks": ""
            },
            "colorscale": [
             [
              0,
              "#0d0887"
             ],
             [
              0.1111111111111111,
              "#46039f"
             ],
             [
              0.2222222222222222,
              "#7201a8"
             ],
             [
              0.3333333333333333,
              "#9c179e"
             ],
             [
              0.4444444444444444,
              "#bd3786"
             ],
             [
              0.5555555555555556,
              "#d8576b"
             ],
             [
              0.6666666666666666,
              "#ed7953"
             ],
             [
              0.7777777777777778,
              "#fb9f3a"
             ],
             [
              0.8888888888888888,
              "#fdca26"
             ],
             [
              1,
              "#f0f921"
             ]
            ],
            "type": "contour"
           }
          ],
          "contourcarpet": [
           {
            "colorbar": {
             "outlinewidth": 0,
             "ticks": ""
            },
            "type": "contourcarpet"
           }
          ],
          "heatmap": [
           {
            "colorbar": {
             "outlinewidth": 0,
             "ticks": ""
            },
            "colorscale": [
             [
              0,
              "#0d0887"
             ],
             [
              0.1111111111111111,
              "#46039f"
             ],
             [
              0.2222222222222222,
              "#7201a8"
             ],
             [
              0.3333333333333333,
              "#9c179e"
             ],
             [
              0.4444444444444444,
              "#bd3786"
             ],
             [
              0.5555555555555556,
              "#d8576b"
             ],
             [
              0.6666666666666666,
              "#ed7953"
             ],
             [
              0.7777777777777778,
              "#fb9f3a"
             ],
             [
              0.8888888888888888,
              "#fdca26"
             ],
             [
              1,
              "#f0f921"
             ]
            ],
            "type": "heatmap"
           }
          ],
          "heatmapgl": [
           {
            "colorbar": {
             "outlinewidth": 0,
             "ticks": ""
            },
            "colorscale": [
             [
              0,
              "#0d0887"
             ],
             [
              0.1111111111111111,
              "#46039f"
             ],
             [
              0.2222222222222222,
              "#7201a8"
             ],
             [
              0.3333333333333333,
              "#9c179e"
             ],
             [
              0.4444444444444444,
              "#bd3786"
             ],
             [
              0.5555555555555556,
              "#d8576b"
             ],
             [
              0.6666666666666666,
              "#ed7953"
             ],
             [
              0.7777777777777778,
              "#fb9f3a"
             ],
             [
              0.8888888888888888,
              "#fdca26"
             ],
             [
              1,
              "#f0f921"
             ]
            ],
            "type": "heatmapgl"
           }
          ],
          "histogram": [
           {
            "marker": {
             "colorbar": {
              "outlinewidth": 0,
              "ticks": ""
             }
            },
            "type": "histogram"
           }
          ],
          "histogram2d": [
           {
            "colorbar": {
             "outlinewidth": 0,
             "ticks": ""
            },
            "colorscale": [
             [
              0,
              "#0d0887"
             ],
             [
              0.1111111111111111,
              "#46039f"
             ],
             [
              0.2222222222222222,
              "#7201a8"
             ],
             [
              0.3333333333333333,
              "#9c179e"
             ],
             [
              0.4444444444444444,
              "#bd3786"
             ],
             [
              0.5555555555555556,
              "#d8576b"
             ],
             [
              0.6666666666666666,
              "#ed7953"
             ],
             [
              0.7777777777777778,
              "#fb9f3a"
             ],
             [
              0.8888888888888888,
              "#fdca26"
             ],
             [
              1,
              "#f0f921"
             ]
            ],
            "type": "histogram2d"
           }
          ],
          "histogram2dcontour": [
           {
            "colorbar": {
             "outlinewidth": 0,
             "ticks": ""
            },
            "colorscale": [
             [
              0,
              "#0d0887"
             ],
             [
              0.1111111111111111,
              "#46039f"
             ],
             [
              0.2222222222222222,
              "#7201a8"
             ],
             [
              0.3333333333333333,
              "#9c179e"
             ],
             [
              0.4444444444444444,
              "#bd3786"
             ],
             [
              0.5555555555555556,
              "#d8576b"
             ],
             [
              0.6666666666666666,
              "#ed7953"
             ],
             [
              0.7777777777777778,
              "#fb9f3a"
             ],
             [
              0.8888888888888888,
              "#fdca26"
             ],
             [
              1,
              "#f0f921"
             ]
            ],
            "type": "histogram2dcontour"
           }
          ],
          "mesh3d": [
           {
            "colorbar": {
             "outlinewidth": 0,
             "ticks": ""
            },
            "type": "mesh3d"
           }
          ],
          "parcoords": [
           {
            "line": {
             "colorbar": {
              "outlinewidth": 0,
              "ticks": ""
             }
            },
            "type": "parcoords"
           }
          ],
          "pie": [
           {
            "automargin": true,
            "type": "pie"
           }
          ],
          "scatter": [
           {
            "marker": {
             "colorbar": {
              "outlinewidth": 0,
              "ticks": ""
             }
            },
            "type": "scatter"
           }
          ],
          "scatter3d": [
           {
            "line": {
             "colorbar": {
              "outlinewidth": 0,
              "ticks": ""
             }
            },
            "marker": {
             "colorbar": {
              "outlinewidth": 0,
              "ticks": ""
             }
            },
            "type": "scatter3d"
           }
          ],
          "scattercarpet": [
           {
            "marker": {
             "colorbar": {
              "outlinewidth": 0,
              "ticks": ""
             }
            },
            "type": "scattercarpet"
           }
          ],
          "scattergeo": [
           {
            "marker": {
             "colorbar": {
              "outlinewidth": 0,
              "ticks": ""
             }
            },
            "type": "scattergeo"
           }
          ],
          "scattergl": [
           {
            "marker": {
             "colorbar": {
              "outlinewidth": 0,
              "ticks": ""
             }
            },
            "type": "scattergl"
           }
          ],
          "scattermapbox": [
           {
            "marker": {
             "colorbar": {
              "outlinewidth": 0,
              "ticks": ""
             }
            },
            "type": "scattermapbox"
           }
          ],
          "scatterpolar": [
           {
            "marker": {
             "colorbar": {
              "outlinewidth": 0,
              "ticks": ""
             }
            },
            "type": "scatterpolar"
           }
          ],
          "scatterpolargl": [
           {
            "marker": {
             "colorbar": {
              "outlinewidth": 0,
              "ticks": ""
             }
            },
            "type": "scatterpolargl"
           }
          ],
          "scatterternary": [
           {
            "marker": {
             "colorbar": {
              "outlinewidth": 0,
              "ticks": ""
             }
            },
            "type": "scatterternary"
           }
          ],
          "surface": [
           {
            "colorbar": {
             "outlinewidth": 0,
             "ticks": ""
            },
            "colorscale": [
             [
              0,
              "#0d0887"
             ],
             [
              0.1111111111111111,
              "#46039f"
             ],
             [
              0.2222222222222222,
              "#7201a8"
             ],
             [
              0.3333333333333333,
              "#9c179e"
             ],
             [
              0.4444444444444444,
              "#bd3786"
             ],
             [
              0.5555555555555556,
              "#d8576b"
             ],
             [
              0.6666666666666666,
              "#ed7953"
             ],
             [
              0.7777777777777778,
              "#fb9f3a"
             ],
             [
              0.8888888888888888,
              "#fdca26"
             ],
             [
              1,
              "#f0f921"
             ]
            ],
            "type": "surface"
           }
          ],
          "table": [
           {
            "cells": {
             "fill": {
              "color": "#EBF0F8"
             },
             "line": {
              "color": "white"
             }
            },
            "header": {
             "fill": {
              "color": "#C8D4E3"
             },
             "line": {
              "color": "white"
             }
            },
            "type": "table"
           }
          ]
         },
         "layout": {
          "annotationdefaults": {
           "arrowcolor": "#2a3f5f",
           "arrowhead": 0,
           "arrowwidth": 1
          },
          "coloraxis": {
           "colorbar": {
            "outlinewidth": 0,
            "ticks": ""
           }
          },
          "colorscale": {
           "diverging": [
            [
             0,
             "#8e0152"
            ],
            [
             0.1,
             "#c51b7d"
            ],
            [
             0.2,
             "#de77ae"
            ],
            [
             0.3,
             "#f1b6da"
            ],
            [
             0.4,
             "#fde0ef"
            ],
            [
             0.5,
             "#f7f7f7"
            ],
            [
             0.6,
             "#e6f5d0"
            ],
            [
             0.7,
             "#b8e186"
            ],
            [
             0.8,
             "#7fbc41"
            ],
            [
             0.9,
             "#4d9221"
            ],
            [
             1,
             "#276419"
            ]
           ],
           "sequential": [
            [
             0,
             "#0d0887"
            ],
            [
             0.1111111111111111,
             "#46039f"
            ],
            [
             0.2222222222222222,
             "#7201a8"
            ],
            [
             0.3333333333333333,
             "#9c179e"
            ],
            [
             0.4444444444444444,
             "#bd3786"
            ],
            [
             0.5555555555555556,
             "#d8576b"
            ],
            [
             0.6666666666666666,
             "#ed7953"
            ],
            [
             0.7777777777777778,
             "#fb9f3a"
            ],
            [
             0.8888888888888888,
             "#fdca26"
            ],
            [
             1,
             "#f0f921"
            ]
           ],
           "sequentialminus": [
            [
             0,
             "#0d0887"
            ],
            [
             0.1111111111111111,
             "#46039f"
            ],
            [
             0.2222222222222222,
             "#7201a8"
            ],
            [
             0.3333333333333333,
             "#9c179e"
            ],
            [
             0.4444444444444444,
             "#bd3786"
            ],
            [
             0.5555555555555556,
             "#d8576b"
            ],
            [
             0.6666666666666666,
             "#ed7953"
            ],
            [
             0.7777777777777778,
             "#fb9f3a"
            ],
            [
             0.8888888888888888,
             "#fdca26"
            ],
            [
             1,
             "#f0f921"
            ]
           ]
          },
          "colorway": [
           "#636efa",
           "#EF553B",
           "#00cc96",
           "#ab63fa",
           "#FFA15A",
           "#19d3f3",
           "#FF6692",
           "#B6E880",
           "#FF97FF",
           "#FECB52"
          ],
          "font": {
           "color": "#2a3f5f"
          },
          "geo": {
           "bgcolor": "white",
           "lakecolor": "white",
           "landcolor": "#E5ECF6",
           "showlakes": true,
           "showland": true,
           "subunitcolor": "white"
          },
          "hoverlabel": {
           "align": "left"
          },
          "hovermode": "closest",
          "mapbox": {
           "style": "light"
          },
          "paper_bgcolor": "white",
          "plot_bgcolor": "#E5ECF6",
          "polar": {
           "angularaxis": {
            "gridcolor": "white",
            "linecolor": "white",
            "ticks": ""
           },
           "bgcolor": "#E5ECF6",
           "radialaxis": {
            "gridcolor": "white",
            "linecolor": "white",
            "ticks": ""
           }
          },
          "scene": {
           "xaxis": {
            "backgroundcolor": "#E5ECF6",
            "gridcolor": "white",
            "gridwidth": 2,
            "linecolor": "white",
            "showbackground": true,
            "ticks": "",
            "zerolinecolor": "white"
           },
           "yaxis": {
            "backgroundcolor": "#E5ECF6",
            "gridcolor": "white",
            "gridwidth": 2,
            "linecolor": "white",
            "showbackground": true,
            "ticks": "",
            "zerolinecolor": "white"
           },
           "zaxis": {
            "backgroundcolor": "#E5ECF6",
            "gridcolor": "white",
            "gridwidth": 2,
            "linecolor": "white",
            "showbackground": true,
            "ticks": "",
            "zerolinecolor": "white"
           }
          },
          "shapedefaults": {
           "line": {
            "color": "#2a3f5f"
           }
          },
          "ternary": {
           "aaxis": {
            "gridcolor": "white",
            "linecolor": "white",
            "ticks": ""
           },
           "baxis": {
            "gridcolor": "white",
            "linecolor": "white",
            "ticks": ""
           },
           "bgcolor": "#E5ECF6",
           "caxis": {
            "gridcolor": "white",
            "linecolor": "white",
            "ticks": ""
           }
          },
          "title": {
           "x": 0.05
          },
          "xaxis": {
           "automargin": true,
           "gridcolor": "white",
           "linecolor": "white",
           "ticks": "",
           "title": {
            "standoff": 15
           },
           "zerolinecolor": "white",
           "zerolinewidth": 2
          },
          "yaxis": {
           "automargin": true,
           "gridcolor": "white",
           "linecolor": "white",
           "ticks": "",
           "title": {
            "standoff": 15
           },
           "zerolinecolor": "white",
           "zerolinewidth": 2
          }
         }
        },
        "title": {
         "text": "Spread in China over time"
        },
        "updatemenus": [
         {
          "buttons": [
           {
            "args": [
             null,
             {
              "frame": {
               "duration": 500,
               "redraw": true
              },
              "fromcurrent": true,
              "mode": "immediate",
              "transition": {
               "duration": 500,
               "easing": "linear"
              }
             }
            ],
            "label": "&#9654;",
            "method": "animate"
           },
           {
            "args": [
             [
              null
             ],
             {
              "frame": {
               "duration": 0,
               "redraw": true
              },
              "fromcurrent": true,
              "mode": "immediate",
              "transition": {
               "duration": 0,
               "easing": "linear"
              }
             }
            ],
            "label": "&#9724;",
            "method": "animate"
           }
          ],
          "direction": "left",
          "pad": {
           "r": 10,
           "t": 70
          },
          "showactive": false,
          "type": "buttons",
          "x": 0.1,
          "xanchor": "right",
          "y": 0,
          "yanchor": "top"
         }
        ]
       }
      },
      "text/html": [
       "<div>\n",
       "        \n",
       "        \n",
       "            <div id=\"d172860c-5544-448c-a079-ca344e5d4bd7\" class=\"plotly-graph-div\" style=\"height:525px; width:100%;\"></div>\n",
       "            <script type=\"text/javascript\">\n",
       "                require([\"plotly\"], function(Plotly) {\n",
       "                    window.PLOTLYENV=window.PLOTLYENV || {};\n",
       "                    \n",
       "                if (document.getElementById(\"d172860c-5544-448c-a079-ca344e5d4bd7\")) {\n",
       "                    Plotly.newPlot(\n",
       "                        'd172860c-5544-448c-a079-ca344e5d4bd7',\n",
       "                        [{\"geo\": \"geo\", \"hoverlabel\": {\"namelength\": 0}, \"hovertemplate\": \"<b>%{hovertext}</b><br><br>date=01/22/2020<br>size=%{marker.color}<br>Lat=%{lat}<br>Long=%{lon}\", \"hovertext\": [\"Anhui\", \"Beijing\", \"Chongqing\", \"Fujian\", \"Guangdong\", \"Guangxi\", \"Guizhou\", \"Hainan\", \"Hebei\", \"Henan\", \"Hubei\", \"Hunan\", \"Jiangsu\", \"Jiangxi\", \"Liaoning\", \"Ningxia\", \"Shandong\", \"Shanghai\", \"Shanxi\", \"Sichuan\", \"Tianjin\", \"Yunnan\", \"Zhejiang\"], \"lat\": [31.8257, 40.1824, 30.0572, 26.0789, 23.3417, 23.8298, 26.8154, 19.1959, 38.0428, 33.882020000000004, 30.9756, 27.6104, 32.9711, 27.614, 41.2956, 37.2692, 36.3427, 31.201999999999998, 37.5777, 30.6171, 39.3054, 24.974, 29.1832], \"legendgroup\": \"\", \"lon\": [117.2264, 116.4142, 107.874, 117.9874, 113.4244, 108.7881, 106.8748, 109.7453, 114.5149, 113.61399999999999, 112.2707, 111.7088, 119.455, 115.7221, 122.6085, 106.1655, 118.1498, 121.4491, 112.2922, 102.7103, 117.323, 101.48700000000001, 120.0934], \"marker\": {\"color\": [1.0, 3.7416573867739413, 2.449489742783178, 1.0, 5.0990195135927845, 1.4142135623730951, 1.0, 2.0, 1.0, 2.23606797749979, 21.071307505705477, 2.0, 1.0, 1.4142135623730951, 1.4142135623730951, 1.0, 1.4142135623730951, 3.0, 1.0, 2.23606797749979, 2.0, 1.0, 3.1622776601683795], \"coloraxis\": \"coloraxis\", \"size\": [1.0, 3.7416573867739413, 2.449489742783178, 1.0, 5.0990195135927845, 1.4142135623730951, 1.0, 2.0, 1.0, 2.23606797749979, 21.071307505705477, 2.0, 1.0, 1.4142135623730951, 1.4142135623730951, 1.0, 1.4142135623730951, 3.0, 1.0, 2.23606797749979, 2.0, 1.0, 3.1622776601683795], \"sizemode\": \"area\", \"sizeref\": 0.30454884665682125}, \"name\": \"\", \"showlegend\": false, \"type\": \"scattergeo\"}],\n",
       "                        {\"coloraxis\": {\"colorbar\": {\"title\": {\"text\": \"size\"}}, \"colorscale\": [[0.0, \"#0d0887\"], [0.1111111111111111, \"#46039f\"], [0.2222222222222222, \"#7201a8\"], [0.3333333333333333, \"#9c179e\"], [0.4444444444444444, \"#bd3786\"], [0.5555555555555556, \"#d8576b\"], [0.6666666666666666, \"#ed7953\"], [0.7777777777777778, \"#fb9f3a\"], [0.8888888888888888, \"#fdca26\"], [1.0, \"#f0f921\"]], \"showscale\": true}, \"geo\": {\"center\": {}, \"domain\": {\"x\": [0.0, 1.0], \"y\": [0.0, 1.0]}, \"projection\": {\"type\": \"natural earth\"}, \"scope\": \"asia\"}, \"legend\": {\"itemsizing\": \"constant\", \"tracegroupgap\": 0}, \"sliders\": [{\"active\": 0, \"currentvalue\": {\"prefix\": \"date=\"}, \"len\": 0.9, \"pad\": {\"b\": 10, \"t\": 60}, \"steps\": [{\"args\": [[\"01/22/2020\"], {\"frame\": {\"duration\": 0, \"redraw\": true}, \"fromcurrent\": true, \"mode\": \"immediate\", \"transition\": {\"duration\": 0, \"easing\": \"linear\"}}], \"label\": \"01/22/2020\", \"method\": \"animate\"}, {\"args\": [[\"01/23/2020\"], {\"frame\": {\"duration\": 0, \"redraw\": true}, \"fromcurrent\": true, \"mode\": \"immediate\", \"transition\": {\"duration\": 0, \"easing\": \"linear\"}}], \"label\": \"01/23/2020\", \"method\": \"animate\"}, {\"args\": [[\"01/24/2020\"], {\"frame\": {\"duration\": 0, \"redraw\": true}, \"fromcurrent\": true, \"mode\": \"immediate\", \"transition\": {\"duration\": 0, \"easing\": \"linear\"}}], \"label\": \"01/24/2020\", \"method\": \"animate\"}, {\"args\": [[\"01/25/2020\"], {\"frame\": {\"duration\": 0, \"redraw\": true}, \"fromcurrent\": true, \"mode\": \"immediate\", \"transition\": {\"duration\": 0, \"easing\": \"linear\"}}], \"label\": \"01/25/2020\", \"method\": \"animate\"}, {\"args\": [[\"01/26/2020\"], {\"frame\": {\"duration\": 0, \"redraw\": true}, \"fromcurrent\": true, \"mode\": \"immediate\", \"transition\": {\"duration\": 0, \"easing\": \"linear\"}}], \"label\": \"01/26/2020\", \"method\": \"animate\"}, {\"args\": [[\"01/27/2020\"], {\"frame\": {\"duration\": 0, \"redraw\": true}, \"fromcurrent\": true, \"mode\": \"immediate\", \"transition\": {\"duration\": 0, \"easing\": \"linear\"}}], \"label\": \"01/27/2020\", \"method\": \"animate\"}, {\"args\": [[\"01/28/2020\"], {\"frame\": {\"duration\": 0, \"redraw\": true}, \"fromcurrent\": true, \"mode\": \"immediate\", \"transition\": {\"duration\": 0, \"easing\": \"linear\"}}], \"label\": \"01/28/2020\", \"method\": \"animate\"}, {\"args\": [[\"01/29/2020\"], {\"frame\": {\"duration\": 0, \"redraw\": true}, \"fromcurrent\": true, \"mode\": \"immediate\", \"transition\": {\"duration\": 0, \"easing\": \"linear\"}}], \"label\": \"01/29/2020\", \"method\": \"animate\"}, {\"args\": [[\"01/30/2020\"], {\"frame\": {\"duration\": 0, \"redraw\": true}, \"fromcurrent\": true, \"mode\": \"immediate\", \"transition\": {\"duration\": 0, \"easing\": \"linear\"}}], \"label\": \"01/30/2020\", \"method\": \"animate\"}, {\"args\": [[\"01/31/2020\"], {\"frame\": {\"duration\": 0, \"redraw\": true}, \"fromcurrent\": true, \"mode\": \"immediate\", \"transition\": {\"duration\": 0, \"easing\": \"linear\"}}], \"label\": \"01/31/2020\", \"method\": \"animate\"}, {\"args\": [[\"02/01/2020\"], {\"frame\": {\"duration\": 0, \"redraw\": true}, \"fromcurrent\": true, \"mode\": \"immediate\", \"transition\": {\"duration\": 0, \"easing\": \"linear\"}}], \"label\": \"02/01/2020\", \"method\": \"animate\"}, {\"args\": [[\"02/10/2020\"], {\"frame\": {\"duration\": 0, \"redraw\": true}, \"fromcurrent\": true, \"mode\": \"immediate\", \"transition\": {\"duration\": 0, \"easing\": \"linear\"}}], \"label\": \"02/10/2020\", \"method\": \"animate\"}, {\"args\": [[\"02/11/2020\"], {\"frame\": {\"duration\": 0, \"redraw\": true}, \"fromcurrent\": true, \"mode\": \"immediate\", \"transition\": {\"duration\": 0, \"easing\": \"linear\"}}], \"label\": \"02/11/2020\", \"method\": \"animate\"}, {\"args\": [[\"02/12/2020\"], {\"frame\": {\"duration\": 0, \"redraw\": true}, \"fromcurrent\": true, \"mode\": \"immediate\", \"transition\": {\"duration\": 0, \"easing\": \"linear\"}}], \"label\": \"02/12/2020\", \"method\": \"animate\"}, {\"args\": [[\"02/13/2020\"], {\"frame\": {\"duration\": 0, \"redraw\": true}, \"fromcurrent\": true, \"mode\": \"immediate\", \"transition\": {\"duration\": 0, \"easing\": \"linear\"}}], \"label\": \"02/13/2020\", \"method\": \"animate\"}, {\"args\": [[\"02/14/2020\"], {\"frame\": {\"duration\": 0, \"redraw\": true}, \"fromcurrent\": true, \"mode\": \"immediate\", \"transition\": {\"duration\": 0, \"easing\": \"linear\"}}], \"label\": \"02/14/2020\", \"method\": \"animate\"}, {\"args\": [[\"02/15/2020\"], {\"frame\": {\"duration\": 0, \"redraw\": true}, \"fromcurrent\": true, \"mode\": \"immediate\", \"transition\": {\"duration\": 0, \"easing\": \"linear\"}}], \"label\": \"02/15/2020\", \"method\": \"animate\"}, {\"args\": [[\"02/16/2020\"], {\"frame\": {\"duration\": 0, \"redraw\": true}, \"fromcurrent\": true, \"mode\": \"immediate\", \"transition\": {\"duration\": 0, \"easing\": \"linear\"}}], \"label\": \"02/16/2020\", \"method\": \"animate\"}, {\"args\": [[\"02/17/2020\"], {\"frame\": {\"duration\": 0, \"redraw\": true}, \"fromcurrent\": true, \"mode\": \"immediate\", \"transition\": {\"duration\": 0, \"easing\": \"linear\"}}], \"label\": \"02/17/2020\", \"method\": \"animate\"}, {\"args\": [[\"02/18/2020\"], {\"frame\": {\"duration\": 0, \"redraw\": true}, \"fromcurrent\": true, \"mode\": \"immediate\", \"transition\": {\"duration\": 0, \"easing\": \"linear\"}}], \"label\": \"02/18/2020\", \"method\": \"animate\"}, {\"args\": [[\"02/19/2020\"], {\"frame\": {\"duration\": 0, \"redraw\": true}, \"fromcurrent\": true, \"mode\": \"immediate\", \"transition\": {\"duration\": 0, \"easing\": \"linear\"}}], \"label\": \"02/19/2020\", \"method\": \"animate\"}, {\"args\": [[\"02/02/2020\"], {\"frame\": {\"duration\": 0, \"redraw\": true}, \"fromcurrent\": true, \"mode\": \"immediate\", \"transition\": {\"duration\": 0, \"easing\": \"linear\"}}], \"label\": \"02/02/2020\", \"method\": \"animate\"}, {\"args\": [[\"02/20/2020\"], {\"frame\": {\"duration\": 0, \"redraw\": true}, \"fromcurrent\": true, \"mode\": \"immediate\", \"transition\": {\"duration\": 0, \"easing\": \"linear\"}}], \"label\": \"02/20/2020\", \"method\": \"animate\"}, {\"args\": [[\"02/21/2020\"], {\"frame\": {\"duration\": 0, \"redraw\": true}, \"fromcurrent\": true, \"mode\": \"immediate\", \"transition\": {\"duration\": 0, \"easing\": \"linear\"}}], \"label\": \"02/21/2020\", \"method\": \"animate\"}, {\"args\": [[\"02/22/2020\"], {\"frame\": {\"duration\": 0, \"redraw\": true}, \"fromcurrent\": true, \"mode\": \"immediate\", \"transition\": {\"duration\": 0, \"easing\": \"linear\"}}], \"label\": \"02/22/2020\", \"method\": \"animate\"}, {\"args\": [[\"02/23/2020\"], {\"frame\": {\"duration\": 0, \"redraw\": true}, \"fromcurrent\": true, \"mode\": \"immediate\", \"transition\": {\"duration\": 0, \"easing\": \"linear\"}}], \"label\": \"02/23/2020\", \"method\": \"animate\"}, {\"args\": [[\"02/24/2020\"], {\"frame\": {\"duration\": 0, \"redraw\": true}, \"fromcurrent\": true, \"mode\": \"immediate\", \"transition\": {\"duration\": 0, \"easing\": \"linear\"}}], \"label\": \"02/24/2020\", \"method\": \"animate\"}, {\"args\": [[\"02/25/2020\"], {\"frame\": {\"duration\": 0, \"redraw\": true}, \"fromcurrent\": true, \"mode\": \"immediate\", \"transition\": {\"duration\": 0, \"easing\": \"linear\"}}], \"label\": \"02/25/2020\", \"method\": \"animate\"}, {\"args\": [[\"02/26/2020\"], {\"frame\": {\"duration\": 0, \"redraw\": true}, \"fromcurrent\": true, \"mode\": \"immediate\", \"transition\": {\"duration\": 0, \"easing\": \"linear\"}}], \"label\": \"02/26/2020\", \"method\": \"animate\"}, {\"args\": [[\"02/27/2020\"], {\"frame\": {\"duration\": 0, \"redraw\": true}, \"fromcurrent\": true, \"mode\": \"immediate\", \"transition\": {\"duration\": 0, \"easing\": \"linear\"}}], \"label\": \"02/27/2020\", \"method\": \"animate\"}, {\"args\": [[\"02/28/2020\"], {\"frame\": {\"duration\": 0, \"redraw\": true}, \"fromcurrent\": true, \"mode\": \"immediate\", \"transition\": {\"duration\": 0, \"easing\": \"linear\"}}], \"label\": \"02/28/2020\", \"method\": \"animate\"}, {\"args\": [[\"02/29/2020\"], {\"frame\": {\"duration\": 0, \"redraw\": true}, \"fromcurrent\": true, \"mode\": \"immediate\", \"transition\": {\"duration\": 0, \"easing\": \"linear\"}}], \"label\": \"02/29/2020\", \"method\": \"animate\"}, {\"args\": [[\"02/03/2020\"], {\"frame\": {\"duration\": 0, \"redraw\": true}, \"fromcurrent\": true, \"mode\": \"immediate\", \"transition\": {\"duration\": 0, \"easing\": \"linear\"}}], \"label\": \"02/03/2020\", \"method\": \"animate\"}, {\"args\": [[\"02/04/2020\"], {\"frame\": {\"duration\": 0, \"redraw\": true}, \"fromcurrent\": true, \"mode\": \"immediate\", \"transition\": {\"duration\": 0, \"easing\": \"linear\"}}], \"label\": \"02/04/2020\", \"method\": \"animate\"}, {\"args\": [[\"02/05/2020\"], {\"frame\": {\"duration\": 0, \"redraw\": true}, \"fromcurrent\": true, \"mode\": \"immediate\", \"transition\": {\"duration\": 0, \"easing\": \"linear\"}}], \"label\": \"02/05/2020\", \"method\": \"animate\"}, {\"args\": [[\"02/06/2020\"], {\"frame\": {\"duration\": 0, \"redraw\": true}, \"fromcurrent\": true, \"mode\": \"immediate\", \"transition\": {\"duration\": 0, \"easing\": \"linear\"}}], \"label\": \"02/06/2020\", \"method\": \"animate\"}, {\"args\": [[\"02/07/2020\"], {\"frame\": {\"duration\": 0, \"redraw\": true}, \"fromcurrent\": true, \"mode\": \"immediate\", \"transition\": {\"duration\": 0, \"easing\": \"linear\"}}], \"label\": \"02/07/2020\", \"method\": \"animate\"}, {\"args\": [[\"02/08/2020\"], {\"frame\": {\"duration\": 0, \"redraw\": true}, \"fromcurrent\": true, \"mode\": \"immediate\", \"transition\": {\"duration\": 0, \"easing\": \"linear\"}}], \"label\": \"02/08/2020\", \"method\": \"animate\"}, {\"args\": [[\"02/09/2020\"], {\"frame\": {\"duration\": 0, \"redraw\": true}, \"fromcurrent\": true, \"mode\": \"immediate\", \"transition\": {\"duration\": 0, \"easing\": \"linear\"}}], \"label\": \"02/09/2020\", \"method\": \"animate\"}, {\"args\": [[\"03/01/2020\"], {\"frame\": {\"duration\": 0, \"redraw\": true}, \"fromcurrent\": true, \"mode\": \"immediate\", \"transition\": {\"duration\": 0, \"easing\": \"linear\"}}], \"label\": \"03/01/2020\", \"method\": \"animate\"}, {\"args\": [[\"03/02/2020\"], {\"frame\": {\"duration\": 0, \"redraw\": true}, \"fromcurrent\": true, \"mode\": \"immediate\", \"transition\": {\"duration\": 0, \"easing\": \"linear\"}}], \"label\": \"03/02/2020\", \"method\": \"animate\"}, {\"args\": [[\"03/03/2020\"], {\"frame\": {\"duration\": 0, \"redraw\": true}, \"fromcurrent\": true, \"mode\": \"immediate\", \"transition\": {\"duration\": 0, \"easing\": \"linear\"}}], \"label\": \"03/03/2020\", \"method\": \"animate\"}, {\"args\": [[\"03/04/2020\"], {\"frame\": {\"duration\": 0, \"redraw\": true}, \"fromcurrent\": true, \"mode\": \"immediate\", \"transition\": {\"duration\": 0, \"easing\": \"linear\"}}], \"label\": \"03/04/2020\", \"method\": \"animate\"}, {\"args\": [[\"03/05/2020\"], {\"frame\": {\"duration\": 0, \"redraw\": true}, \"fromcurrent\": true, \"mode\": \"immediate\", \"transition\": {\"duration\": 0, \"easing\": \"linear\"}}], \"label\": \"03/05/2020\", \"method\": \"animate\"}, {\"args\": [[\"03/06/2020\"], {\"frame\": {\"duration\": 0, \"redraw\": true}, \"fromcurrent\": true, \"mode\": \"immediate\", \"transition\": {\"duration\": 0, \"easing\": \"linear\"}}], \"label\": \"03/06/2020\", \"method\": \"animate\"}, {\"args\": [[\"03/07/2020\"], {\"frame\": {\"duration\": 0, \"redraw\": true}, \"fromcurrent\": true, \"mode\": \"immediate\", \"transition\": {\"duration\": 0, \"easing\": \"linear\"}}], \"label\": \"03/07/2020\", \"method\": \"animate\"}, {\"args\": [[\"03/08/2020\"], {\"frame\": {\"duration\": 0, \"redraw\": true}, \"fromcurrent\": true, \"mode\": \"immediate\", \"transition\": {\"duration\": 0, \"easing\": \"linear\"}}], \"label\": \"03/08/2020\", \"method\": \"animate\"}, {\"args\": [[\"03/09/2020\"], {\"frame\": {\"duration\": 0, \"redraw\": true}, \"fromcurrent\": true, \"mode\": \"immediate\", \"transition\": {\"duration\": 0, \"easing\": \"linear\"}}], \"label\": \"03/09/2020\", \"method\": \"animate\"}], \"x\": 0.1, \"xanchor\": \"left\", \"y\": 0, \"yanchor\": \"top\"}], \"template\": {\"data\": {\"bar\": [{\"error_x\": {\"color\": \"#2a3f5f\"}, \"error_y\": {\"color\": \"#2a3f5f\"}, \"marker\": {\"line\": {\"color\": \"#E5ECF6\", \"width\": 0.5}}, \"type\": \"bar\"}], \"barpolar\": [{\"marker\": {\"line\": {\"color\": \"#E5ECF6\", \"width\": 0.5}}, \"type\": \"barpolar\"}], \"carpet\": [{\"aaxis\": {\"endlinecolor\": \"#2a3f5f\", \"gridcolor\": \"white\", \"linecolor\": \"white\", \"minorgridcolor\": \"white\", \"startlinecolor\": \"#2a3f5f\"}, \"baxis\": {\"endlinecolor\": \"#2a3f5f\", \"gridcolor\": \"white\", \"linecolor\": \"white\", \"minorgridcolor\": \"white\", \"startlinecolor\": \"#2a3f5f\"}, \"type\": \"carpet\"}], \"choropleth\": [{\"colorbar\": {\"outlinewidth\": 0, \"ticks\": \"\"}, \"type\": \"choropleth\"}], \"contour\": [{\"colorbar\": {\"outlinewidth\": 0, \"ticks\": \"\"}, \"colorscale\": [[0.0, \"#0d0887\"], [0.1111111111111111, \"#46039f\"], [0.2222222222222222, \"#7201a8\"], [0.3333333333333333, \"#9c179e\"], [0.4444444444444444, \"#bd3786\"], [0.5555555555555556, \"#d8576b\"], [0.6666666666666666, \"#ed7953\"], [0.7777777777777778, \"#fb9f3a\"], [0.8888888888888888, \"#fdca26\"], [1.0, \"#f0f921\"]], \"type\": \"contour\"}], \"contourcarpet\": [{\"colorbar\": {\"outlinewidth\": 0, \"ticks\": \"\"}, \"type\": \"contourcarpet\"}], \"heatmap\": [{\"colorbar\": {\"outlinewidth\": 0, \"ticks\": \"\"}, \"colorscale\": [[0.0, \"#0d0887\"], [0.1111111111111111, \"#46039f\"], [0.2222222222222222, \"#7201a8\"], [0.3333333333333333, \"#9c179e\"], [0.4444444444444444, \"#bd3786\"], [0.5555555555555556, \"#d8576b\"], [0.6666666666666666, \"#ed7953\"], [0.7777777777777778, \"#fb9f3a\"], [0.8888888888888888, \"#fdca26\"], [1.0, \"#f0f921\"]], \"type\": \"heatmap\"}], \"heatmapgl\": [{\"colorbar\": {\"outlinewidth\": 0, \"ticks\": \"\"}, \"colorscale\": [[0.0, \"#0d0887\"], [0.1111111111111111, \"#46039f\"], [0.2222222222222222, \"#7201a8\"], [0.3333333333333333, \"#9c179e\"], [0.4444444444444444, \"#bd3786\"], [0.5555555555555556, \"#d8576b\"], [0.6666666666666666, \"#ed7953\"], [0.7777777777777778, \"#fb9f3a\"], [0.8888888888888888, \"#fdca26\"], [1.0, \"#f0f921\"]], \"type\": \"heatmapgl\"}], \"histogram\": [{\"marker\": {\"colorbar\": {\"outlinewidth\": 0, \"ticks\": \"\"}}, \"type\": \"histogram\"}], \"histogram2d\": [{\"colorbar\": {\"outlinewidth\": 0, \"ticks\": \"\"}, \"colorscale\": [[0.0, \"#0d0887\"], [0.1111111111111111, \"#46039f\"], [0.2222222222222222, \"#7201a8\"], [0.3333333333333333, \"#9c179e\"], [0.4444444444444444, \"#bd3786\"], [0.5555555555555556, \"#d8576b\"], [0.6666666666666666, \"#ed7953\"], [0.7777777777777778, \"#fb9f3a\"], [0.8888888888888888, \"#fdca26\"], [1.0, \"#f0f921\"]], \"type\": \"histogram2d\"}], \"histogram2dcontour\": [{\"colorbar\": {\"outlinewidth\": 0, \"ticks\": \"\"}, \"colorscale\": [[0.0, \"#0d0887\"], [0.1111111111111111, \"#46039f\"], [0.2222222222222222, \"#7201a8\"], [0.3333333333333333, \"#9c179e\"], [0.4444444444444444, \"#bd3786\"], [0.5555555555555556, \"#d8576b\"], [0.6666666666666666, \"#ed7953\"], [0.7777777777777778, \"#fb9f3a\"], [0.8888888888888888, \"#fdca26\"], [1.0, \"#f0f921\"]], \"type\": \"histogram2dcontour\"}], \"mesh3d\": [{\"colorbar\": {\"outlinewidth\": 0, \"ticks\": \"\"}, \"type\": \"mesh3d\"}], \"parcoords\": [{\"line\": {\"colorbar\": {\"outlinewidth\": 0, \"ticks\": \"\"}}, \"type\": \"parcoords\"}], \"pie\": [{\"automargin\": true, \"type\": \"pie\"}], \"scatter\": [{\"marker\": {\"colorbar\": {\"outlinewidth\": 0, \"ticks\": \"\"}}, \"type\": \"scatter\"}], \"scatter3d\": [{\"line\": {\"colorbar\": {\"outlinewidth\": 0, \"ticks\": \"\"}}, \"marker\": {\"colorbar\": {\"outlinewidth\": 0, \"ticks\": \"\"}}, \"type\": \"scatter3d\"}], \"scattercarpet\": [{\"marker\": {\"colorbar\": {\"outlinewidth\": 0, \"ticks\": \"\"}}, \"type\": \"scattercarpet\"}], \"scattergeo\": [{\"marker\": {\"colorbar\": {\"outlinewidth\": 0, \"ticks\": \"\"}}, \"type\": \"scattergeo\"}], \"scattergl\": [{\"marker\": {\"colorbar\": {\"outlinewidth\": 0, \"ticks\": \"\"}}, \"type\": \"scattergl\"}], \"scattermapbox\": [{\"marker\": {\"colorbar\": {\"outlinewidth\": 0, \"ticks\": \"\"}}, \"type\": \"scattermapbox\"}], \"scatterpolar\": [{\"marker\": {\"colorbar\": {\"outlinewidth\": 0, \"ticks\": \"\"}}, \"type\": \"scatterpolar\"}], \"scatterpolargl\": [{\"marker\": {\"colorbar\": {\"outlinewidth\": 0, \"ticks\": \"\"}}, \"type\": \"scatterpolargl\"}], \"scatterternary\": [{\"marker\": {\"colorbar\": {\"outlinewidth\": 0, \"ticks\": \"\"}}, \"type\": \"scatterternary\"}], \"surface\": [{\"colorbar\": {\"outlinewidth\": 0, \"ticks\": \"\"}, \"colorscale\": [[0.0, \"#0d0887\"], [0.1111111111111111, \"#46039f\"], [0.2222222222222222, \"#7201a8\"], [0.3333333333333333, \"#9c179e\"], [0.4444444444444444, \"#bd3786\"], [0.5555555555555556, \"#d8576b\"], [0.6666666666666666, \"#ed7953\"], [0.7777777777777778, \"#fb9f3a\"], [0.8888888888888888, \"#fdca26\"], [1.0, \"#f0f921\"]], \"type\": \"surface\"}], \"table\": [{\"cells\": {\"fill\": {\"color\": \"#EBF0F8\"}, \"line\": {\"color\": \"white\"}}, \"header\": {\"fill\": {\"color\": \"#C8D4E3\"}, \"line\": {\"color\": \"white\"}}, \"type\": \"table\"}]}, \"layout\": {\"annotationdefaults\": {\"arrowcolor\": \"#2a3f5f\", \"arrowhead\": 0, \"arrowwidth\": 1}, \"coloraxis\": {\"colorbar\": {\"outlinewidth\": 0, \"ticks\": \"\"}}, \"colorscale\": {\"diverging\": [[0, \"#8e0152\"], [0.1, \"#c51b7d\"], [0.2, \"#de77ae\"], [0.3, \"#f1b6da\"], [0.4, \"#fde0ef\"], [0.5, \"#f7f7f7\"], [0.6, \"#e6f5d0\"], [0.7, \"#b8e186\"], [0.8, \"#7fbc41\"], [0.9, \"#4d9221\"], [1, \"#276419\"]], \"sequential\": [[0.0, \"#0d0887\"], [0.1111111111111111, \"#46039f\"], [0.2222222222222222, \"#7201a8\"], [0.3333333333333333, \"#9c179e\"], [0.4444444444444444, \"#bd3786\"], [0.5555555555555556, \"#d8576b\"], [0.6666666666666666, \"#ed7953\"], [0.7777777777777778, \"#fb9f3a\"], [0.8888888888888888, \"#fdca26\"], [1.0, \"#f0f921\"]], \"sequentialminus\": [[0.0, \"#0d0887\"], [0.1111111111111111, \"#46039f\"], [0.2222222222222222, \"#7201a8\"], [0.3333333333333333, \"#9c179e\"], [0.4444444444444444, \"#bd3786\"], [0.5555555555555556, \"#d8576b\"], [0.6666666666666666, \"#ed7953\"], [0.7777777777777778, \"#fb9f3a\"], [0.8888888888888888, \"#fdca26\"], [1.0, \"#f0f921\"]]}, \"colorway\": [\"#636efa\", \"#EF553B\", \"#00cc96\", \"#ab63fa\", \"#FFA15A\", \"#19d3f3\", \"#FF6692\", \"#B6E880\", \"#FF97FF\", \"#FECB52\"], \"font\": {\"color\": \"#2a3f5f\"}, \"geo\": {\"bgcolor\": \"white\", \"lakecolor\": \"white\", \"landcolor\": \"#E5ECF6\", \"showlakes\": true, \"showland\": true, \"subunitcolor\": \"white\"}, \"hoverlabel\": {\"align\": \"left\"}, \"hovermode\": \"closest\", \"mapbox\": {\"style\": \"light\"}, \"paper_bgcolor\": \"white\", \"plot_bgcolor\": \"#E5ECF6\", \"polar\": {\"angularaxis\": {\"gridcolor\": \"white\", \"linecolor\": \"white\", \"ticks\": \"\"}, \"bgcolor\": \"#E5ECF6\", \"radialaxis\": {\"gridcolor\": \"white\", \"linecolor\": \"white\", \"ticks\": \"\"}}, \"scene\": {\"xaxis\": {\"backgroundcolor\": \"#E5ECF6\", \"gridcolor\": \"white\", \"gridwidth\": 2, \"linecolor\": \"white\", \"showbackground\": true, \"ticks\": \"\", \"zerolinecolor\": \"white\"}, \"yaxis\": {\"backgroundcolor\": \"#E5ECF6\", \"gridcolor\": \"white\", \"gridwidth\": 2, \"linecolor\": \"white\", \"showbackground\": true, \"ticks\": \"\", \"zerolinecolor\": \"white\"}, \"zaxis\": {\"backgroundcolor\": \"#E5ECF6\", \"gridcolor\": \"white\", \"gridwidth\": 2, \"linecolor\": \"white\", \"showbackground\": true, \"ticks\": \"\", \"zerolinecolor\": \"white\"}}, \"shapedefaults\": {\"line\": {\"color\": \"#2a3f5f\"}}, \"ternary\": {\"aaxis\": {\"gridcolor\": \"white\", \"linecolor\": \"white\", \"ticks\": \"\"}, \"baxis\": {\"gridcolor\": \"white\", \"linecolor\": \"white\", \"ticks\": \"\"}, \"bgcolor\": \"#E5ECF6\", \"caxis\": {\"gridcolor\": \"white\", \"linecolor\": \"white\", \"ticks\": \"\"}}, \"title\": {\"x\": 0.05}, \"xaxis\": {\"automargin\": true, \"gridcolor\": \"white\", \"linecolor\": \"white\", \"ticks\": \"\", \"title\": {\"standoff\": 15}, \"zerolinecolor\": \"white\", \"zerolinewidth\": 2}, \"yaxis\": {\"automargin\": true, \"gridcolor\": \"white\", \"linecolor\": \"white\", \"ticks\": \"\", \"title\": {\"standoff\": 15}, \"zerolinecolor\": \"white\", \"zerolinewidth\": 2}}}, \"title\": {\"text\": \"Spread in China over time\"}, \"updatemenus\": [{\"buttons\": [{\"args\": [null, {\"frame\": {\"duration\": 500, \"redraw\": true}, \"fromcurrent\": true, \"mode\": \"immediate\", \"transition\": {\"duration\": 500, \"easing\": \"linear\"}}], \"label\": \"&#9654;\", \"method\": \"animate\"}, {\"args\": [[null], {\"frame\": {\"duration\": 0, \"redraw\": true}, \"fromcurrent\": true, \"mode\": \"immediate\", \"transition\": {\"duration\": 0, \"easing\": \"linear\"}}], \"label\": \"&#9724;\", \"method\": \"animate\"}], \"direction\": \"left\", \"pad\": {\"r\": 10, \"t\": 70}, \"showactive\": false, \"type\": \"buttons\", \"x\": 0.1, \"xanchor\": \"right\", \"y\": 0, \"yanchor\": \"top\"}]},\n",
       "                        {\"responsive\": true}\n",
       "                    ).then(function(){\n",
       "                            Plotly.addFrames('d172860c-5544-448c-a079-ca344e5d4bd7', [{\"data\": [{\"geo\": \"geo\", \"hoverlabel\": {\"namelength\": 0}, \"hovertemplate\": \"<b>%{hovertext}</b><br><br>date=01/22/2020<br>size=%{marker.color}<br>Lat=%{lat}<br>Long=%{lon}\", \"hovertext\": [\"Anhui\", \"Beijing\", \"Chongqing\", \"Fujian\", \"Guangdong\", \"Guangxi\", \"Guizhou\", \"Hainan\", \"Hebei\", \"Henan\", \"Hubei\", \"Hunan\", \"Jiangsu\", \"Jiangxi\", \"Liaoning\", \"Ningxia\", \"Shandong\", \"Shanghai\", \"Shanxi\", \"Sichuan\", \"Tianjin\", \"Yunnan\", \"Zhejiang\"], \"lat\": [31.8257, 40.1824, 30.0572, 26.0789, 23.3417, 23.8298, 26.8154, 19.1959, 38.0428, 33.882020000000004, 30.9756, 27.6104, 32.9711, 27.614, 41.2956, 37.2692, 36.3427, 31.201999999999998, 37.5777, 30.6171, 39.3054, 24.974, 29.1832], \"legendgroup\": \"\", \"lon\": [117.2264, 116.4142, 107.874, 117.9874, 113.4244, 108.7881, 106.8748, 109.7453, 114.5149, 113.61399999999999, 112.2707, 111.7088, 119.455, 115.7221, 122.6085, 106.1655, 118.1498, 121.4491, 112.2922, 102.7103, 117.323, 101.48700000000001, 120.0934], \"marker\": {\"color\": [1.0, 3.7416573867739413, 2.449489742783178, 1.0, 5.0990195135927845, 1.4142135623730951, 1.0, 2.0, 1.0, 2.23606797749979, 21.071307505705477, 2.0, 1.0, 1.4142135623730951, 1.4142135623730951, 1.0, 1.4142135623730951, 3.0, 1.0, 2.23606797749979, 2.0, 1.0, 3.1622776601683795], \"coloraxis\": \"coloraxis\", \"size\": [1.0, 3.7416573867739413, 2.449489742783178, 1.0, 5.0990195135927845, 1.4142135623730951, 1.0, 2.0, 1.0, 2.23606797749979, 21.071307505705477, 2.0, 1.0, 1.4142135623730951, 1.4142135623730951, 1.0, 1.4142135623730951, 3.0, 1.0, 2.23606797749979, 2.0, 1.0, 3.1622776601683795], \"sizemode\": \"area\", \"sizeref\": 0.30454884665682125}, \"name\": \"\", \"showlegend\": false, \"type\": \"scattergeo\"}], \"name\": \"01/22/2020\"}, {\"data\": [{\"geo\": \"geo\", \"hoverlabel\": {\"namelength\": 0}, \"hovertemplate\": \"<b>%{hovertext}</b><br><br>date=01/23/2020<br>size=%{marker.color}<br>Lat=%{lat}<br>Long=%{lon}\", \"hovertext\": [\"Anhui\", \"Beijing\", \"Chongqing\", \"Fujian\", \"Gansu\", \"Guangdong\", \"Guangxi\", \"Guizhou\", \"Hainan\", \"Heilongjiang\", \"Hunan\", \"Jiangsu\", \"Jiangxi\", \"Jilin\", \"Liaoning\", \"Shaanxi\", \"Shandong\", \"Shanghai\", \"Sichuan\", \"Xinjiang\", \"Yunnan\", \"Zhejiang\"], \"lat\": [31.8257, 40.1824, 30.0572, 26.0789, 36.0611, 23.3417, 23.8298, 26.8154, 19.1959, 47.861999999999995, 27.6104, 32.9711, 27.614, 43.6661, 41.2956, 35.1917, 36.3427, 31.201999999999998, 30.6171, 41.1129, 24.974, 29.1832], \"legendgroup\": \"\", \"lon\": [117.2264, 116.4142, 107.874, 117.9874, 103.8343, 113.4244, 108.7881, 106.8748, 109.7453, 127.7615, 111.7088, 119.455, 115.7221, 126.1923, 122.6085, 108.8701, 118.1498, 121.4491, 102.7103, 85.2401, 101.48700000000001, 120.0934], \"marker\": {\"color\": [2.8284271247461903, 2.8284271247461903, 1.7320508075688772, 2.0, 1.4142135623730951, 2.449489742783178, 1.7320508075688772, 1.4142135623730951, 1.0, 1.4142135623730951, 2.23606797749979, 2.0, 2.23606797749979, 1.0, 1.0, 1.7320508075688772, 2.0, 2.6457513110645907, 1.7320508075688772, 1.4142135623730951, 1.0, 4.123105625617661], \"coloraxis\": \"coloraxis\", \"size\": [2.8284271247461903, 2.8284271247461903, 1.7320508075688772, 2.0, 1.4142135623730951, 2.449489742783178, 1.7320508075688772, 1.4142135623730951, 1.0, 1.4142135623730951, 2.23606797749979, 2.0, 2.23606797749979, 1.0, 1.0, 1.7320508075688772, 2.0, 2.6457513110645907, 1.7320508075688772, 1.4142135623730951, 1.0, 4.123105625617661], \"sizemode\": \"area\", \"sizeref\": 0.30454884665682125}, \"name\": \"\", \"showlegend\": false, \"type\": \"scattergeo\"}], \"name\": \"01/23/2020\"}, {\"data\": [{\"geo\": \"geo\", \"hoverlabel\": {\"namelength\": 0}, \"hovertemplate\": \"<b>%{hovertext}</b><br><br>date=01/24/2020<br>size=%{marker.color}<br>Lat=%{lat}<br>Long=%{lon}\", \"hovertext\": [\"Anhui\", \"Beijing\", \"Chongqing\", \"Fujian\", \"Guangdong\", \"Guangxi\", \"Hainan\", \"Hebei\", \"Heilongjiang\", \"Henan\", \"Hubei\", \"Hunan\", \"Inner Mongolia\", \"Jiangsu\", \"Jiangxi\", \"Jilin\", \"Liaoning\", \"Ningxia\", \"Shaanxi\", \"Shandong\", \"Shanghai\", \"Sichuan\", \"Tianjin\", \"Yunnan\", \"Zhejiang\"], \"lat\": [31.8257, 40.1824, 30.0572, 26.0789, 23.3417, 23.8298, 19.1959, 38.0428, 47.861999999999995, 33.882020000000004, 30.9756, 27.6104, 44.0935, 32.9711, 27.614, 43.6661, 41.2956, 37.2692, 35.1917, 36.3427, 31.201999999999998, 30.6171, 39.3054, 24.974, 29.1832], \"legendgroup\": \"\", \"lon\": [117.2264, 116.4142, 107.874, 117.9874, 113.4244, 108.7881, 109.7453, 114.5149, 127.7615, 113.61399999999999, 112.2707, 111.7088, 113.9448, 119.455, 115.7221, 126.1923, 122.6085, 106.1655, 108.8701, 118.1498, 121.4491, 102.7103, 117.323, 101.48700000000001, 120.0934], \"marker\": {\"color\": [2.449489742783178, 3.7416573867739413, 4.242640687119285, 2.23606797749979, 4.58257569495584, 4.242640687119285, 1.7320508075688772, 1.0, 1.4142135623730951, 2.0, 10.246950765959598, 3.872983346207417, 1.0, 2.0, 3.3166247903554, 1.4142135623730951, 1.0, 1.0, 1.4142135623730951, 3.0, 2.0, 2.6457513110645907, 2.0, 1.7320508075688772, 4.0], \"coloraxis\": \"coloraxis\", \"size\": [2.449489742783178, 3.7416573867739413, 4.242640687119285, 2.23606797749979, 4.58257569495584, 4.242640687119285, 1.7320508075688772, 1.0, 1.4142135623730951, 2.0, 10.246950765959598, 3.872983346207417, 1.0, 2.0, 3.3166247903554, 1.4142135623730951, 1.0, 1.0, 1.4142135623730951, 3.0, 2.0, 2.6457513110645907, 2.0, 1.7320508075688772, 4.0], \"sizemode\": \"area\", \"sizeref\": 0.30454884665682125}, \"name\": \"\", \"showlegend\": false, \"type\": \"scattergeo\"}], \"name\": \"01/24/2020\"}, {\"data\": [{\"geo\": \"geo\", \"hoverlabel\": {\"namelength\": 0}, \"hovertemplate\": \"<b>%{hovertext}</b><br><br>date=01/25/2020<br>size=%{marker.color}<br>Lat=%{lat}<br>Long=%{lon}\", \"hovertext\": [\"Anhui\", \"Beijing\", \"Chongqing\", \"Fujian\", \"Gansu\", \"Guangdong\", \"Guizhou\", \"Hainan\", \"Hebei\", \"Heilongjiang\", \"Henan\", \"Hubei\", \"Hunan\", \"Inner Mongolia\", \"Jiangsu\", \"Jilin\", \"Liaoning\", \"Ningxia\", \"Qinghai\", \"Shaanxi\", \"Shandong\", \"Shanghai\", \"Shanxi\", \"Sichuan\", \"Tianjin\", \"Xinjiang\", \"Yunnan\", \"Zhejiang\"], \"lat\": [31.8257, 40.1824, 30.0572, 26.0789, 36.0611, 23.3417, 26.8154, 19.1959, 38.0428, 47.861999999999995, 33.882020000000004, 30.9756, 27.6104, 44.0935, 32.9711, 43.6661, 41.2956, 37.2692, 35.7452, 35.1917, 36.3427, 31.201999999999998, 37.5777, 30.6171, 39.3054, 41.1129, 24.974, 29.1832], \"legendgroup\": \"\", \"lon\": [117.2264, 116.4142, 107.874, 117.9874, 103.8343, 113.4244, 106.8748, 109.7453, 114.5149, 127.7615, 113.61399999999999, 112.2707, 111.7088, 113.9448, 119.455, 126.1923, 122.6085, 106.1655, 95.9956, 108.8701, 118.1498, 121.4491, 112.2922, 102.7103, 117.323, 85.2401, 101.48700000000001, 120.0934], \"marker\": {\"color\": [4.898979485566356, 2.23606797749979, 5.477225575051661, 2.8284271247461903, 1.4142135623730951, 5.0, 1.0, 3.3166247903554, 2.449489742783178, 2.23606797749979, 4.795831523312719, 14.560219778561036, 4.358898943540674, 2.449489742783178, 3.0, 1.0, 3.605551275463989, 1.0, 1.0, 3.1622776601683795, 3.4641016151377544, 3.605551275463989, 2.23606797749979, 3.605551275463989, 1.4142135623730951, 1.0, 2.449489742783178, 4.358898943540674], \"coloraxis\": \"coloraxis\", \"size\": [4.898979485566356, 2.23606797749979, 5.477225575051661, 2.8284271247461903, 1.4142135623730951, 5.0, 1.0, 3.3166247903554, 2.449489742783178, 2.23606797749979, 4.795831523312719, 14.560219778561036, 4.358898943540674, 2.449489742783178, 3.0, 1.0, 3.605551275463989, 1.0, 1.0, 3.1622776601683795, 3.4641016151377544, 3.605551275463989, 2.23606797749979, 3.605551275463989, 1.4142135623730951, 1.0, 2.449489742783178, 4.358898943540674], \"sizemode\": \"area\", \"sizeref\": 0.30454884665682125}, \"name\": \"\", \"showlegend\": false, \"type\": \"scattergeo\"}], \"name\": \"01/25/2020\"}, {\"data\": [{\"geo\": \"geo\", \"hoverlabel\": {\"namelength\": 0}, \"hovertemplate\": \"<b>%{hovertext}</b><br><br>date=01/26/2020<br>size=%{marker.color}<br>Lat=%{lat}<br>Long=%{lon}\", \"hovertext\": [\"Anhui\", \"Beijing\", \"Chongqing\", \"Fujian\", \"Gansu\", \"Guangdong\", \"Guangxi\", \"Guizhou\", \"Hainan\", \"Hebei\", \"Heilongjiang\", \"Henan\", \"Hubei\", \"Hunan\", \"Jiangsu\", \"Jiangxi\", \"Liaoning\", \"Ningxia\", \"Shaanxi\", \"Shandong\", \"Shanghai\", \"Shanxi\", \"Sichuan\", \"Tianjin\", \"Xinjiang\", \"Yunnan\", \"Zhejiang\"], \"lat\": [31.8257, 40.1824, 30.0572, 26.0789, 36.0611, 23.3417, 23.8298, 26.8154, 19.1959, 38.0428, 47.861999999999995, 33.882020000000004, 30.9756, 27.6104, 32.9711, 27.614, 41.2956, 37.2692, 35.1917, 36.3427, 31.201999999999998, 37.5777, 30.6171, 39.3054, 41.1129, 24.974, 29.1832], \"legendgroup\": \"\", \"lon\": [117.2264, 116.4142, 107.874, 117.9874, 103.8343, 113.4244, 108.7881, 106.8748, 109.7453, 114.5149, 127.7615, 113.61399999999999, 112.2707, 111.7088, 119.455, 115.7221, 122.6085, 106.1655, 108.8701, 118.1498, 121.4491, 112.2922, 102.7103, 117.323, 85.2401, 101.48700000000001, 120.0934], \"marker\": {\"color\": [4.58257569495584, 5.196152422706632, 4.242640687119285, 4.123105625617661, 1.7320508075688772, 5.744562646538029, 3.605551275463989, 1.0, 1.7320508075688772, 2.23606797749979, 2.449489742783178, 7.14142842854285, 17.233687939614086, 5.0990195135927845, 3.872983346207417, 4.242640687119285, 2.0, 1.0, 2.6457513110645907, 4.358898943540674, 2.6457513110645907, 1.7320508075688772, 4.0, 2.0, 1.0, 2.23606797749979, 6.48074069840786], \"coloraxis\": \"coloraxis\", \"size\": [4.58257569495584, 5.196152422706632, 4.242640687119285, 4.123105625617661, 1.7320508075688772, 5.744562646538029, 3.605551275463989, 1.0, 1.7320508075688772, 2.23606797749979, 2.449489742783178, 7.14142842854285, 17.233687939614086, 5.0990195135927845, 3.872983346207417, 4.242640687119285, 2.0, 1.0, 2.6457513110645907, 4.358898943540674, 2.6457513110645907, 1.7320508075688772, 4.0, 2.0, 1.0, 2.23606797749979, 6.48074069840786], \"sizemode\": \"area\", \"sizeref\": 0.30454884665682125}, \"name\": \"\", \"showlegend\": false, \"type\": \"scattergeo\"}], \"name\": \"01/26/2020\"}, {\"data\": [{\"geo\": \"geo\", \"hoverlabel\": {\"namelength\": 0}, \"hovertemplate\": \"<b>%{hovertext}</b><br><br>date=01/27/2020<br>size=%{marker.color}<br>Lat=%{lat}<br>Long=%{lon}\", \"hovertext\": [\"Anhui\", \"Beijing\", \"Chongqing\", \"Fujian\", \"Gansu\", \"Guangdong\", \"Guangxi\", \"Guizhou\", \"Hainan\", \"Hebei\", \"Heilongjiang\", \"Henan\", \"Hubei\", \"Hunan\", \"Inner Mongolia\", \"Jiangsu\", \"Jiangxi\", \"Jilin\", \"Liaoning\", \"Ningxia\", \"Qinghai\", \"Shaanxi\", \"Shandong\", \"Shanghai\", \"Shanxi\", \"Sichuan\", \"Tianjin\", \"Xinjiang\", \"Yunnan\", \"Zhejiang\"], \"lat\": [31.8257, 40.1824, 30.0572, 26.0789, 36.0611, 23.3417, 23.8298, 26.8154, 19.1959, 38.0428, 47.861999999999995, 33.882020000000004, 30.9756, 27.6104, 44.0935, 32.9711, 27.614, 43.6661, 41.2956, 37.2692, 35.7452, 35.1917, 36.3427, 31.201999999999998, 37.5777, 30.6171, 39.3054, 41.1129, 24.974, 29.1832], \"legendgroup\": \"\", \"lon\": [117.2264, 116.4142, 107.874, 117.9874, 103.8343, 113.4244, 108.7881, 106.8748, 109.7453, 114.5149, 127.7615, 113.61399999999999, 112.2707, 111.7088, 113.9448, 119.455, 115.7221, 126.1923, 122.6085, 106.1655, 95.9956, 108.8701, 118.1498, 121.4491, 112.2922, 102.7103, 117.323, 85.2401, 101.48700000000001, 120.0934], \"marker\": {\"color\": [3.1622776601683795, 3.4641016151377544, 5.916079783099616, 4.898979485566356, 2.6457513110645907, 6.324555320336759, 3.1622776601683795, 1.4142135623730951, 3.3166247903554, 2.23606797749979, 2.449489742783178, 6.708203932499369, 19.1049731745428, 5.5677643628300215, 2.0, 3.7416573867739413, 6.0, 1.4142135623730951, 2.449489742783178, 1.7320508075688772, 2.23606797749979, 3.605551275463989, 5.385164807134504, 3.605551275463989, 2.0, 5.0, 3.0, 1.0, 3.1622776601683795, 4.898979485566356], \"coloraxis\": \"coloraxis\", \"size\": [3.1622776601683795, 3.4641016151377544, 5.916079783099616, 4.898979485566356, 2.6457513110645907, 6.324555320336759, 3.1622776601683795, 1.4142135623730951, 3.3166247903554, 2.23606797749979, 2.449489742783178, 6.708203932499369, 19.1049731745428, 5.5677643628300215, 2.0, 3.7416573867739413, 6.0, 1.4142135623730951, 2.449489742783178, 1.7320508075688772, 2.23606797749979, 3.605551275463989, 5.385164807134504, 3.605551275463989, 2.0, 5.0, 3.0, 1.0, 3.1622776601683795, 4.898979485566356], \"sizemode\": \"area\", \"sizeref\": 0.30454884665682125}, \"name\": \"\", \"showlegend\": false, \"type\": \"scattergeo\"}], \"name\": \"01/27/2020\"}, {\"data\": [{\"geo\": \"geo\", \"hoverlabel\": {\"namelength\": 0}, \"hovertemplate\": \"<b>%{hovertext}</b><br><br>date=01/28/2020<br>size=%{marker.color}<br>Lat=%{lat}<br>Long=%{lon}\", \"hovertext\": [\"Anhui\", \"Beijing\", \"Chongqing\", \"Fujian\", \"Gansu\", \"Guangdong\", \"Guangxi\", \"Guizhou\", \"Hainan\", \"Hebei\", \"Heilongjiang\", \"Henan\", \"Hubei\", \"Hunan\", \"Inner Mongolia\", \"Jiangsu\", \"Jiangxi\", \"Jilin\", \"Liaoning\", \"Ningxia\", \"Shaanxi\", \"Shandong\", \"Shanghai\", \"Shanxi\", \"Sichuan\", \"Tianjin\", \"Xinjiang\", \"Yunnan\", \"Zhejiang\"], \"lat\": [31.8257, 40.1824, 30.0572, 26.0789, 36.0611, 23.3417, 23.8298, 26.8154, 19.1959, 38.0428, 47.861999999999995, 33.882020000000004, 30.9756, 27.6104, 44.0935, 32.9711, 27.614, 43.6661, 41.2956, 37.2692, 35.1917, 36.3427, 31.201999999999998, 37.5777, 30.6171, 39.3054, 41.1129, 24.974, 29.1832], \"legendgroup\": \"\", \"lon\": [117.2264, 116.4142, 107.874, 117.9874, 103.8343, 113.4244, 108.7881, 106.8748, 109.7453, 114.5149, 127.7615, 113.61399999999999, 112.2707, 111.7088, 113.9448, 119.455, 115.7221, 126.1923, 122.6085, 106.1655, 108.8701, 118.1498, 121.4491, 112.2922, 102.7103, 117.323, 85.2401, 101.48700000000001, 120.0934], \"marker\": {\"color\": [6.0, 3.3166247903554, 4.69041575982343, 4.58257569495584, 2.23606797749979, 7.483314773547883, 2.23606797749979, 1.4142135623730951, 2.6457513110645907, 3.872983346207417, 3.4641016151377544, 6.324555320336759, 46.16275555033516, 6.557438524302, 2.0, 4.795831523312719, 6.082762530298219, 1.4142135623730951, 2.6457513110645907, 2.0, 3.3166247903554, 4.47213595499958, 3.605551275463989, 3.7416573867739413, 4.58257569495584, 1.0, 2.23606797749979, 4.242640687119285, 6.708203932499369], \"coloraxis\": \"coloraxis\", \"size\": [6.0, 3.3166247903554, 4.69041575982343, 4.58257569495584, 2.23606797749979, 7.483314773547883, 2.23606797749979, 1.4142135623730951, 2.6457513110645907, 3.872983346207417, 3.4641016151377544, 6.324555320336759, 46.16275555033516, 6.557438524302, 2.0, 4.795831523312719, 6.082762530298219, 1.4142135623730951, 2.6457513110645907, 2.0, 3.3166247903554, 4.47213595499958, 3.605551275463989, 3.7416573867739413, 4.58257569495584, 1.0, 2.23606797749979, 4.242640687119285, 6.708203932499369], \"sizemode\": \"area\", \"sizeref\": 0.30454884665682125}, \"name\": \"\", \"showlegend\": false, \"type\": \"scattergeo\"}], \"name\": \"01/28/2020\"}, {\"data\": [{\"geo\": \"geo\", \"hoverlabel\": {\"namelength\": 0}, \"hovertemplate\": \"<b>%{hovertext}</b><br><br>date=01/29/2020<br>size=%{marker.color}<br>Lat=%{lat}<br>Long=%{lon}\", \"hovertext\": [\"Anhui\", \"Beijing\", \"Chongqing\", \"Fujian\", \"Gansu\", \"Guangdong\", \"Guangxi\", \"Hainan\", \"Hebei\", \"Heilongjiang\", \"Henan\", \"Hunan\", \"Inner Mongolia\", \"Jiangsu\", \"Jilin\", \"Liaoning\", \"Ningxia\", \"Shaanxi\", \"Shandong\", \"Shanghai\", \"Sichuan\", \"Tianjin\", \"Xinjiang\", \"Yunnan\", \"Zhejiang\"], \"lat\": [31.8257, 40.1824, 30.0572, 26.0789, 36.0611, 23.3417, 23.8298, 19.1959, 38.0428, 47.861999999999995, 33.882020000000004, 27.6104, 44.0935, 32.9711, 43.6661, 41.2956, 37.2692, 35.1917, 36.3427, 31.201999999999998, 30.6171, 39.3054, 41.1129, 24.974, 29.1832], \"legendgroup\": \"\", \"lon\": [117.2264, 116.4142, 107.874, 117.9874, 103.8343, 113.4244, 108.7881, 109.7453, 114.5149, 127.7615, 113.61399999999999, 111.7088, 113.9448, 119.455, 126.1923, 122.6085, 106.1655, 108.8701, 118.1498, 121.4491, 102.7103, 117.323, 85.2401, 101.48700000000001, 120.0934], \"marker\": {\"color\": [6.782329983125268, 4.47213595499958, 3.872983346207417, 2.0, 2.23606797749979, 8.366600265340756, 2.6457513110645907, 1.7320508075688772, 3.872983346207417, 2.23606797749979, 6.164414002968976, 8.831760866327848, 1.0, 5.385164807134504, 1.0, 2.23606797749979, 1.0, 3.1622776601683795, 5.916079783099616, 5.477225575051661, 4.242640687119285, 1.7320508075688772, 1.7320508075688772, 3.3166247903554, 11.090536506409418], \"coloraxis\": \"coloraxis\", \"size\": [6.782329983125268, 4.47213595499958, 3.872983346207417, 2.0, 2.23606797749979, 8.366600265340756, 2.6457513110645907, 1.7320508075688772, 3.872983346207417, 2.23606797749979, 6.164414002968976, 8.831760866327848, 1.0, 5.385164807134504, 1.0, 2.23606797749979, 1.0, 3.1622776601683795, 5.916079783099616, 5.477225575051661, 4.242640687119285, 1.7320508075688772, 1.7320508075688772, 3.3166247903554, 11.090536506409418], \"sizemode\": \"area\", \"sizeref\": 0.30454884665682125}, \"name\": \"\", \"showlegend\": false, \"type\": \"scattergeo\"}], \"name\": \"01/29/2020\"}, {\"data\": [{\"geo\": \"geo\", \"hoverlabel\": {\"namelength\": 0}, \"hovertemplate\": \"<b>%{hovertext}</b><br><br>date=01/30/2020<br>size=%{marker.color}<br>Lat=%{lat}<br>Long=%{lon}\", \"hovertext\": [\"Anhui\", \"Beijing\", \"Chongqing\", \"Fujian\", \"Gansu\", \"Guangdong\", \"Guangxi\", \"Guizhou\", \"Hainan\", \"Hebei\", \"Heilongjiang\", \"Henan\", \"Hubei\", \"Hunan\", \"Inner Mongolia\", \"Jiangsu\", \"Jiangxi\", \"Jilin\", \"Liaoning\", \"Ningxia\", \"Qinghai\", \"Shaanxi\", \"Shandong\", \"Shanghai\", \"Shanxi\", \"Sichuan\", \"Tianjin\", \"Tibet\", \"Xinjiang\", \"Yunnan\", \"Zhejiang\"], \"lat\": [31.8257, 40.1824, 30.0572, 26.0789, 36.0611, 23.3417, 23.8298, 26.8154, 19.1959, 38.0428, 47.861999999999995, 33.882020000000004, 30.9756, 27.6104, 44.0935, 32.9711, 27.614, 43.6661, 41.2956, 37.2692, 35.7452, 35.1917, 36.3427, 31.201999999999998, 37.5777, 30.6171, 39.3054, 31.6927, 41.1129, 24.974, 29.1832], \"legendgroup\": \"\", \"lon\": [117.2264, 116.4142, 107.874, 117.9874, 103.8343, 113.4244, 108.7881, 106.8748, 109.7453, 114.5149, 127.7615, 113.61399999999999, 112.2707, 111.7088, 113.9448, 119.455, 115.7221, 126.1923, 122.6085, 106.1655, 95.9956, 108.8701, 118.1498, 121.4491, 112.2922, 102.7103, 117.323, 88.0924, 85.2401, 101.48700000000001, 120.0934], \"marker\": {\"color\": [6.928203230275509, 1.7320508075688772, 5.916079783099616, 4.123105625617661, 1.4142135623730951, 8.774964387392123, 4.47213595499958, 1.7320508075688772, 1.7320508075688772, 4.123105625617661, 2.449489742783178, 8.48528137423857, 36.72873534441391, 7.483314773547883, 1.7320508075688772, 5.477225575051661, 7.280109889280518, 2.23606797749979, 1.4142135623730951, 2.23606797749979, 1.4142135623730951, 2.6457513110645907, 5.291502622129181, 4.0, 2.8284271247461903, 5.830951894845301, 2.0, 1.0, 1.0, 3.872983346207417, 11.489125293076057], \"coloraxis\": \"coloraxis\", \"size\": [6.928203230275509, 1.7320508075688772, 5.916079783099616, 4.123105625617661, 1.4142135623730951, 8.774964387392123, 4.47213595499958, 1.7320508075688772, 1.7320508075688772, 4.123105625617661, 2.449489742783178, 8.48528137423857, 36.72873534441391, 7.483314773547883, 1.7320508075688772, 5.477225575051661, 7.280109889280518, 2.23606797749979, 1.4142135623730951, 2.23606797749979, 1.4142135623730951, 2.6457513110645907, 5.291502622129181, 4.0, 2.8284271247461903, 5.830951894845301, 2.0, 1.0, 1.0, 3.872983346207417, 11.489125293076057], \"sizemode\": \"area\", \"sizeref\": 0.30454884665682125}, \"name\": \"\", \"showlegend\": false, \"type\": \"scattergeo\"}], \"name\": \"01/30/2020\"}, {\"data\": [{\"geo\": \"geo\", \"hoverlabel\": {\"namelength\": 0}, \"hovertemplate\": \"<b>%{hovertext}</b><br><br>date=01/31/2020<br>size=%{marker.color}<br>Lat=%{lat}<br>Long=%{lon}\", \"hovertext\": [\"Anhui\", \"Beijing\", \"Chongqing\", \"Fujian\", \"Gansu\", \"Guangdong\", \"Guangxi\", \"Guizhou\", \"Hainan\", \"Hebei\", \"Heilongjiang\", \"Henan\", \"Hubei\", \"Hunan\", \"Inner Mongolia\", \"Jiangsu\", \"Jiangxi\", \"Liaoning\", \"Ningxia\", \"Shaanxi\", \"Shandong\", \"Shanghai\", \"Shanxi\", \"Sichuan\", \"Tianjin\", \"Xinjiang\", \"Yunnan\", \"Zhejiang\"], \"lat\": [31.8257, 40.1824, 30.0572, 26.0789, 36.0611, 23.3417, 23.8298, 26.8154, 19.1959, 38.0428, 47.861999999999995, 33.882020000000004, 30.9756, 27.6104, 44.0935, 32.9711, 27.614, 41.2956, 37.2692, 35.1917, 36.3427, 31.201999999999998, 37.5777, 30.6171, 39.3054, 41.1129, 24.974, 29.1832], \"legendgroup\": \"\", \"lon\": [117.2264, 116.4142, 107.874, 117.9874, 103.8343, 113.4244, 108.7881, 106.8748, 109.7453, 114.5149, 127.7615, 113.61399999999999, 112.2707, 111.7088, 113.9448, 119.455, 115.7221, 122.6085, 106.1655, 108.8701, 118.1498, 121.4491, 112.2922, 102.7103, 117.323, 85.2401, 101.48700000000001, 120.0934], \"marker\": {\"color\": [6.082762530298219, 5.0, 5.385164807134504, 4.358898943540674, 1.7320508075688772, 9.055385138137417, 3.0, 4.123105625617661, 2.449489742783178, 4.123105625617661, 3.872983346207417, 8.602325267042627, 30.04995840263344, 7.416198487095663, 1.0, 6.244997998398398, 8.831760866327848, 2.6457513110645907, 2.0, 4.898979485566356, 5.0990195135927845, 4.795831523312719, 2.0, 5.916079783099616, 1.0, 1.7320508075688772, 3.605551275463989, 10.488088481701515], \"coloraxis\": \"coloraxis\", \"size\": [6.082762530298219, 5.0, 5.385164807134504, 4.358898943540674, 1.7320508075688772, 9.055385138137417, 3.0, 4.123105625617661, 2.449489742783178, 4.123105625617661, 3.872983346207417, 8.602325267042627, 30.04995840263344, 7.416198487095663, 1.0, 6.244997998398398, 8.831760866327848, 2.6457513110645907, 2.0, 4.898979485566356, 5.0990195135927845, 4.795831523312719, 2.0, 5.916079783099616, 1.0, 1.7320508075688772, 3.605551275463989, 10.488088481701515], \"sizemode\": \"area\", \"sizeref\": 0.30454884665682125}, \"name\": \"\", \"showlegend\": false, \"type\": \"scattergeo\"}], \"name\": \"01/31/2020\"}, {\"data\": [{\"geo\": \"geo\", \"hoverlabel\": {\"namelength\": 0}, \"hovertemplate\": \"<b>%{hovertext}</b><br><br>date=02/01/2020<br>size=%{marker.color}<br>Lat=%{lat}<br>Long=%{lon}\", \"hovertext\": [\"Anhui\", \"Beijing\", \"Chongqing\", \"Fujian\", \"Gansu\", \"Guangdong\", \"Guangxi\", \"Hainan\", \"Hebei\", \"Heilongjiang\", \"Henan\", \"Hubei\", \"Hunan\", \"Inner Mongolia\", \"Jiangsu\", \"Jiangxi\", \"Jilin\", \"Liaoning\", \"Ningxia\", \"Qinghai\", \"Shaanxi\", \"Shandong\", \"Shanghai\", \"Shanxi\", \"Sichuan\", \"Tianjin\", \"Xinjiang\", \"Yunnan\", \"Zhejiang\"], \"lat\": [31.8257, 40.1824, 30.0572, 26.0789, 36.0611, 23.3417, 23.8298, 19.1959, 38.0428, 47.861999999999995, 33.882020000000004, 30.9756, 27.6104, 44.0935, 32.9711, 27.614, 43.6661, 41.2956, 37.2692, 35.7452, 35.1917, 36.3427, 31.201999999999998, 37.5777, 30.6171, 39.3054, 41.1129, 24.974, 29.1832], \"legendgroup\": \"\", \"lon\": [117.2264, 116.4142, 107.874, 117.9874, 103.8343, 113.4244, 108.7881, 109.7453, 114.5149, 127.7615, 113.61399999999999, 112.2707, 111.7088, 113.9448, 119.455, 115.7221, 126.1923, 122.6085, 106.1655, 95.9956, 108.8701, 118.1498, 121.4491, 112.2922, 102.7103, 117.323, 85.2401, 101.48700000000001, 120.0934], \"marker\": {\"color\": [7.745966692414834, 5.385164807134504, 6.0, 4.898979485566356, 3.3166247903554, 9.9498743710662, 3.605551275463989, 3.1622776601683795, 3.7416573867739413, 4.58257569495584, 8.366600265340756, 36.701498607005135, 7.54983443527075, 1.7320508075688772, 5.830951894845301, 6.782329983125268, 1.7320508075688772, 4.0, 2.23606797749979, 1.0, 3.7416573867739413, 4.69041575982343, 5.830951894845301, 2.8284271247461903, 5.477225575051661, 3.0, 1.0, 3.1622776601683795, 7.810249675906654], \"coloraxis\": \"coloraxis\", \"size\": [7.745966692414834, 5.385164807134504, 6.0, 4.898979485566356, 3.3166247903554, 9.9498743710662, 3.605551275463989, 3.1622776601683795, 3.7416573867739413, 4.58257569495584, 8.366600265340756, 36.701498607005135, 7.54983443527075, 1.7320508075688772, 5.830951894845301, 6.782329983125268, 1.7320508075688772, 4.0, 2.23606797749979, 1.0, 3.7416573867739413, 4.69041575982343, 5.830951894845301, 2.8284271247461903, 5.477225575051661, 3.0, 1.0, 3.1622776601683795, 7.810249675906654], \"sizemode\": \"area\", \"sizeref\": 0.30454884665682125}, \"name\": \"\", \"showlegend\": false, \"type\": \"scattergeo\"}], \"name\": \"02/01/2020\"}, {\"data\": [{\"geo\": \"geo\", \"hoverlabel\": {\"namelength\": 0}, \"hovertemplate\": \"<b>%{hovertext}</b><br><br>date=02/10/2020<br>size=%{marker.color}<br>Lat=%{lat}<br>Long=%{lon}\", \"hovertext\": [\"Anhui\", \"Beijing\", \"Chongqing\", \"Fujian\", \"Guangdong\", \"Guangxi\", \"Guizhou\", \"Hainan\", \"Hebei\", \"Heilongjiang\", \"Henan\", \"Hubei\", \"Hunan\", \"Inner Mongolia\", \"Jiangsu\", \"Jiangxi\", \"Jilin\", \"Liaoning\", \"Ningxia\", \"Shaanxi\", \"Shandong\", \"Shanghai\", \"Sichuan\", \"Tianjin\", \"Xinjiang\", \"Yunnan\", \"Zhejiang\"], \"lat\": [31.8257, 40.1824, 30.0572, 26.0789, 23.3417, 23.8298, 26.8154, 19.1959, 38.0428, 47.861999999999995, 33.882020000000004, 30.9756, 27.6104, 44.0935, 32.9711, 27.614, 43.6661, 41.2956, 37.2692, 35.1917, 36.3427, 31.201999999999998, 30.6171, 39.3054, 41.1129, 24.974, 29.1832], \"legendgroup\": \"\", \"lon\": [117.2264, 116.4142, 107.874, 117.9874, 113.4244, 108.7881, 106.8748, 109.7453, 114.5149, 127.7615, 113.61399999999999, 112.2707, 111.7088, 113.9448, 119.455, 115.7221, 126.1923, 122.6085, 106.1655, 108.8701, 118.1498, 121.4491, 102.7103, 117.323, 85.2401, 101.48700000000001, 120.0934], \"marker\": {\"color\": [7.14142842854285, 3.3166247903554, 4.242640687119285, 3.3166247903554, 5.291502622129181, 3.872983346207417, 3.1622776601683795, 2.6457513110645907, 3.4641016151377544, 4.898979485566356, 6.324555320336759, 45.79301256742124, 6.4031242374328485, 2.0, 4.898979485566356, 5.5677643628300215, 1.4142135623730951, 1.0, 2.0, 2.23606797749979, 4.69041575982343, 2.449489742783178, 4.358898943540674, 2.0, 2.0, 2.8284271247461903, 4.123105625617661], \"coloraxis\": \"coloraxis\", \"size\": [7.14142842854285, 3.3166247903554, 4.242640687119285, 3.3166247903554, 5.291502622129181, 3.872983346207417, 3.1622776601683795, 2.6457513110645907, 3.4641016151377544, 4.898979485566356, 6.324555320336759, 45.79301256742124, 6.4031242374328485, 2.0, 4.898979485566356, 5.5677643628300215, 1.4142135623730951, 1.0, 2.0, 2.23606797749979, 4.69041575982343, 2.449489742783178, 4.358898943540674, 2.0, 2.0, 2.8284271247461903, 4.123105625617661], \"sizemode\": \"area\", \"sizeref\": 0.30454884665682125}, \"name\": \"\", \"showlegend\": false, \"type\": \"scattergeo\"}], \"name\": \"02/10/2020\"}, {\"data\": [{\"geo\": \"geo\", \"hoverlabel\": {\"namelength\": 0}, \"hovertemplate\": \"<b>%{hovertext}</b><br><br>date=02/11/2020<br>size=%{marker.color}<br>Lat=%{lat}<br>Long=%{lon}\", \"hovertext\": [\"Anhui\", \"Beijing\", \"Chongqing\", \"Fujian\", \"Gansu\", \"Guangdong\", \"Guangxi\", \"Guizhou\", \"Hainan\", \"Hebei\", \"Heilongjiang\", \"Henan\", \"Hubei\", \"Hunan\", \"Jiangsu\", \"Jiangxi\", \"Jilin\", \"Liaoning\", \"Ningxia\", \"Shaanxi\", \"Shandong\", \"Shanghai\", \"Shanxi\", \"Sichuan\", \"Tianjin\", \"Xinjiang\", \"Yunnan\", \"Zhejiang\"], \"lat\": [31.8257, 40.1824, 30.0572, 26.0789, 36.0611, 23.3417, 23.8298, 26.8154, 19.1959, 38.0428, 47.861999999999995, 33.882020000000004, 30.9756, 27.6104, 32.9711, 27.614, 43.6661, 41.2956, 37.2692, 35.1917, 36.3427, 31.201999999999998, 37.5777, 30.6171, 39.3054, 41.1129, 24.974, 29.1832], \"legendgroup\": \"\", \"lon\": [117.2264, 116.4142, 107.874, 117.9874, 103.8343, 113.4244, 108.7881, 106.8748, 109.7453, 114.5149, 127.7615, 113.61399999999999, 112.2707, 111.7088, 119.455, 115.7221, 126.1923, 122.6085, 106.1655, 108.8701, 118.1498, 121.4491, 112.2922, 102.7103, 117.323, 85.2401, 101.48700000000001, 120.0934], \"marker\": {\"color\": [5.477225575051661, 2.23606797749979, 4.358898943540674, 2.449489742783178, 1.7320508075688772, 4.242640687119285, 2.23606797749979, 4.242640687119285, 2.449489742783178, 4.58257569495584, 5.385164807134504, 5.656854249492381, 40.47221268969612, 5.744562646538029, 4.795831523312719, 5.744562646538029, 1.0, 1.7320508075688772, 2.0, 2.449489742783178, 4.58257569495584, 2.0, 2.23606797749979, 3.4641016151377544, 3.3166247903554, 2.449489742783178, 2.0, 5.0], \"coloraxis\": \"coloraxis\", \"size\": [5.477225575051661, 2.23606797749979, 4.358898943540674, 2.449489742783178, 1.7320508075688772, 4.242640687119285, 2.23606797749979, 4.242640687119285, 2.449489742783178, 4.58257569495584, 5.385164807134504, 5.656854249492381, 40.47221268969612, 5.744562646538029, 4.795831523312719, 5.744562646538029, 1.0, 1.7320508075688772, 2.0, 2.449489742783178, 4.58257569495584, 2.0, 2.23606797749979, 3.4641016151377544, 3.3166247903554, 2.449489742783178, 2.0, 5.0], \"sizemode\": \"area\", \"sizeref\": 0.30454884665682125}, \"name\": \"\", \"showlegend\": false, \"type\": \"scattergeo\"}], \"name\": \"02/11/2020\"}, {\"data\": [{\"geo\": \"geo\", \"hoverlabel\": {\"namelength\": 0}, \"hovertemplate\": \"<b>%{hovertext}</b><br><br>date=02/12/2020<br>size=%{marker.color}<br>Lat=%{lat}<br>Long=%{lon}\", \"hovertext\": [\"Anhui\", \"Beijing\", \"Chongqing\", \"Fujian\", \"Gansu\", \"Guangdong\", \"Guangxi\", \"Guizhou\", \"Hainan\", \"Hebei\", \"Heilongjiang\", \"Henan\", \"Hunan\", \"Inner Mongolia\", \"Jiangsu\", \"Jiangxi\", \"Jilin\", \"Liaoning\", \"Ningxia\", \"Shaanxi\", \"Shandong\", \"Shanghai\", \"Shanxi\", \"Sichuan\", \"Tianjin\", \"Xinjiang\", \"Yunnan\", \"Zhejiang\"], \"lat\": [31.8257, 40.1824, 30.0572, 26.0789, 36.0611, 23.3417, 23.8298, 26.8154, 19.1959, 38.0428, 47.861999999999995, 33.882020000000004, 27.6104, 44.0935, 32.9711, 27.614, 43.6661, 41.2956, 37.2692, 35.1917, 36.3427, 31.201999999999998, 37.5777, 30.6171, 39.3054, 41.1129, 24.974, 29.1832], \"legendgroup\": \"\", \"lon\": [117.2264, 116.4142, 107.874, 117.9874, 103.8343, 113.4244, 108.7881, 106.8748, 109.7453, 114.5149, 127.7615, 113.61399999999999, 111.7088, 113.9448, 119.455, 115.7221, 126.1923, 122.6085, 106.1655, 108.8701, 118.1498, 121.4491, 112.2922, 102.7103, 117.323, 85.2401, 101.48700000000001, 120.0934], \"marker\": {\"color\": [5.385164807134504, 3.1622776601683795, 3.605551275463989, 2.23606797749979, 1.0, 6.48074069840786, 2.6457513110645907, 2.449489742783178, 3.605551275463989, 3.4641016151377544, 4.242640687119285, 5.477225575051661, 5.830951894845301, 1.4142135623730951, 5.291502622129181, 6.324555320336759, 1.4142135623730951, 2.23606797749979, 2.23606797749979, 2.449489742783178, 3.1622776601683795, 2.8284271247461903, 1.4142135623730951, 4.358898943540674, 2.449489742783178, 2.0, 1.0, 3.7416573867739413], \"coloraxis\": \"coloraxis\", \"size\": [5.385164807134504, 3.1622776601683795, 3.605551275463989, 2.23606797749979, 1.0, 6.48074069840786, 2.6457513110645907, 2.449489742783178, 3.605551275463989, 3.4641016151377544, 4.242640687119285, 5.477225575051661, 5.830951894845301, 1.4142135623730951, 5.291502622129181, 6.324555320336759, 1.4142135623730951, 2.23606797749979, 2.23606797749979, 2.449489742783178, 3.1622776601683795, 2.8284271247461903, 1.4142135623730951, 4.358898943540674, 2.449489742783178, 2.0, 1.0, 3.7416573867739413], \"sizemode\": \"area\", \"sizeref\": 0.30454884665682125}, \"name\": \"\", \"showlegend\": false, \"type\": \"scattergeo\"}], \"name\": \"02/12/2020\"}, {\"data\": [{\"geo\": \"geo\", \"hoverlabel\": {\"namelength\": 0}, \"hovertemplate\": \"<b>%{hovertext}</b><br><br>date=02/13/2020<br>size=%{marker.color}<br>Lat=%{lat}<br>Long=%{lon}\", \"hovertext\": [\"Anhui\", \"Beijing\", \"Chongqing\", \"Fujian\", \"Gansu\", \"Guangdong\", \"Guizhou\", \"Hebei\", \"Heilongjiang\", \"Henan\", \"Hubei\", \"Hunan\", \"Inner Mongolia\", \"Jiangsu\", \"Jiangxi\", \"Jilin\", \"Liaoning\", \"Ningxia\", \"Shaanxi\", \"Shandong\", \"Shanghai\", \"Sichuan\", \"Tianjin\", \"Xinjiang\", \"Yunnan\", \"Zhejiang\"], \"lat\": [31.8257, 40.1824, 30.0572, 26.0789, 36.0611, 23.3417, 26.8154, 38.0428, 47.861999999999995, 33.882020000000004, 30.9756, 27.6104, 44.0935, 32.9711, 27.614, 43.6661, 41.2956, 37.2692, 35.1917, 36.3427, 31.201999999999998, 30.6171, 39.3054, 41.1129, 24.974, 29.1832], \"legendgroup\": \"\", \"lon\": [117.2264, 116.4142, 107.874, 117.9874, 103.8343, 113.4244, 106.8748, 114.5149, 127.7615, 113.61399999999999, 112.2707, 111.7088, 113.9448, 119.455, 115.7221, 126.1923, 122.6085, 106.1655, 108.8701, 118.1498, 121.4491, 102.7103, 117.323, 85.2401, 101.48700000000001, 120.0934], \"marker\": {\"color\": [4.58257569495584, 3.7416573867739413, 3.3166247903554, 2.6457513110645907, 1.7320508075688772, 4.69041575982343, 1.4142135623730951, 3.7416573867739413, 4.123105625617661, 5.830951894845301, 121.81953866272849, 4.69041575982343, 1.0, 5.196152422706632, 5.291502622129181, 1.0, 1.0, 2.449489742783178, 2.0, 3.4641016151377544, 2.0, 3.872983346207417, 2.6457513110645907, 2.0, 1.4142135623730951, 3.7416573867739413], \"coloraxis\": \"coloraxis\", \"size\": [4.58257569495584, 3.7416573867739413, 3.3166247903554, 2.6457513110645907, 1.7320508075688772, 4.69041575982343, 1.4142135623730951, 3.7416573867739413, 4.123105625617661, 5.830951894845301, 121.81953866272849, 4.69041575982343, 1.0, 5.196152422706632, 5.291502622129181, 1.0, 1.0, 2.449489742783178, 2.0, 3.4641016151377544, 2.0, 3.872983346207417, 2.6457513110645907, 2.0, 1.4142135623730951, 3.7416573867739413], \"sizemode\": \"area\", \"sizeref\": 0.30454884665682125}, \"name\": \"\", \"showlegend\": false, \"type\": \"scattergeo\"}], \"name\": \"02/13/2020\"}, {\"data\": [{\"geo\": \"geo\", \"hoverlabel\": {\"namelength\": 0}, \"hovertemplate\": \"<b>%{hovertext}</b><br><br>date=02/14/2020<br>size=%{marker.color}<br>Lat=%{lat}<br>Long=%{lon}\", \"hovertext\": [\"Anhui\", \"Beijing\", \"Chongqing\", \"Fujian\", \"Guangdong\", \"Guangxi\", \"Guizhou\", \"Hainan\", \"Hebei\", \"Heilongjiang\", \"Henan\", \"Hubei\", \"Hunan\", \"Inner Mongolia\", \"Jiangsu\", \"Jiangxi\", \"Jilin\", \"Liaoning\", \"Ningxia\", \"Shaanxi\", \"Shandong\", \"Shanghai\", \"Shanxi\", \"Sichuan\", \"Tianjin\", \"Xinjiang\", \"Yunnan\", \"Zhejiang\"], \"lat\": [31.8257, 40.1824, 30.0572, 26.0789, 23.3417, 23.8298, 26.8154, 19.1959, 38.0428, 47.861999999999995, 33.882020000000004, 30.9756, 27.6104, 44.0935, 32.9711, 27.614, 43.6661, 41.2956, 37.2692, 35.1917, 36.3427, 31.201999999999998, 37.5777, 30.6171, 39.3054, 41.1129, 24.974, 29.1832], \"legendgroup\": \"\", \"lon\": [117.2264, 116.4142, 107.874, 117.9874, 113.4244, 108.7881, 106.8748, 109.7453, 114.5149, 127.7615, 113.61399999999999, 112.2707, 111.7088, 113.9448, 119.455, 115.7221, 126.1923, 122.6085, 106.1655, 108.8701, 118.1498, 121.4491, 112.2922, 102.7103, 117.323, 85.2401, 101.48700000000001, 120.0934], \"marker\": {\"color\": [4.898979485566356, 2.449489742783178, 2.8284271247461903, 1.4142135623730951, 4.47213595499958, 2.0, 2.23606797749979, 1.4142135623730951, 4.242640687119285, 4.898979485566356, 3.872983346207417, 78.74007874011811, 4.47213595499958, 2.0, 4.795831523312719, 5.291502622129181, 1.4142135623730951, 1.4142135623730951, 1.7320508075688772, 1.0, 3.7416573867739413, 1.7320508075688772, 1.0, 3.4641016151377544, 1.0, 1.4142135623730951, 2.449489742783178, 3.1622776601683795], \"coloraxis\": \"coloraxis\", \"size\": [4.898979485566356, 2.449489742783178, 2.8284271247461903, 1.4142135623730951, 4.47213595499958, 2.0, 2.23606797749979, 1.4142135623730951, 4.242640687119285, 4.898979485566356, 3.872983346207417, 78.74007874011811, 4.47213595499958, 2.0, 4.795831523312719, 5.291502622129181, 1.4142135623730951, 1.4142135623730951, 1.7320508075688772, 1.0, 3.7416573867739413, 1.7320508075688772, 1.0, 3.4641016151377544, 1.0, 1.4142135623730951, 2.449489742783178, 3.1622776601683795], \"sizemode\": \"area\", \"sizeref\": 0.30454884665682125}, \"name\": \"\", \"showlegend\": false, \"type\": \"scattergeo\"}], \"name\": \"02/14/2020\"}, {\"data\": [{\"geo\": \"geo\", \"hoverlabel\": {\"namelength\": 0}, \"hovertemplate\": \"<b>%{hovertext}</b><br><br>date=02/15/2020<br>size=%{marker.color}<br>Lat=%{lat}<br>Long=%{lon}\", \"hovertext\": [\"Anhui\", \"Beijing\", \"Chongqing\", \"Fujian\", \"Guangdong\", \"Guangxi\", \"Guizhou\", \"Hainan\", \"Hebei\", \"Heilongjiang\", \"Henan\", \"Hubei\", \"Hunan\", \"Inner Mongolia\", \"Jiangsu\", \"Jiangxi\", \"Jilin\", \"Ningxia\", \"Shaanxi\", \"Shandong\", \"Shanghai\", \"Shanxi\", \"Sichuan\", \"Tianjin\", \"Xinjiang\", \"Yunnan\", \"Zhejiang\"], \"lat\": [31.8257, 40.1824, 30.0572, 26.0789, 23.3417, 23.8298, 26.8154, 19.1959, 38.0428, 47.861999999999995, 33.882020000000004, 30.9756, 27.6104, 44.0935, 32.9711, 27.614, 43.6661, 37.2692, 35.1917, 36.3427, 31.201999999999998, 37.5777, 30.6171, 39.3054, 41.1129, 24.974, 29.1832], \"legendgroup\": \"\", \"lon\": [117.2264, 116.4142, 107.874, 117.9874, 113.4244, 108.7881, 106.8748, 109.7453, 114.5149, 127.7615, 113.61399999999999, 112.2707, 111.7088, 113.9448, 119.455, 115.7221, 126.1923, 106.1655, 108.8701, 118.1498, 121.4491, 112.2922, 102.7103, 117.323, 85.2401, 101.48700000000001, 120.0934], \"marker\": {\"color\": [4.0, 1.7320508075688772, 2.6457513110645907, 2.0, 5.744562646538029, 3.0, 1.7320508075688772, 1.7320508075688772, 2.8284271247461903, 2.449489742783178, 5.291502622129181, 42.930175867331364, 3.605551275463989, 1.7320508075688772, 3.3166247903554, 3.605551275463989, 1.4142135623730951, 1.7320508075688772, 1.4142135623730951, 3.0, 2.8284271247461903, 1.0, 2.6457513110645907, 1.4142135623730951, 2.23606797749979, 2.449489742783178, 2.6457513110645907], \"coloraxis\": \"coloraxis\", \"size\": [4.0, 1.7320508075688772, 2.6457513110645907, 2.0, 5.744562646538029, 3.0, 1.7320508075688772, 1.7320508075688772, 2.8284271247461903, 2.449489742783178, 5.291502622129181, 42.930175867331364, 3.605551275463989, 1.7320508075688772, 3.3166247903554, 3.605551275463989, 1.4142135623730951, 1.7320508075688772, 1.4142135623730951, 3.0, 2.8284271247461903, 1.0, 2.6457513110645907, 1.4142135623730951, 2.23606797749979, 2.449489742783178, 2.6457513110645907], \"sizemode\": \"area\", \"sizeref\": 0.30454884665682125}, \"name\": \"\", \"showlegend\": false, \"type\": \"scattergeo\"}], \"name\": \"02/15/2020\"}, {\"data\": [{\"geo\": \"geo\", \"hoverlabel\": {\"namelength\": 0}, \"hovertemplate\": \"<b>%{hovertext}</b><br><br>date=02/16/2020<br>size=%{marker.color}<br>Lat=%{lat}<br>Long=%{lon}\", \"hovertext\": [\"Anhui\", \"Beijing\", \"Chongqing\", \"Fujian\", \"Guangdong\", \"Guangxi\", \"Guizhou\", \"Hebei\", \"Heilongjiang\", \"Henan\", \"Hubei\", \"Hunan\", \"Inner Mongolia\", \"Jiangsu\", \"Jiangxi\", \"Jilin\", \"Liaoning\", \"Shaanxi\", \"Shandong\", \"Shanghai\", \"Shanxi\", \"Sichuan\", \"Tianjin\", \"Xinjiang\", \"Yunnan\", \"Zhejiang\"], \"lat\": [31.8257, 40.1824, 30.0572, 26.0789, 23.3417, 23.8298, 26.8154, 38.0428, 47.861999999999995, 33.882020000000004, 30.9756, 27.6104, 44.0935, 32.9711, 27.614, 43.6661, 41.2956, 35.1917, 36.3427, 31.201999999999998, 37.5777, 30.6171, 39.3054, 41.1129, 24.974, 29.1832], \"legendgroup\": \"\", \"lon\": [117.2264, 116.4142, 107.874, 117.9874, 113.4244, 108.7881, 106.8748, 114.5149, 127.7615, 113.61399999999999, 112.2707, 111.7088, 113.9448, 119.455, 115.7221, 126.1923, 122.6085, 108.8701, 118.1498, 121.4491, 112.2922, 102.7103, 117.323, 85.2401, 101.48700000000001, 120.0934], \"marker\": {\"color\": [3.4641016151377544, 2.23606797749979, 2.6457513110645907, 1.4142135623730951, 4.69041575982343, 1.4142135623730951, 1.0, 3.0, 4.47213595499958, 4.358898943540674, 43.965895873961216, 1.7320508075688772, 1.4142135623730951, 3.605551275463989, 3.4641016151377544, 1.0, 1.4142135623730951, 2.0, 2.23606797749979, 1.4142135623730951, 1.0, 3.3166247903554, 1.4142135623730951, 1.0, 1.7320508075688772, 2.23606797749979], \"coloraxis\": \"coloraxis\", \"size\": [3.4641016151377544, 2.23606797749979, 2.6457513110645907, 1.4142135623730951, 4.69041575982343, 1.4142135623730951, 1.0, 3.0, 4.47213595499958, 4.358898943540674, 43.965895873961216, 1.7320508075688772, 1.4142135623730951, 3.605551275463989, 3.4641016151377544, 1.0, 1.4142135623730951, 2.0, 2.23606797749979, 1.4142135623730951, 1.0, 3.3166247903554, 1.4142135623730951, 1.0, 1.7320508075688772, 2.23606797749979], \"sizemode\": \"area\", \"sizeref\": 0.30454884665682125}, \"name\": \"\", \"showlegend\": false, \"type\": \"scattergeo\"}], \"name\": \"02/16/2020\"}, {\"data\": [{\"geo\": \"geo\", \"hoverlabel\": {\"namelength\": 0}, \"hovertemplate\": \"<b>%{hovertext}</b><br><br>date=02/17/2020<br>size=%{marker.color}<br>Lat=%{lat}<br>Long=%{lon}\", \"hovertext\": [\"Anhui\", \"Beijing\", \"Chongqing\", \"Fujian\", \"Gansu\", \"Guangdong\", \"Guangxi\", \"Guizhou\", \"Hainan\", \"Hebei\", \"Heilongjiang\", \"Henan\", \"Hubei\", \"Hunan\", \"Inner Mongolia\", \"Jiangsu\", \"Jiangxi\", \"Shaanxi\", \"Shandong\", \"Shanghai\", \"Shanxi\", \"Sichuan\", \"Tianjin\", \"Xinjiang\", \"Zhejiang\"], \"lat\": [31.8257, 40.1824, 30.0572, 26.0789, 36.0611, 23.3417, 23.8298, 26.8154, 19.1959, 38.0428, 47.861999999999995, 33.882020000000004, 30.9756, 27.6104, 44.0935, 32.9711, 27.614, 35.1917, 36.3427, 31.201999999999998, 37.5777, 30.6171, 39.3054, 41.1129, 29.1832], \"legendgroup\": \"\", \"lon\": [117.2264, 116.4142, 107.874, 117.9874, 103.8343, 113.4244, 108.7881, 106.8748, 109.7453, 114.5149, 127.7615, 113.61399999999999, 112.2707, 111.7088, 113.9448, 119.455, 115.7221, 108.8701, 118.1498, 121.4491, 112.2922, 102.7103, 117.323, 85.2401, 120.0934], \"marker\": {\"color\": [3.3166247903554, 1.0, 1.4142135623730951, 1.7320508075688772, 1.0, 2.449489742783178, 1.0, 1.4142135623730951, 1.0, 1.0, 3.4641016151377544, 3.872983346207417, 42.50882261366456, 1.4142135623730951, 1.4142135623730951, 3.0, 2.23606797749979, 2.0, 2.0, 2.23606797749979, 1.0, 3.7416573867739413, 1.0, 2.0, 2.0], \"coloraxis\": \"coloraxis\", \"size\": [3.3166247903554, 1.0, 1.4142135623730951, 1.7320508075688772, 1.0, 2.449489742783178, 1.0, 1.4142135623730951, 1.0, 1.0, 3.4641016151377544, 3.872983346207417, 42.50882261366456, 1.4142135623730951, 1.4142135623730951, 3.0, 2.23606797749979, 2.0, 2.0, 2.23606797749979, 1.0, 3.7416573867739413, 1.0, 2.0, 2.0], \"sizemode\": \"area\", \"sizeref\": 0.30454884665682125}, \"name\": \"\", \"showlegend\": false, \"type\": \"scattergeo\"}], \"name\": \"02/17/2020\"}, {\"data\": [{\"geo\": \"geo\", \"hoverlabel\": {\"namelength\": 0}, \"hovertemplate\": \"<b>%{hovertext}</b><br><br>date=02/18/2020<br>size=%{marker.color}<br>Lat=%{lat}<br>Long=%{lon}\", \"hovertext\": [\"Anhui\", \"Beijing\", \"Chongqing\", \"Fujian\", \"Guangdong\", \"Guangxi\", \"Hebei\", \"Heilongjiang\", \"Henan\", \"Hubei\", \"Hunan\", \"Inner Mongolia\", \"Jiangsu\", \"Jiangxi\", \"Shandong\", \"Shanxi\", \"Sichuan\", \"Tianjin\", \"Xinjiang\", \"Yunnan\", \"Zhejiang\"], \"lat\": [31.8257, 40.1824, 30.0572, 26.0789, 23.3417, 23.8298, 38.0428, 47.861999999999995, 33.882020000000004, 30.9756, 27.6104, 44.0935, 32.9711, 27.614, 36.3427, 37.5777, 30.6171, 39.3054, 41.1129, 24.974, 29.1832], \"legendgroup\": \"\", \"lon\": [117.2264, 116.4142, 107.874, 117.9874, 113.4244, 108.7881, 114.5149, 127.7615, 113.61399999999999, 112.2707, 111.7088, 113.9448, 119.455, 115.7221, 118.1498, 112.2922, 102.7103, 117.323, 85.2401, 101.48700000000001, 120.0934], \"marker\": {\"color\": [3.0, 2.449489742783178, 1.4142135623730951, 1.4142135623730951, 2.449489742783178, 2.0, 2.23606797749979, 2.6457513110645907, 3.3166247903554, 41.14608122288197, 1.0, 1.0, 1.7320508075688772, 1.7320508075688772, 1.4142135623730951, 1.0, 3.605551275463989, 1.7320508075688772, 1.0, 1.0, 1.0], \"coloraxis\": \"coloraxis\", \"size\": [3.0, 2.449489742783178, 1.4142135623730951, 1.4142135623730951, 2.449489742783178, 2.0, 2.23606797749979, 2.6457513110645907, 3.3166247903554, 41.14608122288197, 1.0, 1.0, 1.7320508075688772, 1.7320508075688772, 1.4142135623730951, 1.0, 3.605551275463989, 1.7320508075688772, 1.0, 1.0, 1.0], \"sizemode\": \"area\", \"sizeref\": 0.30454884665682125}, \"name\": \"\", \"showlegend\": false, \"type\": \"scattergeo\"}], \"name\": \"02/18/2020\"}, {\"data\": [{\"geo\": \"geo\", \"hoverlabel\": {\"namelength\": 0}, \"hovertemplate\": \"<b>%{hovertext}</b><br><br>date=02/19/2020<br>size=%{marker.color}<br>Lat=%{lat}<br>Long=%{lon}\", \"hovertext\": [\"Anhui\", \"Beijing\", \"Chongqing\", \"Fujian\", \"Guangdong\", \"Guangxi\", \"Hainan\", \"Heilongjiang\", \"Henan\", \"Hubei\", \"Hunan\", \"Inner Mongolia\", \"Jiangsu\", \"Jiangxi\", \"Jilin\", \"Ningxia\", \"Shaanxi\", \"Shandong\", \"Sichuan\", \"Tianjin\", \"Zhejiang\"], \"lat\": [31.8257, 40.1824, 30.0572, 26.0789, 23.3417, 23.8298, 19.1959, 47.861999999999995, 33.882020000000004, 30.9756, 27.6104, 44.0935, 32.9711, 27.614, 43.6661, 37.2692, 35.1917, 36.3427, 30.6171, 39.3054, 29.1832], \"legendgroup\": \"\", \"lon\": [117.2264, 116.4142, 107.874, 117.9874, 113.4244, 108.7881, 109.7453, 127.7615, 113.61399999999999, 112.2707, 111.7088, 113.9448, 119.455, 115.7221, 126.1923, 106.1655, 108.8701, 118.1498, 102.7103, 117.323, 120.0934], \"marker\": {\"color\": [2.0, 2.449489742783178, 2.23606797749979, 1.0, 1.7320508075688772, 1.4142135623730951, 2.23606797749979, 2.449489742783178, 2.23606797749979, 18.681541692269406, 1.0, 1.4142135623730951, 1.4142135623730951, 1.0, 1.0, 1.0, 1.4142135623730951, 1.0, 2.449489742783178, 1.4142135623730951, 1.4142135623730951], \"coloraxis\": \"coloraxis\", \"size\": [2.0, 2.449489742783178, 2.23606797749979, 1.0, 1.7320508075688772, 1.4142135623730951, 2.23606797749979, 2.449489742783178, 2.23606797749979, 18.681541692269406, 1.0, 1.4142135623730951, 1.4142135623730951, 1.0, 1.0, 1.0, 1.4142135623730951, 1.0, 2.449489742783178, 1.4142135623730951, 1.4142135623730951], \"sizemode\": \"area\", \"sizeref\": 0.30454884665682125}, \"name\": \"\", \"showlegend\": false, \"type\": \"scattergeo\"}], \"name\": \"02/19/2020\"}, {\"data\": [{\"geo\": \"geo\", \"hoverlabel\": {\"namelength\": 0}, \"hovertemplate\": \"<b>%{hovertext}</b><br><br>date=02/02/2020<br>size=%{marker.color}<br>Lat=%{lat}<br>Long=%{lon}\", \"hovertext\": [\"Anhui\", \"Beijing\", \"Chongqing\", \"Fujian\", \"Gansu\", \"Guangdong\", \"Guangxi\", \"Guizhou\", \"Hainan\", \"Hebei\", \"Heilongjiang\", \"Henan\", \"Hubei\", \"Hunan\", \"Inner Mongolia\", \"Jiangsu\", \"Jiangxi\", \"Jilin\", \"Liaoning\", \"Ningxia\", \"Qinghai\", \"Shaanxi\", \"Shandong\", \"Shanghai\", \"Shanxi\", \"Sichuan\", \"Tianjin\", \"Xinjiang\", \"Yunnan\", \"Zhejiang\"], \"lat\": [31.8257, 40.1824, 30.0572, 26.0789, 36.0611, 23.3417, 23.8298, 26.8154, 19.1959, 38.0428, 47.861999999999995, 33.882020000000004, 30.9756, 27.6104, 44.0935, 32.9711, 27.614, 43.6661, 41.2956, 37.2692, 35.7452, 35.1917, 36.3427, 31.201999999999998, 37.5777, 30.6171, 39.3054, 41.1129, 24.974, 29.1832], \"legendgroup\": \"\", \"lon\": [117.2264, 116.4142, 107.874, 117.9874, 103.8343, 113.4244, 108.7881, 106.8748, 109.7453, 114.5149, 127.7615, 113.61399999999999, 112.2707, 111.7088, 113.9448, 119.455, 115.7221, 126.1923, 122.6085, 106.1655, 95.9956, 108.8701, 118.1498, 121.4491, 112.2922, 102.7103, 117.323, 85.2401, 101.48700000000001, 120.0934], \"marker\": {\"color\": [6.557438524302, 4.795831523312719, 7.280109889280518, 3.872983346207417, 3.3166247903554, 9.848857801796104, 3.3166247903554, 3.0, 1.4142135623730951, 2.8284271247461903, 3.872983346207417, 8.426149773176359, 63.43500610861482, 8.602325267042627, 2.0, 5.830951894845301, 6.855654600401044, 2.449489742783178, 2.449489742783178, 1.4142135623730951, 1.4142135623730951, 3.872983346207417, 4.898979485566356, 3.605551275463989, 4.358898943540674, 4.898979485566356, 2.6457513110645907, 1.7320508075688772, 3.4641016151377544, 7.874007874011811], \"coloraxis\": \"coloraxis\", \"size\": [6.557438524302, 4.795831523312719, 7.280109889280518, 3.872983346207417, 3.3166247903554, 9.848857801796104, 3.3166247903554, 3.0, 1.4142135623730951, 2.8284271247461903, 3.872983346207417, 8.426149773176359, 63.43500610861482, 8.602325267042627, 2.0, 5.830951894845301, 6.855654600401044, 2.449489742783178, 2.449489742783178, 1.4142135623730951, 1.4142135623730951, 3.872983346207417, 4.898979485566356, 3.605551275463989, 4.358898943540674, 4.898979485566356, 2.6457513110645907, 1.7320508075688772, 3.4641016151377544, 7.874007874011811], \"sizemode\": \"area\", \"sizeref\": 0.30454884665682125}, \"name\": \"\", \"showlegend\": false, \"type\": \"scattergeo\"}], \"name\": \"02/02/2020\"}, {\"data\": [{\"geo\": \"geo\", \"hoverlabel\": {\"namelength\": 0}, \"hovertemplate\": \"<b>%{hovertext}</b><br><br>date=02/20/2020<br>size=%{marker.color}<br>Lat=%{lat}<br>Long=%{lon}\", \"hovertext\": [\"Anhui\", \"Beijing\", \"Chongqing\", \"Guangdong\", \"Guangxi\", \"Hebei\", \"Heilongjiang\", \"Henan\", \"Hubei\", \"Hunan\", \"Jilin\", \"Shaanxi\", \"Shandong\", \"Shanghai\", \"Shanxi\", \"Sichuan\", \"Tianjin\", \"Yunnan\", \"Zhejiang\"], \"lat\": [31.8257, 40.1824, 30.0572, 23.3417, 23.8298, 38.0428, 47.861999999999995, 33.882020000000004, 30.9756, 27.6104, 43.6661, 35.1917, 36.3427, 31.201999999999998, 37.5777, 30.6171, 39.3054, 24.974, 29.1832], \"legendgroup\": \"\", \"lon\": [117.2264, 116.4142, 107.874, 113.4244, 108.7881, 114.5149, 127.7615, 113.61399999999999, 112.2707, 111.7088, 126.1923, 108.8701, 118.1498, 121.4491, 112.2922, 102.7103, 117.323, 101.48700000000001, 120.0934], \"marker\": {\"color\": [1.0, 1.4142135623730951, 2.6457513110645907, 1.0, 1.0, 1.0, 2.449489742783178, 1.7320508075688772, 20.273134932713294, 1.4142135623730951, 1.0, 1.7320508075688772, 1.4142135623730951, 1.0, 1.0, 2.449489742783178, 1.0, 1.4142135623730951, 1.0], \"coloraxis\": \"coloraxis\", \"size\": [1.0, 1.4142135623730951, 2.6457513110645907, 1.0, 1.0, 1.0, 2.449489742783178, 1.7320508075688772, 20.273134932713294, 1.4142135623730951, 1.0, 1.7320508075688772, 1.4142135623730951, 1.0, 1.0, 2.449489742783178, 1.0, 1.4142135623730951, 1.0], \"sizemode\": \"area\", \"sizeref\": 0.30454884665682125}, \"name\": \"\", \"showlegend\": false, \"type\": \"scattergeo\"}], \"name\": \"02/20/2020\"}, {\"data\": [{\"geo\": \"geo\", \"hoverlabel\": {\"namelength\": 0}, \"hovertemplate\": \"<b>%{hovertext}</b><br><br>date=02/21/2020<br>size=%{marker.color}<br>Lat=%{lat}<br>Long=%{lon}\", \"hovertext\": [\"Anhui\", \"Beijing\", \"Chongqing\", \"Guangdong\", \"Guangxi\", \"Hebei\", \"Heilongjiang\", \"Henan\", \"Hubei\", \"Hunan\", \"Shandong\", \"Sichuan\", \"Tianjin\", \"Zhejiang\"], \"lat\": [31.8257, 40.1824, 30.0572, 23.3417, 23.8298, 38.0428, 47.861999999999995, 33.882020000000004, 30.9756, 27.6104, 36.3427, 30.6171, 39.3054, 29.1832], \"legendgroup\": \"\", \"lon\": [117.2264, 116.4142, 107.874, 113.4244, 108.7881, 114.5149, 127.7615, 113.61399999999999, 112.2707, 111.7088, 118.1498, 102.7103, 117.323, 120.0934], \"marker\": {\"color\": [1.0, 1.0, 2.23606797749979, 1.0, 1.0, 1.0, 1.7320508075688772, 1.4142135623730951, 14.832396974191326, 1.0, 14.247806848775006, 2.23606797749979, 1.0, 5.291502622129181], \"coloraxis\": \"coloraxis\", \"size\": [1.0, 1.0, 2.23606797749979, 1.0, 1.0, 1.0, 1.7320508075688772, 1.4142135623730951, 14.832396974191326, 1.0, 14.247806848775006, 2.23606797749979, 1.0, 5.291502622129181], \"sizemode\": \"area\", \"sizeref\": 0.30454884665682125}, \"name\": \"\", \"showlegend\": false, \"type\": \"scattergeo\"}], \"name\": \"02/21/2020\"}, {\"data\": [{\"geo\": \"geo\", \"hoverlabel\": {\"namelength\": 0}, \"hovertemplate\": \"<b>%{hovertext}</b><br><br>date=02/22/2020<br>size=%{marker.color}<br>Lat=%{lat}<br>Long=%{lon}\", \"hovertext\": [\"Anhui\", \"Beijing\", \"Chongqing\", \"Guangdong\", \"Guangxi\", \"Hebei\", \"Henan\", \"Hubei\", \"Hunan\", \"Shandong\", \"Shanghai\", \"Sichuan\", \"Tianjin\", \"Zhejiang\"], \"lat\": [31.8257, 40.1824, 30.0572, 23.3417, 23.8298, 38.0428, 33.882020000000004, 30.9756, 27.6104, 36.3427, 31.201999999999998, 30.6171, 39.3054, 29.1832], \"legendgroup\": \"\", \"lon\": [117.2264, 116.4142, 107.874, 113.4244, 108.7881, 114.5149, 113.61399999999999, 112.2707, 111.7088, 118.1498, 121.4491, 102.7103, 117.323, 120.0934], \"marker\": {\"color\": [1.0, 1.7320508075688772, 1.0, 2.449489742783178, 1.7320508075688772, 1.0, 1.7320508075688772, 37.70941526992961, 1.4142135623730951, 1.0, 1.0, 1.0, 1.7320508075688772, 1.4142135623730951], \"coloraxis\": \"coloraxis\", \"size\": [1.0, 1.7320508075688772, 1.0, 2.449489742783178, 1.7320508075688772, 1.0, 1.7320508075688772, 37.70941526992961, 1.4142135623730951, 1.0, 1.0, 1.0, 1.7320508075688772, 1.4142135623730951], \"sizemode\": \"area\", \"sizeref\": 0.30454884665682125}, \"name\": \"\", \"showlegend\": false, \"type\": \"scattergeo\"}], \"name\": \"02/22/2020\"}, {\"data\": [{\"geo\": \"geo\", \"hoverlabel\": {\"namelength\": 0}, \"hovertemplate\": \"<b>%{hovertext}</b><br><br>date=02/23/2020<br>size=%{marker.color}<br>Lat=%{lat}<br>Long=%{lon}\", \"hovertext\": [\"Chongqing\", \"Guangdong\", \"Hebei\", \"Heilongjiang\", \"Henan\", \"Hunan\", \"Shandong\"], \"lat\": [30.0572, 23.3417, 38.0428, 47.861999999999995, 33.882020000000004, 27.6104, 36.3427], \"legendgroup\": \"\", \"lon\": [107.874, 113.4244, 114.5149, 127.7615, 113.61399999999999, 111.7088, 118.1498], \"marker\": {\"color\": [1.4142135623730951, 1.7320508075688772, 1.4142135623730951, 1.0, 1.0, 1.7320508075688772, 2.0], \"coloraxis\": \"coloraxis\", \"size\": [1.4142135623730951, 1.7320508075688772, 1.4142135623730951, 1.0, 1.0, 1.7320508075688772, 2.0], \"sizemode\": \"area\", \"sizeref\": 0.30454884665682125}, \"name\": \"\", \"showlegend\": false, \"type\": \"scattergeo\"}], \"name\": \"02/23/2020\"}, {\"data\": [{\"geo\": \"geo\", \"hoverlabel\": {\"namelength\": 0}, \"hovertemplate\": \"<b>%{hovertext}</b><br><br>date=02/24/2020<br>size=%{marker.color}<br>Lat=%{lat}<br>Long=%{lon}\", \"hovertext\": [\"Chongqing\", \"Guangdong\", \"Guangxi\", \"Hubei\", \"Jilin\", \"Shandong\", \"Shanxi\", \"Sichuan\"], \"lat\": [30.0572, 23.3417, 23.8298, 30.9756, 43.6661, 36.3427, 37.5777, 30.6171], \"legendgroup\": \"\", \"lon\": [107.874, 113.4244, 108.7881, 112.2707, 126.1923, 118.1498, 112.2922, 102.7103], \"marker\": {\"color\": [1.0, 1.7320508075688772, 1.4142135623730951, 14.247806848775006, 1.4142135623730951, 1.0, 1.0, 1.0], \"coloraxis\": \"coloraxis\", \"size\": [1.0, 1.7320508075688772, 1.4142135623730951, 14.247806848775006, 1.4142135623730951, 1.0, 1.0, 1.0], \"sizemode\": \"area\", \"sizeref\": 0.30454884665682125}, \"name\": \"\", \"showlegend\": false, \"type\": \"scattergeo\"}], \"name\": \"02/24/2020\"}, {\"data\": [{\"geo\": \"geo\", \"hoverlabel\": {\"namelength\": 0}, \"hovertemplate\": \"<b>%{hovertext}</b><br><br>date=02/25/2020<br>size=%{marker.color}<br>Lat=%{lat}<br>Long=%{lon}\", \"hovertext\": [\"Beijing\", \"Fujian\", \"Guangdong\", \"Guangxi\", \"Hubei\", \"Shandong\", \"Shanghai\", \"Sichuan\"], \"lat\": [40.1824, 26.0789, 23.3417, 23.8298, 30.9756, 36.3427, 31.201999999999998, 30.6171], \"legendgroup\": \"\", \"lon\": [116.4142, 117.9874, 113.4244, 108.7881, 112.2707, 118.1498, 121.4491, 102.7103], \"marker\": {\"color\": [1.0, 1.0, 1.4142135623730951, 1.0, 22.338307903688676, 1.0, 1.0, 1.4142135623730951], \"coloraxis\": \"coloraxis\", \"size\": [1.0, 1.0, 1.4142135623730951, 1.0, 22.338307903688676, 1.0, 1.0, 1.4142135623730951], \"sizemode\": \"area\", \"sizeref\": 0.30454884665682125}, \"name\": \"\", \"showlegend\": false, \"type\": \"scattergeo\"}], \"name\": \"02/25/2020\"}, {\"data\": [{\"geo\": \"geo\", \"hoverlabel\": {\"namelength\": 0}, \"hovertemplate\": \"<b>%{hovertext}</b><br><br>date=02/26/2020<br>size=%{marker.color}<br>Lat=%{lat}<br>Long=%{lon}\", \"hovertext\": [\"Hebei\", \"Hubei\", \"Shanghai\", \"Sichuan\"], \"lat\": [38.0428, 30.9756, 31.201999999999998, 30.6171], \"legendgroup\": \"\", \"lon\": [114.5149, 112.2707, 121.4491, 102.7103], \"marker\": {\"color\": [1.0, 20.024984394500787, 1.0, 1.4142135623730951], \"coloraxis\": \"coloraxis\", \"size\": [1.0, 20.024984394500787, 1.0, 1.4142135623730951], \"sizemode\": \"area\", \"sizeref\": 0.30454884665682125}, \"name\": \"\", \"showlegend\": false, \"type\": \"scattergeo\"}], \"name\": \"02/26/2020\"}, {\"data\": [{\"geo\": \"geo\", \"hoverlabel\": {\"namelength\": 0}, \"hovertemplate\": \"<b>%{hovertext}</b><br><br>date=02/27/2020<br>size=%{marker.color}<br>Lat=%{lat}<br>Long=%{lon}\", \"hovertext\": [\"Beijing\", \"Fujian\", \"Hebei\", \"Henan\", \"Hubei\", \"Hunan\", \"Ningxia\", \"Sichuan\", \"Tianjin\"], \"lat\": [40.1824, 26.0789, 38.0428, 33.882020000000004, 30.9756, 27.6104, 37.2692, 30.6171, 39.3054], \"legendgroup\": \"\", \"lon\": [116.4142, 117.9874, 114.5149, 113.61399999999999, 112.2707, 111.7088, 106.1655, 102.7103, 117.323], \"marker\": {\"color\": [3.1622776601683795, 1.4142135623730951, 2.23606797749979, 1.0, 20.223748416156685, 1.0, 1.0, 1.7320508075688772, 1.0], \"coloraxis\": \"coloraxis\", \"size\": [3.1622776601683795, 1.4142135623730951, 2.23606797749979, 1.0, 20.223748416156685, 1.0, 1.0, 1.7320508075688772, 1.0], \"sizemode\": \"area\", \"sizeref\": 0.30454884665682125}, \"name\": \"\", \"showlegend\": false, \"type\": \"scattergeo\"}], \"name\": \"02/27/2020\"}, {\"data\": [{\"geo\": \"geo\", \"hoverlabel\": {\"namelength\": 0}, \"hovertemplate\": \"<b>%{hovertext}</b><br><br>date=02/28/2020<br>size=%{marker.color}<br>Lat=%{lat}<br>Long=%{lon}\", \"hovertext\": [\"Anhui\", \"Guangdong\", \"Hebei\", \"Hubei\", \"Jiangxi\", \"Sichuan\"], \"lat\": [31.8257, 23.3417, 38.0428, 30.9756, 27.614, 30.6171], \"legendgroup\": \"\", \"lon\": [117.2264, 113.4244, 114.5149, 112.2707, 115.7221, 102.7103], \"marker\": {\"color\": [1.0, 1.0, 1.0, 17.832554500127006, 1.0, 2.0], \"coloraxis\": \"coloraxis\", \"size\": [1.0, 1.0, 1.0, 17.832554500127006, 1.0, 2.0], \"sizemode\": \"area\", \"sizeref\": 0.30454884665682125}, \"name\": \"\", \"showlegend\": false, \"type\": \"scattergeo\"}], \"name\": \"02/28/2020\"}, {\"data\": [{\"geo\": \"geo\", \"hoverlabel\": {\"namelength\": 0}, \"hovertemplate\": \"<b>%{hovertext}</b><br><br>date=02/29/2020<br>size=%{marker.color}<br>Lat=%{lat}<br>Long=%{lon}\", \"hovertext\": [\"Beijing\", \"Guangdong\", \"Hubei\", \"Hunan\", \"Ningxia\"], \"lat\": [40.1824, 23.3417, 30.9756, 27.6104, 37.2692], \"legendgroup\": \"\", \"lon\": [116.4142, 113.4244, 112.2707, 111.7088, 106.1655], \"marker\": {\"color\": [1.0, 1.0, 20.566963801203133, 1.0, 1.0], \"coloraxis\": \"coloraxis\", \"size\": [1.0, 1.0, 20.566963801203133, 1.0, 1.0], \"sizemode\": \"area\", \"sizeref\": 0.30454884665682125}, \"name\": \"\", \"showlegend\": false, \"type\": \"scattergeo\"}], \"name\": \"02/29/2020\"}, {\"data\": [{\"geo\": \"geo\", \"hoverlabel\": {\"namelength\": 0}, \"hovertemplate\": \"<b>%{hovertext}</b><br><br>date=02/03/2020<br>size=%{marker.color}<br>Lat=%{lat}<br>Long=%{lon}\", \"hovertext\": [\"Anhui\", \"Beijing\", \"Chongqing\", \"Fujian\", \"Gansu\", \"Guangdong\", \"Guangxi\", \"Guizhou\", \"Hainan\", \"Hebei\", \"Heilongjiang\", \"Henan\", \"Hubei\", \"Hunan\", \"Inner Mongolia\", \"Jiangsu\", \"Jiangxi\", \"Jilin\", \"Liaoning\", \"Ningxia\", \"Qinghai\", \"Shaanxi\", \"Shandong\", \"Shanghai\", \"Shanxi\", \"Sichuan\", \"Tianjin\", \"Xinjiang\", \"Yunnan\", \"Zhejiang\"], \"lat\": [31.8257, 40.1824, 30.0572, 26.0789, 36.0611, 23.3417, 23.8298, 26.8154, 19.1959, 38.0428, 47.861999999999995, 33.882020000000004, 30.9756, 27.6104, 44.0935, 32.9711, 27.614, 43.6661, 41.2956, 37.2692, 35.7452, 35.1917, 36.3427, 31.201999999999998, 37.5777, 30.6171, 39.3054, 41.1129, 24.974, 29.1832], \"legendgroup\": \"\", \"lon\": [117.2264, 116.4142, 107.874, 117.9874, 103.8343, 113.4244, 108.7881, 106.8748, 109.7453, 114.5149, 127.7615, 113.61399999999999, 112.2707, 111.7088, 113.9448, 119.455, 115.7221, 126.1923, 122.6085, 106.1655, 95.9956, 108.8701, 118.1498, 121.4491, 112.2922, 102.7103, 117.323, 85.2401, 101.48700000000001, 120.0934], \"marker\": {\"color\": [8.246211251235321, 4.58257569495584, 6.082762530298219, 4.47213595499958, 2.0, 9.643650760992955, 4.0, 2.8284271247461903, 2.8284271247461903, 3.0, 5.0990195135927845, 8.54400374531753, 48.425200051213004, 7.615773105863909, 2.6457513110645907, 5.916079783099616, 7.615773105863909, 2.8284271247461903, 2.0, 1.7320508075688772, 1.4142135623730951, 3.4641016151377544, 5.385164807134504, 4.58257569495584, 2.8284271247461903, 4.795831523312719, 3.4641016151377544, 1.7320508075688772, 3.4641016151377544, 7.937253933193772], \"coloraxis\": \"coloraxis\", \"size\": [8.246211251235321, 4.58257569495584, 6.082762530298219, 4.47213595499958, 2.0, 9.643650760992955, 4.0, 2.8284271247461903, 2.8284271247461903, 3.0, 5.0990195135927845, 8.54400374531753, 48.425200051213004, 7.615773105863909, 2.6457513110645907, 5.916079783099616, 7.615773105863909, 2.8284271247461903, 2.0, 1.7320508075688772, 1.4142135623730951, 3.4641016151377544, 5.385164807134504, 4.58257569495584, 2.8284271247461903, 4.795831523312719, 3.4641016151377544, 1.7320508075688772, 3.4641016151377544, 7.937253933193772], \"sizemode\": \"area\", \"sizeref\": 0.30454884665682125}, \"name\": \"\", \"showlegend\": false, \"type\": \"scattergeo\"}], \"name\": \"02/03/2020\"}, {\"data\": [{\"geo\": \"geo\", \"hoverlabel\": {\"namelength\": 0}, \"hovertemplate\": \"<b>%{hovertext}</b><br><br>date=02/04/2020<br>size=%{marker.color}<br>Lat=%{lat}<br>Long=%{lon}\", \"hovertext\": [\"Anhui\", \"Beijing\", \"Chongqing\", \"Fujian\", \"Gansu\", \"Guangdong\", \"Guangxi\", \"Guizhou\", \"Hainan\", \"Hebei\", \"Heilongjiang\", \"Henan\", \"Hubei\", \"Hunan\", \"Inner Mongolia\", \"Jiangsu\", \"Jiangxi\", \"Jilin\", \"Liaoning\", \"Ningxia\", \"Qinghai\", \"Shaanxi\", \"Shandong\", \"Shanghai\", \"Shanxi\", \"Sichuan\", \"Tianjin\", \"Xinjiang\", \"Yunnan\", \"Zhejiang\"], \"lat\": [31.8257, 40.1824, 30.0572, 26.0789, 36.0611, 23.3417, 23.8298, 26.8154, 19.1959, 38.0428, 47.861999999999995, 33.882020000000004, 30.9756, 27.6104, 44.0935, 32.9711, 27.614, 43.6661, 41.2956, 37.2692, 35.7452, 35.1917, 36.3427, 31.201999999999998, 37.5777, 30.6171, 39.3054, 41.1129, 24.974, 29.1832], \"legendgroup\": \"\", \"lon\": [117.2264, 116.4142, 107.874, 117.9874, 103.8343, 113.4244, 108.7881, 106.8748, 109.7453, 114.5149, 127.7615, 113.61399999999999, 112.2707, 111.7088, 113.9448, 119.455, 115.7221, 126.1923, 122.6085, 106.1655, 95.9956, 108.8701, 118.1498, 121.4491, 112.2922, 102.7103, 117.323, 85.2401, 101.48700000000001, 120.0934], \"marker\": {\"color\": [8.48528137423857, 4.0, 5.385164807134504, 3.872983346207417, 1.4142135623730951, 9.38083151964686, 3.4641016151377544, 3.4641016151377544, 2.8284271247461903, 3.605551275463989, 5.830951894845301, 10.44030650891055, 56.178287620752556, 8.48528137423857, 1.0, 6.082762530298219, 9.219544457292887, 3.3166247903554, 2.6457513110645907, 1.7320508075688772, 1.4142135623730951, 3.7416573867739413, 4.0, 4.0, 2.6457513110645907, 5.291502622129181, 2.6457513110645907, 2.23606797749979, 2.23606797749979, 10.246950765959598], \"coloraxis\": \"coloraxis\", \"size\": [8.48528137423857, 4.0, 5.385164807134504, 3.872983346207417, 1.4142135623730951, 9.38083151964686, 3.4641016151377544, 3.4641016151377544, 2.8284271247461903, 3.605551275463989, 5.830951894845301, 10.44030650891055, 56.178287620752556, 8.48528137423857, 1.0, 6.082762530298219, 9.219544457292887, 3.3166247903554, 2.6457513110645907, 1.7320508075688772, 1.4142135623730951, 3.7416573867739413, 4.0, 4.0, 2.6457513110645907, 5.291502622129181, 2.6457513110645907, 2.23606797749979, 2.23606797749979, 10.246950765959598], \"sizemode\": \"area\", \"sizeref\": 0.30454884665682125}, \"name\": \"\", \"showlegend\": false, \"type\": \"scattergeo\"}], \"name\": \"02/04/2020\"}, {\"data\": [{\"geo\": \"geo\", \"hoverlabel\": {\"namelength\": 0}, \"hovertemplate\": \"<b>%{hovertext}</b><br><br>date=02/05/2020<br>size=%{marker.color}<br>Lat=%{lat}<br>Long=%{lon}\", \"hovertext\": [\"Anhui\", \"Beijing\", \"Chongqing\", \"Fujian\", \"Gansu\", \"Guangdong\", \"Guangxi\", \"Guizhou\", \"Hainan\", \"Hebei\", \"Heilongjiang\", \"Henan\", \"Hubei\", \"Hunan\", \"Inner Mongolia\", \"Jiangsu\", \"Jiangxi\", \"Jilin\", \"Liaoning\", \"Qinghai\", \"Shaanxi\", \"Shandong\", \"Shanghai\", \"Sichuan\", \"Tianjin\", \"Xinjiang\", \"Yunnan\", \"Zhejiang\"], \"lat\": [31.8257, 40.1824, 30.0572, 26.0789, 36.0611, 23.3417, 23.8298, 26.8154, 19.1959, 38.0428, 47.861999999999995, 33.882020000000004, 30.9756, 27.6104, 44.0935, 32.9711, 27.614, 43.6661, 41.2956, 35.7452, 35.1917, 36.3427, 31.201999999999998, 30.6171, 39.3054, 41.1129, 24.974, 29.1832], \"legendgroup\": \"\", \"lon\": [117.2264, 116.4142, 107.874, 117.9874, 103.8343, 113.4244, 108.7881, 106.8748, 109.7453, 114.5149, 127.7615, 113.61399999999999, 112.2707, 111.7088, 113.9448, 119.455, 115.7221, 126.1923, 122.6085, 95.9956, 108.8701, 118.1498, 121.4491, 102.7103, 117.323, 85.2401, 101.48700000000001, 120.0934], \"marker\": {\"color\": [7.0710678118654755, 5.0, 4.795831523312719, 3.3166247903554, 2.23606797749979, 9.055385138137417, 3.3166247903554, 2.449489742783178, 4.358898943540674, 3.0, 5.916079783099616, 9.433981132056603, 54.653453687758834, 8.246211251235321, 2.6457513110645907, 5.744562646538029, 8.48528137423857, 3.4641016151377544, 2.8284271247461903, 1.4142135623730951, 4.795831523312719, 5.656854249492381, 4.898979485566356, 4.358898943540674, 1.4142135623730951, 1.7320508075688772, 2.449489742783178, 8.12403840463596], \"coloraxis\": \"coloraxis\", \"size\": [7.0710678118654755, 5.0, 4.795831523312719, 3.3166247903554, 2.23606797749979, 9.055385138137417, 3.3166247903554, 2.449489742783178, 4.358898943540674, 3.0, 5.916079783099616, 9.433981132056603, 54.653453687758834, 8.246211251235321, 2.6457513110645907, 5.744562646538029, 8.48528137423857, 3.4641016151377544, 2.8284271247461903, 1.4142135623730951, 4.795831523312719, 5.656854249492381, 4.898979485566356, 4.358898943540674, 1.4142135623730951, 1.7320508075688772, 2.449489742783178, 8.12403840463596], \"sizemode\": \"area\", \"sizeref\": 0.30454884665682125}, \"name\": \"\", \"showlegend\": false, \"type\": \"scattergeo\"}], \"name\": \"02/05/2020\"}, {\"data\": [{\"geo\": \"geo\", \"hoverlabel\": {\"namelength\": 0}, \"hovertemplate\": \"<b>%{hovertext}</b><br><br>date=02/06/2020<br>size=%{marker.color}<br>Lat=%{lat}<br>Long=%{lon}\", \"hovertext\": [\"Anhui\", \"Beijing\", \"Chongqing\", \"Fujian\", \"Guangdong\", \"Guangxi\", \"Guizhou\", \"Hainan\", \"Hebei\", \"Heilongjiang\", \"Henan\", \"Hubei\", \"Hunan\", \"Inner Mongolia\", \"Jiangsu\", \"Jiangxi\", \"Jilin\", \"Liaoning\", \"Ningxia\", \"Qinghai\", \"Shaanxi\", \"Shandong\", \"Shanghai\", \"Shanxi\", \"Sichuan\", \"Tianjin\", \"Xinjiang\", \"Yunnan\", \"Zhejiang\"], \"lat\": [31.8257, 40.1824, 30.0572, 26.0789, 23.3417, 23.8298, 26.8154, 19.1959, 38.0428, 47.861999999999995, 33.882020000000004, 30.9756, 27.6104, 44.0935, 32.9711, 27.614, 43.6661, 41.2956, 37.2692, 35.7452, 35.1917, 36.3427, 31.201999999999998, 37.5777, 30.6171, 39.3054, 41.1129, 24.974, 29.1832], \"legendgroup\": \"\", \"lon\": [117.2264, 116.4142, 107.874, 117.9874, 113.4244, 108.7881, 106.8748, 109.7453, 114.5149, 127.7615, 113.61399999999999, 112.2707, 111.7088, 113.9448, 119.455, 115.7221, 126.1923, 122.6085, 106.1655, 95.9956, 108.8701, 118.1498, 121.4491, 112.2922, 102.7103, 117.323, 85.2401, 101.48700000000001, 120.0934], \"marker\": {\"color\": [7.810249675906654, 4.58257569495584, 4.69041575982343, 3.1622776601683795, 8.660254037844387, 4.242640687119285, 2.6457513110645907, 2.6457513110645907, 4.69041575982343, 6.082762530298219, 9.327379053088816, 49.467160824126545, 7.0710678118654755, 2.0, 5.656854249492381, 7.211102550927978, 2.23606797749979, 2.23606797749979, 2.449489742783178, 1.0, 2.8284271247461903, 6.324555320336759, 3.7416573867739413, 3.872983346207417, 4.47213595499958, 3.1622776601683795, 2.0, 2.23606797749979, 7.681145747868608], \"coloraxis\": \"coloraxis\", \"size\": [7.810249675906654, 4.58257569495584, 4.69041575982343, 3.1622776601683795, 8.660254037844387, 4.242640687119285, 2.6457513110645907, 2.6457513110645907, 4.69041575982343, 6.082762530298219, 9.327379053088816, 49.467160824126545, 7.0710678118654755, 2.0, 5.656854249492381, 7.211102550927978, 2.23606797749979, 2.23606797749979, 2.449489742783178, 1.0, 2.8284271247461903, 6.324555320336759, 3.7416573867739413, 3.872983346207417, 4.47213595499958, 3.1622776601683795, 2.0, 2.23606797749979, 7.681145747868608], \"sizemode\": \"area\", \"sizeref\": 0.30454884665682125}, \"name\": \"\", \"showlegend\": false, \"type\": \"scattergeo\"}], \"name\": \"02/06/2020\"}, {\"data\": [{\"geo\": \"geo\", \"hoverlabel\": {\"namelength\": 0}, \"hovertemplate\": \"<b>%{hovertext}</b><br><br>date=02/07/2020<br>size=%{marker.color}<br>Lat=%{lat}<br>Long=%{lon}\", \"hovertext\": [\"Anhui\", \"Beijing\", \"Chongqing\", \"Fujian\", \"Gansu\", \"Guangdong\", \"Guangxi\", \"Guizhou\", \"Hainan\", \"Hebei\", \"Heilongjiang\", \"Henan\", \"Hubei\", \"Hunan\", \"Inner Mongolia\", \"Jiangsu\", \"Jiangxi\", \"Jilin\", \"Liaoning\", \"Ningxia\", \"Shaanxi\", \"Shandong\", \"Shanghai\", \"Shanxi\", \"Sichuan\", \"Tianjin\", \"Xinjiang\", \"Yunnan\", \"Zhejiang\"], \"lat\": [31.8257, 40.1824, 30.0572, 26.0789, 36.0611, 23.3417, 23.8298, 26.8154, 19.1959, 38.0428, 47.861999999999995, 33.882020000000004, 30.9756, 27.6104, 44.0935, 32.9711, 27.614, 43.6661, 41.2956, 37.2692, 35.1917, 36.3427, 31.201999999999998, 37.5777, 30.6171, 39.3054, 41.1129, 24.974, 29.1832], \"legendgroup\": \"\", \"lon\": [117.2264, 116.4142, 107.874, 117.9874, 103.8343, 113.4244, 108.7881, 106.8748, 109.7453, 114.5149, 127.7615, 113.61399999999999, 112.2707, 111.7088, 113.9448, 119.455, 115.7221, 126.1923, 122.6085, 106.1655, 108.8701, 118.1498, 121.4491, 112.2922, 102.7103, 117.323, 85.2401, 101.48700000000001, 120.0934], \"marker\": {\"color\": [8.602325267042627, 4.795831523312719, 3.872983346207417, 3.0, 2.23606797749979, 8.0, 2.0, 3.1622776601683795, 3.3166247903554, 3.872983346207417, 7.0710678118654755, 7.937253933193772, 53.301031884945715, 7.810249675906654, 2.0, 5.916079783099616, 7.810249675906654, 2.449489742783178, 2.23606797749979, 1.7320508075688772, 3.3166247903554, 6.244997998398398, 4.47213595499958, 2.8284271247461903, 4.795831523312719, 1.4142135623730951, 1.7320508075688772, 2.23606797749979, 7.211102550927978], \"coloraxis\": \"coloraxis\", \"size\": [8.602325267042627, 4.795831523312719, 3.872983346207417, 3.0, 2.23606797749979, 8.0, 2.0, 3.1622776601683795, 3.3166247903554, 3.872983346207417, 7.0710678118654755, 7.937253933193772, 53.301031884945715, 7.810249675906654, 2.0, 5.916079783099616, 7.810249675906654, 2.449489742783178, 2.23606797749979, 1.7320508075688772, 3.3166247903554, 6.244997998398398, 4.47213595499958, 2.8284271247461903, 4.795831523312719, 1.4142135623730951, 1.7320508075688772, 2.23606797749979, 7.211102550927978], \"sizemode\": \"area\", \"sizeref\": 0.30454884665682125}, \"name\": \"\", \"showlegend\": false, \"type\": \"scattergeo\"}], \"name\": \"02/07/2020\"}, {\"data\": [{\"geo\": \"geo\", \"hoverlabel\": {\"namelength\": 0}, \"hovertemplate\": \"<b>%{hovertext}</b><br><br>date=02/08/2020<br>size=%{marker.color}<br>Lat=%{lat}<br>Long=%{lon}\", \"hovertext\": [\"Anhui\", \"Beijing\", \"Chongqing\", \"Fujian\", \"Gansu\", \"Guangdong\", \"Guangxi\", \"Guizhou\", \"Hainan\", \"Hebei\", \"Heilongjiang\", \"Henan\", \"Hubei\", \"Hunan\", \"Inner Mongolia\", \"Jiangsu\", \"Jiangxi\", \"Jilin\", \"Liaoning\", \"Ningxia\", \"Shaanxi\", \"Shandong\", \"Shanghai\", \"Shanxi\", \"Sichuan\", \"Tianjin\", \"Xinjiang\", \"Zhejiang\"], \"lat\": [31.8257, 40.1824, 30.0572, 26.0789, 36.0611, 23.3417, 23.8298, 26.8154, 19.1959, 38.0428, 47.861999999999995, 33.882020000000004, 30.9756, 27.6104, 44.0935, 32.9711, 27.614, 43.6661, 41.2956, 37.2692, 35.1917, 36.3427, 31.201999999999998, 37.5777, 30.6171, 39.3054, 41.1129, 29.1832], \"legendgroup\": \"\", \"lon\": [117.2264, 116.4142, 107.874, 117.9874, 103.8343, 113.4244, 108.7881, 106.8748, 109.7453, 114.5149, 127.7615, 113.61399999999999, 112.2707, 111.7088, 113.9448, 119.455, 115.7221, 126.1923, 122.6085, 106.1655, 108.8701, 118.1498, 121.4491, 112.2922, 102.7103, 117.323, 85.2401, 120.0934], \"marker\": {\"color\": [8.246211251235321, 4.242640687119285, 1.4142135623730951, 3.872983346207417, 3.4641016151377544, 7.810249675906654, 3.3166247903554, 2.8284271247461903, 2.6457513110645907, 4.795831523312719, 4.242640687119285, 8.18535277187245, 46.33573135281238, 5.5677643628300215, 1.4142135623730951, 5.5677643628300215, 6.082762530298219, 2.0, 2.449489742783178, 1.4142135623730951, 3.3166247903554, 5.477225575051661, 3.0, 3.3166247903554, 4.47213595499958, 2.6457513110645907, 1.7320508075688772, 6.48074069840786], \"coloraxis\": \"coloraxis\", \"size\": [8.246211251235321, 4.242640687119285, 1.4142135623730951, 3.872983346207417, 3.4641016151377544, 7.810249675906654, 3.3166247903554, 2.8284271247461903, 2.6457513110645907, 4.795831523312719, 4.242640687119285, 8.18535277187245, 46.33573135281238, 5.5677643628300215, 1.4142135623730951, 5.5677643628300215, 6.082762530298219, 2.0, 2.449489742783178, 1.4142135623730951, 3.3166247903554, 5.477225575051661, 3.0, 3.3166247903554, 4.47213595499958, 2.6457513110645907, 1.7320508075688772, 6.48074069840786], \"sizemode\": \"area\", \"sizeref\": 0.30454884665682125}, \"name\": \"\", \"showlegend\": false, \"type\": \"scattergeo\"}], \"name\": \"02/08/2020\"}, {\"data\": [{\"geo\": \"geo\", \"hoverlabel\": {\"namelength\": 0}, \"hovertemplate\": \"<b>%{hovertext}</b><br><br>date=02/09/2020<br>size=%{marker.color}<br>Lat=%{lat}<br>Long=%{lon}\", \"hovertext\": [\"Anhui\", \"Beijing\", \"Chongqing\", \"Fujian\", \"Gansu\", \"Guangdong\", \"Guangxi\", \"Guizhou\", \"Hainan\", \"Hebei\", \"Heilongjiang\", \"Henan\", \"Hubei\", \"Hunan\", \"Inner Mongolia\", \"Jiangsu\", \"Jiangxi\", \"Jilin\", \"Liaoning\", \"Shaanxi\", \"Shandong\", \"Shanghai\", \"Shanxi\", \"Sichuan\", \"Tianjin\", \"Xinjiang\", \"Yunnan\", \"Zhejiang\"], \"lat\": [31.8257, 40.1824, 30.0572, 26.0789, 36.0611, 23.3417, 23.8298, 26.8154, 19.1959, 38.0428, 47.861999999999995, 33.882020000000004, 30.9756, 27.6104, 44.0935, 32.9711, 27.614, 43.6661, 41.2956, 35.1917, 36.3427, 31.201999999999998, 37.5777, 30.6171, 39.3054, 41.1129, 24.974, 29.1832], \"legendgroup\": \"\", \"lon\": [117.2264, 116.4142, 107.874, 117.9874, 103.8343, 113.4244, 108.7881, 106.8748, 109.7453, 114.5149, 127.7615, 113.61399999999999, 112.2707, 111.7088, 113.9448, 119.455, 115.7221, 126.1923, 122.6085, 108.8701, 118.1498, 121.4491, 112.2922, 102.7103, 117.323, 85.2401, 101.48700000000001, 120.0934], \"marker\": {\"color\": [6.782329983125268, 3.3166247903554, 6.324555320336759, 3.3166247903554, 2.0, 6.0, 3.4641016151377544, 3.1622776601683795, 2.6457513110645907, 3.3166247903554, 3.4641016151377544, 7.211102550927978, 50.309044912421065, 5.916079783099616, 1.4142135623730951, 5.385164807134504, 6.48074069840786, 3.0, 1.4142135623730951, 3.605551275463989, 5.291502622129181, 2.6457513110645907, 2.0, 4.69041575982343, 1.7320508075688772, 1.7320508075688772, 1.7320508075688772, 5.196152422706632], \"coloraxis\": \"coloraxis\", \"size\": [6.782329983125268, 3.3166247903554, 6.324555320336759, 3.3166247903554, 2.0, 6.0, 3.4641016151377544, 3.1622776601683795, 2.6457513110645907, 3.3166247903554, 3.4641016151377544, 7.211102550927978, 50.309044912421065, 5.916079783099616, 1.4142135623730951, 5.385164807134504, 6.48074069840786, 3.0, 1.4142135623730951, 3.605551275463989, 5.291502622129181, 2.6457513110645907, 2.0, 4.69041575982343, 1.7320508075688772, 1.7320508075688772, 1.7320508075688772, 5.196152422706632], \"sizemode\": \"area\", \"sizeref\": 0.30454884665682125}, \"name\": \"\", \"showlegend\": false, \"type\": \"scattergeo\"}], \"name\": \"02/09/2020\"}, {\"data\": [{\"geo\": \"geo\", \"hoverlabel\": {\"namelength\": 0}, \"hovertemplate\": \"<b>%{hovertext}</b><br><br>date=03/01/2020<br>size=%{marker.color}<br>Lat=%{lat}<br>Long=%{lon}\", \"hovertext\": [\"Beijing\", \"Hubei\", \"Liaoning\", \"Shandong\"], \"lat\": [40.1824, 30.9756, 41.2956, 36.3427], \"legendgroup\": \"\", \"lon\": [116.4142, 112.2707, 122.6085, 118.1498], \"marker\": {\"color\": [1.4142135623730951, 23.874672772626646, 1.0, 1.4142135623730951], \"coloraxis\": \"coloraxis\", \"size\": [1.4142135623730951, 23.874672772626646, 1.0, 1.4142135623730951], \"sizemode\": \"area\", \"sizeref\": 0.30454884665682125}, \"name\": \"\", \"showlegend\": false, \"type\": \"scattergeo\"}], \"name\": \"03/01/2020\"}, {\"data\": [{\"geo\": \"geo\", \"hoverlabel\": {\"namelength\": 0}, \"hovertemplate\": \"<b>%{hovertext}</b><br><br>date=03/02/2020<br>size=%{marker.color}<br>Lat=%{lat}<br>Long=%{lon}\", \"hovertext\": [\"Beijing\", \"Guangdong\", \"Hubei\", \"Ningxia\", \"Zhejiang\"], \"lat\": [40.1824, 23.3417, 30.9756, 37.2692, 29.1832], \"legendgroup\": \"\", \"lon\": [116.4142, 113.4244, 112.2707, 106.1655, 120.0934], \"marker\": {\"color\": [1.0, 1.0, 14.0, 1.0, 1.0], \"coloraxis\": \"coloraxis\", \"size\": [1.0, 1.0, 14.0, 1.0, 1.0], \"sizemode\": \"area\", \"sizeref\": 0.30454884665682125}, \"name\": \"\", \"showlegend\": false, \"type\": \"scattergeo\"}], \"name\": \"03/02/2020\"}, {\"data\": [{\"geo\": \"geo\", \"hoverlabel\": {\"namelength\": 0}, \"hovertemplate\": \"<b>%{hovertext}</b><br><br>date=03/03/2020<br>size=%{marker.color}<br>Lat=%{lat}<br>Long=%{lon}\", \"hovertext\": [\"Hubei\", \"Liaoning\", \"Shanghai\", \"Zhejiang\"], \"lat\": [30.9756, 41.2956, 31.201999999999998, 29.1832], \"legendgroup\": \"\", \"lon\": [112.2707, 122.6085, 121.4491, 120.0934], \"marker\": {\"color\": [10.677078252031311, 1.7320508075688772, 1.0, 2.6457513110645907], \"coloraxis\": \"coloraxis\", \"size\": [10.677078252031311, 1.7320508075688772, 1.0, 2.6457513110645907], \"sizemode\": \"area\", \"sizeref\": 0.30454884665682125}, \"name\": \"\", \"showlegend\": false, \"type\": \"scattergeo\"}], \"name\": \"03/03/2020\"}, {\"data\": [{\"geo\": \"geo\", \"hoverlabel\": {\"namelength\": 0}, \"hovertemplate\": \"<b>%{hovertext}</b><br><br>date=03/04/2020<br>size=%{marker.color}<br>Lat=%{lat}<br>Long=%{lon}\", \"hovertext\": [\"Beijing\", \"Hubei\", \"Ningxia\"], \"lat\": [40.1824, 30.9756, 37.2692], \"legendgroup\": \"\", \"lon\": [116.4142, 112.2707, 106.1655], \"marker\": {\"color\": [2.0, 10.723805294763608, 1.0], \"coloraxis\": \"coloraxis\", \"size\": [2.0, 10.723805294763608, 1.0], \"sizemode\": \"area\", \"sizeref\": 0.30454884665682125}, \"name\": \"\", \"showlegend\": false, \"type\": \"scattergeo\"}], \"name\": \"03/04/2020\"}, {\"data\": [{\"geo\": \"geo\", \"hoverlabel\": {\"namelength\": 0}, \"hovertemplate\": \"<b>%{hovertext}</b><br><br>date=03/05/2020<br>size=%{marker.color}<br>Lat=%{lat}<br>Long=%{lon}\", \"hovertext\": [\"Gansu\", \"Guangdong\", \"Heilongjiang\", \"Hubei\", \"Shanghai\", \"Sichuan\", \"Zhejiang\"], \"lat\": [36.0611, 23.3417, 47.861999999999995, 30.9756, 31.201999999999998, 30.6171, 29.1832], \"legendgroup\": \"\", \"lon\": [103.8343, 113.4244, 127.7615, 112.2707, 121.4491, 102.7103, 120.0934], \"marker\": {\"color\": [3.3166247903554, 1.0, 1.0, 11.575836902790225, 1.0, 1.0, 1.4142135623730951], \"coloraxis\": \"coloraxis\", \"size\": [3.3166247903554, 1.0, 1.0, 11.575836902790225, 1.0, 1.0, 1.4142135623730951], \"sizemode\": \"area\", \"sizeref\": 0.30454884665682125}, \"name\": \"\", \"showlegend\": false, \"type\": \"scattergeo\"}], \"name\": \"03/05/2020\"}, {\"data\": [{\"geo\": \"geo\", \"hoverlabel\": {\"namelength\": 0}, \"hovertemplate\": \"<b>%{hovertext}</b><br><br>date=03/06/2020<br>size=%{marker.color}<br>Lat=%{lat}<br>Long=%{lon}\", \"hovertext\": [\"Beijing\", \"Gansu\", \"Guangdong\", \"Hubei\", \"Shanghai\"], \"lat\": [40.1824, 36.0611, 23.3417, 30.9756, 31.201999999999998], \"legendgroup\": \"\", \"lon\": [116.4142, 103.8343, 113.4244, 112.2707, 121.4491], \"marker\": {\"color\": [2.0, 4.123105625617661, 1.0, 11.224972160321824, 1.7320508075688772], \"coloraxis\": \"coloraxis\", \"size\": [2.0, 4.123105625617661, 1.0, 11.224972160321824, 1.7320508075688772], \"sizemode\": \"area\", \"sizeref\": 0.30454884665682125}, \"name\": \"\", \"showlegend\": false, \"type\": \"scattergeo\"}], \"name\": \"03/06/2020\"}, {\"data\": [{\"geo\": \"geo\", \"hoverlabel\": {\"namelength\": 0}, \"hovertemplate\": \"<b>%{hovertext}</b><br><br>date=03/07/2020<br>size=%{marker.color}<br>Lat=%{lat}<br>Long=%{lon}\", \"hovertext\": [\"Beijing\", \"Gansu\", \"Hubei\"], \"lat\": [40.1824, 36.0611, 30.9756], \"legendgroup\": \"\", \"lon\": [116.4142, 103.8343, 112.2707], \"marker\": {\"color\": [2.0, 1.0, 8.602325267042627], \"coloraxis\": \"coloraxis\", \"size\": [2.0, 1.0, 8.602325267042627], \"sizemode\": \"area\", \"sizeref\": 0.30454884665682125}, \"name\": \"\", \"showlegend\": false, \"type\": \"scattergeo\"}], \"name\": \"03/07/2020\"}, {\"data\": [{\"geo\": \"geo\", \"hoverlabel\": {\"namelength\": 0}, \"hovertemplate\": \"<b>%{hovertext}</b><br><br>date=03/08/2020<br>size=%{marker.color}<br>Lat=%{lat}<br>Long=%{lon}\", \"hovertext\": [\"Beijing\", \"Gansu\", \"Hubei\"], \"lat\": [40.1824, 36.0611, 30.9756], \"legendgroup\": \"\", \"lon\": [116.4142, 103.8343, 112.2707], \"marker\": {\"color\": [1.4142135623730951, 2.0, 6.4031242374328485], \"coloraxis\": \"coloraxis\", \"size\": [1.4142135623730951, 2.0, 6.4031242374328485], \"sizemode\": \"area\", \"sizeref\": 0.30454884665682125}, \"name\": \"\", \"showlegend\": false, \"type\": \"scattergeo\"}], \"name\": \"03/08/2020\"}, {\"data\": [{\"geo\": \"geo\", \"hoverlabel\": {\"namelength\": 0}, \"hovertemplate\": \"<b>%{hovertext}</b><br><br>date=03/09/2020<br>size=%{marker.color}<br>Lat=%{lat}<br>Long=%{lon}\", \"hovertext\": [\"Hubei\"], \"lat\": [30.9756], \"legendgroup\": \"\", \"lon\": [112.2707], \"marker\": {\"color\": [6.0], \"coloraxis\": \"coloraxis\", \"size\": [6.0], \"sizemode\": \"area\", \"sizeref\": 0.30454884665682125}, \"name\": \"\", \"showlegend\": false, \"type\": \"scattergeo\"}], \"name\": \"03/09/2020\"}]);\n",
       "                        }).then(function(){\n",
       "                            \n",
       "var gd = document.getElementById('d172860c-5544-448c-a079-ca344e5d4bd7');\n",
       "var x = new MutationObserver(function (mutations, observer) {{\n",
       "        var display = window.getComputedStyle(gd).display;\n",
       "        if (!display || display === 'none') {{\n",
       "            console.log([gd, 'removed!']);\n",
       "            Plotly.purge(gd);\n",
       "            observer.disconnect();\n",
       "        }}\n",
       "}});\n",
       "\n",
       "// Listen for the removal of the full notebook cells\n",
       "var notebookContainer = gd.closest('#notebook-container');\n",
       "if (notebookContainer) {{\n",
       "    x.observe(notebookContainer, {childList: true});\n",
       "}}\n",
       "\n",
       "// Listen for the clearing of the current output cell\n",
       "var outputEl = gd.closest('.output');\n",
       "if (outputEl) {{\n",
       "    x.observe(outputEl, {childList: true});\n",
       "}}\n",
       "\n",
       "                        })\n",
       "                };\n",
       "                });\n",
       "            </script>\n",
       "        </div>"
      ]
     },
     "metadata": {},
     "output_type": "display_data"
    }
   ],
   "source": [
    "china_map = china.groupby(['date', 'State'])['type','cases','Lat', 'Long'].max()\n",
    "china_map = china_map.reset_index()\n",
    "\n",
    "## SIZE OF THE MARK\n",
    "\n",
    "china_map['size'] = china_map['cases'].pow(0.5)\n",
    "\n",
    "## CONVERT THE DATE INTO DATETIME\n",
    "\n",
    "china_map['date'] = pd.to_datetime(china_map['date'])\n",
    "china_map['date'] = china_map['date'].dt.strftime('%m/%d/%Y')\n",
    "china_map.head()\n",
    "\n",
    "## PLOT ANIMATION\n",
    "\n",
    "fig = px.scatter_geo(china_map, lat='Lat', lon='Long', scope='asia',\n",
    "                     color=\"size\", size='size', hover_name='State', \n",
    "                     projection=\"natural earth\", animation_frame=\"date\", \n",
    "                     title='Spread in China over time')\n",
    "fig.update(layout_coloraxis_showscale=True)\n",
    "fig.show()\n"
   ]
  },
  {
   "cell_type": "markdown",
   "metadata": {},
   "source": [
    "# SPREAD OF COVID-19 OUTSIDE CHINA"
   ]
  },
  {
   "cell_type": "code",
   "execution_count": 210,
   "metadata": {
    "scrolled": true
   },
   "outputs": [
    {
     "data": {
      "text/html": [
       "<div>\n",
       "<style scoped>\n",
       "    .dataframe tbody tr th:only-of-type {\n",
       "        vertical-align: middle;\n",
       "    }\n",
       "\n",
       "    .dataframe tbody tr th {\n",
       "        vertical-align: top;\n",
       "    }\n",
       "\n",
       "    .dataframe thead th {\n",
       "        text-align: right;\n",
       "    }\n",
       "</style>\n",
       "<table border=\"1\" class=\"dataframe\">\n",
       "  <thead>\n",
       "    <tr style=\"text-align: right;\">\n",
       "      <th></th>\n",
       "      <th>State</th>\n",
       "      <th>Country</th>\n",
       "      <th>Lat</th>\n",
       "      <th>Long</th>\n",
       "      <th>date</th>\n",
       "      <th>cases</th>\n",
       "      <th>type</th>\n",
       "    </tr>\n",
       "  </thead>\n",
       "  <tbody>\n",
       "    <tr>\n",
       "      <th>0</th>\n",
       "      <td>NaN</td>\n",
       "      <td>Japan</td>\n",
       "      <td>36.0000</td>\n",
       "      <td>138.0000</td>\n",
       "      <td>1/22/2020</td>\n",
       "      <td>2</td>\n",
       "      <td>confirmed</td>\n",
       "    </tr>\n",
       "    <tr>\n",
       "      <th>1</th>\n",
       "      <td>NaN</td>\n",
       "      <td>South Korea</td>\n",
       "      <td>36.0000</td>\n",
       "      <td>128.0000</td>\n",
       "      <td>1/22/2020</td>\n",
       "      <td>1</td>\n",
       "      <td>confirmed</td>\n",
       "    </tr>\n",
       "    <tr>\n",
       "      <th>2</th>\n",
       "      <td>NaN</td>\n",
       "      <td>Thailand</td>\n",
       "      <td>15.0000</td>\n",
       "      <td>101.0000</td>\n",
       "      <td>1/22/2020</td>\n",
       "      <td>2</td>\n",
       "      <td>confirmed</td>\n",
       "    </tr>\n",
       "    <tr>\n",
       "      <th>17</th>\n",
       "      <td>King County, WA</td>\n",
       "      <td>US</td>\n",
       "      <td>47.6062</td>\n",
       "      <td>-122.3321</td>\n",
       "      <td>1/22/2020</td>\n",
       "      <td>1</td>\n",
       "      <td>confirmed</td>\n",
       "    </tr>\n",
       "    <tr>\n",
       "      <th>19</th>\n",
       "      <td>Macau</td>\n",
       "      <td>Macau</td>\n",
       "      <td>22.1667</td>\n",
       "      <td>113.5500</td>\n",
       "      <td>1/22/2020</td>\n",
       "      <td>1</td>\n",
       "      <td>confirmed</td>\n",
       "    </tr>\n",
       "    <tr>\n",
       "      <th>25</th>\n",
       "      <td>Taiwan</td>\n",
       "      <td>Taiwan</td>\n",
       "      <td>23.7000</td>\n",
       "      <td>121.0000</td>\n",
       "      <td>1/22/2020</td>\n",
       "      <td>1</td>\n",
       "      <td>confirmed</td>\n",
       "    </tr>\n",
       "    <tr>\n",
       "      <th>31</th>\n",
       "      <td>NaN</td>\n",
       "      <td>Japan</td>\n",
       "      <td>36.0000</td>\n",
       "      <td>138.0000</td>\n",
       "      <td>1/23/2020</td>\n",
       "      <td>1</td>\n",
       "      <td>confirmed</td>\n",
       "    </tr>\n",
       "    <tr>\n",
       "      <th>32</th>\n",
       "      <td>NaN</td>\n",
       "      <td>Singapore</td>\n",
       "      <td>1.2833</td>\n",
       "      <td>103.8333</td>\n",
       "      <td>1/23/2020</td>\n",
       "      <td>1</td>\n",
       "      <td>confirmed</td>\n",
       "    </tr>\n",
       "    <tr>\n",
       "      <th>33</th>\n",
       "      <td>NaN</td>\n",
       "      <td>Thailand</td>\n",
       "      <td>15.0000</td>\n",
       "      <td>101.0000</td>\n",
       "      <td>1/23/2020</td>\n",
       "      <td>1</td>\n",
       "      <td>confirmed</td>\n",
       "    </tr>\n",
       "    <tr>\n",
       "      <th>34</th>\n",
       "      <td>NaN</td>\n",
       "      <td>Vietnam</td>\n",
       "      <td>16.0000</td>\n",
       "      <td>108.0000</td>\n",
       "      <td>1/23/2020</td>\n",
       "      <td>2</td>\n",
       "      <td>confirmed</td>\n",
       "    </tr>\n",
       "    <tr>\n",
       "      <th>45</th>\n",
       "      <td>Hong Kong</td>\n",
       "      <td>Hong Kong</td>\n",
       "      <td>22.3000</td>\n",
       "      <td>114.2000</td>\n",
       "      <td>1/23/2020</td>\n",
       "      <td>2</td>\n",
       "      <td>confirmed</td>\n",
       "    </tr>\n",
       "    <tr>\n",
       "      <th>51</th>\n",
       "      <td>Macau</td>\n",
       "      <td>Macau</td>\n",
       "      <td>22.1667</td>\n",
       "      <td>113.5500</td>\n",
       "      <td>1/23/2020</td>\n",
       "      <td>1</td>\n",
       "      <td>confirmed</td>\n",
       "    </tr>\n",
       "    <tr>\n",
       "      <th>61</th>\n",
       "      <td>NaN</td>\n",
       "      <td>France</td>\n",
       "      <td>47.0000</td>\n",
       "      <td>2.0000</td>\n",
       "      <td>1/24/2020</td>\n",
       "      <td>2</td>\n",
       "      <td>confirmed</td>\n",
       "    </tr>\n",
       "    <tr>\n",
       "      <th>62</th>\n",
       "      <td>NaN</td>\n",
       "      <td>Japan</td>\n",
       "      <td>36.0000</td>\n",
       "      <td>138.0000</td>\n",
       "      <td>1/24/2020</td>\n",
       "      <td>1</td>\n",
       "      <td>confirmed</td>\n",
       "    </tr>\n",
       "    <tr>\n",
       "      <th>63</th>\n",
       "      <td>NaN</td>\n",
       "      <td>Singapore</td>\n",
       "      <td>1.2833</td>\n",
       "      <td>103.8333</td>\n",
       "      <td>1/24/2020</td>\n",
       "      <td>2</td>\n",
       "      <td>confirmed</td>\n",
       "    </tr>\n",
       "    <tr>\n",
       "      <th>64</th>\n",
       "      <td>NaN</td>\n",
       "      <td>South Korea</td>\n",
       "      <td>36.0000</td>\n",
       "      <td>128.0000</td>\n",
       "      <td>1/24/2020</td>\n",
       "      <td>1</td>\n",
       "      <td>confirmed</td>\n",
       "    </tr>\n",
       "    <tr>\n",
       "      <th>65</th>\n",
       "      <td>NaN</td>\n",
       "      <td>Thailand</td>\n",
       "      <td>15.0000</td>\n",
       "      <td>101.0000</td>\n",
       "      <td>1/24/2020</td>\n",
       "      <td>2</td>\n",
       "      <td>confirmed</td>\n",
       "    </tr>\n",
       "    <tr>\n",
       "      <th>69</th>\n",
       "      <td>Cook County, IL</td>\n",
       "      <td>US</td>\n",
       "      <td>41.7377</td>\n",
       "      <td>-87.6976</td>\n",
       "      <td>1/24/2020</td>\n",
       "      <td>1</td>\n",
       "      <td>confirmed</td>\n",
       "    </tr>\n",
       "    <tr>\n",
       "      <th>89</th>\n",
       "      <td>Taiwan</td>\n",
       "      <td>Taiwan</td>\n",
       "      <td>23.7000</td>\n",
       "      <td>121.0000</td>\n",
       "      <td>1/24/2020</td>\n",
       "      <td>2</td>\n",
       "      <td>confirmed</td>\n",
       "    </tr>\n",
       "    <tr>\n",
       "      <th>99</th>\n",
       "      <td>NaN</td>\n",
       "      <td>France</td>\n",
       "      <td>47.0000</td>\n",
       "      <td>2.0000</td>\n",
       "      <td>1/25/2020</td>\n",
       "      <td>1</td>\n",
       "      <td>confirmed</td>\n",
       "    </tr>\n",
       "    <tr>\n",
       "      <th>100</th>\n",
       "      <td>NaN</td>\n",
       "      <td>Malaysia</td>\n",
       "      <td>2.5000</td>\n",
       "      <td>112.5000</td>\n",
       "      <td>1/25/2020</td>\n",
       "      <td>3</td>\n",
       "      <td>confirmed</td>\n",
       "    </tr>\n",
       "    <tr>\n",
       "      <th>101</th>\n",
       "      <td>NaN</td>\n",
       "      <td>Nepal</td>\n",
       "      <td>28.1667</td>\n",
       "      <td>84.2500</td>\n",
       "      <td>1/25/2020</td>\n",
       "      <td>1</td>\n",
       "      <td>confirmed</td>\n",
       "    </tr>\n",
       "    <tr>\n",
       "      <th>102</th>\n",
       "      <td>NaN</td>\n",
       "      <td>Thailand</td>\n",
       "      <td>15.0000</td>\n",
       "      <td>101.0000</td>\n",
       "      <td>1/25/2020</td>\n",
       "      <td>2</td>\n",
       "      <td>confirmed</td>\n",
       "    </tr>\n",
       "    <tr>\n",
       "      <th>114</th>\n",
       "      <td>Hong Kong</td>\n",
       "      <td>Hong Kong</td>\n",
       "      <td>22.3000</td>\n",
       "      <td>114.2000</td>\n",
       "      <td>1/25/2020</td>\n",
       "      <td>3</td>\n",
       "      <td>confirmed</td>\n",
       "    </tr>\n",
       "    <tr>\n",
       "      <th>136</th>\n",
       "      <td>NaN</td>\n",
       "      <td>Japan</td>\n",
       "      <td>36.0000</td>\n",
       "      <td>138.0000</td>\n",
       "      <td>1/26/2020</td>\n",
       "      <td>2</td>\n",
       "      <td>confirmed</td>\n",
       "    </tr>\n",
       "    <tr>\n",
       "      <th>137</th>\n",
       "      <td>NaN</td>\n",
       "      <td>Malaysia</td>\n",
       "      <td>2.5000</td>\n",
       "      <td>112.5000</td>\n",
       "      <td>1/26/2020</td>\n",
       "      <td>1</td>\n",
       "      <td>confirmed</td>\n",
       "    </tr>\n",
       "    <tr>\n",
       "      <th>138</th>\n",
       "      <td>NaN</td>\n",
       "      <td>Singapore</td>\n",
       "      <td>1.2833</td>\n",
       "      <td>103.8333</td>\n",
       "      <td>1/26/2020</td>\n",
       "      <td>1</td>\n",
       "      <td>confirmed</td>\n",
       "    </tr>\n",
       "    <tr>\n",
       "      <th>139</th>\n",
       "      <td>NaN</td>\n",
       "      <td>South Korea</td>\n",
       "      <td>36.0000</td>\n",
       "      <td>128.0000</td>\n",
       "      <td>1/26/2020</td>\n",
       "      <td>1</td>\n",
       "      <td>confirmed</td>\n",
       "    </tr>\n",
       "    <tr>\n",
       "      <th>140</th>\n",
       "      <td>NaN</td>\n",
       "      <td>Thailand</td>\n",
       "      <td>15.0000</td>\n",
       "      <td>101.0000</td>\n",
       "      <td>1/26/2020</td>\n",
       "      <td>1</td>\n",
       "      <td>confirmed</td>\n",
       "    </tr>\n",
       "    <tr>\n",
       "      <th>153</th>\n",
       "      <td>Hong Kong</td>\n",
       "      <td>Hong Kong</td>\n",
       "      <td>22.3000</td>\n",
       "      <td>114.2000</td>\n",
       "      <td>1/26/2020</td>\n",
       "      <td>3</td>\n",
       "      <td>confirmed</td>\n",
       "    </tr>\n",
       "    <tr>\n",
       "      <th>...</th>\n",
       "      <td>...</td>\n",
       "      <td>...</td>\n",
       "      <td>...</td>\n",
       "      <td>...</td>\n",
       "      <td>...</td>\n",
       "      <td>...</td>\n",
       "      <td>...</td>\n",
       "    </tr>\n",
       "    <tr>\n",
       "      <th>3386</th>\n",
       "      <td>Placer County, CA</td>\n",
       "      <td>US</td>\n",
       "      <td>39.0916</td>\n",
       "      <td>-120.8039</td>\n",
       "      <td>3/9/2020</td>\n",
       "      <td>2</td>\n",
       "      <td>confirmed</td>\n",
       "    </tr>\n",
       "    <tr>\n",
       "      <th>3387</th>\n",
       "      <td>Rockingham County, NH</td>\n",
       "      <td>US</td>\n",
       "      <td>42.9931</td>\n",
       "      <td>-71.0498</td>\n",
       "      <td>3/9/2020</td>\n",
       "      <td>1</td>\n",
       "      <td>confirmed</td>\n",
       "    </tr>\n",
       "    <tr>\n",
       "      <th>3388</th>\n",
       "      <td>Rockland County, NY</td>\n",
       "      <td>US</td>\n",
       "      <td>41.1489</td>\n",
       "      <td>-73.9830</td>\n",
       "      <td>3/9/2020</td>\n",
       "      <td>2</td>\n",
       "      <td>confirmed</td>\n",
       "    </tr>\n",
       "    <tr>\n",
       "      <th>3389</th>\n",
       "      <td>Shasta County, CA</td>\n",
       "      <td>US</td>\n",
       "      <td>40.7909</td>\n",
       "      <td>-121.8474</td>\n",
       "      <td>3/9/2020</td>\n",
       "      <td>1</td>\n",
       "      <td>confirmed</td>\n",
       "    </tr>\n",
       "    <tr>\n",
       "      <th>3390</th>\n",
       "      <td>Sonoma County, CA</td>\n",
       "      <td>US</td>\n",
       "      <td>38.5780</td>\n",
       "      <td>-122.9888</td>\n",
       "      <td>3/9/2020</td>\n",
       "      <td>2</td>\n",
       "      <td>confirmed</td>\n",
       "    </tr>\n",
       "    <tr>\n",
       "      <th>3391</th>\n",
       "      <td>Spartanburg County, SC</td>\n",
       "      <td>US</td>\n",
       "      <td>34.8606</td>\n",
       "      <td>-81.9535</td>\n",
       "      <td>3/9/2020</td>\n",
       "      <td>1</td>\n",
       "      <td>confirmed</td>\n",
       "    </tr>\n",
       "    <tr>\n",
       "      <th>3392</th>\n",
       "      <td>Victoria</td>\n",
       "      <td>Australia</td>\n",
       "      <td>-37.8136</td>\n",
       "      <td>144.9631</td>\n",
       "      <td>3/9/2020</td>\n",
       "      <td>4</td>\n",
       "      <td>confirmed</td>\n",
       "    </tr>\n",
       "    <tr>\n",
       "      <th>3393</th>\n",
       "      <td>Westchester County, NY</td>\n",
       "      <td>US</td>\n",
       "      <td>41.1220</td>\n",
       "      <td>-73.7949</td>\n",
       "      <td>3/9/2020</td>\n",
       "      <td>15</td>\n",
       "      <td>confirmed</td>\n",
       "    </tr>\n",
       "    <tr>\n",
       "      <th>3394</th>\n",
       "      <td>Western Australia</td>\n",
       "      <td>Australia</td>\n",
       "      <td>-31.9505</td>\n",
       "      <td>115.8605</td>\n",
       "      <td>3/9/2020</td>\n",
       "      <td>1</td>\n",
       "      <td>confirmed</td>\n",
       "    </tr>\n",
       "    <tr>\n",
       "      <th>3395</th>\n",
       "      <td>NaN</td>\n",
       "      <td>Germany</td>\n",
       "      <td>51.0000</td>\n",
       "      <td>9.0000</td>\n",
       "      <td>3/9/2020</td>\n",
       "      <td>2</td>\n",
       "      <td>death</td>\n",
       "    </tr>\n",
       "    <tr>\n",
       "      <th>3396</th>\n",
       "      <td>NaN</td>\n",
       "      <td>Iran</td>\n",
       "      <td>32.0000</td>\n",
       "      <td>53.0000</td>\n",
       "      <td>3/9/2020</td>\n",
       "      <td>43</td>\n",
       "      <td>death</td>\n",
       "    </tr>\n",
       "    <tr>\n",
       "      <th>3397</th>\n",
       "      <td>NaN</td>\n",
       "      <td>Italy</td>\n",
       "      <td>43.0000</td>\n",
       "      <td>12.0000</td>\n",
       "      <td>3/9/2020</td>\n",
       "      <td>97</td>\n",
       "      <td>death</td>\n",
       "    </tr>\n",
       "    <tr>\n",
       "      <th>3398</th>\n",
       "      <td>NaN</td>\n",
       "      <td>Japan</td>\n",
       "      <td>36.0000</td>\n",
       "      <td>138.0000</td>\n",
       "      <td>3/9/2020</td>\n",
       "      <td>11</td>\n",
       "      <td>death</td>\n",
       "    </tr>\n",
       "    <tr>\n",
       "      <th>3399</th>\n",
       "      <td>NaN</td>\n",
       "      <td>South Korea</td>\n",
       "      <td>36.0000</td>\n",
       "      <td>128.0000</td>\n",
       "      <td>3/9/2020</td>\n",
       "      <td>3</td>\n",
       "      <td>death</td>\n",
       "    </tr>\n",
       "    <tr>\n",
       "      <th>3400</th>\n",
       "      <td>NaN</td>\n",
       "      <td>Spain</td>\n",
       "      <td>40.0000</td>\n",
       "      <td>-4.0000</td>\n",
       "      <td>3/9/2020</td>\n",
       "      <td>11</td>\n",
       "      <td>death</td>\n",
       "    </tr>\n",
       "    <tr>\n",
       "      <th>3401</th>\n",
       "      <td>NaN</td>\n",
       "      <td>UK</td>\n",
       "      <td>55.0000</td>\n",
       "      <td>-3.0000</td>\n",
       "      <td>3/9/2020</td>\n",
       "      <td>1</td>\n",
       "      <td>death</td>\n",
       "    </tr>\n",
       "    <tr>\n",
       "      <th>3402</th>\n",
       "      <td>British Columbia</td>\n",
       "      <td>Canada</td>\n",
       "      <td>49.2827</td>\n",
       "      <td>-123.1207</td>\n",
       "      <td>3/9/2020</td>\n",
       "      <td>1</td>\n",
       "      <td>death</td>\n",
       "    </tr>\n",
       "    <tr>\n",
       "      <th>3403</th>\n",
       "      <td>Grant County, WA</td>\n",
       "      <td>US</td>\n",
       "      <td>47.1981</td>\n",
       "      <td>-119.3732</td>\n",
       "      <td>3/9/2020</td>\n",
       "      <td>1</td>\n",
       "      <td>death</td>\n",
       "    </tr>\n",
       "    <tr>\n",
       "      <th>3406</th>\n",
       "      <td>NaN</td>\n",
       "      <td>Austria</td>\n",
       "      <td>47.5162</td>\n",
       "      <td>14.5501</td>\n",
       "      <td>3/9/2020</td>\n",
       "      <td>2</td>\n",
       "      <td>recovered</td>\n",
       "    </tr>\n",
       "    <tr>\n",
       "      <th>3407</th>\n",
       "      <td>NaN</td>\n",
       "      <td>Bahrain</td>\n",
       "      <td>26.0275</td>\n",
       "      <td>50.5500</td>\n",
       "      <td>3/9/2020</td>\n",
       "      <td>10</td>\n",
       "      <td>recovered</td>\n",
       "    </tr>\n",
       "    <tr>\n",
       "      <th>3408</th>\n",
       "      <td>NaN</td>\n",
       "      <td>Belarus</td>\n",
       "      <td>53.7098</td>\n",
       "      <td>27.9534</td>\n",
       "      <td>3/9/2020</td>\n",
       "      <td>1</td>\n",
       "      <td>recovered</td>\n",
       "    </tr>\n",
       "    <tr>\n",
       "      <th>3409</th>\n",
       "      <td>NaN</td>\n",
       "      <td>Egypt</td>\n",
       "      <td>26.0000</td>\n",
       "      <td>30.0000</td>\n",
       "      <td>3/9/2020</td>\n",
       "      <td>11</td>\n",
       "      <td>recovered</td>\n",
       "    </tr>\n",
       "    <tr>\n",
       "      <th>3410</th>\n",
       "      <td>NaN</td>\n",
       "      <td>Iran</td>\n",
       "      <td>32.0000</td>\n",
       "      <td>53.0000</td>\n",
       "      <td>3/9/2020</td>\n",
       "      <td>260</td>\n",
       "      <td>recovered</td>\n",
       "    </tr>\n",
       "    <tr>\n",
       "      <th>3411</th>\n",
       "      <td>NaN</td>\n",
       "      <td>Iraq</td>\n",
       "      <td>33.0000</td>\n",
       "      <td>44.0000</td>\n",
       "      <td>3/9/2020</td>\n",
       "      <td>9</td>\n",
       "      <td>recovered</td>\n",
       "    </tr>\n",
       "    <tr>\n",
       "      <th>3412</th>\n",
       "      <td>NaN</td>\n",
       "      <td>Italy</td>\n",
       "      <td>43.0000</td>\n",
       "      <td>12.0000</td>\n",
       "      <td>3/9/2020</td>\n",
       "      <td>102</td>\n",
       "      <td>recovered</td>\n",
       "    </tr>\n",
       "    <tr>\n",
       "      <th>3413</th>\n",
       "      <td>NaN</td>\n",
       "      <td>Norway</td>\n",
       "      <td>60.4720</td>\n",
       "      <td>8.4689</td>\n",
       "      <td>3/9/2020</td>\n",
       "      <td>1</td>\n",
       "      <td>recovered</td>\n",
       "    </tr>\n",
       "    <tr>\n",
       "      <th>3414</th>\n",
       "      <td>NaN</td>\n",
       "      <td>Spain</td>\n",
       "      <td>40.0000</td>\n",
       "      <td>-4.0000</td>\n",
       "      <td>3/9/2020</td>\n",
       "      <td>2</td>\n",
       "      <td>recovered</td>\n",
       "    </tr>\n",
       "    <tr>\n",
       "      <th>3415</th>\n",
       "      <td>NaN</td>\n",
       "      <td>Sweden</td>\n",
       "      <td>63.0000</td>\n",
       "      <td>16.0000</td>\n",
       "      <td>3/9/2020</td>\n",
       "      <td>1</td>\n",
       "      <td>recovered</td>\n",
       "    </tr>\n",
       "    <tr>\n",
       "      <th>3423</th>\n",
       "      <td>Hong Kong</td>\n",
       "      <td>Hong Kong</td>\n",
       "      <td>22.3000</td>\n",
       "      <td>114.2000</td>\n",
       "      <td>3/9/2020</td>\n",
       "      <td>1</td>\n",
       "      <td>recovered</td>\n",
       "    </tr>\n",
       "    <tr>\n",
       "      <th>3433</th>\n",
       "      <td>Taiwan</td>\n",
       "      <td>Taiwan</td>\n",
       "      <td>23.7000</td>\n",
       "      <td>121.0000</td>\n",
       "      <td>3/9/2020</td>\n",
       "      <td>2</td>\n",
       "      <td>recovered</td>\n",
       "    </tr>\n",
       "  </tbody>\n",
       "</table>\n",
       "<p>1375 rows × 7 columns</p>\n",
       "</div>"
      ],
      "text/plain": [
       "                       State      Country      Lat      Long       date  \\\n",
       "0                        NaN        Japan  36.0000  138.0000  1/22/2020   \n",
       "1                        NaN  South Korea  36.0000  128.0000  1/22/2020   \n",
       "2                        NaN     Thailand  15.0000  101.0000  1/22/2020   \n",
       "17           King County, WA           US  47.6062 -122.3321  1/22/2020   \n",
       "19                     Macau        Macau  22.1667  113.5500  1/22/2020   \n",
       "25                    Taiwan       Taiwan  23.7000  121.0000  1/22/2020   \n",
       "31                       NaN        Japan  36.0000  138.0000  1/23/2020   \n",
       "32                       NaN    Singapore   1.2833  103.8333  1/23/2020   \n",
       "33                       NaN     Thailand  15.0000  101.0000  1/23/2020   \n",
       "34                       NaN      Vietnam  16.0000  108.0000  1/23/2020   \n",
       "45                 Hong Kong    Hong Kong  22.3000  114.2000  1/23/2020   \n",
       "51                     Macau        Macau  22.1667  113.5500  1/23/2020   \n",
       "61                       NaN       France  47.0000    2.0000  1/24/2020   \n",
       "62                       NaN        Japan  36.0000  138.0000  1/24/2020   \n",
       "63                       NaN    Singapore   1.2833  103.8333  1/24/2020   \n",
       "64                       NaN  South Korea  36.0000  128.0000  1/24/2020   \n",
       "65                       NaN     Thailand  15.0000  101.0000  1/24/2020   \n",
       "69           Cook County, IL           US  41.7377  -87.6976  1/24/2020   \n",
       "89                    Taiwan       Taiwan  23.7000  121.0000  1/24/2020   \n",
       "99                       NaN       France  47.0000    2.0000  1/25/2020   \n",
       "100                      NaN     Malaysia   2.5000  112.5000  1/25/2020   \n",
       "101                      NaN        Nepal  28.1667   84.2500  1/25/2020   \n",
       "102                      NaN     Thailand  15.0000  101.0000  1/25/2020   \n",
       "114                Hong Kong    Hong Kong  22.3000  114.2000  1/25/2020   \n",
       "136                      NaN        Japan  36.0000  138.0000  1/26/2020   \n",
       "137                      NaN     Malaysia   2.5000  112.5000  1/26/2020   \n",
       "138                      NaN    Singapore   1.2833  103.8333  1/26/2020   \n",
       "139                      NaN  South Korea  36.0000  128.0000  1/26/2020   \n",
       "140                      NaN     Thailand  15.0000  101.0000  1/26/2020   \n",
       "153                Hong Kong    Hong Kong  22.3000  114.2000  1/26/2020   \n",
       "...                      ...          ...      ...       ...        ...   \n",
       "3386       Placer County, CA           US  39.0916 -120.8039   3/9/2020   \n",
       "3387   Rockingham County, NH           US  42.9931  -71.0498   3/9/2020   \n",
       "3388     Rockland County, NY           US  41.1489  -73.9830   3/9/2020   \n",
       "3389       Shasta County, CA           US  40.7909 -121.8474   3/9/2020   \n",
       "3390       Sonoma County, CA           US  38.5780 -122.9888   3/9/2020   \n",
       "3391  Spartanburg County, SC           US  34.8606  -81.9535   3/9/2020   \n",
       "3392                Victoria    Australia -37.8136  144.9631   3/9/2020   \n",
       "3393  Westchester County, NY           US  41.1220  -73.7949   3/9/2020   \n",
       "3394       Western Australia    Australia -31.9505  115.8605   3/9/2020   \n",
       "3395                     NaN      Germany  51.0000    9.0000   3/9/2020   \n",
       "3396                     NaN         Iran  32.0000   53.0000   3/9/2020   \n",
       "3397                     NaN        Italy  43.0000   12.0000   3/9/2020   \n",
       "3398                     NaN        Japan  36.0000  138.0000   3/9/2020   \n",
       "3399                     NaN  South Korea  36.0000  128.0000   3/9/2020   \n",
       "3400                     NaN        Spain  40.0000   -4.0000   3/9/2020   \n",
       "3401                     NaN           UK  55.0000   -3.0000   3/9/2020   \n",
       "3402        British Columbia       Canada  49.2827 -123.1207   3/9/2020   \n",
       "3403        Grant County, WA           US  47.1981 -119.3732   3/9/2020   \n",
       "3406                     NaN      Austria  47.5162   14.5501   3/9/2020   \n",
       "3407                     NaN      Bahrain  26.0275   50.5500   3/9/2020   \n",
       "3408                     NaN      Belarus  53.7098   27.9534   3/9/2020   \n",
       "3409                     NaN        Egypt  26.0000   30.0000   3/9/2020   \n",
       "3410                     NaN         Iran  32.0000   53.0000   3/9/2020   \n",
       "3411                     NaN         Iraq  33.0000   44.0000   3/9/2020   \n",
       "3412                     NaN        Italy  43.0000   12.0000   3/9/2020   \n",
       "3413                     NaN       Norway  60.4720    8.4689   3/9/2020   \n",
       "3414                     NaN        Spain  40.0000   -4.0000   3/9/2020   \n",
       "3415                     NaN       Sweden  63.0000   16.0000   3/9/2020   \n",
       "3423               Hong Kong    Hong Kong  22.3000  114.2000   3/9/2020   \n",
       "3433                  Taiwan       Taiwan  23.7000  121.0000   3/9/2020   \n",
       "\n",
       "      cases       type  \n",
       "0         2  confirmed  \n",
       "1         1  confirmed  \n",
       "2         2  confirmed  \n",
       "17        1  confirmed  \n",
       "19        1  confirmed  \n",
       "25        1  confirmed  \n",
       "31        1  confirmed  \n",
       "32        1  confirmed  \n",
       "33        1  confirmed  \n",
       "34        2  confirmed  \n",
       "45        2  confirmed  \n",
       "51        1  confirmed  \n",
       "61        2  confirmed  \n",
       "62        1  confirmed  \n",
       "63        2  confirmed  \n",
       "64        1  confirmed  \n",
       "65        2  confirmed  \n",
       "69        1  confirmed  \n",
       "89        2  confirmed  \n",
       "99        1  confirmed  \n",
       "100       3  confirmed  \n",
       "101       1  confirmed  \n",
       "102       2  confirmed  \n",
       "114       3  confirmed  \n",
       "136       2  confirmed  \n",
       "137       1  confirmed  \n",
       "138       1  confirmed  \n",
       "139       1  confirmed  \n",
       "140       1  confirmed  \n",
       "153       3  confirmed  \n",
       "...     ...        ...  \n",
       "3386      2  confirmed  \n",
       "3387      1  confirmed  \n",
       "3388      2  confirmed  \n",
       "3389      1  confirmed  \n",
       "3390      2  confirmed  \n",
       "3391      1  confirmed  \n",
       "3392      4  confirmed  \n",
       "3393     15  confirmed  \n",
       "3394      1  confirmed  \n",
       "3395      2      death  \n",
       "3396     43      death  \n",
       "3397     97      death  \n",
       "3398     11      death  \n",
       "3399      3      death  \n",
       "3400     11      death  \n",
       "3401      1      death  \n",
       "3402      1      death  \n",
       "3403      1      death  \n",
       "3406      2  recovered  \n",
       "3407     10  recovered  \n",
       "3408      1  recovered  \n",
       "3409     11  recovered  \n",
       "3410    260  recovered  \n",
       "3411      9  recovered  \n",
       "3412    102  recovered  \n",
       "3413      1  recovered  \n",
       "3414      2  recovered  \n",
       "3415      1  recovered  \n",
       "3423      1  recovered  \n",
       "3433      2  recovered  \n",
       "\n",
       "[1375 rows x 7 columns]"
      ]
     },
     "execution_count": 210,
     "metadata": {},
     "output_type": "execute_result"
    }
   ],
   "source": [
    "## FILTER DATA WITHOUT CHINA\n",
    "\n",
    "df1 = df[df['Country']!='China']\n",
    "df1"
   ]
  },
  {
   "cell_type": "code",
   "execution_count": 211,
   "metadata": {},
   "outputs": [
    {
     "data": {
      "application/vnd.plotly.v1+json": {
       "config": {
        "plotlyServerURL": "https://plot.ly"
       },
       "data": [
        {
         "geo": "geo",
         "hoverlabel": {
          "namelength": 0
         },
         "hovertemplate": "<b>%{hovertext}</b><br><br>date=01/22/2020<br>size=%{marker.size}<br>Lat=%{lat}<br>Long=%{lon}<br>cases=%{marker.color}",
         "hovertext": [
          "Japan",
          "Macau",
          "South Korea",
          "Taiwan",
          "Thailand",
          "US"
         ],
         "lat": [
          36,
          22.1667,
          36,
          23.7,
          15,
          47.6062
         ],
         "legendgroup": "",
         "lon": [
          138,
          113.55,
          128,
          121,
          101,
          -122.3321
         ],
         "marker": {
          "color": [
           2,
           1,
           1,
           1,
           2,
           1
          ],
          "coloraxis": "coloraxis",
          "size": [
           1.3195079107728942,
           1,
           1,
           1,
           1.3195079107728942,
           1
          ],
          "sizemode": "area",
          "sizeref": 0.05009094667077794
         },
         "name": "",
         "showlegend": false,
         "type": "scattergeo"
        }
       ],
       "frames": [
        {
         "data": [
          {
           "geo": "geo",
           "hoverlabel": {
            "namelength": 0
           },
           "hovertemplate": "<b>%{hovertext}</b><br><br>date=01/22/2020<br>size=%{marker.size}<br>Lat=%{lat}<br>Long=%{lon}<br>cases=%{marker.color}",
           "hovertext": [
            "Japan",
            "Macau",
            "South Korea",
            "Taiwan",
            "Thailand",
            "US"
           ],
           "lat": [
            36,
            22.1667,
            36,
            23.7,
            15,
            47.6062
           ],
           "legendgroup": "",
           "lon": [
            138,
            113.55,
            128,
            121,
            101,
            -122.3321
           ],
           "marker": {
            "color": [
             2,
             1,
             1,
             1,
             2,
             1
            ],
            "coloraxis": "coloraxis",
            "size": [
             1.3195079107728942,
             1,
             1,
             1,
             1.3195079107728942,
             1
            ],
            "sizemode": "area",
            "sizeref": 0.05009094667077794
           },
           "name": "",
           "showlegend": false,
           "type": "scattergeo"
          }
         ],
         "name": "01/22/2020"
        },
        {
         "data": [
          {
           "geo": "geo",
           "hoverlabel": {
            "namelength": 0
           },
           "hovertemplate": "<b>%{hovertext}</b><br><br>date=01/23/2020<br>size=%{marker.size}<br>Lat=%{lat}<br>Long=%{lon}<br>cases=%{marker.color}",
           "hovertext": [
            "Hong Kong",
            "Japan",
            "Macau",
            "Singapore",
            "Thailand",
            "Vietnam"
           ],
           "lat": [
            22.3,
            36,
            22.1667,
            1.2833,
            15,
            16
           ],
           "legendgroup": "",
           "lon": [
            114.2,
            138,
            113.55,
            103.8333,
            101,
            108
           ],
           "marker": {
            "color": [
             2,
             1,
             1,
             1,
             1,
             2
            ],
            "coloraxis": "coloraxis",
            "size": [
             1.3195079107728942,
             1,
             1,
             1,
             1,
             1.3195079107728942
            ],
            "sizemode": "area",
            "sizeref": 0.05009094667077794
           },
           "name": "",
           "showlegend": false,
           "type": "scattergeo"
          }
         ],
         "name": "01/23/2020"
        },
        {
         "data": [
          {
           "geo": "geo",
           "hoverlabel": {
            "namelength": 0
           },
           "hovertemplate": "<b>%{hovertext}</b><br><br>date=01/24/2020<br>size=%{marker.size}<br>Lat=%{lat}<br>Long=%{lon}<br>cases=%{marker.color}",
           "hovertext": [
            "France",
            "Japan",
            "Singapore",
            "South Korea",
            "Taiwan",
            "Thailand",
            "US"
           ],
           "lat": [
            47,
            36,
            1.2833,
            36,
            23.7,
            15,
            41.7377
           ],
           "legendgroup": "",
           "lon": [
            2,
            138,
            103.8333,
            128,
            121,
            101,
            -87.6976
           ],
           "marker": {
            "color": [
             2,
             1,
             2,
             1,
             2,
             2,
             1
            ],
            "coloraxis": "coloraxis",
            "size": [
             1.3195079107728942,
             1,
             1.3195079107728942,
             1,
             1.3195079107728942,
             1.3195079107728942,
             1
            ],
            "sizemode": "area",
            "sizeref": 0.05009094667077794
           },
           "name": "",
           "showlegend": false,
           "type": "scattergeo"
          }
         ],
         "name": "01/24/2020"
        },
        {
         "data": [
          {
           "geo": "geo",
           "hoverlabel": {
            "namelength": 0
           },
           "hovertemplate": "<b>%{hovertext}</b><br><br>date=01/25/2020<br>size=%{marker.size}<br>Lat=%{lat}<br>Long=%{lon}<br>cases=%{marker.color}",
           "hovertext": [
            "France",
            "Hong Kong",
            "Malaysia",
            "Nepal",
            "Thailand"
           ],
           "lat": [
            47,
            22.3,
            2.5,
            28.1667,
            15
           ],
           "legendgroup": "",
           "lon": [
            2,
            114.2,
            112.5,
            84.25,
            101
           ],
           "marker": {
            "color": [
             1,
             3,
             3,
             1,
             2
            ],
            "coloraxis": "coloraxis",
            "size": [
             1,
             1.5518455739153598,
             1.5518455739153598,
             1,
             1.3195079107728942
            ],
            "sizemode": "area",
            "sizeref": 0.05009094667077794
           },
           "name": "",
           "showlegend": false,
           "type": "scattergeo"
          }
         ],
         "name": "01/25/2020"
        },
        {
         "data": [
          {
           "geo": "geo",
           "hoverlabel": {
            "namelength": 0
           },
           "hovertemplate": "<b>%{hovertext}</b><br><br>date=01/26/2020<br>size=%{marker.size}<br>Lat=%{lat}<br>Long=%{lon}<br>cases=%{marker.color}",
           "hovertext": [
            "Australia",
            "Canada",
            "Hong Kong",
            "Japan",
            "Macau",
            "Malaysia",
            "Singapore",
            "South Korea",
            "Taiwan",
            "Thailand",
            "US"
           ],
           "lat": [
            -33.8688,
            51.2538,
            22.3,
            36,
            22.1667,
            2.5,
            1.2833,
            36,
            23.7,
            15,
            34.0522
           ],
           "legendgroup": "",
           "lon": [
            151.2093,
            -85.3232,
            114.2,
            138,
            113.55,
            112.5,
            103.8333,
            128,
            121,
            101,
            -112.4291
           ],
           "marker": {
            "color": [
             3,
             1,
             3,
             2,
             3,
             1,
             1,
             1,
             1,
             1,
             1
            ],
            "coloraxis": "coloraxis",
            "size": [
             1.5518455739153598,
             1,
             1.5518455739153598,
             1.3195079107728942,
             1.5518455739153598,
             1,
             1,
             1,
             1,
             1,
             1
            ],
            "sizemode": "area",
            "sizeref": 0.05009094667077794
           },
           "name": "",
           "showlegend": false,
           "type": "scattergeo"
          }
         ],
         "name": "01/26/2020"
        },
        {
         "data": [
          {
           "geo": "geo",
           "hoverlabel": {
            "namelength": 0
           },
           "hovertemplate": "<b>%{hovertext}</b><br><br>date=01/27/2020<br>size=%{marker.size}<br>Lat=%{lat}<br>Long=%{lon}<br>cases=%{marker.color}",
           "hovertext": [
            "Australia",
            "Cambodia",
            "Germany",
            "Macau",
            "Singapore",
            "South Korea",
            "Sri Lanka",
            "Taiwan"
           ],
           "lat": [
            -33.8688,
            11.55,
            51,
            22.1667,
            1.2833,
            36,
            7,
            23.7
           ],
           "legendgroup": "",
           "lon": [
            151.2093,
            104.9167,
            9,
            113.55,
            103.8333,
            128,
            81,
            121
           ],
           "marker": {
            "color": [
             1,
             1,
             1,
             1,
             1,
             1,
             1,
             1
            ],
            "coloraxis": "coloraxis",
            "size": [
             1,
             1,
             1,
             1,
             1,
             1,
             1,
             1
            ],
            "sizemode": "area",
            "sizeref": 0.05009094667077794
           },
           "name": "",
           "showlegend": false,
           "type": "scattergeo"
          }
         ],
         "name": "01/27/2020"
        },
        {
         "data": [
          {
           "geo": "geo",
           "hoverlabel": {
            "namelength": 0
           },
           "hovertemplate": "<b>%{hovertext}</b><br><br>date=01/28/2020<br>size=%{marker.size}<br>Lat=%{lat}<br>Long=%{lon}<br>cases=%{marker.color}",
           "hovertext": [
            "Canada",
            "France",
            "Germany",
            "Japan",
            "Macau",
            "Singapore",
            "Taiwan",
            "Thailand"
           ],
           "lat": [
            49.2827,
            47,
            51,
            36,
            22.1667,
            1.2833,
            23.7,
            15
           ],
           "legendgroup": "",
           "lon": [
            -123.1207,
            2,
            9,
            138,
            113.55,
            103.8333,
            121,
            101
           ],
           "marker": {
            "color": [
             1,
             1,
             3,
             3,
             1,
             2,
             3,
             6
            ],
            "coloraxis": "coloraxis",
            "size": [
             1,
             1,
             1.5518455739153598,
             1.5518455739153598,
             1,
             1.3195079107728942,
             1.5518455739153598,
             2.0476725110792193
            ],
            "sizemode": "area",
            "sizeref": 0.05009094667077794
           },
           "name": "",
           "showlegend": false,
           "type": "scattergeo"
          }
         ],
         "name": "01/28/2020"
        },
        {
         "data": [
          {
           "geo": "geo",
           "hoverlabel": {
            "namelength": 0
           },
           "hovertemplate": "<b>%{hovertext}</b><br><br>date=01/29/2020<br>size=%{marker.size}<br>Lat=%{lat}<br>Long=%{lon}<br>cases=%{marker.color}",
           "hovertext": [
            "Australia",
            "Finland",
            "France",
            "Hong Kong",
            "Malaysia",
            "United Arab Emirates"
           ],
           "lat": [
            -28.0167,
            64,
            47,
            22.3,
            2.5,
            24
           ],
           "legendgroup": "",
           "lon": [
            153.4,
            26,
            2,
            114.2,
            112.5,
            54
           ],
           "marker": {
            "color": [
             1,
             1,
             1,
             2,
             3,
             4
            ],
            "coloraxis": "coloraxis",
            "size": [
             1,
             1,
             1,
             1.3195079107728942,
             1.5518455739153598,
             1.7411011265922482
            ],
            "sizemode": "area",
            "sizeref": 0.05009094667077794
           },
           "name": "",
           "showlegend": false,
           "type": "scattergeo"
          }
         ],
         "name": "01/29/2020"
        },
        {
         "data": [
          {
           "geo": "geo",
           "hoverlabel": {
            "namelength": 0
           },
           "hovertemplate": "<b>%{hovertext}</b><br><br>date=01/30/2020<br>size=%{marker.size}<br>Lat=%{lat}<br>Long=%{lon}<br>cases=%{marker.color}",
           "hovertext": [
            "Australia",
            "India",
            "Japan",
            "Malaysia",
            "Philippines",
            "Singapore",
            "Taiwan"
           ],
           "lat": [
            -28.0167,
            21,
            36,
            2.5,
            13,
            1.2833,
            23.7
           ],
           "legendgroup": "",
           "lon": [
            153.4,
            78,
            138,
            112.5,
            122,
            103.8333,
            121
           ],
           "marker": {
            "color": [
             2,
             1,
             4,
             1,
             1,
             3,
             1
            ],
            "coloraxis": "coloraxis",
            "size": [
             1.3195079107728942,
             1,
             1.7411011265922482,
             1,
             1,
             1.5518455739153598,
             1
            ],
            "sizemode": "area",
            "sizeref": 0.05009094667077794
           },
           "name": "",
           "showlegend": false,
           "type": "scattergeo"
          }
         ],
         "name": "01/30/2020"
        },
        {
         "data": [
          {
           "geo": "geo",
           "hoverlabel": {
            "namelength": 0
           },
           "hovertemplate": "<b>%{hovertext}</b><br><br>date=01/31/2020<br>size=%{marker.size}<br>Lat=%{lat}<br>Long=%{lon}<br>cases=%{marker.color}",
           "hovertext": [
            "Australia",
            "Canada",
            "Germany",
            "Hong Kong",
            "Italy",
            "Japan",
            "Russia",
            "Singapore",
            "South Korea",
            "Sweden",
            "Taiwan",
            "Thailand",
            "UK",
            "US"
           ],
           "lat": [
            -28.0167,
            51.2538,
            51,
            22.3,
            43,
            36,
            60,
            1.2833,
            36,
            63,
            23.7,
            15,
            55,
            41.7377
           ],
           "legendgroup": "",
           "lon": [
            153.4,
            -85.3232,
            9,
            114.2,
            12,
            138,
            90,
            103.8333,
            128,
            16,
            121,
            101,
            -3,
            -87.6976
           ],
           "marker": {
            "color": [
             1,
             2,
             1,
             2,
             2,
             4,
             2,
             3,
             7,
             1,
             1,
             5,
             2,
             1
            ],
            "coloraxis": "coloraxis",
            "size": [
             1,
             1.3195079107728942,
             1,
             1.3195079107728942,
             1.3195079107728942,
             1.7411011265922482,
             1.3195079107728942,
             1.5518455739153598,
             2.17790642448278,
             1,
             1,
             1.9036539387158786,
             1.3195079107728942,
             1
            ],
            "sizemode": "area",
            "sizeref": 0.05009094667077794
           },
           "name": "",
           "showlegend": false,
           "type": "scattergeo"
          }
         ],
         "name": "01/31/2020"
        },
        {
         "data": [
          {
           "geo": "geo",
           "hoverlabel": {
            "namelength": 0
           },
           "hovertemplate": "<b>%{hovertext}</b><br><br>date=02/01/2020<br>size=%{marker.size}<br>Lat=%{lat}<br>Long=%{lon}<br>cases=%{marker.color}",
           "hovertext": [
            "Australia",
            "France",
            "Germany",
            "Hong Kong",
            "Japan",
            "Singapore",
            "South Korea",
            "Spain",
            "US",
            "Vietnam"
           ],
           "lat": [
            -28.0167,
            47,
            51,
            22.3,
            36,
            1.2833,
            36,
            40,
            42.3601,
            16
           ],
           "legendgroup": "",
           "lon": [
            153.4,
            2,
            9,
            114.2,
            138,
            103.8333,
            128,
            -4,
            -71.0589,
            108
           ],
           "marker": {
            "color": [
             1,
             1,
             3,
             1,
             5,
             3,
             1,
             1,
             1,
             4
            ],
            "coloraxis": "coloraxis",
            "size": [
             1,
             1,
             1.5518455739153598,
             1,
             1.9036539387158786,
             1.5518455739153598,
             1,
             1,
             1,
             1.7411011265922482
            ],
            "sizemode": "area",
            "sizeref": 0.05009094667077794
           },
           "name": "",
           "showlegend": false,
           "type": "scattergeo"
          }
         ],
         "name": "02/01/2020"
        },
        {
         "data": [
          {
           "geo": "geo",
           "hoverlabel": {
            "namelength": 0
           },
           "hovertemplate": "<b>%{hovertext}</b><br><br>date=02/10/2020<br>size=%{marker.size}<br>Lat=%{lat}<br>Long=%{lon}<br>cases=%{marker.color}",
           "hovertext": [
            "Hong Kong",
            "Malaysia",
            "Others",
            "Singapore",
            "South Korea",
            "UK",
            "United Arab Emirates",
            "Vietnam"
           ],
           "lat": [
            22.3,
            2.5,
            35.4437,
            1.2833,
            36,
            55,
            24,
            16
           ],
           "legendgroup": "",
           "lon": [
            114.2,
            112.5,
            139.638,
            103.8333,
            128,
            -3,
            54,
            108
           ],
           "marker": {
            "color": [
             9,
             2,
             71,
             5,
             2,
             5,
             1,
             1
            ],
            "coloraxis": "coloraxis",
            "size": [
             2.4082246852806923,
             1.3195079107728942,
             5.501781510642736,
             1.9036539387158786,
             1.3195079107728942,
             1.9036539387158786,
             1,
             1
            ],
            "sizemode": "area",
            "sizeref": 0.05009094667077794
           },
           "name": "",
           "showlegend": false,
           "type": "scattergeo"
          }
         ],
         "name": "02/10/2020"
        },
        {
         "data": [
          {
           "geo": "geo",
           "hoverlabel": {
            "namelength": 0
           },
           "hovertemplate": "<b>%{hovertext}</b><br><br>date=02/11/2020<br>size=%{marker.size}<br>Lat=%{lat}<br>Long=%{lon}<br>cases=%{marker.color}",
           "hovertext": [
            "Germany",
            "Hong Kong",
            "Singapore",
            "South Korea",
            "Thailand",
            "US",
            "Vietnam"
           ],
           "lat": [
            51,
            22.3,
            1.2833,
            36,
            15,
            32.7157,
            16
           ],
           "legendgroup": "",
           "lon": [
            9,
            114.2,
            103.8333,
            128,
            101,
            -117.1611,
            108
           ],
           "marker": {
            "color": [
             2,
             11,
             2,
             1,
             1,
             1,
             1
            ],
            "coloraxis": "coloraxis",
            "size": [
             1.3195079107728942,
             2.6094986352788734,
             1.3195079107728942,
             1,
             1,
             1,
             1
            ],
            "sizemode": "area",
            "sizeref": 0.05009094667077794
           },
           "name": "",
           "showlegend": false,
           "type": "scattergeo"
          }
         ],
         "name": "02/11/2020"
        },
        {
         "data": [
          {
           "geo": "geo",
           "hoverlabel": {
            "namelength": 0
           },
           "hovertemplate": "<b>%{hovertext}</b><br><br>date=02/12/2020<br>size=%{marker.size}<br>Lat=%{lat}<br>Long=%{lon}<br>cases=%{marker.color}",
           "hovertext": [
            "Hong Kong",
            "Japan",
            "Others",
            "Singapore",
            "UK"
           ],
           "lat": [
            22.3,
            36,
            35.4437,
            1.2833,
            55
           ],
           "legendgroup": "",
           "lon": [
            114.2,
            138,
            139.638,
            103.8333,
            -3
           ],
           "marker": {
            "color": [
             1,
             2,
             40,
             3,
             1
            ],
            "coloraxis": "coloraxis",
            "size": [
             1,
             1.3195079107728942,
             4.3734482957731124,
             1.5518455739153598,
             1
            ],
            "sizemode": "area",
            "sizeref": 0.05009094667077794
           },
           "name": "",
           "showlegend": false,
           "type": "scattergeo"
          }
         ],
         "name": "02/12/2020"
        },
        {
         "data": [
          {
           "geo": "geo",
           "hoverlabel": {
            "namelength": 0
           },
           "hovertemplate": "<b>%{hovertext}</b><br><br>date=02/13/2020<br>size=%{marker.size}<br>Lat=%{lat}<br>Long=%{lon}<br>cases=%{marker.color}",
           "hovertext": [
            "Hong Kong",
            "Malaysia",
            "Singapore",
            "US",
            "Vietnam"
           ],
           "lat": [
            22.3,
            2.5,
            1.2833,
            32.7157,
            16
           ],
           "legendgroup": "",
           "lon": [
            114.2,
            112.5,
            103.8333,
            -98.4936,
            108
           ],
           "marker": {
            "color": [
             3,
             1,
             8,
             1,
             1
            ],
            "coloraxis": "coloraxis",
            "size": [
             1.5518455739153598,
             1,
             2.29739670999407,
             1,
             1
            ],
            "sizemode": "area",
            "sizeref": 0.05009094667077794
           },
           "name": "",
           "showlegend": false,
           "type": "scattergeo"
          }
         ],
         "name": "02/13/2020"
        },
        {
         "data": [
          {
           "geo": "geo",
           "hoverlabel": {
            "namelength": 0
           },
           "hovertemplate": "<b>%{hovertext}</b><br><br>date=02/14/2020<br>size=%{marker.size}<br>Lat=%{lat}<br>Long=%{lon}<br>cases=%{marker.color}",
           "hovertext": [
            "Egypt",
            "Hong Kong",
            "Japan",
            "Others",
            "Singapore"
           ],
           "lat": [
            26,
            22.3,
            36,
            35.4437,
            1.2833
           ],
           "legendgroup": "",
           "lon": [
            30,
            114.2,
            138,
            139.638,
            103.8333
           ],
           "marker": {
            "color": [
             1,
             3,
             1,
             43,
             9
            ],
            "coloraxis": "coloraxis",
            "size": [
             1,
             1.5518455739153598,
             1,
             4.501812287589042,
             2.4082246852806923
            ],
            "sizemode": "area",
            "sizeref": 0.05009094667077794
           },
           "name": "",
           "showlegend": false,
           "type": "scattergeo"
          }
         ],
         "name": "02/14/2020"
        },
        {
         "data": [
          {
           "geo": "geo",
           "hoverlabel": {
            "namelength": 0
           },
           "hovertemplate": "<b>%{hovertext}</b><br><br>date=02/15/2020<br>size=%{marker.size}<br>Lat=%{lat}<br>Long=%{lon}<br>cases=%{marker.color}",
           "hovertext": [
            "France",
            "Japan",
            "Malaysia",
            "Others",
            "Singapore"
           ],
           "lat": [
            47,
            36,
            2.5,
            35.4437,
            1.2833
           ],
           "legendgroup": "",
           "lon": [
            2,
            138,
            112.5,
            139.638,
            103.8333
           ],
           "marker": {
            "color": [
             1,
             14,
             3,
             67,
             5
            ],
            "coloraxis": "coloraxis",
            "size": [
             1,
             2.8737647560281374,
             1.5518455739153598,
             5.375636834090112,
             1.9036539387158786
            ],
            "sizemode": "area",
            "sizeref": 0.05009094667077794
           },
           "name": "",
           "showlegend": false,
           "type": "scattergeo"
          }
         ],
         "name": "02/15/2020"
        },
        {
         "data": [
          {
           "geo": "geo",
           "hoverlabel": {
            "namelength": 0
           },
           "hovertemplate": "<b>%{hovertext}</b><br><br>date=02/16/2020<br>size=%{marker.size}<br>Lat=%{lat}<br>Long=%{lon}<br>cases=%{marker.color}",
           "hovertext": [
            "Hong Kong",
            "Japan",
            "Others",
            "Singapore",
            "South Korea",
            "Taiwan",
            "Thailand",
            "United Arab Emirates"
           ],
           "lat": [
            22.3,
            36,
            35.4437,
            1.2833,
            36,
            23.7,
            15,
            24
           ],
           "legendgroup": "",
           "lon": [
            114.2,
            138,
            139.638,
            103.8333,
            128,
            121,
            101,
            54
           ],
           "marker": {
            "color": [
             1,
             16,
             70,
             3,
             1,
             2,
             1,
             1
            ],
            "coloraxis": "coloraxis",
            "size": [
             1,
             3.0314331330207964,
             5.470653596755839,
             1.5518455739153598,
             1,
             1.3195079107728942,
             1,
             1
            ],
            "sizemode": "area",
            "sizeref": 0.05009094667077794
           },
           "name": "",
           "showlegend": false,
           "type": "scattergeo"
          }
         ],
         "name": "02/16/2020"
        },
        {
         "data": [
          {
           "geo": "geo",
           "hoverlabel": {
            "namelength": 0
           },
           "hovertemplate": "<b>%{hovertext}</b><br><br>date=02/17/2020<br>size=%{marker.size}<br>Lat=%{lat}<br>Long=%{lon}<br>cases=%{marker.color}",
           "hovertext": [
            "Canada",
            "Hong Kong",
            "Japan",
            "Others",
            "Singapore",
            "South Korea",
            "Taiwan",
            "Thailand"
           ],
           "lat": [
            49.2827,
            22.3,
            36,
            35.4437,
            1.2833,
            36,
            23.7,
            15
           ],
           "legendgroup": "",
           "lon": [
            -123.1207,
            114.2,
            138,
            139.638,
            103.8333,
            128,
            121,
            101
           ],
           "marker": {
            "color": [
             1,
             3,
             7,
             99,
             2,
             1,
             2,
             1
            ],
            "coloraxis": "coloraxis",
            "size": [
             1,
             1.5518455739153598,
             2.17790642448278,
             6.28425902968486,
             1.3195079107728942,
             1,
             1.3195079107728942,
             1
            ],
            "sizemode": "area",
            "sizeref": 0.05009094667077794
           },
           "name": "",
           "showlegend": false,
           "type": "scattergeo"
          }
         ],
         "name": "02/17/2020"
        },
        {
         "data": [
          {
           "geo": "geo",
           "hoverlabel": {
            "namelength": 0
           },
           "hovertemplate": "<b>%{hovertext}</b><br><br>date=02/18/2020<br>size=%{marker.size}<br>Lat=%{lat}<br>Long=%{lon}<br>cases=%{marker.color}",
           "hovertext": [
            "Hong Kong",
            "Japan",
            "Others",
            "Singapore",
            "South Korea"
           ],
           "lat": [
            22.3,
            36,
            35.4437,
            1.2833,
            36
           ],
           "legendgroup": "",
           "lon": [
            114.2,
            138,
            139.638,
            103.8333,
            128
           ],
           "marker": {
            "color": [
             2,
             8,
             88,
             4,
             1
            ],
            "coloraxis": "coloraxis",
            "size": [
             1.3195079107728942,
             2.29739670999407,
             5.9950535794237,
             1.7411011265922482,
             1
            ],
            "sizemode": "area",
            "sizeref": 0.05009094667077794
           },
           "name": "",
           "showlegend": false,
           "type": "scattergeo"
          }
         ],
         "name": "02/18/2020"
        },
        {
         "data": [
          {
           "geo": "geo",
           "hoverlabel": {
            "namelength": 0
           },
           "hovertemplate": "<b>%{hovertext}</b><br><br>date=02/19/2020<br>size=%{marker.size}<br>Lat=%{lat}<br>Long=%{lon}<br>cases=%{marker.color}",
           "hovertext": [
            "Hong Kong",
            "Iran",
            "Japan",
            "Others",
            "Singapore",
            "Taiwan"
           ],
           "lat": [
            22.3,
            32,
            36,
            35.4437,
            1.2833,
            23.7
           ],
           "legendgroup": "",
           "lon": [
            114.2,
            53,
            138,
            139.638,
            103.8333,
            121
           ],
           "marker": {
            "color": [
             1,
             2,
             10,
             79,
             3,
             1
            ],
            "coloraxis": "coloraxis",
            "size": [
             1,
             1.3195079107728942,
             2.51188643150958,
             5.7418366957535865,
             1.5518455739153598,
             1
            ],
            "sizemode": "area",
            "sizeref": 0.05009094667077794
           },
           "name": "",
           "showlegend": false,
           "type": "scattergeo"
          }
         ],
         "name": "02/19/2020"
        },
        {
         "data": [
          {
           "geo": "geo",
           "hoverlabel": {
            "namelength": 0
           },
           "hovertemplate": "<b>%{hovertext}</b><br><br>date=02/02/2020<br>size=%{marker.size}<br>Lat=%{lat}<br>Long=%{lon}<br>cases=%{marker.color}",
           "hovertext": [
            "Australia",
            "Germany",
            "Hong Kong",
            "India",
            "Macau",
            "Philippines",
            "Singapore",
            "South Korea",
            "United Arab Emirates"
           ],
           "lat": [
            -28.0167,
            51,
            22.3,
            21,
            22.1667,
            13,
            1.2833,
            36,
            24
           ],
           "legendgroup": "",
           "lon": [
            153.4,
            9,
            114.2,
            78,
            113.55,
            122,
            103.8333,
            128,
            54
           ],
           "marker": {
            "color": [
             1,
             2,
             2,
             1,
             1,
             1,
             2,
             3,
             1
            ],
            "coloraxis": "coloraxis",
            "size": [
             1,
             1.3195079107728942,
             1.3195079107728942,
             1,
             1,
             1,
             1.3195079107728942,
             1.5518455739153598,
             1
            ],
            "sizemode": "area",
            "sizeref": 0.05009094667077794
           },
           "name": "",
           "showlegend": false,
           "type": "scattergeo"
          }
         ],
         "name": "02/02/2020"
        },
        {
         "data": [
          {
           "geo": "geo",
           "hoverlabel": {
            "namelength": 0
           },
           "hovertemplate": "<b>%{hovertext}</b><br><br>date=02/20/2020<br>size=%{marker.size}<br>Lat=%{lat}<br>Long=%{lon}<br>cases=%{marker.color}",
           "hovertext": [
            "Hong Kong",
            "Iran",
            "Japan",
            "Others",
            "South Korea",
            "Taiwan"
           ],
           "lat": [
            22.3,
            32,
            36,
            35.4437,
            36,
            23.7
           ],
           "legendgroup": "",
           "lon": [
            114.2,
            53,
            138,
            139.638,
            128,
            121
           ],
           "marker": {
            "color": [
             5,
             3,
             10,
             13,
             73,
             1
            ],
            "coloraxis": "coloraxis",
            "size": [
             1.9036539387158786,
             1.5518455739153598,
             2.51188643150958,
             2.789827435889086,
             5.563257268920875,
             1
            ],
            "sizemode": "area",
            "sizeref": 0.05009094667077794
           },
           "name": "",
           "showlegend": false,
           "type": "scattergeo"
          }
         ],
         "name": "02/20/2020"
        },
        {
         "data": [
          {
           "geo": "geo",
           "hoverlabel": {
            "namelength": 0
           },
           "hovertemplate": "<b>%{hovertext}</b><br><br>date=02/21/2020<br>size=%{marker.size}<br>Lat=%{lat}<br>Long=%{lon}<br>cases=%{marker.color}",
           "hovertext": [
            "Australia",
            "Canada",
            "Iran",
            "Israel",
            "Italy",
            "Japan",
            "Lebanon",
            "Singapore",
            "South Korea",
            "Taiwan",
            "US"
           ],
           "lat": [
            35.4437,
            49.2827,
            32,
            31,
            43,
            36,
            33.8547,
            1.2833,
            36,
            23.7,
            41.2545
           ],
           "legendgroup": "",
           "lon": [
            139.638,
            -123.1207,
            53,
            35,
            12,
            138,
            35.8623,
            103.8333,
            128,
            121,
            -95.9758
           ],
           "marker": {
            "color": [
             4,
             1,
             13,
             1,
             17,
             11,
             1,
             1,
             100,
             2,
             11
            ],
            "coloraxis": "coloraxis",
            "size": [
             1.7411011265922482,
             1,
             2.789827435889086,
             1,
             3.1058435015977324,
             2.6094986352788734,
             1,
             1,
             6.309573444801933,
             1.3195079107728942,
             2.6094986352788734
            ],
            "sizemode": "area",
            "sizeref": 0.05009094667077794
           },
           "name": "",
           "showlegend": false,
           "type": "scattergeo"
          }
         ],
         "name": "02/21/2020"
        },
        {
         "data": [
          {
           "geo": "geo",
           "hoverlabel": {
            "namelength": 0
           },
           "hovertemplate": "<b>%{hovertext}</b><br><br>date=02/22/2020<br>size=%{marker.size}<br>Lat=%{lat}<br>Long=%{lon}<br>cases=%{marker.color}",
           "hovertext": [
            "Australia",
            "Hong Kong",
            "Iran",
            "Italy",
            "Japan",
            "South Korea",
            "United Arab Emirates"
           ],
           "lat": [
            35.4437,
            22.3,
            32,
            43,
            36,
            36,
            24
           ],
           "legendgroup": "",
           "lon": [
            139.638,
            114.2,
            53,
            12,
            138,
            128,
            54
           ],
           "marker": {
            "color": [
             3,
             1,
             10,
             42,
             17,
             229,
             4
            ],
            "coloraxis": "coloraxis",
            "size": [
             1.5518455739153598,
             1,
             2.51188643150958,
             4.459639117116218,
             3.1058435015977324,
             8.788893318352082,
             1.7411011265922482
            ],
            "sizemode": "area",
            "sizeref": 0.05009094667077794
           },
           "name": "",
           "showlegend": false,
           "type": "scattergeo"
          }
         ],
         "name": "02/22/2020"
        },
        {
         "data": [
          {
           "geo": "geo",
           "hoverlabel": {
            "namelength": 0
           },
           "hovertemplate": "<b>%{hovertext}</b><br><br>date=02/23/2020<br>size=%{marker.size}<br>Lat=%{lat}<br>Long=%{lon}<br>cases=%{marker.color}",
           "hovertext": [
            "Hong Kong",
            "Iran",
            "Italy",
            "Japan",
            "Others",
            "Singapore",
            "South Korea",
            "Taiwan"
           ],
           "lat": [
            22.3,
            32,
            43,
            36,
            35.4437,
            1.2833,
            36,
            23.7
           ],
           "legendgroup": "",
           "lon": [
            114.2,
            53,
            12,
            138,
            139.638,
            103.8333,
            128,
            121
           ],
           "marker": {
            "color": [
             5,
             15,
             93,
             25,
             57,
             4,
             169,
             2
            ],
            "coloraxis": "coloraxis",
            "size": [
             1.9036539387158786,
             2.9541769390627777,
             6.129050213617685,
             3.623898318388478,
             5.039064789033284,
             1.7411011265922482,
             7.783137122039472,
             1.3195079107728942
            ],
            "sizemode": "area",
            "sizeref": 0.05009094667077794
           },
           "name": "",
           "showlegend": false,
           "type": "scattergeo"
          }
         ],
         "name": "02/23/2020"
        },
        {
         "data": [
          {
           "geo": "geo",
           "hoverlabel": {
            "namelength": 0
           },
           "hovertemplate": "<b>%{hovertext}</b><br><br>date=02/24/2020<br>size=%{marker.size}<br>Lat=%{lat}<br>Long=%{lon}<br>cases=%{marker.color}",
           "hovertext": [
            "Afghanistan",
            "Bahrain",
            "Canada",
            "Hong Kong",
            "Iran",
            "Iraq",
            "Italy",
            "Japan",
            "Kuwait",
            "Oman",
            "South Korea",
            "Taiwan",
            "UK",
            "US"
           ],
           "lat": [
            33,
            26.0275,
            51.2538,
            22.3,
            32,
            33,
            43,
            36,
            29.5,
            21,
            36,
            23.7,
            55,
            41.2545
           ],
           "legendgroup": "",
           "lon": [
            65,
            50.55,
            -85.3232,
            114.2,
            53,
            44,
            12,
            138,
            47.75,
            57,
            128,
            121,
            -3,
            139.638
           ],
           "marker": {
            "color": [
             1,
             1,
             1,
             5,
             18,
             1,
             74,
             12,
             1,
             2,
             231,
             2,
             4,
             36
            ],
            "coloraxis": "coloraxis",
            "size": [
             1,
             1,
             1,
             1.9036539387158786,
             3.177671523146437,
             1,
             5.593616502501593,
             2.701920077041227,
             1,
             1.3195079107728942,
             8.819516802392263,
             1.3195079107728942,
             1.7411011265922482,
             4.192962712629476
            ],
            "sizemode": "area",
            "sizeref": 0.05009094667077794
           },
           "name": "",
           "showlegend": false,
           "type": "scattergeo"
          }
         ],
         "name": "02/24/2020"
        },
        {
         "data": [
          {
           "geo": "geo",
           "hoverlabel": {
            "namelength": 0
           },
           "hovertemplate": "<b>%{hovertext}</b><br><br>date=02/25/2020<br>size=%{marker.size}<br>Lat=%{lat}<br>Long=%{lon}<br>cases=%{marker.color}",
           "hovertext": [
            "Algeria",
            "Austria",
            "Bahrain",
            "Canada",
            "Croatia",
            "France",
            "Germany",
            "Hong Kong",
            "Iran",
            "Italy",
            "Japan",
            "Kuwait",
            "Singapore",
            "South Korea",
            "Spain",
            "Switzerland",
            "Taiwan",
            "Thailand"
           ],
           "lat": [
            28.0339,
            47.5162,
            26.0275,
            49.2827,
            45.1,
            47,
            51,
            22.3,
            32,
            43,
            36,
            29.5,
            1.2833,
            36,
            40,
            46.8182,
            23.7,
            15
           ],
           "legendgroup": "",
           "lon": [
            1.6596,
            14.5501,
            50.55,
            -123.1207,
            15.2,
            2,
            9,
            114.2,
            53,
            12,
            138,
            47.75,
            103.8333,
            128,
            -4,
            8.2275,
            121,
            101
           ],
           "marker": {
            "color": [
             1,
             2,
             22,
             1,
             1,
             2,
             1,
             5,
             34,
             93,
             11,
             10,
             2,
             144,
             4,
             1,
             1,
             2
            ],
            "coloraxis": "coloraxis",
            "size": [
             1,
             1.3195079107728942,
             3.4432540924015447,
             1,
             1,
             1.3195079107728942,
             1,
             1.9036539387158786,
             4.0981850699807945,
             6.129050213617685,
             2.6094986352788734,
             2.51188643150958,
             1.3195079107728942,
             7.30037210271847,
             1.7411011265922482,
             1,
             1,
             1.3195079107728942
            ],
            "sizemode": "area",
            "sizeref": 0.05009094667077794
           },
           "name": "",
           "showlegend": false,
           "type": "scattergeo"
          }
         ],
         "name": "02/25/2020"
        },
        {
         "data": [
          {
           "geo": "geo",
           "hoverlabel": {
            "namelength": 0
           },
           "hovertemplate": "<b>%{hovertext}</b><br><br>date=02/26/2020<br>size=%{marker.size}<br>Lat=%{lat}<br>Long=%{lon}<br>cases=%{marker.color}",
           "hovertext": [
            "Bahrain",
            "Brazil",
            "Croatia",
            "Finland",
            "France",
            "Georgia",
            "Germany",
            "Greece",
            "Hong Kong",
            "Iran",
            "Iraq",
            "Israel",
            "Italy",
            "Japan",
            "Kuwait",
            "Lebanon",
            "North Macedonia",
            "Norway",
            "Oman",
            "Others",
            "Pakistan",
            "Romania",
            "Singapore",
            "South Korea",
            "Spain",
            "Sweden",
            "Taiwan",
            "Thailand",
            "US"
           ],
           "lat": [
            26.0275,
            -14.235,
            45.1,
            64,
            47,
            42.3154,
            51,
            39.0742,
            22.3,
            32,
            33,
            31,
            43,
            36,
            29.5,
            33.8547,
            41.6086,
            60.472,
            21,
            35.4437,
            30.3753,
            45.9432,
            1.2833,
            36,
            40,
            63,
            23.7,
            15,
            35.4437
           ],
           "legendgroup": "",
           "lon": [
            50.55,
            -51.9253,
            15.2,
            26,
            2,
            43.3569,
            9,
            21.8243,
            114.2,
            53,
            44,
            35,
            12,
            138,
            47.75,
            35.8623,
            21.7453,
            8.4689,
            57,
            139.638,
            69.3451,
            24.9668,
            103.8333,
            128,
            -4,
            16,
            121,
            101,
            139.638
           ],
           "marker": {
            "color": [
             10,
             1,
             2,
             1,
             4,
             1,
             10,
             1,
             7,
             44,
             4,
             1,
             131,
             19,
             15,
             1,
             1,
             1,
             2,
             14,
             2,
             1,
             2,
             284,
             7,
             1,
             1,
             3,
             6
            ],
            "coloraxis": "coloraxis",
            "size": [
             2.51188643150958,
             1,
             1.3195079107728942,
             1,
             1.7411011265922482,
             1,
             2.51188643150958,
             1,
             2.17790642448278,
             4.5434010137249805,
             1.7411011265922482,
             1,
             7.029242371736958,
             3.2471431911356685,
             2.9541769390627777,
             1,
             1,
             1,
             1.3195079107728942,
             2.8737647560281374,
             1.3195079107728942,
             1,
             1.3195079107728942,
             9.57915798644447,
             2.17790642448278,
             1,
             1,
             1.5518455739153598,
             2.0476725110792193
            ],
            "sizemode": "area",
            "sizeref": 0.05009094667077794
           },
           "name": "",
           "showlegend": false,
           "type": "scattergeo"
          }
         ],
         "name": "02/26/2020"
        },
        {
         "data": [
          {
           "geo": "geo",
           "hoverlabel": {
            "namelength": 0
           },
           "hovertemplate": "<b>%{hovertext}</b><br><br>date=02/27/2020<br>size=%{marker.size}<br>Lat=%{lat}<br>Long=%{lon}<br>cases=%{marker.color}",
           "hovertext": [
            "Australia",
            "Austria",
            "Canada",
            "Denmark",
            "Estonia",
            "France",
            "Germany",
            "Greece",
            "Hong Kong",
            "Iran",
            "Iraq",
            "Israel",
            "Italy",
            "Japan",
            "Kuwait",
            "Malaysia",
            "Netherlands",
            "San Marino",
            "South Korea",
            "Spain",
            "Sweden",
            "Switzerland",
            "UK",
            "US"
           ],
           "lat": [
            35.4437,
            47.5162,
            51.2538,
            56.2639,
            58.5953,
            47,
            51,
            39.0742,
            22.3,
            32,
            33,
            31,
            43,
            36,
            29.5,
            2.5,
            52.1326,
            43.9424,
            36,
            40,
            63,
            46.8182,
            55,
            38.4747
           ],
           "legendgroup": "",
           "lon": [
            139.638,
            14.5501,
            -85.3232,
            9.5018,
            25.0136,
            2,
            9,
            21.8243,
            114.2,
            53,
            44,
            35,
            12,
            138,
            47.75,
            112.5,
            5.2913,
            12.4578,
            128,
            -4,
            16,
            8.2275,
            -3,
            -121.3542
           ],
           "marker": {
            "color": [
             1,
             1,
             2,
             1,
             1,
             20,
             19,
             2,
             1,
             106,
             2,
             1,
             202,
             25,
             17,
             1,
             1,
             1,
             505,
             2,
             5,
             7,
             2,
             1
            ],
            "coloraxis": "coloraxis",
            "size": [
             1,
             1,
             1.3195079107728942,
             1,
             1,
             3.3144540173399872,
             3.2471431911356685,
             1.3195079107728942,
             1,
             6.458361434077656,
             1.3195079107728942,
             1,
             8.358734825325298,
             3.623898318388478,
             3.1058435015977324,
             1,
             1,
             1,
             12.059145946000156,
             1.3195079107728942,
             1.9036539387158786,
             2.17790642448278,
             1.3195079107728942,
             1
            ],
            "sizemode": "area",
            "sizeref": 0.05009094667077794
           },
           "name": "",
           "showlegend": false,
           "type": "scattergeo"
          }
         ],
         "name": "02/27/2020"
        },
        {
         "data": [
          {
           "geo": "geo",
           "hoverlabel": {
            "namelength": 0
           },
           "hovertemplate": "<b>%{hovertext}</b><br><br>date=02/28/2020<br>size=%{marker.size}<br>Lat=%{lat}<br>Long=%{lon}<br>cases=%{marker.color}",
           "hovertext": [
            "Bahrain",
            "Belarus",
            "Canada",
            "Croatia",
            "France",
            "Germany",
            "Greece",
            "Hong Kong",
            "Iceland",
            "Iran",
            "Israel",
            "Italy",
            "Japan",
            "Kuwait",
            "Lithuania",
            "Mexico",
            "New Zealand",
            "Nigeria",
            "Norway",
            "Romania",
            "South Korea",
            "Spain",
            "Taiwan",
            "Thailand",
            "UK",
            "US",
            "United Arab Emirates"
           ],
           "lat": [
            26.0275,
            53.7098,
            52.9399,
            45.1,
            47,
            51,
            39.0742,
            22.3,
            64.9631,
            32,
            31,
            43,
            36,
            29.5,
            55.1694,
            23.6345,
            -40.9006,
            9.082,
            60.472,
            45.9432,
            36,
            40,
            23.7,
            15,
            55,
            35.4437,
            24
           ],
           "legendgroup": "",
           "lon": [
            50.55,
            27.9534,
            -73.5491,
            15.2,
            2,
            9,
            21.8243,
            114.2,
            -19.0208,
            53,
            35,
            12,
            138,
            47.75,
            23.8813,
            -102.5528,
            174.886,
            8.6753,
            8.4689,
            24.9668,
            128,
            -4,
            121,
            101,
            -3,
            139.638,
            54
           ],
           "marker": {
            "color": [
             3,
             1,
             1,
             2,
             19,
             2,
             1,
             2,
             1,
             143,
             1,
             233,
             14,
             2,
             1,
             1,
             1,
             1,
             5,
             2,
             571,
             17,
             2,
             1,
             5,
             2,
             6
            ],
            "coloraxis": "coloraxis",
            "size": [
             1.5518455739153598,
             1,
             1,
             1.3195079107728942,
             3.2471431911356685,
             1.3195079107728942,
             1,
             1.3195079107728942,
             1,
             7.280050886616128,
             1,
             8.849981613316114,
             2.8737647560281374,
             1.3195079107728942,
             1,
             1,
             1,
             1,
             1.9036539387158786,
             1.3195079107728942,
             12.666436297613846,
             3.1058435015977324,
             1.3195079107728942,
             1,
             1.9036539387158786,
             1.3195079107728942,
             2.0476725110792193
            ],
            "sizemode": "area",
            "sizeref": 0.05009094667077794
           },
           "name": "",
           "showlegend": false,
           "type": "scattergeo"
          }
         ],
         "name": "02/28/2020"
        },
        {
         "data": [
          {
           "geo": "geo",
           "hoverlabel": {
            "namelength": 0
           },
           "hovertemplate": "<b>%{hovertext}</b><br><br>date=02/29/2020<br>size=%{marker.size}<br>Lat=%{lat}<br>Long=%{lon}<br>cases=%{marker.color}",
           "hovertext": [
            "Australia",
            "Austria",
            "Bahrain",
            "Brazil",
            "Canada",
            "Croatia",
            "Denmark",
            "Finland",
            "France",
            "Germany",
            "Hong Kong",
            "Iran",
            "Iraq",
            "Ireland",
            "Israel",
            "Italy",
            "Japan",
            "Lebanon",
            "Luxembourg",
            "Malaysia",
            "Mexico",
            "Monaco",
            "Netherlands",
            "Norway",
            "Oman",
            "Pakistan",
            "Qatar",
            "Singapore",
            "South Korea",
            "Spain",
            "Sweden",
            "Switzerland",
            "Taiwan",
            "Thailand",
            "UK",
            "US",
            "United Arab Emirates"
           ],
           "lat": [
            35.4437,
            47.5162,
            26.0275,
            -14.235,
            51.2538,
            45.1,
            56.2639,
            64,
            47,
            51,
            22.3,
            32,
            33,
            53.1424,
            31,
            43,
            36,
            33.8547,
            49.8153,
            2.5,
            23.6345,
            43.7333,
            52.1326,
            60.472,
            21,
            30.3753,
            25.3548,
            1.2833,
            36,
            40,
            63,
            46.8182,
            23.7,
            15,
            55,
            48.033,
            24
           ],
           "legendgroup": "",
           "lon": [
            153.4,
            14.5501,
            50.55,
            -51.9253,
            -85.3232,
            15.2,
            9.5018,
            26,
            2,
            9,
            114.2,
            53,
            44,
            -7.6921,
            35,
            12,
            138,
            35.8623,
            6.1296,
            112.5,
            -102.5528,
            7.4167,
            5.2913,
            8.4689,
            57,
            69.3451,
            51.1839,
            103.8333,
            128,
            -4,
            16,
            8.2275,
            121,
            101,
            -3,
            -121.8339,
            54
           ],
           "marker": {
            "color": [
             8,
             6,
             5,
             1,
             5,
             1,
             2,
             1,
             43,
             31,
             1,
             205,
             6,
             1,
             3,
             240,
             13,
             2,
             1,
             2,
             3,
             1,
             5,
             9,
             2,
             2,
             1,
             9,
             813,
             13,
             5,
             10,
             5,
             1,
             3,
             5,
             2
            ],
            "coloraxis": "coloraxis",
            "size": [
             2.29739670999407,
             2.0476725110792193,
             1.9036539387158786,
             1,
             1.9036539387158786,
             1,
             1.3195079107728942,
             1,
             4.501812287589042,
             3.9495232751502978,
             1,
             8.408171172485003,
             2.0476725110792193,
             1,
             1.5518455739153598,
             8.955389853880861,
             2.789827435889086,
             1.3195079107728942,
             1,
             1.3195079107728942,
             1.5518455739153598,
             1,
             1.9036539387158786,
             2.4082246852806923,
             1.3195079107728942,
             1.3195079107728942,
             1,
             2.4082246852806923,
             14.589359240010616,
             2.789827435889086,
             1.9036539387158786,
             2.51188643150958,
             1.9036539387158786,
             1,
             1.5518455739153598,
             1.9036539387158786,
             1.3195079107728942
            ],
            "sizemode": "area",
            "sizeref": 0.05009094667077794
           },
           "name": "",
           "showlegend": false,
           "type": "scattergeo"
          }
         ],
         "name": "02/29/2020"
        },
        {
         "data": [
          {
           "geo": "geo",
           "hoverlabel": {
            "namelength": 0
           },
           "hovertemplate": "<b>%{hovertext}</b><br><br>date=02/03/2020<br>size=%{marker.size}<br>Lat=%{lat}<br>Long=%{lon}<br>cases=%{marker.color}",
           "hovertext": [
            "Germany",
            "India",
            "US",
            "Vietnam"
           ],
           "lat": [
            51,
            21,
            37.3541,
            16
           ],
           "legendgroup": "",
           "lon": [
            9,
            78,
            -120.9876,
            108
           ],
           "marker": {
            "color": [
             2,
             1,
             2,
             2
            ],
            "coloraxis": "coloraxis",
            "size": [
             1.3195079107728942,
             1,
             1.3195079107728942,
             1.3195079107728942
            ],
            "sizemode": "area",
            "sizeref": 0.05009094667077794
           },
           "name": "",
           "showlegend": false,
           "type": "scattergeo"
          }
         ],
         "name": "02/03/2020"
        },
        {
         "data": [
          {
           "geo": "geo",
           "hoverlabel": {
            "namelength": 0
           },
           "hovertemplate": "<b>%{hovertext}</b><br><br>date=02/04/2020<br>size=%{marker.size}<br>Lat=%{lat}<br>Long=%{lon}<br>cases=%{marker.color}",
           "hovertext": [
            "Australia",
            "Belgium",
            "Hong Kong",
            "Japan",
            "Macau",
            "Malaysia",
            "Singapore",
            "South Korea",
            "Taiwan",
            "Thailand"
           ],
           "lat": [
            -28.0167,
            50.8333,
            22.3,
            36,
            22.1667,
            2.5,
            1.2833,
            36,
            23.7,
            15
           ],
           "legendgroup": "",
           "lon": [
            153.4,
            4,
            114.2,
            138,
            113.55,
            112.5,
            103.8333,
            128,
            121,
            101
           ],
           "marker": {
            "color": [
             1,
             1,
             2,
             2,
             2,
             2,
             6,
             1,
             1,
             6
            ],
            "coloraxis": "coloraxis",
            "size": [
             1,
             1,
             1.3195079107728942,
             1.3195079107728942,
             1.3195079107728942,
             1.3195079107728942,
             2.0476725110792193,
             1,
             1,
             2.0476725110792193
            ],
            "sizemode": "area",
            "sizeref": 0.05009094667077794
           },
           "name": "",
           "showlegend": false,
           "type": "scattergeo"
          }
         ],
         "name": "02/04/2020"
        },
        {
         "data": [
          {
           "geo": "geo",
           "hoverlabel": {
            "namelength": 0
           },
           "hovertemplate": "<b>%{hovertext}</b><br><br>date=02/05/2020<br>size=%{marker.size}<br>Lat=%{lat}<br>Long=%{lon}<br>cases=%{marker.color}",
           "hovertext": [
            "Canada",
            "Hong Kong",
            "Malaysia",
            "Singapore",
            "South Korea",
            "US"
           ],
           "lat": [
            49.2827,
            22.3,
            2.5,
            1.2833,
            36,
            43.0731
           ],
           "legendgroup": "",
           "lon": [
            -123.1207,
            114.2,
            112.5,
            103.8333,
            128,
            -89.4012
           ],
           "marker": {
            "color": [
             1,
             4,
             2,
             4,
             3,
             1
            ],
            "coloraxis": "coloraxis",
            "size": [
             1,
             1.7411011265922482,
             1.3195079107728942,
             1.7411011265922482,
             1.5518455739153598,
             1
            ],
            "sizemode": "area",
            "sizeref": 0.05009094667077794
           },
           "name": "",
           "showlegend": false,
           "type": "scattergeo"
          }
         ],
         "name": "02/05/2020"
        },
        {
         "data": [
          {
           "geo": "geo",
           "hoverlabel": {
            "namelength": 0
           },
           "hovertemplate": "<b>%{hovertext}</b><br><br>date=02/06/2020<br>size=%{marker.size}<br>Lat=%{lat}<br>Long=%{lon}<br>cases=%{marker.color}",
           "hovertext": [
            "Australia",
            "Hong Kong",
            "Japan",
            "South Korea",
            "Taiwan",
            "Vietnam"
           ],
           "lat": [
            -28.0167,
            22.3,
            36,
            36,
            23.7,
            16
           ],
           "legendgroup": "",
           "lon": [
            153.4,
            114.2,
            138,
            128,
            121,
            108
           ],
           "marker": {
            "color": [
             1,
             3,
             3,
             4,
             5,
             2
            ],
            "coloraxis": "coloraxis",
            "size": [
             1,
             1.5518455739153598,
             1.5518455739153598,
             1.7411011265922482,
             1.9036539387158786,
             1.3195079107728942
            ],
            "sizemode": "area",
            "sizeref": 0.05009094667077794
           },
           "name": "",
           "showlegend": false,
           "type": "scattergeo"
          }
         ],
         "name": "02/06/2020"
        },
        {
         "data": [
          {
           "geo": "geo",
           "hoverlabel": {
            "namelength": 0
           },
           "hovertemplate": "<b>%{hovertext}</b><br><br>date=02/07/2020<br>size=%{marker.size}<br>Lat=%{lat}<br>Long=%{lon}<br>cases=%{marker.color}",
           "hovertext": [
            "Australia",
            "Canada",
            "Germany",
            "Hong Kong",
            "Italy",
            "Others",
            "Philippines",
            "Singapore",
            "South Korea",
            "UK"
           ],
           "lat": [
            -28.0167,
            49.2827,
            51,
            22.3,
            43,
            35.4437,
            13,
            1.2833,
            36,
            55
           ],
           "legendgroup": "",
           "lon": [
            153.4,
            -123.1207,
            9,
            114.2,
            12,
            139.638,
            122,
            103.8333,
            128,
            -3
           ],
           "marker": {
            "color": [
             1,
             2,
             1,
             1,
             1,
             61,
             1,
             2,
             1,
             1
            ],
            "coloraxis": "coloraxis",
            "size": [
             1,
             1.3195079107728942,
             1,
             1,
             1,
             5.177640992398568,
             1,
             1.3195079107728942,
             1,
             1
            ],
            "sizemode": "area",
            "sizeref": 0.05009094667077794
           },
           "name": "",
           "showlegend": false,
           "type": "scattergeo"
          }
         ],
         "name": "02/07/2020"
        },
        {
         "data": [
          {
           "geo": "geo",
           "hoverlabel": {
            "namelength": 0
           },
           "hovertemplate": "<b>%{hovertext}</b><br><br>date=02/08/2020<br>size=%{marker.size}<br>Lat=%{lat}<br>Long=%{lon}<br>cases=%{marker.color}",
           "hovertext": [
            "France",
            "Hong Kong",
            "Malaysia",
            "Singapore",
            "Taiwan",
            "Thailand",
            "United Arab Emirates",
            "Vietnam"
           ],
           "lat": [
            47,
            22.3,
            2.5,
            1.2833,
            23.7,
            15,
            24,
            16
           ],
           "legendgroup": "",
           "lon": [
            2,
            114.2,
            112.5,
            103.8333,
            121,
            101,
            54,
            108
           ],
           "marker": {
            "color": [
             5,
             1,
             4,
             3,
             1,
             7,
             2,
             3
            ],
            "coloraxis": "coloraxis",
            "size": [
             1.9036539387158786,
             1,
             1.7411011265922482,
             1.5518455739153598,
             1,
             2.17790642448278,
             1.3195079107728942,
             1.5518455739153598
            ],
            "sizemode": "area",
            "sizeref": 0.05009094667077794
           },
           "name": "",
           "showlegend": false,
           "type": "scattergeo"
          }
         ],
         "name": "02/08/2020"
        },
        {
         "data": [
          {
           "geo": "geo",
           "hoverlabel": {
            "namelength": 0
           },
           "hovertemplate": "<b>%{hovertext}</b><br><br>date=02/09/2020<br>size=%{marker.size}<br>Lat=%{lat}<br>Long=%{lon}<br>cases=%{marker.color}",
           "hovertext": [
            "Germany",
            "Hong Kong",
            "Japan",
            "Others",
            "Singapore",
            "South Korea",
            "Spain",
            "Taiwan"
           ],
           "lat": [
            51,
            22.3,
            36,
            35.4437,
            1.2833,
            36,
            40,
            23.7
           ],
           "legendgroup": "",
           "lon": [
            9,
            114.2,
            138,
            139.638,
            103.8333,
            128,
            -4,
            121
           ],
           "marker": {
            "color": [
             1,
             3,
             1,
             3,
             7,
             1,
             1,
             1
            ],
            "coloraxis": "coloraxis",
            "size": [
             1,
             1.5518455739153598,
             1,
             1.5518455739153598,
             2.17790642448278,
             1,
             1,
             1
            ],
            "sizemode": "area",
            "sizeref": 0.05009094667077794
           },
           "name": "",
           "showlegend": false,
           "type": "scattergeo"
          }
         ],
         "name": "02/09/2020"
        },
        {
         "data": [
          {
           "geo": "geo",
           "hoverlabel": {
            "namelength": 0
           },
           "hovertemplate": "<b>%{hovertext}</b><br><br>date=03/01/2020<br>size=%{marker.size}<br>Lat=%{lat}<br>Long=%{lon}<br>cases=%{marker.color}",
           "hovertext": [
            "Armenia",
            "Australia",
            "Austria",
            "Azerbaijan",
            "Bahrain",
            "Belgium",
            "Canada",
            "Croatia",
            "Czech Republic",
            "Denmark",
            "Dominican Republic",
            "Ecuador",
            "Egypt",
            "Finland",
            "France",
            "Georgia",
            "Germany",
            "Greece",
            "Hong Kong",
            "Iceland",
            "Iran",
            "Iraq",
            "Israel",
            "Italy",
            "Japan",
            "Lebanon",
            "Malaysia",
            "Mexico",
            "Netherlands",
            "Norway",
            "Qatar",
            "Singapore",
            "South Korea",
            "Spain",
            "Sweden",
            "Switzerland",
            "Taiwan",
            "UK",
            "US"
           ],
           "lat": [
            40.0691,
            -33.8688,
            47.5162,
            40.1431,
            26.0275,
            50.8333,
            51.2538,
            45.1,
            49.8175,
            56.2639,
            18.7357,
            -1.8312,
            26,
            64,
            47,
            42.3154,
            51,
            39.0742,
            22.3,
            64.9631,
            32,
            33,
            31,
            43,
            36,
            33.8547,
            2.5,
            23.6345,
            52.1326,
            60.472,
            25.3548,
            1.2833,
            36,
            40,
            63,
            46.8182,
            23.7,
            55,
            48.033
           ],
           "legendgroup": "",
           "lon": [
            45.0382,
            151.2093,
            14.5501,
            47.5769,
            50.55,
            4,
            -85.3232,
            15.2,
            15.472999999999999,
            9.5018,
            -70.1627,
            -78.1834,
            30,
            26,
            2,
            43.3569,
            9,
            21.8243,
            114.2,
            -19.0208,
            53,
            44,
            35,
            12,
            138,
            35.8623,
            112.5,
            -102.5528,
            5.2913,
            8.4689,
            51.1839,
            103.8333,
            128,
            -4,
            16,
            8.2275,
            121,
            -3,
            -71.4774
           ],
           "marker": {
            "color": [
             1,
             2,
             5,
             3,
             6,
             1,
             4,
             1,
             3,
             1,
             1,
             6,
             1,
             3,
             30,
             2,
             51,
             3,
             1,
             2,
             385,
             6,
             3,
             566,
             15,
             6,
             4,
             1,
             4,
             4,
             2,
             4,
             586,
             39,
             2,
             9,
             1,
             13,
             3
            ],
            "coloraxis": "coloraxis",
            "size": [
             1,
             1.3195079107728942,
             1.9036539387158786,
             1.5518455739153598,
             2.0476725110792193,
             1,
             1.7411011265922482,
             1,
             1.5518455739153598,
             1,
             1,
             2.0476725110792193,
             1,
             1.5518455739153598,
             3.8980598409161895,
             1.3195079107728942,
             4.8197894912282235,
             1.5518455739153598,
             1,
             1.3195079107728942,
             10.818929525368237,
             2.0476725110792193,
             1.5518455739153598,
             12.621953401166884,
             2.9541769390627777,
             2.0476725110792193,
             1.7411011265922482,
             1,
             1.7411011265922482,
             1.7411011265922482,
             1.3195079107728942,
             1.7411011265922482,
             12.798499222775598,
             4.329381358372115,
             1.3195079107728942,
             2.4082246852806923,
             1,
             2.789827435889086,
             1.5518455739153598
            ],
            "sizemode": "area",
            "sizeref": 0.05009094667077794
           },
           "name": "",
           "showlegend": false,
           "type": "scattergeo"
          }
         ],
         "name": "03/01/2020"
        },
        {
         "data": [
          {
           "geo": "geo",
           "hoverlabel": {
            "namelength": 0
           },
           "hovertemplate": "<b>%{hovertext}</b><br><br>date=03/02/2020<br>size=%{marker.size}<br>Lat=%{lat}<br>Long=%{lon}<br>cases=%{marker.color}",
           "hovertext": [
            "Algeria",
            "Andorra",
            "Australia",
            "Austria",
            "Bahrain",
            "Belgium",
            "Canada",
            "France",
            "Germany",
            "Hong Kong",
            "Iceland",
            "India",
            "Indonesia",
            "Iran",
            "Iraq",
            "Italy",
            "Japan",
            "Kuwait",
            "Latvia",
            "Lebanon",
            "Morocco",
            "Netherlands",
            "Norway",
            "Portugal",
            "Russia",
            "San Marino",
            "Saudi Arabia",
            "Senegal",
            "Singapore",
            "South Korea",
            "Spain",
            "Sweden",
            "Switzerland",
            "Taiwan",
            "Thailand",
            "UK",
            "US"
           ],
           "lat": [
            28.0339,
            42.5063,
            -37.8136,
            47.5162,
            26.0275,
            50.8333,
            51.2538,
            47,
            51,
            22.3,
            64.9631,
            21,
            -0.7893,
            32,
            33,
            43,
            36,
            29.5,
            56.8796,
            33.8547,
            31.7917,
            52.1326,
            60.472,
            39.3999,
            60,
            43.9424,
            24,
            14.4974,
            1.2833,
            36,
            40,
            63,
            46.8182,
            23.7,
            15,
            55,
            48.033
           ],
           "legendgroup": "",
           "lon": [
            1.6596,
            1.5218,
            145.9707,
            14.5501,
            50.55,
            4,
            -85.3232,
            2,
            9,
            114.2,
            -19.0208,
            78,
            113.9213,
            53,
            44,
            12,
            138,
            47.75,
            24.6032,
            35.8623,
            -7.0926,
            5.2913,
            8.4689,
            -8.2245,
            90,
            12.4578,
            45,
            -14.4524,
            103.8333,
            128,
            -4,
            16,
            8.2275,
            121,
            101,
            -3,
            139.638
           ],
           "marker": {
            "color": [
             2,
             1,
             2,
             4,
             2,
             6,
             3,
             61,
             29,
             4,
             3,
             2,
             2,
             523,
             7,
             342,
             18,
             11,
             1,
             3,
             1,
             8,
             6,
             2,
             1,
             7,
             1,
             1,
             2,
             599,
             36,
             1,
             15,
             1,
             1,
             4,
             6
            ],
            "coloraxis": "coloraxis",
            "size": [
             1.3195079107728942,
             1,
             1.3195079107728942,
             1.7411011265922482,
             1.3195079107728942,
             2.0476725110792193,
             1.5518455739153598,
             5.177640992398568,
             3.845556523418775,
             1.7411011265922482,
             1.5518455739153598,
             1.3195079107728942,
             1.3195079107728942,
             12.229273998935247,
             2.17790642448278,
             10.318354450050661,
             3.177671523146437,
             2.6094986352788734,
             1,
             1.5518455739153598,
             1,
             2.29739670999407,
             2.0476725110792193,
             1.3195079107728942,
             1,
             2.17790642448278,
             1,
             1,
             1.3195079107728942,
             12.911322495677648,
             4.192962712629476,
             1,
             2.9541769390627777,
             1,
             1,
             1.7411011265922482,
             2.0476725110792193
            ],
            "sizemode": "area",
            "sizeref": 0.05009094667077794
           },
           "name": "",
           "showlegend": false,
           "type": "scattergeo"
          }
         ],
         "name": "03/02/2020"
        },
        {
         "data": [
          {
           "geo": "geo",
           "hoverlabel": {
            "namelength": 0
           },
           "hovertemplate": "<b>%{hovertext}</b><br><br>date=03/03/2020<br>size=%{marker.size}<br>Lat=%{lat}<br>Long=%{lon}<br>cases=%{marker.color}",
           "hovertext": [
            "Algeria",
            "Argentina",
            "Australia",
            "Austria",
            "Belgium",
            "Canada",
            "Chile",
            "Croatia",
            "Czech Republic",
            "Denmark",
            "Ecuador",
            "Estonia",
            "France",
            "Germany",
            "Iceland",
            "Iran",
            "Iraq",
            "Ireland",
            "Israel",
            "Italy",
            "Japan",
            "Jordan",
            "Malaysia",
            "Netherlands",
            "Norway",
            "Oman",
            "Others",
            "Pakistan",
            "Qatar",
            "San Marino",
            "Senegal",
            "Singapore",
            "South Korea",
            "Spain",
            "Sweden",
            "Switzerland",
            "Taiwan",
            "UK",
            "US",
            "Ukraine",
            "United Arab Emirates"
           ],
           "lat": [
            28.0339,
            -38.4161,
            -28.0167,
            47.5162,
            50.8333,
            51.2538,
            -35.6751,
            45.1,
            49.8175,
            56.2639,
            -1.8312,
            58.5953,
            47,
            51,
            64.9631,
            32,
            33,
            53.1424,
            31,
            43,
            36,
            31.24,
            2.5,
            52.1326,
            60.472,
            21,
            35.4437,
            30.3753,
            25.3548,
            43.9424,
            14.4974,
            1.2833,
            36,
            40,
            63,
            46.8182,
            23.7,
            55,
            48.033,
            48.3794,
            24
           ],
           "legendgroup": "",
           "lon": [
            1.6596,
            -63.6167,
            153.4,
            14.5501,
            4,
            -85.3232,
            -71.543,
            15.2,
            15.472999999999999,
            9.5018,
            -78.1834,
            25.0136,
            2,
            9,
            -19.0208,
            53,
            44,
            -7.6921,
            35,
            12,
            138,
            36.51,
            112.5,
            5.2913,
            8.4689,
            57,
            139.638,
            69.3451,
            51.1839,
            12.4578,
            -14.4524,
            103.8333,
            128,
            -4,
            16,
            8.2275,
            121,
            -3,
            -71.1449,
            31.1656,
            54
           ],
           "marker": {
            "color": [
             2,
             1,
             7,
             3,
             5,
             2,
             1,
             2,
             2,
             2,
             1,
             1,
             13,
             37,
             5,
             835,
             6,
             1,
             2,
             466,
             19,
             1,
             7,
             6,
             7,
             6,
             1,
             1,
             4,
             2,
             1,
             2,
             851,
             45,
             6,
             14,
             1,
             11,
             7,
             1,
             6
            ],
            "coloraxis": "coloraxis",
            "size": [
             1.3195079107728942,
             1,
             2.17790642448278,
             1.5518455739153598,
             1.9036539387158786,
             1.3195079107728942,
             1,
             1.3195079107728942,
             1.3195079107728942,
             1.3195079107728942,
             1,
             1,
             2.789827435889086,
             4.239168599773809,
             1.9036539387158786,
             14.746012244683625,
             2.0476725110792193,
             1,
             1.3195079107728942,
             11.677620748965273,
             3.2471431911356685,
             1,
             2.17790642448278,
             2.0476725110792193,
             2.17790642448278,
             2.0476725110792193,
             1,
             1,
             1.7411011265922482,
             1.3195079107728942,
             1,
             1.3195079107728942,
             14.858392415358626,
             4.584426407447396,
             2.0476725110792193,
             2.8737647560281374,
             1,
             2.6094986352788734,
             2.17790642448278,
             1,
             2.0476725110792193
            ],
            "sizemode": "area",
            "sizeref": 0.05009094667077794
           },
           "name": "",
           "showlegend": false,
           "type": "scattergeo"
          }
         ],
         "name": "03/03/2020"
        },
        {
         "data": [
          {
           "geo": "geo",
           "hoverlabel": {
            "namelength": 0
           },
           "hovertemplate": "<b>%{hovertext}</b><br><br>date=03/04/2020<br>size=%{marker.size}<br>Lat=%{lat}<br>Long=%{lon}<br>cases=%{marker.color}",
           "hovertext": [
            "Algeria",
            "Australia",
            "Austria",
            "Bahrain",
            "Belarus",
            "Belgium",
            "Brazil",
            "Canada",
            "Croatia",
            "Czech Republic",
            "Denmark",
            "Ecuador",
            "Faroe Islands",
            "France",
            "Germany",
            "Gibraltar",
            "Greece",
            "Hong Kong",
            "Hungary",
            "Iceland",
            "India",
            "Iran",
            "Iraq",
            "Ireland",
            "Israel",
            "Italy",
            "Japan",
            "Liechtenstein",
            "Malaysia",
            "Netherlands",
            "New Zealand",
            "Norway",
            "Oman",
            "Poland",
            "Portugal",
            "Qatar",
            "Romania",
            "Saint Barthelemy",
            "San Marino",
            "Senegal",
            "South Korea",
            "Spain",
            "Sweden",
            "Switzerland",
            "Tunisia",
            "UK",
            "US"
           ],
           "lat": [
            28.0339,
            -12.4634,
            47.5162,
            26.0275,
            53.7098,
            50.8333,
            -14.235,
            49.2827,
            45.1,
            49.8175,
            56.2639,
            -1.8312,
            61.8926,
            47,
            51,
            36.1408,
            39.0742,
            22.3,
            47.1625,
            64.9631,
            21,
            32,
            33,
            53.1424,
            31,
            43,
            36,
            47.14,
            2.5,
            52.1326,
            -40.9006,
            60.472,
            21,
            51.9194,
            39.3999,
            25.3548,
            45.9432,
            17.9,
            43.9424,
            14.4974,
            36,
            40,
            63,
            46.8182,
            34,
            55,
            48.033
           ],
           "legendgroup": "",
           "lon": [
            1.6596,
            151.2093,
            14.5501,
            50.55,
            27.9534,
            4,
            -51.9253,
            -123.1207,
            15.2,
            15.472999999999999,
            9.5018,
            -78.1834,
            -6.9118,
            2,
            9,
            -5.3536,
            21.8243,
            114.2,
            19.5033,
            -19.0208,
            78,
            53,
            44,
            -7.6921,
            35,
            12,
            138,
            9.55,
            112.5,
            5.2913,
            174.886,
            8.4689,
            57,
            19.1451,
            -8.2245,
            51.1839,
            24.9668,
            -62.8333,
            12.4578,
            -14.4524,
            128,
            -4,
            16,
            8.2275,
            9,
            -3,
            -73.7949
           ],
           "marker": {
            "color": [
             7,
             9,
             8,
             3,
             5,
             10,
             2,
             3,
             1,
             3,
             4,
             3,
             1,
             81,
             66,
             1,
             2,
             5,
             2,
             15,
             23,
             586,
             3,
             4,
             3,
             587,
             38,
             1,
             14,
             14,
             2,
             24,
             3,
             1,
             3,
             1,
             1,
             3,
             6,
             2,
             435,
             57,
             14,
             34,
             1,
             34,
             10
            ],
            "coloraxis": "coloraxis",
            "size": [
             2.17790642448278,
             2.4082246852806923,
             2.29739670999407,
             1.5518455739153598,
             1.9036539387158786,
             2.51188643150958,
             1.3195079107728942,
             1.5518455739153598,
             1,
             1.5518455739153598,
             1.7411011265922482,
             1.5518455739153598,
             1,
             5.799546134795289,
             5.3433986231592865,
             1,
             1.3195079107728942,
             1.9036539387158786,
             1.3195079107728942,
             2.9541769390627777,
             3.5050251165172894,
             12.798499222775598,
             1.5518455739153598,
             1.7411011265922482,
             1.5518455739153598,
             12.807230931339914,
             4.284631128115855,
             1,
             2.8737647560281374,
             2.8737647560281374,
             1.3195079107728942,
             3.565204915932007,
             1.5518455739153598,
             1,
             1.5518455739153598,
             1,
             1,
             1.5518455739153598,
             2.0476725110792193,
             1.3195079107728942,
             11.360454399346173,
             5.039064789033284,
             2.8737647560281374,
             4.0981850699807945,
             1,
             4.0981850699807945,
             2.51188643150958
            ],
            "sizemode": "area",
            "sizeref": 0.05009094667077794
           },
           "name": "",
           "showlegend": false,
           "type": "scattergeo"
          }
         ],
         "name": "03/04/2020"
        },
        {
         "data": [
          {
           "geo": "geo",
           "hoverlabel": {
            "namelength": 0
           },
           "hovertemplate": "<b>%{hovertext}</b><br><br>date=03/05/2020<br>size=%{marker.size}<br>Lat=%{lat}<br>Long=%{lon}<br>cases=%{marker.color}",
           "hovertext": [
            "Australia",
            "Austria",
            "Azerbaijan",
            "Bahrain",
            "Belgium",
            "Bosnia and Herzegovina",
            "Canada",
            "Chile",
            "Czech Republic",
            "Ecuador",
            "Egypt",
            "Estonia",
            "Finland",
            "France",
            "Georgia",
            "Germany",
            "Greece",
            "Iceland",
            "India",
            "Iran",
            "Israel",
            "Italy",
            "Japan",
            "Kuwait",
            "Lebanon",
            "Morocco",
            "Netherlands",
            "Norway",
            "Oman",
            "Palestine",
            "Portugal",
            "Romania",
            "Russia",
            "San Marino",
            "Saudi Arabia",
            "Singapore",
            "Slovenia",
            "South Africa",
            "South Korea",
            "Spain",
            "Sweden",
            "Switzerland",
            "Taiwan",
            "Thailand",
            "UK",
            "US",
            "United Arab Emirates"
           ],
           "lat": [
            -28.0167,
            47.5162,
            40.1431,
            26.0275,
            50.8333,
            43.9159,
            52.9399,
            -35.6751,
            49.8175,
            -1.8312,
            26,
            58.5953,
            64,
            47,
            42.3154,
            51,
            39.0742,
            64.9631,
            21,
            32,
            31,
            43,
            36,
            29.5,
            33.8547,
            31.7917,
            52.1326,
            60.472,
            21,
            31.9522,
            39.3999,
            45.9432,
            60,
            43.9424,
            24,
            1.2833,
            46.1512,
            -30.5595,
            36,
            40,
            63,
            46.8182,
            23.7,
            15,
            55,
            48.033,
            24
           ],
           "legendgroup": "",
           "lon": [
            153.4,
            14.5501,
            47.5769,
            50.55,
            4,
            17.6791,
            -73.5491,
            -71.543,
            15.472999999999999,
            -78.1834,
            30,
            25.0136,
            26,
            2,
            43.3569,
            9,
            21.8243,
            -19.0208,
            78,
            53,
            35,
            12,
            138,
            47.75,
            35.8623,
            -7.0926,
            5.2913,
            8.4689,
            57,
            35.2332,
            -8.2245,
            24.9668,
            90,
            12.4578,
            45,
            103.8333,
            14.9955,
            22.9375,
            128,
            -4,
            16,
            8.2275,
            121,
            101,
            -3,
            -73.5594,
            54
           ],
           "marker": {
            "color": [
             2,
             12,
             3,
             3,
             27,
             2,
             2,
             3,
             4,
             3,
             1,
             1,
             6,
             92,
             1,
             220,
             22,
             8,
             2,
             591,
             1,
             769,
             29,
             2,
             3,
             1,
             44,
             31,
             1,
             4,
             3,
             2,
             1,
             5,
             4,
             7,
             2,
             1,
             467,
             37,
             59,
             24,
             2,
             4,
             30,
             20,
             2
            ],
            "coloraxis": "coloraxis",
            "size": [
             1.3195079107728942,
             2.701920077041227,
             1.5518455739153598,
             1.5518455739153598,
             3.737192818846552,
             1.3195079107728942,
             1.3195079107728942,
             1.5518455739153598,
             1.7411011265922482,
             1.5518455739153598,
             1,
             1,
             2.0476725110792193,
             6.102603179102379,
             1,
             8.649063234943275,
             3.4432540924015447,
             2.29739670999407,
             1.3195079107728942,
             12.842068802362572,
             1,
             14.268244274611503,
             3.845556523418775,
             1.3195079107728942,
             1.5518455739153598,
             1,
             4.5434010137249805,
             3.9495232751502978,
             1,
             1.7411011265922482,
             1.5518455739153598,
             1.3195079107728942,
             1,
             1.9036539387158786,
             1.7411011265922482,
             2.17790642448278,
             1.3195079107728942,
             1,
             11.687638012106412,
             4.239168599773809,
             5.109057666699868,
             3.565204915932007,
             1.3195079107728942,
             1.7411011265922482,
             3.8980598409161895,
             3.3144540173399872,
             1.3195079107728942
            ],
            "sizemode": "area",
            "sizeref": 0.05009094667077794
           },
           "name": "",
           "showlegend": false,
           "type": "scattergeo"
          }
         ],
         "name": "03/05/2020"
        },
        {
         "data": [
          {
           "geo": "geo",
           "hoverlabel": {
            "namelength": 0
           },
           "hovertemplate": "<b>%{hovertext}</b><br><br>date=03/06/2020<br>size=%{marker.size}<br>Lat=%{lat}<br>Long=%{lon}<br>cases=%{marker.color}",
           "hovertext": [
            "Algeria",
            "Argentina",
            "Australia",
            "Austria",
            "Bahrain",
            "Belgium",
            "Bhutan",
            "Brazil",
            "Cameroon",
            "Canada",
            "Colombia",
            "Costa Rica",
            "Croatia",
            "Czech Republic",
            "Denmark",
            "Dominican Republic",
            "Egypt",
            "Estonia",
            "Finland",
            "France",
            "Germany",
            "Greece",
            "Hong Kong",
            "Iceland",
            "India",
            "Indonesia",
            "Iran",
            "Iraq",
            "Ireland",
            "Israel",
            "Italy",
            "Japan",
            "Lebanon",
            "Luxembourg",
            "Malaysia",
            "Mexico",
            "Netherlands",
            "New Zealand",
            "North Macedonia",
            "Norway",
            "Others",
            "Pakistan",
            "Palestine",
            "Peru",
            "Philippines",
            "Poland",
            "Portugal",
            "Romania",
            "Russia",
            "Serbia",
            "Singapore",
            "Slovakia",
            "Slovenia",
            "South Korea",
            "Spain",
            "Sweden",
            "Switzerland",
            "Taiwan",
            "Thailand",
            "Togo",
            "UK",
            "US",
            "Vatican City"
           ],
           "lat": [
            28.0339,
            -38.4161,
            -12.4634,
            47.5162,
            26.0275,
            50.8333,
            27.5142,
            -14.235,
            3.8480000000000003,
            53.9333,
            4.5709,
            9.7489,
            45.1,
            49.8175,
            56.2639,
            18.7357,
            26,
            58.5953,
            64,
            47,
            51,
            39.0742,
            22.3,
            64.9631,
            21,
            -0.7893,
            32,
            33,
            53.1424,
            31,
            43,
            36,
            33.8547,
            49.8153,
            2.5,
            23.6345,
            52.1326,
            -40.9006,
            41.6086,
            60.472,
            35.4437,
            30.3753,
            31.9522,
            -9.19,
            13,
            51.9194,
            39.3999,
            45.9432,
            60,
            44.0165,
            1.2833,
            48.669,
            46.1512,
            36,
            40,
            63,
            46.8182,
            23.7,
            15,
            8.6195,
            55,
            48.033,
            41.9029
           ],
           "legendgroup": "",
           "lon": [
            1.6596,
            -63.6167,
            151.2093,
            14.5501,
            50.55,
            4,
            90.4336,
            -51.9253,
            11.5021,
            -85.3232,
            -74.2973,
            -83.7534,
            15.2,
            15.472999999999999,
            9.5018,
            -70.1627,
            30,
            25.0136,
            26,
            2,
            9,
            21.8243,
            114.2,
            -19.0208,
            78,
            113.9213,
            53,
            44,
            -7.6921,
            35,
            12,
            138,
            35.8623,
            6.1296,
            112.5,
            -102.5528,
            5.2913,
            174.886,
            21.7453,
            8.4689,
            139.638,
            69.3451,
            35.2332,
            -75.0152,
            122,
            19.1451,
            -8.2245,
            24.9668,
            90,
            21.0059,
            103.8333,
            19.699,
            14.9955,
            128,
            -4,
            16,
            8.2275,
            121,
            101,
            0.8248,
            -3,
            -70.7928,
            12.4534
           ],
           "marker": {
            "color": [
             5,
             1,
             4,
             14,
             5,
             59,
             1,
             9,
             1,
             8,
             1,
             1,
             1,
             6,
             13,
             1,
             12,
             7,
             3,
             276,
             188,
             14,
             2,
             9,
             1,
             2,
             1234,
             5,
             12,
             5,
             778,
             60,
             6,
             1,
             33,
             1,
             46,
             1,
             2,
             21,
             10,
             1,
             12,
             1,
             2,
             4,
             5,
             3,
             9,
             1,
             13,
             1,
             5,
             505,
             141,
             7,
             100,
             1,
             1,
             1,
             48,
             12,
             1
            ],
            "coloraxis": "coloraxis",
            "size": [
             1.9036539387158786,
             1,
             1.7411011265922482,
             2.8737647560281374,
             1.9036539387158786,
             5.109057666699868,
             1,
             2.4082246852806923,
             1,
             2.29739670999407,
             1,
             1,
             1,
             2.0476725110792193,
             2.789827435889086,
             1,
             2.701920077041227,
             2.17790642448278,
             1.5518455739153598,
             9.47029773285183,
             8.122002890359385,
             2.8737647560281374,
             1.3195079107728942,
             2.4082246852806923,
             1,
             1.3195079107728942,
             17.23955549906252,
             1.9036539387158786,
             2.701920077041227,
             1.9036539387158786,
             14.33480662697117,
             5.143520796755042,
             2.0476725110792193,
             1,
             4.049538907295691,
             1,
             4.624908368702249,
             1,
             1.3195079107728942,
             3.379774445235429,
             2.51188643150958,
             1,
             2.701920077041227,
             1,
             1.3195079107728942,
             1.7411011265922482,
             1.9036539387158786,
             1.5518455739153598,
             2.4082246852806923,
             1,
             2.789827435889086,
             1,
             1.9036539387158786,
             12.059145946000156,
             7.239151157980811,
             2.17790642448278,
             6.309573444801933,
             1,
             1,
             1,
             4.704316090098695,
             2.701920077041227,
             1
            ],
            "sizemode": "area",
            "sizeref": 0.05009094667077794
           },
           "name": "",
           "showlegend": false,
           "type": "scattergeo"
          }
         ],
         "name": "03/06/2020"
        },
        {
         "data": [
          {
           "geo": "geo",
           "hoverlabel": {
            "namelength": 0
           },
           "hovertemplate": "<b>%{hovertext}</b><br><br>date=03/07/2020<br>size=%{marker.size}<br>Lat=%{lat}<br>Long=%{lon}<br>cases=%{marker.color}",
           "hovertext": [
            "Argentina",
            "Australia",
            "Austria",
            "Azerbaijan",
            "Bahrain",
            "Belgium",
            "Bosnia and Herzegovina",
            "Canada",
            "Croatia",
            "Czech Republic",
            "France",
            "French Guiana",
            "Germany",
            "Greece",
            "Hong Kong",
            "Hungary",
            "Iceland",
            "India",
            "Iran",
            "Iraq",
            "Italy",
            "Japan",
            "Kuwait",
            "Malaysia",
            "Malta",
            "Martinique",
            "Netherlands",
            "New Zealand",
            "Norway",
            "Palestine",
            "Philippines",
            "Portugal",
            "San Marino",
            "Singapore",
            "South Korea",
            "Spain",
            "Sweden",
            "Switzerland",
            "Thailand",
            "UK",
            "US",
            "United Arab Emirates",
            "Vietnam"
           ],
           "lat": [
            -38.4161,
            -33.8688,
            47.5162,
            40.1431,
            26.0275,
            50.8333,
            43.9159,
            53.9333,
            45.1,
            49.8175,
            47,
            3.9339,
            51,
            39.0742,
            22.3,
            47.1625,
            64.9631,
            21,
            32,
            33,
            43,
            36,
            29.5,
            2.5,
            35.9375,
            14.6415,
            52.1326,
            -40.9006,
            60.472,
            31.9522,
            13,
            39.3999,
            43.9424,
            1.2833,
            36,
            40,
            63,
            46.8182,
            15,
            55,
            48.033,
            24,
            16
           ],
           "legendgroup": "",
           "lon": [
            -63.6167,
            151.2093,
            14.5501,
            47.5769,
            50.55,
            4,
            17.6791,
            -73.5491,
            15.2,
            15.472999999999999,
            2,
            -53.1258,
            9,
            21.8243,
            114.2,
            19.5033,
            -19.0208,
            78,
            53,
            44,
            12,
            138,
            47.75,
            112.5,
            14.3754,
            -61.0242,
            5.2913,
            174.886,
            8.4689,
            35.2332,
            122,
            -8.2245,
            12.4578,
            103.8333,
            128,
            -4,
            16,
            8.2275,
            101,
            -3,
            -71.4774,
            54,
            108
           ],
           "marker": {
            "color": [
             6,
             2,
             24,
             3,
             25,
             60,
             1,
             3,
             1,
             1,
             296,
             5,
             129,
             1,
             1,
             2,
             7,
             3,
             1076,
             14,
             1247,
             41,
             3,
             10,
             3,
             2,
             60,
             1,
             39,
             6,
             1,
             7,
             2,
             8,
             448,
             100,
             60,
             54,
             2,
             43,
             38,
             16,
             2
            ],
            "coloraxis": "coloraxis",
            "size": [
             2.0476725110792193,
             1.3195079107728942,
             3.565204915932007,
             1.5518455739153598,
             3.623898318388478,
             5.143520796755042,
             1,
             1.5518455739153598,
             1,
             1,
             9.739051994230516,
             1.9036539387158786,
             6.986117473092834,
             1,
             1,
             1.3195079107728942,
             2.17790642448278,
             1.5518455739153598,
             16.3201786519824,
             2.8737647560281374,
             17.311973609744836,
             4.416859073743617,
             1.5518455739153598,
             2.51188643150958,
             1.5518455739153598,
             1.3195079107728942,
             5.143520796755042,
             1,
             4.329381358372115,
             2.0476725110792193,
             1,
             2.17790642448278,
             1.3195079107728942,
             2.29739670999407,
             11.49505902411255,
             6.309573444801933,
             5.143520796755042,
             4.9312554885516775,
             1.3195079107728942,
             4.501812287589042,
             4.284631128115855,
             3.0314331330207964,
             1.3195079107728942
            ],
            "sizemode": "area",
            "sizeref": 0.05009094667077794
           },
           "name": "",
           "showlegend": false,
           "type": "scattergeo"
          }
         ],
         "name": "03/07/2020"
        },
        {
         "data": [
          {
           "geo": "geo",
           "hoverlabel": {
            "namelength": 0
           },
           "hovertemplate": "<b>%{hovertext}</b><br><br>date=03/08/2020<br>size=%{marker.size}<br>Lat=%{lat}<br>Long=%{lon}<br>cases=%{marker.color}",
           "hovertext": [
            "Afghanistan",
            "Algeria",
            "Argentina",
            "Australia",
            "Austria",
            "Bangladesh",
            "Belgium",
            "Brazil",
            "Bulgaria",
            "Cambodia",
            "Cameroon",
            "Canada",
            "Chile",
            "Costa Rica",
            "Czech Republic",
            "Denmark",
            "Dominican Republic",
            "Ecuador",
            "Egypt",
            "Faroe Islands",
            "Finland",
            "France",
            "Georgia",
            "Germany",
            "Greece",
            "Hong Kong",
            "Hungary",
            "India",
            "Indonesia",
            "Iran",
            "Iraq",
            "Ireland",
            "Israel",
            "Italy",
            "Japan",
            "Kuwait",
            "Latvia",
            "Lebanon",
            "Luxembourg",
            "Malaysia",
            "Maldives",
            "Mexico",
            "Moldova",
            "Netherlands",
            "Norway",
            "Paraguay",
            "Peru",
            "Philippines",
            "Poland",
            "Portugal",
            "Qatar",
            "Romania",
            "Russia",
            "San Marino",
            "Saudi Arabia",
            "Singapore",
            "Slovakia",
            "Slovenia",
            "South Africa",
            "South Korea",
            "Spain",
            "Sweden",
            "Switzerland",
            "Tunisia",
            "UK",
            "US",
            "Vietnam"
           ],
           "lat": [
            33,
            28.0339,
            -38.4161,
            -28.0167,
            47.5162,
            23.685,
            50.8333,
            -14.235,
            42.7339,
            11.55,
            3.8480000000000003,
            53.9333,
            -35.6751,
            9.7489,
            49.8175,
            56.2639,
            18.7357,
            -1.8312,
            26,
            61.8926,
            64,
            47,
            42.3154,
            51,
            39.0742,
            22.3,
            47.1625,
            21,
            -0.7893,
            32,
            33,
            53.1424,
            31,
            43,
            36,
            29.5,
            56.8796,
            33.8547,
            49.8153,
            2.5,
            3.2028,
            23.6345,
            47.4116,
            52.1326,
            60.472,
            -23.4425,
            -9.19,
            13,
            51.9194,
            39.3999,
            25.3548,
            45.9432,
            60,
            43.9424,
            24,
            1.2833,
            48.669,
            46.1512,
            -30.5595,
            36,
            40,
            63,
            46.8182,
            34,
            55,
            48.033,
            16
           ],
           "legendgroup": "",
           "lon": [
            65,
            1.6596,
            -63.6167,
            153.4,
            14.5501,
            90.3563,
            4,
            -51.9253,
            25.4858,
            104.9167,
            11.5021,
            -73.5491,
            -71.543,
            -83.7534,
            15.472999999999999,
            9.5018,
            -70.1627,
            -78.1834,
            30,
            -6.9118,
            26,
            2,
            43.3569,
            9,
            21.8243,
            114.2,
            19.5033,
            78,
            113.9213,
            53,
            44,
            -7.6921,
            35,
            12,
            138,
            47.75,
            24.6032,
            35.8623,
            6.1296,
            112.5,
            73.2207,
            -102.5528,
            28.3699,
            5.2913,
            8.4689,
            -58.4438,
            -75.0152,
            122,
            19.1451,
            -8.2245,
            51.1839,
            24.9668,
            90,
            12.4578,
            45,
            103.8333,
            19.699,
            14.9955,
            22.9375,
            128,
            -4,
            16,
            8.2275,
            9,
            -3,
            -71.0498,
            108
           ],
           "marker": {
            "color": [
             3,
             2,
             4,
             10,
             25,
             3,
             31,
             7,
             4,
             1,
             1,
             6,
             4,
             4,
             12,
             12,
             3,
             1,
             34,
             1,
             8,
             177,
             9,
             241,
             27,
             6,
             3,
             5,
             2,
             743,
             6,
             1,
             18,
             1492,
             41,
             3,
             1,
             10,
             1,
             6,
             4,
             1,
             1,
             77,
             29,
             1,
             5,
             4,
             6,
             10,
             7,
             6,
             4,
             13,
             6,
             12,
             2,
             9,
             2,
             273,
             173,
             42,
             69,
             1,
             67,
             26,
             12
            ],
            "coloraxis": "coloraxis",
            "size": [
             1.5518455739153598,
             1.3195079107728942,
             1.7411011265922482,
             2.51188643150958,
             3.623898318388478,
             1.5518455739153598,
             3.9495232751502978,
             2.17790642448278,
             1.7411011265922482,
             1,
             1,
             2.0476725110792193,
             1.7411011265922482,
             1.7411011265922482,
             2.701920077041227,
             2.701920077041227,
             1.5518455739153598,
             1,
             4.0981850699807945,
             1,
             2.29739670999407,
             7.928468526946524,
             2.4082246852806923,
             8.97029688792332,
             3.737192818846552,
             2.0476725110792193,
             1.5518455739153598,
             1.9036539387158786,
             1.3195079107728942,
             14.073286386672086,
             2.0476725110792193,
             1,
             3.177671523146437,
             18.599768088951468,
             4.416859073743617,
             1.5518455739153598,
             1,
             2.51188643150958,
             1,
             2.0476725110792193,
             1.7411011265922482,
             1,
             1,
             5.683243842452905,
             3.845556523418775,
             1,
             1.9036539387158786,
             1.7411011265922482,
             2.0476725110792193,
             2.51188643150958,
             2.17790642448278,
             2.0476725110792193,
             1.7411011265922482,
             2.789827435889086,
             2.0476725110792193,
             2.701920077041227,
             1.3195079107728942,
             2.4082246852806923,
             1.3195079107728942,
             9.428987474434614,
             7.856306914359049,
             4.459639117116218,
             5.439257713529523,
             1,
             5.375636834090112,
             3.6811993713469082,
             2.701920077041227
            ],
            "sizemode": "area",
            "sizeref": 0.05009094667077794
           },
           "name": "",
           "showlegend": false,
           "type": "scattergeo"
          }
         ],
         "name": "03/08/2020"
        },
        {
         "data": [
          {
           "geo": "geo",
           "hoverlabel": {
            "namelength": 0
           },
           "hovertemplate": "<b>%{hovertext}</b><br><br>date=03/09/2020<br>size=%{marker.size}<br>Lat=%{lat}<br>Long=%{lon}<br>cases=%{marker.color}",
           "hovertext": [
            "Albania",
            "Algeria",
            "Australia",
            "Austria",
            "Bahrain",
            "Belgium",
            "Brazil",
            "Brunei",
            "Canada",
            "Costa Rica",
            "Cyprus",
            "Denmark",
            "Ecuador",
            "Egypt",
            "Finland",
            "France",
            "Georgia",
            "Germany",
            "Hong Kong",
            "Hungary",
            "Iceland",
            "India",
            "Indonesia",
            "Iran",
            "Ireland",
            "Italy",
            "Japan",
            "Latvia",
            "Malaysia",
            "Netherlands",
            "Nigeria",
            "Norway",
            "Peru",
            "Philippines",
            "Poland",
            "Qatar",
            "Saint Barthelemy",
            "Saudi Arabia",
            "South Korea",
            "Spain",
            "St. Martin",
            "Sweden",
            "Switzerland",
            "UK",
            "US"
           ],
           "lat": [
            41.1533,
            28.0339,
            -31.9505,
            47.5162,
            26.0275,
            50.8333,
            -14.235,
            4.5353,
            53.9333,
            9.7489,
            35.1264,
            56.2639,
            -1.8312,
            26,
            64,
            47,
            42.3154,
            51,
            22.3,
            47.1625,
            64.9631,
            21,
            -0.7893,
            32,
            53.1424,
            43,
            36,
            56.8796,
            2.5,
            52.1326,
            9.082,
            60.472,
            -9.19,
            13,
            51.9194,
            25.3548,
            17.9,
            24,
            36,
            40,
            18.0708,
            63,
            46.8182,
            55,
            44.8254
           ],
           "legendgroup": "",
           "lon": [
            20.1683,
            1.6596,
            151.2093,
            14.5501,
            50.55,
            4,
            -51.9253,
            114.7277,
            -85.3232,
            -83.7534,
            33.4299,
            9.5018,
            -78.1834,
            30,
            26,
            2,
            43.3569,
            9,
            114.2,
            19.5033,
            -19.0208,
            78,
            113.9213,
            53,
            -7.6921,
            12,
            138,
            24.6032,
            112.5,
            5.2913,
            8.6753,
            8.4689,
            -75.0152,
            122,
            19.1451,
            51.1839,
            -62.8333,
            45,
            128,
            -4,
            -63.0501,
            16,
            8.2275,
            -3,
            -71.0498
           ],
           "marker": {
            "color": [
             2,
             1,
             10,
             27,
             10,
             39,
             5,
             1,
             5,
             4,
             2,
             55,
             1,
             6,
             7,
             83,
             2,
             136,
             1,
             2,
             8,
             4,
             13,
             595,
             2,
             1797,
             9,
             4,
             18,
             56,
             1,
             29,
             1,
             10,
             5,
             3,
             2,
             4,
             164,
             400,
             2,
             45,
             37,
             48,
             15
            ],
            "coloraxis": "coloraxis",
            "size": [
             1.3195079107728942,
             1,
             2.51188643150958,
             3.737192818846552,
             2.51188643150958,
             4.329381358372115,
             1.9036539387158786,
             1,
             1.9036539387158786,
             1.7411011265922482,
             1.3195079107728942,
             4.967582355122337,
             1,
             2.0476725110792193,
             2.17790642448278,
             5.856406809717238,
             1.3195079107728942,
             7.135354642327092,
             1,
             1.3195079107728942,
             2.29739670999407,
             1.7411011265922482,
             2.789827435889086,
             12.876765485266402,
             1.3195079107728942,
             20.036378668311176,
             2.4082246852806923,
             1.7411011265922482,
             3.177671523146437,
             5.003515054281688,
             1,
             3.845556523418775,
             1,
             2.51188643150958,
             1.9036539387158786,
             1.5518455739153598,
             1.3195079107728942,
             1.7411011265922482,
             7.690198309294206,
             10.98560543306118,
             1.3195079107728942,
             4.584426407447396,
             4.239168599773809,
             4.704316090098695,
             2.9541769390627777
            ],
            "sizemode": "area",
            "sizeref": 0.05009094667077794
           },
           "name": "",
           "showlegend": false,
           "type": "scattergeo"
          }
         ],
         "name": "03/09/2020"
        }
       ],
       "layout": {
        "coloraxis": {
         "colorbar": {
          "title": {
           "text": "cases"
          }
         },
         "colorscale": [
          [
           0,
           "#0d0887"
          ],
          [
           0.1111111111111111,
           "#46039f"
          ],
          [
           0.2222222222222222,
           "#7201a8"
          ],
          [
           0.3333333333333333,
           "#9c179e"
          ],
          [
           0.4444444444444444,
           "#bd3786"
          ],
          [
           0.5555555555555556,
           "#d8576b"
          ],
          [
           0.6666666666666666,
           "#ed7953"
          ],
          [
           0.7777777777777778,
           "#fb9f3a"
          ],
          [
           0.8888888888888888,
           "#fdca26"
          ],
          [
           1,
           "#f0f921"
          ]
         ],
         "showscale": true
        },
        "geo": {
         "center": {},
         "domain": {
          "x": [
           0,
           1
          ],
          "y": [
           0,
           1
          ]
         },
         "projection": {
          "type": "equirectangular"
         },
         "scope": "world"
        },
        "legend": {
         "itemsizing": "constant",
         "tracegroupgap": 0
        },
        "sliders": [
         {
          "active": 0,
          "currentvalue": {
           "prefix": "date="
          },
          "len": 0.9,
          "pad": {
           "b": 10,
           "t": 60
          },
          "steps": [
           {
            "args": [
             [
              "01/22/2020"
             ],
             {
              "frame": {
               "duration": 0,
               "redraw": true
              },
              "fromcurrent": true,
              "mode": "immediate",
              "transition": {
               "duration": 0,
               "easing": "linear"
              }
             }
            ],
            "label": "01/22/2020",
            "method": "animate"
           },
           {
            "args": [
             [
              "01/23/2020"
             ],
             {
              "frame": {
               "duration": 0,
               "redraw": true
              },
              "fromcurrent": true,
              "mode": "immediate",
              "transition": {
               "duration": 0,
               "easing": "linear"
              }
             }
            ],
            "label": "01/23/2020",
            "method": "animate"
           },
           {
            "args": [
             [
              "01/24/2020"
             ],
             {
              "frame": {
               "duration": 0,
               "redraw": true
              },
              "fromcurrent": true,
              "mode": "immediate",
              "transition": {
               "duration": 0,
               "easing": "linear"
              }
             }
            ],
            "label": "01/24/2020",
            "method": "animate"
           },
           {
            "args": [
             [
              "01/25/2020"
             ],
             {
              "frame": {
               "duration": 0,
               "redraw": true
              },
              "fromcurrent": true,
              "mode": "immediate",
              "transition": {
               "duration": 0,
               "easing": "linear"
              }
             }
            ],
            "label": "01/25/2020",
            "method": "animate"
           },
           {
            "args": [
             [
              "01/26/2020"
             ],
             {
              "frame": {
               "duration": 0,
               "redraw": true
              },
              "fromcurrent": true,
              "mode": "immediate",
              "transition": {
               "duration": 0,
               "easing": "linear"
              }
             }
            ],
            "label": "01/26/2020",
            "method": "animate"
           },
           {
            "args": [
             [
              "01/27/2020"
             ],
             {
              "frame": {
               "duration": 0,
               "redraw": true
              },
              "fromcurrent": true,
              "mode": "immediate",
              "transition": {
               "duration": 0,
               "easing": "linear"
              }
             }
            ],
            "label": "01/27/2020",
            "method": "animate"
           },
           {
            "args": [
             [
              "01/28/2020"
             ],
             {
              "frame": {
               "duration": 0,
               "redraw": true
              },
              "fromcurrent": true,
              "mode": "immediate",
              "transition": {
               "duration": 0,
               "easing": "linear"
              }
             }
            ],
            "label": "01/28/2020",
            "method": "animate"
           },
           {
            "args": [
             [
              "01/29/2020"
             ],
             {
              "frame": {
               "duration": 0,
               "redraw": true
              },
              "fromcurrent": true,
              "mode": "immediate",
              "transition": {
               "duration": 0,
               "easing": "linear"
              }
             }
            ],
            "label": "01/29/2020",
            "method": "animate"
           },
           {
            "args": [
             [
              "01/30/2020"
             ],
             {
              "frame": {
               "duration": 0,
               "redraw": true
              },
              "fromcurrent": true,
              "mode": "immediate",
              "transition": {
               "duration": 0,
               "easing": "linear"
              }
             }
            ],
            "label": "01/30/2020",
            "method": "animate"
           },
           {
            "args": [
             [
              "01/31/2020"
             ],
             {
              "frame": {
               "duration": 0,
               "redraw": true
              },
              "fromcurrent": true,
              "mode": "immediate",
              "transition": {
               "duration": 0,
               "easing": "linear"
              }
             }
            ],
            "label": "01/31/2020",
            "method": "animate"
           },
           {
            "args": [
             [
              "02/01/2020"
             ],
             {
              "frame": {
               "duration": 0,
               "redraw": true
              },
              "fromcurrent": true,
              "mode": "immediate",
              "transition": {
               "duration": 0,
               "easing": "linear"
              }
             }
            ],
            "label": "02/01/2020",
            "method": "animate"
           },
           {
            "args": [
             [
              "02/10/2020"
             ],
             {
              "frame": {
               "duration": 0,
               "redraw": true
              },
              "fromcurrent": true,
              "mode": "immediate",
              "transition": {
               "duration": 0,
               "easing": "linear"
              }
             }
            ],
            "label": "02/10/2020",
            "method": "animate"
           },
           {
            "args": [
             [
              "02/11/2020"
             ],
             {
              "frame": {
               "duration": 0,
               "redraw": true
              },
              "fromcurrent": true,
              "mode": "immediate",
              "transition": {
               "duration": 0,
               "easing": "linear"
              }
             }
            ],
            "label": "02/11/2020",
            "method": "animate"
           },
           {
            "args": [
             [
              "02/12/2020"
             ],
             {
              "frame": {
               "duration": 0,
               "redraw": true
              },
              "fromcurrent": true,
              "mode": "immediate",
              "transition": {
               "duration": 0,
               "easing": "linear"
              }
             }
            ],
            "label": "02/12/2020",
            "method": "animate"
           },
           {
            "args": [
             [
              "02/13/2020"
             ],
             {
              "frame": {
               "duration": 0,
               "redraw": true
              },
              "fromcurrent": true,
              "mode": "immediate",
              "transition": {
               "duration": 0,
               "easing": "linear"
              }
             }
            ],
            "label": "02/13/2020",
            "method": "animate"
           },
           {
            "args": [
             [
              "02/14/2020"
             ],
             {
              "frame": {
               "duration": 0,
               "redraw": true
              },
              "fromcurrent": true,
              "mode": "immediate",
              "transition": {
               "duration": 0,
               "easing": "linear"
              }
             }
            ],
            "label": "02/14/2020",
            "method": "animate"
           },
           {
            "args": [
             [
              "02/15/2020"
             ],
             {
              "frame": {
               "duration": 0,
               "redraw": true
              },
              "fromcurrent": true,
              "mode": "immediate",
              "transition": {
               "duration": 0,
               "easing": "linear"
              }
             }
            ],
            "label": "02/15/2020",
            "method": "animate"
           },
           {
            "args": [
             [
              "02/16/2020"
             ],
             {
              "frame": {
               "duration": 0,
               "redraw": true
              },
              "fromcurrent": true,
              "mode": "immediate",
              "transition": {
               "duration": 0,
               "easing": "linear"
              }
             }
            ],
            "label": "02/16/2020",
            "method": "animate"
           },
           {
            "args": [
             [
              "02/17/2020"
             ],
             {
              "frame": {
               "duration": 0,
               "redraw": true
              },
              "fromcurrent": true,
              "mode": "immediate",
              "transition": {
               "duration": 0,
               "easing": "linear"
              }
             }
            ],
            "label": "02/17/2020",
            "method": "animate"
           },
           {
            "args": [
             [
              "02/18/2020"
             ],
             {
              "frame": {
               "duration": 0,
               "redraw": true
              },
              "fromcurrent": true,
              "mode": "immediate",
              "transition": {
               "duration": 0,
               "easing": "linear"
              }
             }
            ],
            "label": "02/18/2020",
            "method": "animate"
           },
           {
            "args": [
             [
              "02/19/2020"
             ],
             {
              "frame": {
               "duration": 0,
               "redraw": true
              },
              "fromcurrent": true,
              "mode": "immediate",
              "transition": {
               "duration": 0,
               "easing": "linear"
              }
             }
            ],
            "label": "02/19/2020",
            "method": "animate"
           },
           {
            "args": [
             [
              "02/02/2020"
             ],
             {
              "frame": {
               "duration": 0,
               "redraw": true
              },
              "fromcurrent": true,
              "mode": "immediate",
              "transition": {
               "duration": 0,
               "easing": "linear"
              }
             }
            ],
            "label": "02/02/2020",
            "method": "animate"
           },
           {
            "args": [
             [
              "02/20/2020"
             ],
             {
              "frame": {
               "duration": 0,
               "redraw": true
              },
              "fromcurrent": true,
              "mode": "immediate",
              "transition": {
               "duration": 0,
               "easing": "linear"
              }
             }
            ],
            "label": "02/20/2020",
            "method": "animate"
           },
           {
            "args": [
             [
              "02/21/2020"
             ],
             {
              "frame": {
               "duration": 0,
               "redraw": true
              },
              "fromcurrent": true,
              "mode": "immediate",
              "transition": {
               "duration": 0,
               "easing": "linear"
              }
             }
            ],
            "label": "02/21/2020",
            "method": "animate"
           },
           {
            "args": [
             [
              "02/22/2020"
             ],
             {
              "frame": {
               "duration": 0,
               "redraw": true
              },
              "fromcurrent": true,
              "mode": "immediate",
              "transition": {
               "duration": 0,
               "easing": "linear"
              }
             }
            ],
            "label": "02/22/2020",
            "method": "animate"
           },
           {
            "args": [
             [
              "02/23/2020"
             ],
             {
              "frame": {
               "duration": 0,
               "redraw": true
              },
              "fromcurrent": true,
              "mode": "immediate",
              "transition": {
               "duration": 0,
               "easing": "linear"
              }
             }
            ],
            "label": "02/23/2020",
            "method": "animate"
           },
           {
            "args": [
             [
              "02/24/2020"
             ],
             {
              "frame": {
               "duration": 0,
               "redraw": true
              },
              "fromcurrent": true,
              "mode": "immediate",
              "transition": {
               "duration": 0,
               "easing": "linear"
              }
             }
            ],
            "label": "02/24/2020",
            "method": "animate"
           },
           {
            "args": [
             [
              "02/25/2020"
             ],
             {
              "frame": {
               "duration": 0,
               "redraw": true
              },
              "fromcurrent": true,
              "mode": "immediate",
              "transition": {
               "duration": 0,
               "easing": "linear"
              }
             }
            ],
            "label": "02/25/2020",
            "method": "animate"
           },
           {
            "args": [
             [
              "02/26/2020"
             ],
             {
              "frame": {
               "duration": 0,
               "redraw": true
              },
              "fromcurrent": true,
              "mode": "immediate",
              "transition": {
               "duration": 0,
               "easing": "linear"
              }
             }
            ],
            "label": "02/26/2020",
            "method": "animate"
           },
           {
            "args": [
             [
              "02/27/2020"
             ],
             {
              "frame": {
               "duration": 0,
               "redraw": true
              },
              "fromcurrent": true,
              "mode": "immediate",
              "transition": {
               "duration": 0,
               "easing": "linear"
              }
             }
            ],
            "label": "02/27/2020",
            "method": "animate"
           },
           {
            "args": [
             [
              "02/28/2020"
             ],
             {
              "frame": {
               "duration": 0,
               "redraw": true
              },
              "fromcurrent": true,
              "mode": "immediate",
              "transition": {
               "duration": 0,
               "easing": "linear"
              }
             }
            ],
            "label": "02/28/2020",
            "method": "animate"
           },
           {
            "args": [
             [
              "02/29/2020"
             ],
             {
              "frame": {
               "duration": 0,
               "redraw": true
              },
              "fromcurrent": true,
              "mode": "immediate",
              "transition": {
               "duration": 0,
               "easing": "linear"
              }
             }
            ],
            "label": "02/29/2020",
            "method": "animate"
           },
           {
            "args": [
             [
              "02/03/2020"
             ],
             {
              "frame": {
               "duration": 0,
               "redraw": true
              },
              "fromcurrent": true,
              "mode": "immediate",
              "transition": {
               "duration": 0,
               "easing": "linear"
              }
             }
            ],
            "label": "02/03/2020",
            "method": "animate"
           },
           {
            "args": [
             [
              "02/04/2020"
             ],
             {
              "frame": {
               "duration": 0,
               "redraw": true
              },
              "fromcurrent": true,
              "mode": "immediate",
              "transition": {
               "duration": 0,
               "easing": "linear"
              }
             }
            ],
            "label": "02/04/2020",
            "method": "animate"
           },
           {
            "args": [
             [
              "02/05/2020"
             ],
             {
              "frame": {
               "duration": 0,
               "redraw": true
              },
              "fromcurrent": true,
              "mode": "immediate",
              "transition": {
               "duration": 0,
               "easing": "linear"
              }
             }
            ],
            "label": "02/05/2020",
            "method": "animate"
           },
           {
            "args": [
             [
              "02/06/2020"
             ],
             {
              "frame": {
               "duration": 0,
               "redraw": true
              },
              "fromcurrent": true,
              "mode": "immediate",
              "transition": {
               "duration": 0,
               "easing": "linear"
              }
             }
            ],
            "label": "02/06/2020",
            "method": "animate"
           },
           {
            "args": [
             [
              "02/07/2020"
             ],
             {
              "frame": {
               "duration": 0,
               "redraw": true
              },
              "fromcurrent": true,
              "mode": "immediate",
              "transition": {
               "duration": 0,
               "easing": "linear"
              }
             }
            ],
            "label": "02/07/2020",
            "method": "animate"
           },
           {
            "args": [
             [
              "02/08/2020"
             ],
             {
              "frame": {
               "duration": 0,
               "redraw": true
              },
              "fromcurrent": true,
              "mode": "immediate",
              "transition": {
               "duration": 0,
               "easing": "linear"
              }
             }
            ],
            "label": "02/08/2020",
            "method": "animate"
           },
           {
            "args": [
             [
              "02/09/2020"
             ],
             {
              "frame": {
               "duration": 0,
               "redraw": true
              },
              "fromcurrent": true,
              "mode": "immediate",
              "transition": {
               "duration": 0,
               "easing": "linear"
              }
             }
            ],
            "label": "02/09/2020",
            "method": "animate"
           },
           {
            "args": [
             [
              "03/01/2020"
             ],
             {
              "frame": {
               "duration": 0,
               "redraw": true
              },
              "fromcurrent": true,
              "mode": "immediate",
              "transition": {
               "duration": 0,
               "easing": "linear"
              }
             }
            ],
            "label": "03/01/2020",
            "method": "animate"
           },
           {
            "args": [
             [
              "03/02/2020"
             ],
             {
              "frame": {
               "duration": 0,
               "redraw": true
              },
              "fromcurrent": true,
              "mode": "immediate",
              "transition": {
               "duration": 0,
               "easing": "linear"
              }
             }
            ],
            "label": "03/02/2020",
            "method": "animate"
           },
           {
            "args": [
             [
              "03/03/2020"
             ],
             {
              "frame": {
               "duration": 0,
               "redraw": true
              },
              "fromcurrent": true,
              "mode": "immediate",
              "transition": {
               "duration": 0,
               "easing": "linear"
              }
             }
            ],
            "label": "03/03/2020",
            "method": "animate"
           },
           {
            "args": [
             [
              "03/04/2020"
             ],
             {
              "frame": {
               "duration": 0,
               "redraw": true
              },
              "fromcurrent": true,
              "mode": "immediate",
              "transition": {
               "duration": 0,
               "easing": "linear"
              }
             }
            ],
            "label": "03/04/2020",
            "method": "animate"
           },
           {
            "args": [
             [
              "03/05/2020"
             ],
             {
              "frame": {
               "duration": 0,
               "redraw": true
              },
              "fromcurrent": true,
              "mode": "immediate",
              "transition": {
               "duration": 0,
               "easing": "linear"
              }
             }
            ],
            "label": "03/05/2020",
            "method": "animate"
           },
           {
            "args": [
             [
              "03/06/2020"
             ],
             {
              "frame": {
               "duration": 0,
               "redraw": true
              },
              "fromcurrent": true,
              "mode": "immediate",
              "transition": {
               "duration": 0,
               "easing": "linear"
              }
             }
            ],
            "label": "03/06/2020",
            "method": "animate"
           },
           {
            "args": [
             [
              "03/07/2020"
             ],
             {
              "frame": {
               "duration": 0,
               "redraw": true
              },
              "fromcurrent": true,
              "mode": "immediate",
              "transition": {
               "duration": 0,
               "easing": "linear"
              }
             }
            ],
            "label": "03/07/2020",
            "method": "animate"
           },
           {
            "args": [
             [
              "03/08/2020"
             ],
             {
              "frame": {
               "duration": 0,
               "redraw": true
              },
              "fromcurrent": true,
              "mode": "immediate",
              "transition": {
               "duration": 0,
               "easing": "linear"
              }
             }
            ],
            "label": "03/08/2020",
            "method": "animate"
           },
           {
            "args": [
             [
              "03/09/2020"
             ],
             {
              "frame": {
               "duration": 0,
               "redraw": true
              },
              "fromcurrent": true,
              "mode": "immediate",
              "transition": {
               "duration": 0,
               "easing": "linear"
              }
             }
            ],
            "label": "03/09/2020",
            "method": "animate"
           }
          ],
          "x": 0.1,
          "xanchor": "left",
          "y": 0,
          "yanchor": "top"
         }
        ],
        "template": {
         "data": {
          "bar": [
           {
            "error_x": {
             "color": "#2a3f5f"
            },
            "error_y": {
             "color": "#2a3f5f"
            },
            "marker": {
             "line": {
              "color": "#E5ECF6",
              "width": 0.5
             }
            },
            "type": "bar"
           }
          ],
          "barpolar": [
           {
            "marker": {
             "line": {
              "color": "#E5ECF6",
              "width": 0.5
             }
            },
            "type": "barpolar"
           }
          ],
          "carpet": [
           {
            "aaxis": {
             "endlinecolor": "#2a3f5f",
             "gridcolor": "white",
             "linecolor": "white",
             "minorgridcolor": "white",
             "startlinecolor": "#2a3f5f"
            },
            "baxis": {
             "endlinecolor": "#2a3f5f",
             "gridcolor": "white",
             "linecolor": "white",
             "minorgridcolor": "white",
             "startlinecolor": "#2a3f5f"
            },
            "type": "carpet"
           }
          ],
          "choropleth": [
           {
            "colorbar": {
             "outlinewidth": 0,
             "ticks": ""
            },
            "type": "choropleth"
           }
          ],
          "contour": [
           {
            "colorbar": {
             "outlinewidth": 0,
             "ticks": ""
            },
            "colorscale": [
             [
              0,
              "#0d0887"
             ],
             [
              0.1111111111111111,
              "#46039f"
             ],
             [
              0.2222222222222222,
              "#7201a8"
             ],
             [
              0.3333333333333333,
              "#9c179e"
             ],
             [
              0.4444444444444444,
              "#bd3786"
             ],
             [
              0.5555555555555556,
              "#d8576b"
             ],
             [
              0.6666666666666666,
              "#ed7953"
             ],
             [
              0.7777777777777778,
              "#fb9f3a"
             ],
             [
              0.8888888888888888,
              "#fdca26"
             ],
             [
              1,
              "#f0f921"
             ]
            ],
            "type": "contour"
           }
          ],
          "contourcarpet": [
           {
            "colorbar": {
             "outlinewidth": 0,
             "ticks": ""
            },
            "type": "contourcarpet"
           }
          ],
          "heatmap": [
           {
            "colorbar": {
             "outlinewidth": 0,
             "ticks": ""
            },
            "colorscale": [
             [
              0,
              "#0d0887"
             ],
             [
              0.1111111111111111,
              "#46039f"
             ],
             [
              0.2222222222222222,
              "#7201a8"
             ],
             [
              0.3333333333333333,
              "#9c179e"
             ],
             [
              0.4444444444444444,
              "#bd3786"
             ],
             [
              0.5555555555555556,
              "#d8576b"
             ],
             [
              0.6666666666666666,
              "#ed7953"
             ],
             [
              0.7777777777777778,
              "#fb9f3a"
             ],
             [
              0.8888888888888888,
              "#fdca26"
             ],
             [
              1,
              "#f0f921"
             ]
            ],
            "type": "heatmap"
           }
          ],
          "heatmapgl": [
           {
            "colorbar": {
             "outlinewidth": 0,
             "ticks": ""
            },
            "colorscale": [
             [
              0,
              "#0d0887"
             ],
             [
              0.1111111111111111,
              "#46039f"
             ],
             [
              0.2222222222222222,
              "#7201a8"
             ],
             [
              0.3333333333333333,
              "#9c179e"
             ],
             [
              0.4444444444444444,
              "#bd3786"
             ],
             [
              0.5555555555555556,
              "#d8576b"
             ],
             [
              0.6666666666666666,
              "#ed7953"
             ],
             [
              0.7777777777777778,
              "#fb9f3a"
             ],
             [
              0.8888888888888888,
              "#fdca26"
             ],
             [
              1,
              "#f0f921"
             ]
            ],
            "type": "heatmapgl"
           }
          ],
          "histogram": [
           {
            "marker": {
             "colorbar": {
              "outlinewidth": 0,
              "ticks": ""
             }
            },
            "type": "histogram"
           }
          ],
          "histogram2d": [
           {
            "colorbar": {
             "outlinewidth": 0,
             "ticks": ""
            },
            "colorscale": [
             [
              0,
              "#0d0887"
             ],
             [
              0.1111111111111111,
              "#46039f"
             ],
             [
              0.2222222222222222,
              "#7201a8"
             ],
             [
              0.3333333333333333,
              "#9c179e"
             ],
             [
              0.4444444444444444,
              "#bd3786"
             ],
             [
              0.5555555555555556,
              "#d8576b"
             ],
             [
              0.6666666666666666,
              "#ed7953"
             ],
             [
              0.7777777777777778,
              "#fb9f3a"
             ],
             [
              0.8888888888888888,
              "#fdca26"
             ],
             [
              1,
              "#f0f921"
             ]
            ],
            "type": "histogram2d"
           }
          ],
          "histogram2dcontour": [
           {
            "colorbar": {
             "outlinewidth": 0,
             "ticks": ""
            },
            "colorscale": [
             [
              0,
              "#0d0887"
             ],
             [
              0.1111111111111111,
              "#46039f"
             ],
             [
              0.2222222222222222,
              "#7201a8"
             ],
             [
              0.3333333333333333,
              "#9c179e"
             ],
             [
              0.4444444444444444,
              "#bd3786"
             ],
             [
              0.5555555555555556,
              "#d8576b"
             ],
             [
              0.6666666666666666,
              "#ed7953"
             ],
             [
              0.7777777777777778,
              "#fb9f3a"
             ],
             [
              0.8888888888888888,
              "#fdca26"
             ],
             [
              1,
              "#f0f921"
             ]
            ],
            "type": "histogram2dcontour"
           }
          ],
          "mesh3d": [
           {
            "colorbar": {
             "outlinewidth": 0,
             "ticks": ""
            },
            "type": "mesh3d"
           }
          ],
          "parcoords": [
           {
            "line": {
             "colorbar": {
              "outlinewidth": 0,
              "ticks": ""
             }
            },
            "type": "parcoords"
           }
          ],
          "pie": [
           {
            "automargin": true,
            "type": "pie"
           }
          ],
          "scatter": [
           {
            "marker": {
             "colorbar": {
              "outlinewidth": 0,
              "ticks": ""
             }
            },
            "type": "scatter"
           }
          ],
          "scatter3d": [
           {
            "line": {
             "colorbar": {
              "outlinewidth": 0,
              "ticks": ""
             }
            },
            "marker": {
             "colorbar": {
              "outlinewidth": 0,
              "ticks": ""
             }
            },
            "type": "scatter3d"
           }
          ],
          "scattercarpet": [
           {
            "marker": {
             "colorbar": {
              "outlinewidth": 0,
              "ticks": ""
             }
            },
            "type": "scattercarpet"
           }
          ],
          "scattergeo": [
           {
            "marker": {
             "colorbar": {
              "outlinewidth": 0,
              "ticks": ""
             }
            },
            "type": "scattergeo"
           }
          ],
          "scattergl": [
           {
            "marker": {
             "colorbar": {
              "outlinewidth": 0,
              "ticks": ""
             }
            },
            "type": "scattergl"
           }
          ],
          "scattermapbox": [
           {
            "marker": {
             "colorbar": {
              "outlinewidth": 0,
              "ticks": ""
             }
            },
            "type": "scattermapbox"
           }
          ],
          "scatterpolar": [
           {
            "marker": {
             "colorbar": {
              "outlinewidth": 0,
              "ticks": ""
             }
            },
            "type": "scatterpolar"
           }
          ],
          "scatterpolargl": [
           {
            "marker": {
             "colorbar": {
              "outlinewidth": 0,
              "ticks": ""
             }
            },
            "type": "scatterpolargl"
           }
          ],
          "scatterternary": [
           {
            "marker": {
             "colorbar": {
              "outlinewidth": 0,
              "ticks": ""
             }
            },
            "type": "scatterternary"
           }
          ],
          "surface": [
           {
            "colorbar": {
             "outlinewidth": 0,
             "ticks": ""
            },
            "colorscale": [
             [
              0,
              "#0d0887"
             ],
             [
              0.1111111111111111,
              "#46039f"
             ],
             [
              0.2222222222222222,
              "#7201a8"
             ],
             [
              0.3333333333333333,
              "#9c179e"
             ],
             [
              0.4444444444444444,
              "#bd3786"
             ],
             [
              0.5555555555555556,
              "#d8576b"
             ],
             [
              0.6666666666666666,
              "#ed7953"
             ],
             [
              0.7777777777777778,
              "#fb9f3a"
             ],
             [
              0.8888888888888888,
              "#fdca26"
             ],
             [
              1,
              "#f0f921"
             ]
            ],
            "type": "surface"
           }
          ],
          "table": [
           {
            "cells": {
             "fill": {
              "color": "#EBF0F8"
             },
             "line": {
              "color": "white"
             }
            },
            "header": {
             "fill": {
              "color": "#C8D4E3"
             },
             "line": {
              "color": "white"
             }
            },
            "type": "table"
           }
          ]
         },
         "layout": {
          "annotationdefaults": {
           "arrowcolor": "#2a3f5f",
           "arrowhead": 0,
           "arrowwidth": 1
          },
          "coloraxis": {
           "colorbar": {
            "outlinewidth": 0,
            "ticks": ""
           }
          },
          "colorscale": {
           "diverging": [
            [
             0,
             "#8e0152"
            ],
            [
             0.1,
             "#c51b7d"
            ],
            [
             0.2,
             "#de77ae"
            ],
            [
             0.3,
             "#f1b6da"
            ],
            [
             0.4,
             "#fde0ef"
            ],
            [
             0.5,
             "#f7f7f7"
            ],
            [
             0.6,
             "#e6f5d0"
            ],
            [
             0.7,
             "#b8e186"
            ],
            [
             0.8,
             "#7fbc41"
            ],
            [
             0.9,
             "#4d9221"
            ],
            [
             1,
             "#276419"
            ]
           ],
           "sequential": [
            [
             0,
             "#0d0887"
            ],
            [
             0.1111111111111111,
             "#46039f"
            ],
            [
             0.2222222222222222,
             "#7201a8"
            ],
            [
             0.3333333333333333,
             "#9c179e"
            ],
            [
             0.4444444444444444,
             "#bd3786"
            ],
            [
             0.5555555555555556,
             "#d8576b"
            ],
            [
             0.6666666666666666,
             "#ed7953"
            ],
            [
             0.7777777777777778,
             "#fb9f3a"
            ],
            [
             0.8888888888888888,
             "#fdca26"
            ],
            [
             1,
             "#f0f921"
            ]
           ],
           "sequentialminus": [
            [
             0,
             "#0d0887"
            ],
            [
             0.1111111111111111,
             "#46039f"
            ],
            [
             0.2222222222222222,
             "#7201a8"
            ],
            [
             0.3333333333333333,
             "#9c179e"
            ],
            [
             0.4444444444444444,
             "#bd3786"
            ],
            [
             0.5555555555555556,
             "#d8576b"
            ],
            [
             0.6666666666666666,
             "#ed7953"
            ],
            [
             0.7777777777777778,
             "#fb9f3a"
            ],
            [
             0.8888888888888888,
             "#fdca26"
            ],
            [
             1,
             "#f0f921"
            ]
           ]
          },
          "colorway": [
           "#636efa",
           "#EF553B",
           "#00cc96",
           "#ab63fa",
           "#FFA15A",
           "#19d3f3",
           "#FF6692",
           "#B6E880",
           "#FF97FF",
           "#FECB52"
          ],
          "font": {
           "color": "#2a3f5f"
          },
          "geo": {
           "bgcolor": "white",
           "lakecolor": "white",
           "landcolor": "#E5ECF6",
           "showlakes": true,
           "showland": true,
           "subunitcolor": "white"
          },
          "hoverlabel": {
           "align": "left"
          },
          "hovermode": "closest",
          "mapbox": {
           "style": "light"
          },
          "paper_bgcolor": "white",
          "plot_bgcolor": "#E5ECF6",
          "polar": {
           "angularaxis": {
            "gridcolor": "white",
            "linecolor": "white",
            "ticks": ""
           },
           "bgcolor": "#E5ECF6",
           "radialaxis": {
            "gridcolor": "white",
            "linecolor": "white",
            "ticks": ""
           }
          },
          "scene": {
           "xaxis": {
            "backgroundcolor": "#E5ECF6",
            "gridcolor": "white",
            "gridwidth": 2,
            "linecolor": "white",
            "showbackground": true,
            "ticks": "",
            "zerolinecolor": "white"
           },
           "yaxis": {
            "backgroundcolor": "#E5ECF6",
            "gridcolor": "white",
            "gridwidth": 2,
            "linecolor": "white",
            "showbackground": true,
            "ticks": "",
            "zerolinecolor": "white"
           },
           "zaxis": {
            "backgroundcolor": "#E5ECF6",
            "gridcolor": "white",
            "gridwidth": 2,
            "linecolor": "white",
            "showbackground": true,
            "ticks": "",
            "zerolinecolor": "white"
           }
          },
          "shapedefaults": {
           "line": {
            "color": "#2a3f5f"
           }
          },
          "ternary": {
           "aaxis": {
            "gridcolor": "white",
            "linecolor": "white",
            "ticks": ""
           },
           "baxis": {
            "gridcolor": "white",
            "linecolor": "white",
            "ticks": ""
           },
           "bgcolor": "#E5ECF6",
           "caxis": {
            "gridcolor": "white",
            "linecolor": "white",
            "ticks": ""
           }
          },
          "title": {
           "x": 0.05
          },
          "xaxis": {
           "automargin": true,
           "gridcolor": "white",
           "linecolor": "white",
           "ticks": "",
           "title": {
            "standoff": 15
           },
           "zerolinecolor": "white",
           "zerolinewidth": 2
          },
          "yaxis": {
           "automargin": true,
           "gridcolor": "white",
           "linecolor": "white",
           "ticks": "",
           "title": {
            "standoff": 15
           },
           "zerolinecolor": "white",
           "zerolinewidth": 2
          }
         }
        },
        "title": {
         "text": "Spread of COVID-19 outside China over time"
        },
        "updatemenus": [
         {
          "buttons": [
           {
            "args": [
             null,
             {
              "frame": {
               "duration": 500,
               "redraw": true
              },
              "fromcurrent": true,
              "mode": "immediate",
              "transition": {
               "duration": 500,
               "easing": "linear"
              }
             }
            ],
            "label": "&#9654;",
            "method": "animate"
           },
           {
            "args": [
             [
              null
             ],
             {
              "frame": {
               "duration": 0,
               "redraw": true
              },
              "fromcurrent": true,
              "mode": "immediate",
              "transition": {
               "duration": 0,
               "easing": "linear"
              }
             }
            ],
            "label": "&#9724;",
            "method": "animate"
           }
          ],
          "direction": "left",
          "pad": {
           "r": 10,
           "t": 70
          },
          "showactive": false,
          "type": "buttons",
          "x": 0.1,
          "xanchor": "right",
          "y": 0,
          "yanchor": "top"
         }
        ]
       }
      },
      "text/html": [
       "<div>\n",
       "        \n",
       "        \n",
       "            <div id=\"d9a86fa6-b888-4c95-918b-280cd00a2af4\" class=\"plotly-graph-div\" style=\"height:525px; width:100%;\"></div>\n",
       "            <script type=\"text/javascript\">\n",
       "                require([\"plotly\"], function(Plotly) {\n",
       "                    window.PLOTLYENV=window.PLOTLYENV || {};\n",
       "                    \n",
       "                if (document.getElementById(\"d9a86fa6-b888-4c95-918b-280cd00a2af4\")) {\n",
       "                    Plotly.newPlot(\n",
       "                        'd9a86fa6-b888-4c95-918b-280cd00a2af4',\n",
       "                        [{\"geo\": \"geo\", \"hoverlabel\": {\"namelength\": 0}, \"hovertemplate\": \"<b>%{hovertext}</b><br><br>date=01/22/2020<br>size=%{marker.size}<br>Lat=%{lat}<br>Long=%{lon}<br>cases=%{marker.color}\", \"hovertext\": [\"Japan\", \"Macau\", \"South Korea\", \"Taiwan\", \"Thailand\", \"US\"], \"lat\": [36.0, 22.1667, 36.0, 23.7, 15.0, 47.6062], \"legendgroup\": \"\", \"lon\": [138.0, 113.55, 128.0, 121.0, 101.0, -122.3321], \"marker\": {\"color\": [2, 1, 1, 1, 2, 1], \"coloraxis\": \"coloraxis\", \"size\": [1.3195079107728942, 1.0, 1.0, 1.0, 1.3195079107728942, 1.0], \"sizemode\": \"area\", \"sizeref\": 0.05009094667077794}, \"name\": \"\", \"showlegend\": false, \"type\": \"scattergeo\"}],\n",
       "                        {\"coloraxis\": {\"colorbar\": {\"title\": {\"text\": \"cases\"}}, \"colorscale\": [[0.0, \"#0d0887\"], [0.1111111111111111, \"#46039f\"], [0.2222222222222222, \"#7201a8\"], [0.3333333333333333, \"#9c179e\"], [0.4444444444444444, \"#bd3786\"], [0.5555555555555556, \"#d8576b\"], [0.6666666666666666, \"#ed7953\"], [0.7777777777777778, \"#fb9f3a\"], [0.8888888888888888, \"#fdca26\"], [1.0, \"#f0f921\"]], \"showscale\": true}, \"geo\": {\"center\": {}, \"domain\": {\"x\": [0.0, 1.0], \"y\": [0.0, 1.0]}, \"projection\": {\"type\": \"equirectangular\"}, \"scope\": \"world\"}, \"legend\": {\"itemsizing\": \"constant\", \"tracegroupgap\": 0}, \"sliders\": [{\"active\": 0, \"currentvalue\": {\"prefix\": \"date=\"}, \"len\": 0.9, \"pad\": {\"b\": 10, \"t\": 60}, \"steps\": [{\"args\": [[\"01/22/2020\"], {\"frame\": {\"duration\": 0, \"redraw\": true}, \"fromcurrent\": true, \"mode\": \"immediate\", \"transition\": {\"duration\": 0, \"easing\": \"linear\"}}], \"label\": \"01/22/2020\", \"method\": \"animate\"}, {\"args\": [[\"01/23/2020\"], {\"frame\": {\"duration\": 0, \"redraw\": true}, \"fromcurrent\": true, \"mode\": \"immediate\", \"transition\": {\"duration\": 0, \"easing\": \"linear\"}}], \"label\": \"01/23/2020\", \"method\": \"animate\"}, {\"args\": [[\"01/24/2020\"], {\"frame\": {\"duration\": 0, \"redraw\": true}, \"fromcurrent\": true, \"mode\": \"immediate\", \"transition\": {\"duration\": 0, \"easing\": \"linear\"}}], \"label\": \"01/24/2020\", \"method\": \"animate\"}, {\"args\": [[\"01/25/2020\"], {\"frame\": {\"duration\": 0, \"redraw\": true}, \"fromcurrent\": true, \"mode\": \"immediate\", \"transition\": {\"duration\": 0, \"easing\": \"linear\"}}], \"label\": \"01/25/2020\", \"method\": \"animate\"}, {\"args\": [[\"01/26/2020\"], {\"frame\": {\"duration\": 0, \"redraw\": true}, \"fromcurrent\": true, \"mode\": \"immediate\", \"transition\": {\"duration\": 0, \"easing\": \"linear\"}}], \"label\": \"01/26/2020\", \"method\": \"animate\"}, {\"args\": [[\"01/27/2020\"], {\"frame\": {\"duration\": 0, \"redraw\": true}, \"fromcurrent\": true, \"mode\": \"immediate\", \"transition\": {\"duration\": 0, \"easing\": \"linear\"}}], \"label\": \"01/27/2020\", \"method\": \"animate\"}, {\"args\": [[\"01/28/2020\"], {\"frame\": {\"duration\": 0, \"redraw\": true}, \"fromcurrent\": true, \"mode\": \"immediate\", \"transition\": {\"duration\": 0, \"easing\": \"linear\"}}], \"label\": \"01/28/2020\", \"method\": \"animate\"}, {\"args\": [[\"01/29/2020\"], {\"frame\": {\"duration\": 0, \"redraw\": true}, \"fromcurrent\": true, \"mode\": \"immediate\", \"transition\": {\"duration\": 0, \"easing\": \"linear\"}}], \"label\": \"01/29/2020\", \"method\": \"animate\"}, {\"args\": [[\"01/30/2020\"], {\"frame\": {\"duration\": 0, \"redraw\": true}, \"fromcurrent\": true, \"mode\": \"immediate\", \"transition\": {\"duration\": 0, \"easing\": \"linear\"}}], \"label\": \"01/30/2020\", \"method\": \"animate\"}, {\"args\": [[\"01/31/2020\"], {\"frame\": {\"duration\": 0, \"redraw\": true}, \"fromcurrent\": true, \"mode\": \"immediate\", \"transition\": {\"duration\": 0, \"easing\": \"linear\"}}], \"label\": \"01/31/2020\", \"method\": \"animate\"}, {\"args\": [[\"02/01/2020\"], {\"frame\": {\"duration\": 0, \"redraw\": true}, \"fromcurrent\": true, \"mode\": \"immediate\", \"transition\": {\"duration\": 0, \"easing\": \"linear\"}}], \"label\": \"02/01/2020\", \"method\": \"animate\"}, {\"args\": [[\"02/10/2020\"], {\"frame\": {\"duration\": 0, \"redraw\": true}, \"fromcurrent\": true, \"mode\": \"immediate\", \"transition\": {\"duration\": 0, \"easing\": \"linear\"}}], \"label\": \"02/10/2020\", \"method\": \"animate\"}, {\"args\": [[\"02/11/2020\"], {\"frame\": {\"duration\": 0, \"redraw\": true}, \"fromcurrent\": true, \"mode\": \"immediate\", \"transition\": {\"duration\": 0, \"easing\": \"linear\"}}], \"label\": \"02/11/2020\", \"method\": \"animate\"}, {\"args\": [[\"02/12/2020\"], {\"frame\": {\"duration\": 0, \"redraw\": true}, \"fromcurrent\": true, \"mode\": \"immediate\", \"transition\": {\"duration\": 0, \"easing\": \"linear\"}}], \"label\": \"02/12/2020\", \"method\": \"animate\"}, {\"args\": [[\"02/13/2020\"], {\"frame\": {\"duration\": 0, \"redraw\": true}, \"fromcurrent\": true, \"mode\": \"immediate\", \"transition\": {\"duration\": 0, \"easing\": \"linear\"}}], \"label\": \"02/13/2020\", \"method\": \"animate\"}, {\"args\": [[\"02/14/2020\"], {\"frame\": {\"duration\": 0, \"redraw\": true}, \"fromcurrent\": true, \"mode\": \"immediate\", \"transition\": {\"duration\": 0, \"easing\": \"linear\"}}], \"label\": \"02/14/2020\", \"method\": \"animate\"}, {\"args\": [[\"02/15/2020\"], {\"frame\": {\"duration\": 0, \"redraw\": true}, \"fromcurrent\": true, \"mode\": \"immediate\", \"transition\": {\"duration\": 0, \"easing\": \"linear\"}}], \"label\": \"02/15/2020\", \"method\": \"animate\"}, {\"args\": [[\"02/16/2020\"], {\"frame\": {\"duration\": 0, \"redraw\": true}, \"fromcurrent\": true, \"mode\": \"immediate\", \"transition\": {\"duration\": 0, \"easing\": \"linear\"}}], \"label\": \"02/16/2020\", \"method\": \"animate\"}, {\"args\": [[\"02/17/2020\"], {\"frame\": {\"duration\": 0, \"redraw\": true}, \"fromcurrent\": true, \"mode\": \"immediate\", \"transition\": {\"duration\": 0, \"easing\": \"linear\"}}], \"label\": \"02/17/2020\", \"method\": \"animate\"}, {\"args\": [[\"02/18/2020\"], {\"frame\": {\"duration\": 0, \"redraw\": true}, \"fromcurrent\": true, \"mode\": \"immediate\", \"transition\": {\"duration\": 0, \"easing\": \"linear\"}}], \"label\": \"02/18/2020\", \"method\": \"animate\"}, {\"args\": [[\"02/19/2020\"], {\"frame\": {\"duration\": 0, \"redraw\": true}, \"fromcurrent\": true, \"mode\": \"immediate\", \"transition\": {\"duration\": 0, \"easing\": \"linear\"}}], \"label\": \"02/19/2020\", \"method\": \"animate\"}, {\"args\": [[\"02/02/2020\"], {\"frame\": {\"duration\": 0, \"redraw\": true}, \"fromcurrent\": true, \"mode\": \"immediate\", \"transition\": {\"duration\": 0, \"easing\": \"linear\"}}], \"label\": \"02/02/2020\", \"method\": \"animate\"}, {\"args\": [[\"02/20/2020\"], {\"frame\": {\"duration\": 0, \"redraw\": true}, \"fromcurrent\": true, \"mode\": \"immediate\", \"transition\": {\"duration\": 0, \"easing\": \"linear\"}}], \"label\": \"02/20/2020\", \"method\": \"animate\"}, {\"args\": [[\"02/21/2020\"], {\"frame\": {\"duration\": 0, \"redraw\": true}, \"fromcurrent\": true, \"mode\": \"immediate\", \"transition\": {\"duration\": 0, \"easing\": \"linear\"}}], \"label\": \"02/21/2020\", \"method\": \"animate\"}, {\"args\": [[\"02/22/2020\"], {\"frame\": {\"duration\": 0, \"redraw\": true}, \"fromcurrent\": true, \"mode\": \"immediate\", \"transition\": {\"duration\": 0, \"easing\": \"linear\"}}], \"label\": \"02/22/2020\", \"method\": \"animate\"}, {\"args\": [[\"02/23/2020\"], {\"frame\": {\"duration\": 0, \"redraw\": true}, \"fromcurrent\": true, \"mode\": \"immediate\", \"transition\": {\"duration\": 0, \"easing\": \"linear\"}}], \"label\": \"02/23/2020\", \"method\": \"animate\"}, {\"args\": [[\"02/24/2020\"], {\"frame\": {\"duration\": 0, \"redraw\": true}, \"fromcurrent\": true, \"mode\": \"immediate\", \"transition\": {\"duration\": 0, \"easing\": \"linear\"}}], \"label\": \"02/24/2020\", \"method\": \"animate\"}, {\"args\": [[\"02/25/2020\"], {\"frame\": {\"duration\": 0, \"redraw\": true}, \"fromcurrent\": true, \"mode\": \"immediate\", \"transition\": {\"duration\": 0, \"easing\": \"linear\"}}], \"label\": \"02/25/2020\", \"method\": \"animate\"}, {\"args\": [[\"02/26/2020\"], {\"frame\": {\"duration\": 0, \"redraw\": true}, \"fromcurrent\": true, \"mode\": \"immediate\", \"transition\": {\"duration\": 0, \"easing\": \"linear\"}}], \"label\": \"02/26/2020\", \"method\": \"animate\"}, {\"args\": [[\"02/27/2020\"], {\"frame\": {\"duration\": 0, \"redraw\": true}, \"fromcurrent\": true, \"mode\": \"immediate\", \"transition\": {\"duration\": 0, \"easing\": \"linear\"}}], \"label\": \"02/27/2020\", \"method\": \"animate\"}, {\"args\": [[\"02/28/2020\"], {\"frame\": {\"duration\": 0, \"redraw\": true}, \"fromcurrent\": true, \"mode\": \"immediate\", \"transition\": {\"duration\": 0, \"easing\": \"linear\"}}], \"label\": \"02/28/2020\", \"method\": \"animate\"}, {\"args\": [[\"02/29/2020\"], {\"frame\": {\"duration\": 0, \"redraw\": true}, \"fromcurrent\": true, \"mode\": \"immediate\", \"transition\": {\"duration\": 0, \"easing\": \"linear\"}}], \"label\": \"02/29/2020\", \"method\": \"animate\"}, {\"args\": [[\"02/03/2020\"], {\"frame\": {\"duration\": 0, \"redraw\": true}, \"fromcurrent\": true, \"mode\": \"immediate\", \"transition\": {\"duration\": 0, \"easing\": \"linear\"}}], \"label\": \"02/03/2020\", \"method\": \"animate\"}, {\"args\": [[\"02/04/2020\"], {\"frame\": {\"duration\": 0, \"redraw\": true}, \"fromcurrent\": true, \"mode\": \"immediate\", \"transition\": {\"duration\": 0, \"easing\": \"linear\"}}], \"label\": \"02/04/2020\", \"method\": \"animate\"}, {\"args\": [[\"02/05/2020\"], {\"frame\": {\"duration\": 0, \"redraw\": true}, \"fromcurrent\": true, \"mode\": \"immediate\", \"transition\": {\"duration\": 0, \"easing\": \"linear\"}}], \"label\": \"02/05/2020\", \"method\": \"animate\"}, {\"args\": [[\"02/06/2020\"], {\"frame\": {\"duration\": 0, \"redraw\": true}, \"fromcurrent\": true, \"mode\": \"immediate\", \"transition\": {\"duration\": 0, \"easing\": \"linear\"}}], \"label\": \"02/06/2020\", \"method\": \"animate\"}, {\"args\": [[\"02/07/2020\"], {\"frame\": {\"duration\": 0, \"redraw\": true}, \"fromcurrent\": true, \"mode\": \"immediate\", \"transition\": {\"duration\": 0, \"easing\": \"linear\"}}], \"label\": \"02/07/2020\", \"method\": \"animate\"}, {\"args\": [[\"02/08/2020\"], {\"frame\": {\"duration\": 0, \"redraw\": true}, \"fromcurrent\": true, \"mode\": \"immediate\", \"transition\": {\"duration\": 0, \"easing\": \"linear\"}}], \"label\": \"02/08/2020\", \"method\": \"animate\"}, {\"args\": [[\"02/09/2020\"], {\"frame\": {\"duration\": 0, \"redraw\": true}, \"fromcurrent\": true, \"mode\": \"immediate\", \"transition\": {\"duration\": 0, \"easing\": \"linear\"}}], \"label\": \"02/09/2020\", \"method\": \"animate\"}, {\"args\": [[\"03/01/2020\"], {\"frame\": {\"duration\": 0, \"redraw\": true}, \"fromcurrent\": true, \"mode\": \"immediate\", \"transition\": {\"duration\": 0, \"easing\": \"linear\"}}], \"label\": \"03/01/2020\", \"method\": \"animate\"}, {\"args\": [[\"03/02/2020\"], {\"frame\": {\"duration\": 0, \"redraw\": true}, \"fromcurrent\": true, \"mode\": \"immediate\", \"transition\": {\"duration\": 0, \"easing\": \"linear\"}}], \"label\": \"03/02/2020\", \"method\": \"animate\"}, {\"args\": [[\"03/03/2020\"], {\"frame\": {\"duration\": 0, \"redraw\": true}, \"fromcurrent\": true, \"mode\": \"immediate\", \"transition\": {\"duration\": 0, \"easing\": \"linear\"}}], \"label\": \"03/03/2020\", \"method\": \"animate\"}, {\"args\": [[\"03/04/2020\"], {\"frame\": {\"duration\": 0, \"redraw\": true}, \"fromcurrent\": true, \"mode\": \"immediate\", \"transition\": {\"duration\": 0, \"easing\": \"linear\"}}], \"label\": \"03/04/2020\", \"method\": \"animate\"}, {\"args\": [[\"03/05/2020\"], {\"frame\": {\"duration\": 0, \"redraw\": true}, \"fromcurrent\": true, \"mode\": \"immediate\", \"transition\": {\"duration\": 0, \"easing\": \"linear\"}}], \"label\": \"03/05/2020\", \"method\": \"animate\"}, {\"args\": [[\"03/06/2020\"], {\"frame\": {\"duration\": 0, \"redraw\": true}, \"fromcurrent\": true, \"mode\": \"immediate\", \"transition\": {\"duration\": 0, \"easing\": \"linear\"}}], \"label\": \"03/06/2020\", \"method\": \"animate\"}, {\"args\": [[\"03/07/2020\"], {\"frame\": {\"duration\": 0, \"redraw\": true}, \"fromcurrent\": true, \"mode\": \"immediate\", \"transition\": {\"duration\": 0, \"easing\": \"linear\"}}], \"label\": \"03/07/2020\", \"method\": \"animate\"}, {\"args\": [[\"03/08/2020\"], {\"frame\": {\"duration\": 0, \"redraw\": true}, \"fromcurrent\": true, \"mode\": \"immediate\", \"transition\": {\"duration\": 0, \"easing\": \"linear\"}}], \"label\": \"03/08/2020\", \"method\": \"animate\"}, {\"args\": [[\"03/09/2020\"], {\"frame\": {\"duration\": 0, \"redraw\": true}, \"fromcurrent\": true, \"mode\": \"immediate\", \"transition\": {\"duration\": 0, \"easing\": \"linear\"}}], \"label\": \"03/09/2020\", \"method\": \"animate\"}], \"x\": 0.1, \"xanchor\": \"left\", \"y\": 0, \"yanchor\": \"top\"}], \"template\": {\"data\": {\"bar\": [{\"error_x\": {\"color\": \"#2a3f5f\"}, \"error_y\": {\"color\": \"#2a3f5f\"}, \"marker\": {\"line\": {\"color\": \"#E5ECF6\", \"width\": 0.5}}, \"type\": \"bar\"}], \"barpolar\": [{\"marker\": {\"line\": {\"color\": \"#E5ECF6\", \"width\": 0.5}}, \"type\": \"barpolar\"}], \"carpet\": [{\"aaxis\": {\"endlinecolor\": \"#2a3f5f\", \"gridcolor\": \"white\", \"linecolor\": \"white\", \"minorgridcolor\": \"white\", \"startlinecolor\": \"#2a3f5f\"}, \"baxis\": {\"endlinecolor\": \"#2a3f5f\", \"gridcolor\": \"white\", \"linecolor\": \"white\", \"minorgridcolor\": \"white\", \"startlinecolor\": \"#2a3f5f\"}, \"type\": \"carpet\"}], \"choropleth\": [{\"colorbar\": {\"outlinewidth\": 0, \"ticks\": \"\"}, \"type\": \"choropleth\"}], \"contour\": [{\"colorbar\": {\"outlinewidth\": 0, \"ticks\": \"\"}, \"colorscale\": [[0.0, \"#0d0887\"], [0.1111111111111111, \"#46039f\"], [0.2222222222222222, \"#7201a8\"], [0.3333333333333333, \"#9c179e\"], [0.4444444444444444, \"#bd3786\"], [0.5555555555555556, \"#d8576b\"], [0.6666666666666666, \"#ed7953\"], [0.7777777777777778, \"#fb9f3a\"], [0.8888888888888888, \"#fdca26\"], [1.0, \"#f0f921\"]], \"type\": \"contour\"}], \"contourcarpet\": [{\"colorbar\": {\"outlinewidth\": 0, \"ticks\": \"\"}, \"type\": \"contourcarpet\"}], \"heatmap\": [{\"colorbar\": {\"outlinewidth\": 0, \"ticks\": \"\"}, \"colorscale\": [[0.0, \"#0d0887\"], [0.1111111111111111, \"#46039f\"], [0.2222222222222222, \"#7201a8\"], [0.3333333333333333, \"#9c179e\"], [0.4444444444444444, \"#bd3786\"], [0.5555555555555556, \"#d8576b\"], [0.6666666666666666, \"#ed7953\"], [0.7777777777777778, \"#fb9f3a\"], [0.8888888888888888, \"#fdca26\"], [1.0, \"#f0f921\"]], \"type\": \"heatmap\"}], \"heatmapgl\": [{\"colorbar\": {\"outlinewidth\": 0, \"ticks\": \"\"}, \"colorscale\": [[0.0, \"#0d0887\"], [0.1111111111111111, \"#46039f\"], [0.2222222222222222, \"#7201a8\"], [0.3333333333333333, \"#9c179e\"], [0.4444444444444444, \"#bd3786\"], [0.5555555555555556, \"#d8576b\"], [0.6666666666666666, \"#ed7953\"], [0.7777777777777778, \"#fb9f3a\"], [0.8888888888888888, \"#fdca26\"], [1.0, \"#f0f921\"]], \"type\": \"heatmapgl\"}], \"histogram\": [{\"marker\": {\"colorbar\": {\"outlinewidth\": 0, \"ticks\": \"\"}}, \"type\": \"histogram\"}], \"histogram2d\": [{\"colorbar\": {\"outlinewidth\": 0, \"ticks\": \"\"}, \"colorscale\": [[0.0, \"#0d0887\"], [0.1111111111111111, \"#46039f\"], [0.2222222222222222, \"#7201a8\"], [0.3333333333333333, \"#9c179e\"], [0.4444444444444444, \"#bd3786\"], [0.5555555555555556, \"#d8576b\"], [0.6666666666666666, \"#ed7953\"], [0.7777777777777778, \"#fb9f3a\"], [0.8888888888888888, \"#fdca26\"], [1.0, \"#f0f921\"]], \"type\": \"histogram2d\"}], \"histogram2dcontour\": [{\"colorbar\": {\"outlinewidth\": 0, \"ticks\": \"\"}, \"colorscale\": [[0.0, \"#0d0887\"], [0.1111111111111111, \"#46039f\"], [0.2222222222222222, \"#7201a8\"], [0.3333333333333333, \"#9c179e\"], [0.4444444444444444, \"#bd3786\"], [0.5555555555555556, \"#d8576b\"], [0.6666666666666666, \"#ed7953\"], [0.7777777777777778, \"#fb9f3a\"], [0.8888888888888888, \"#fdca26\"], [1.0, \"#f0f921\"]], \"type\": \"histogram2dcontour\"}], \"mesh3d\": [{\"colorbar\": {\"outlinewidth\": 0, \"ticks\": \"\"}, \"type\": \"mesh3d\"}], \"parcoords\": [{\"line\": {\"colorbar\": {\"outlinewidth\": 0, \"ticks\": \"\"}}, \"type\": \"parcoords\"}], \"pie\": [{\"automargin\": true, \"type\": \"pie\"}], \"scatter\": [{\"marker\": {\"colorbar\": {\"outlinewidth\": 0, \"ticks\": \"\"}}, \"type\": \"scatter\"}], \"scatter3d\": [{\"line\": {\"colorbar\": {\"outlinewidth\": 0, \"ticks\": \"\"}}, \"marker\": {\"colorbar\": {\"outlinewidth\": 0, \"ticks\": \"\"}}, \"type\": \"scatter3d\"}], \"scattercarpet\": [{\"marker\": {\"colorbar\": {\"outlinewidth\": 0, \"ticks\": \"\"}}, \"type\": \"scattercarpet\"}], \"scattergeo\": [{\"marker\": {\"colorbar\": {\"outlinewidth\": 0, \"ticks\": \"\"}}, \"type\": \"scattergeo\"}], \"scattergl\": [{\"marker\": {\"colorbar\": {\"outlinewidth\": 0, \"ticks\": \"\"}}, \"type\": \"scattergl\"}], \"scattermapbox\": [{\"marker\": {\"colorbar\": {\"outlinewidth\": 0, \"ticks\": \"\"}}, \"type\": \"scattermapbox\"}], \"scatterpolar\": [{\"marker\": {\"colorbar\": {\"outlinewidth\": 0, \"ticks\": \"\"}}, \"type\": \"scatterpolar\"}], \"scatterpolargl\": [{\"marker\": {\"colorbar\": {\"outlinewidth\": 0, \"ticks\": \"\"}}, \"type\": \"scatterpolargl\"}], \"scatterternary\": [{\"marker\": {\"colorbar\": {\"outlinewidth\": 0, \"ticks\": \"\"}}, \"type\": \"scatterternary\"}], \"surface\": [{\"colorbar\": {\"outlinewidth\": 0, \"ticks\": \"\"}, \"colorscale\": [[0.0, \"#0d0887\"], [0.1111111111111111, \"#46039f\"], [0.2222222222222222, \"#7201a8\"], [0.3333333333333333, \"#9c179e\"], [0.4444444444444444, \"#bd3786\"], [0.5555555555555556, \"#d8576b\"], [0.6666666666666666, \"#ed7953\"], [0.7777777777777778, \"#fb9f3a\"], [0.8888888888888888, \"#fdca26\"], [1.0, \"#f0f921\"]], \"type\": \"surface\"}], \"table\": [{\"cells\": {\"fill\": {\"color\": \"#EBF0F8\"}, \"line\": {\"color\": \"white\"}}, \"header\": {\"fill\": {\"color\": \"#C8D4E3\"}, \"line\": {\"color\": \"white\"}}, \"type\": \"table\"}]}, \"layout\": {\"annotationdefaults\": {\"arrowcolor\": \"#2a3f5f\", \"arrowhead\": 0, \"arrowwidth\": 1}, \"coloraxis\": {\"colorbar\": {\"outlinewidth\": 0, \"ticks\": \"\"}}, \"colorscale\": {\"diverging\": [[0, \"#8e0152\"], [0.1, \"#c51b7d\"], [0.2, \"#de77ae\"], [0.3, \"#f1b6da\"], [0.4, \"#fde0ef\"], [0.5, \"#f7f7f7\"], [0.6, \"#e6f5d0\"], [0.7, \"#b8e186\"], [0.8, \"#7fbc41\"], [0.9, \"#4d9221\"], [1, \"#276419\"]], \"sequential\": [[0.0, \"#0d0887\"], [0.1111111111111111, \"#46039f\"], [0.2222222222222222, \"#7201a8\"], [0.3333333333333333, \"#9c179e\"], [0.4444444444444444, \"#bd3786\"], [0.5555555555555556, \"#d8576b\"], [0.6666666666666666, \"#ed7953\"], [0.7777777777777778, \"#fb9f3a\"], [0.8888888888888888, \"#fdca26\"], [1.0, \"#f0f921\"]], \"sequentialminus\": [[0.0, \"#0d0887\"], [0.1111111111111111, \"#46039f\"], [0.2222222222222222, \"#7201a8\"], [0.3333333333333333, \"#9c179e\"], [0.4444444444444444, \"#bd3786\"], [0.5555555555555556, \"#d8576b\"], [0.6666666666666666, \"#ed7953\"], [0.7777777777777778, \"#fb9f3a\"], [0.8888888888888888, \"#fdca26\"], [1.0, \"#f0f921\"]]}, \"colorway\": [\"#636efa\", \"#EF553B\", \"#00cc96\", \"#ab63fa\", \"#FFA15A\", \"#19d3f3\", \"#FF6692\", \"#B6E880\", \"#FF97FF\", \"#FECB52\"], \"font\": {\"color\": \"#2a3f5f\"}, \"geo\": {\"bgcolor\": \"white\", \"lakecolor\": \"white\", \"landcolor\": \"#E5ECF6\", \"showlakes\": true, \"showland\": true, \"subunitcolor\": \"white\"}, \"hoverlabel\": {\"align\": \"left\"}, \"hovermode\": \"closest\", \"mapbox\": {\"style\": \"light\"}, \"paper_bgcolor\": \"white\", \"plot_bgcolor\": \"#E5ECF6\", \"polar\": {\"angularaxis\": {\"gridcolor\": \"white\", \"linecolor\": \"white\", \"ticks\": \"\"}, \"bgcolor\": \"#E5ECF6\", \"radialaxis\": {\"gridcolor\": \"white\", \"linecolor\": \"white\", \"ticks\": \"\"}}, \"scene\": {\"xaxis\": {\"backgroundcolor\": \"#E5ECF6\", \"gridcolor\": \"white\", \"gridwidth\": 2, \"linecolor\": \"white\", \"showbackground\": true, \"ticks\": \"\", \"zerolinecolor\": \"white\"}, \"yaxis\": {\"backgroundcolor\": \"#E5ECF6\", \"gridcolor\": \"white\", \"gridwidth\": 2, \"linecolor\": \"white\", \"showbackground\": true, \"ticks\": \"\", \"zerolinecolor\": \"white\"}, \"zaxis\": {\"backgroundcolor\": \"#E5ECF6\", \"gridcolor\": \"white\", \"gridwidth\": 2, \"linecolor\": \"white\", \"showbackground\": true, \"ticks\": \"\", \"zerolinecolor\": \"white\"}}, \"shapedefaults\": {\"line\": {\"color\": \"#2a3f5f\"}}, \"ternary\": {\"aaxis\": {\"gridcolor\": \"white\", \"linecolor\": \"white\", \"ticks\": \"\"}, \"baxis\": {\"gridcolor\": \"white\", \"linecolor\": \"white\", \"ticks\": \"\"}, \"bgcolor\": \"#E5ECF6\", \"caxis\": {\"gridcolor\": \"white\", \"linecolor\": \"white\", \"ticks\": \"\"}}, \"title\": {\"x\": 0.05}, \"xaxis\": {\"automargin\": true, \"gridcolor\": \"white\", \"linecolor\": \"white\", \"ticks\": \"\", \"title\": {\"standoff\": 15}, \"zerolinecolor\": \"white\", \"zerolinewidth\": 2}, \"yaxis\": {\"automargin\": true, \"gridcolor\": \"white\", \"linecolor\": \"white\", \"ticks\": \"\", \"title\": {\"standoff\": 15}, \"zerolinecolor\": \"white\", \"zerolinewidth\": 2}}}, \"title\": {\"text\": \"Spread of COVID-19 outside China over time\"}, \"updatemenus\": [{\"buttons\": [{\"args\": [null, {\"frame\": {\"duration\": 500, \"redraw\": true}, \"fromcurrent\": true, \"mode\": \"immediate\", \"transition\": {\"duration\": 500, \"easing\": \"linear\"}}], \"label\": \"&#9654;\", \"method\": \"animate\"}, {\"args\": [[null], {\"frame\": {\"duration\": 0, \"redraw\": true}, \"fromcurrent\": true, \"mode\": \"immediate\", \"transition\": {\"duration\": 0, \"easing\": \"linear\"}}], \"label\": \"&#9724;\", \"method\": \"animate\"}], \"direction\": \"left\", \"pad\": {\"r\": 10, \"t\": 70}, \"showactive\": false, \"type\": \"buttons\", \"x\": 0.1, \"xanchor\": \"right\", \"y\": 0, \"yanchor\": \"top\"}]},\n",
       "                        {\"responsive\": true}\n",
       "                    ).then(function(){\n",
       "                            Plotly.addFrames('d9a86fa6-b888-4c95-918b-280cd00a2af4', [{\"data\": [{\"geo\": \"geo\", \"hoverlabel\": {\"namelength\": 0}, \"hovertemplate\": \"<b>%{hovertext}</b><br><br>date=01/22/2020<br>size=%{marker.size}<br>Lat=%{lat}<br>Long=%{lon}<br>cases=%{marker.color}\", \"hovertext\": [\"Japan\", \"Macau\", \"South Korea\", \"Taiwan\", \"Thailand\", \"US\"], \"lat\": [36.0, 22.1667, 36.0, 23.7, 15.0, 47.6062], \"legendgroup\": \"\", \"lon\": [138.0, 113.55, 128.0, 121.0, 101.0, -122.3321], \"marker\": {\"color\": [2, 1, 1, 1, 2, 1], \"coloraxis\": \"coloraxis\", \"size\": [1.3195079107728942, 1.0, 1.0, 1.0, 1.3195079107728942, 1.0], \"sizemode\": \"area\", \"sizeref\": 0.05009094667077794}, \"name\": \"\", \"showlegend\": false, \"type\": \"scattergeo\"}], \"name\": \"01/22/2020\"}, {\"data\": [{\"geo\": \"geo\", \"hoverlabel\": {\"namelength\": 0}, \"hovertemplate\": \"<b>%{hovertext}</b><br><br>date=01/23/2020<br>size=%{marker.size}<br>Lat=%{lat}<br>Long=%{lon}<br>cases=%{marker.color}\", \"hovertext\": [\"Hong Kong\", \"Japan\", \"Macau\", \"Singapore\", \"Thailand\", \"Vietnam\"], \"lat\": [22.3, 36.0, 22.1667, 1.2833, 15.0, 16.0], \"legendgroup\": \"\", \"lon\": [114.2, 138.0, 113.55, 103.8333, 101.0, 108.0], \"marker\": {\"color\": [2, 1, 1, 1, 1, 2], \"coloraxis\": \"coloraxis\", \"size\": [1.3195079107728942, 1.0, 1.0, 1.0, 1.0, 1.3195079107728942], \"sizemode\": \"area\", \"sizeref\": 0.05009094667077794}, \"name\": \"\", \"showlegend\": false, \"type\": \"scattergeo\"}], \"name\": \"01/23/2020\"}, {\"data\": [{\"geo\": \"geo\", \"hoverlabel\": {\"namelength\": 0}, \"hovertemplate\": \"<b>%{hovertext}</b><br><br>date=01/24/2020<br>size=%{marker.size}<br>Lat=%{lat}<br>Long=%{lon}<br>cases=%{marker.color}\", \"hovertext\": [\"France\", \"Japan\", \"Singapore\", \"South Korea\", \"Taiwan\", \"Thailand\", \"US\"], \"lat\": [47.0, 36.0, 1.2833, 36.0, 23.7, 15.0, 41.7377], \"legendgroup\": \"\", \"lon\": [2.0, 138.0, 103.8333, 128.0, 121.0, 101.0, -87.6976], \"marker\": {\"color\": [2, 1, 2, 1, 2, 2, 1], \"coloraxis\": \"coloraxis\", \"size\": [1.3195079107728942, 1.0, 1.3195079107728942, 1.0, 1.3195079107728942, 1.3195079107728942, 1.0], \"sizemode\": \"area\", \"sizeref\": 0.05009094667077794}, \"name\": \"\", \"showlegend\": false, \"type\": \"scattergeo\"}], \"name\": \"01/24/2020\"}, {\"data\": [{\"geo\": \"geo\", \"hoverlabel\": {\"namelength\": 0}, \"hovertemplate\": \"<b>%{hovertext}</b><br><br>date=01/25/2020<br>size=%{marker.size}<br>Lat=%{lat}<br>Long=%{lon}<br>cases=%{marker.color}\", \"hovertext\": [\"France\", \"Hong Kong\", \"Malaysia\", \"Nepal\", \"Thailand\"], \"lat\": [47.0, 22.3, 2.5, 28.1667, 15.0], \"legendgroup\": \"\", \"lon\": [2.0, 114.2, 112.5, 84.25, 101.0], \"marker\": {\"color\": [1, 3, 3, 1, 2], \"coloraxis\": \"coloraxis\", \"size\": [1.0, 1.5518455739153598, 1.5518455739153598, 1.0, 1.3195079107728942], \"sizemode\": \"area\", \"sizeref\": 0.05009094667077794}, \"name\": \"\", \"showlegend\": false, \"type\": \"scattergeo\"}], \"name\": \"01/25/2020\"}, {\"data\": [{\"geo\": \"geo\", \"hoverlabel\": {\"namelength\": 0}, \"hovertemplate\": \"<b>%{hovertext}</b><br><br>date=01/26/2020<br>size=%{marker.size}<br>Lat=%{lat}<br>Long=%{lon}<br>cases=%{marker.color}\", \"hovertext\": [\"Australia\", \"Canada\", \"Hong Kong\", \"Japan\", \"Macau\", \"Malaysia\", \"Singapore\", \"South Korea\", \"Taiwan\", \"Thailand\", \"US\"], \"lat\": [-33.8688, 51.2538, 22.3, 36.0, 22.1667, 2.5, 1.2833, 36.0, 23.7, 15.0, 34.0522], \"legendgroup\": \"\", \"lon\": [151.2093, -85.3232, 114.2, 138.0, 113.55, 112.5, 103.8333, 128.0, 121.0, 101.0, -112.4291], \"marker\": {\"color\": [3, 1, 3, 2, 3, 1, 1, 1, 1, 1, 1], \"coloraxis\": \"coloraxis\", \"size\": [1.5518455739153598, 1.0, 1.5518455739153598, 1.3195079107728942, 1.5518455739153598, 1.0, 1.0, 1.0, 1.0, 1.0, 1.0], \"sizemode\": \"area\", \"sizeref\": 0.05009094667077794}, \"name\": \"\", \"showlegend\": false, \"type\": \"scattergeo\"}], \"name\": \"01/26/2020\"}, {\"data\": [{\"geo\": \"geo\", \"hoverlabel\": {\"namelength\": 0}, \"hovertemplate\": \"<b>%{hovertext}</b><br><br>date=01/27/2020<br>size=%{marker.size}<br>Lat=%{lat}<br>Long=%{lon}<br>cases=%{marker.color}\", \"hovertext\": [\"Australia\", \"Cambodia\", \"Germany\", \"Macau\", \"Singapore\", \"South Korea\", \"Sri Lanka\", \"Taiwan\"], \"lat\": [-33.8688, 11.55, 51.0, 22.1667, 1.2833, 36.0, 7.0, 23.7], \"legendgroup\": \"\", \"lon\": [151.2093, 104.9167, 9.0, 113.55, 103.8333, 128.0, 81.0, 121.0], \"marker\": {\"color\": [1, 1, 1, 1, 1, 1, 1, 1], \"coloraxis\": \"coloraxis\", \"size\": [1.0, 1.0, 1.0, 1.0, 1.0, 1.0, 1.0, 1.0], \"sizemode\": \"area\", \"sizeref\": 0.05009094667077794}, \"name\": \"\", \"showlegend\": false, \"type\": \"scattergeo\"}], \"name\": \"01/27/2020\"}, {\"data\": [{\"geo\": \"geo\", \"hoverlabel\": {\"namelength\": 0}, \"hovertemplate\": \"<b>%{hovertext}</b><br><br>date=01/28/2020<br>size=%{marker.size}<br>Lat=%{lat}<br>Long=%{lon}<br>cases=%{marker.color}\", \"hovertext\": [\"Canada\", \"France\", \"Germany\", \"Japan\", \"Macau\", \"Singapore\", \"Taiwan\", \"Thailand\"], \"lat\": [49.2827, 47.0, 51.0, 36.0, 22.1667, 1.2833, 23.7, 15.0], \"legendgroup\": \"\", \"lon\": [-123.1207, 2.0, 9.0, 138.0, 113.55, 103.8333, 121.0, 101.0], \"marker\": {\"color\": [1, 1, 3, 3, 1, 2, 3, 6], \"coloraxis\": \"coloraxis\", \"size\": [1.0, 1.0, 1.5518455739153598, 1.5518455739153598, 1.0, 1.3195079107728942, 1.5518455739153598, 2.0476725110792193], \"sizemode\": \"area\", \"sizeref\": 0.05009094667077794}, \"name\": \"\", \"showlegend\": false, \"type\": \"scattergeo\"}], \"name\": \"01/28/2020\"}, {\"data\": [{\"geo\": \"geo\", \"hoverlabel\": {\"namelength\": 0}, \"hovertemplate\": \"<b>%{hovertext}</b><br><br>date=01/29/2020<br>size=%{marker.size}<br>Lat=%{lat}<br>Long=%{lon}<br>cases=%{marker.color}\", \"hovertext\": [\"Australia\", \"Finland\", \"France\", \"Hong Kong\", \"Malaysia\", \"United Arab Emirates\"], \"lat\": [-28.0167, 64.0, 47.0, 22.3, 2.5, 24.0], \"legendgroup\": \"\", \"lon\": [153.4, 26.0, 2.0, 114.2, 112.5, 54.0], \"marker\": {\"color\": [1, 1, 1, 2, 3, 4], \"coloraxis\": \"coloraxis\", \"size\": [1.0, 1.0, 1.0, 1.3195079107728942, 1.5518455739153598, 1.7411011265922482], \"sizemode\": \"area\", \"sizeref\": 0.05009094667077794}, \"name\": \"\", \"showlegend\": false, \"type\": \"scattergeo\"}], \"name\": \"01/29/2020\"}, {\"data\": [{\"geo\": \"geo\", \"hoverlabel\": {\"namelength\": 0}, \"hovertemplate\": \"<b>%{hovertext}</b><br><br>date=01/30/2020<br>size=%{marker.size}<br>Lat=%{lat}<br>Long=%{lon}<br>cases=%{marker.color}\", \"hovertext\": [\"Australia\", \"India\", \"Japan\", \"Malaysia\", \"Philippines\", \"Singapore\", \"Taiwan\"], \"lat\": [-28.0167, 21.0, 36.0, 2.5, 13.0, 1.2833, 23.7], \"legendgroup\": \"\", \"lon\": [153.4, 78.0, 138.0, 112.5, 122.0, 103.8333, 121.0], \"marker\": {\"color\": [2, 1, 4, 1, 1, 3, 1], \"coloraxis\": \"coloraxis\", \"size\": [1.3195079107728942, 1.0, 1.7411011265922482, 1.0, 1.0, 1.5518455739153598, 1.0], \"sizemode\": \"area\", \"sizeref\": 0.05009094667077794}, \"name\": \"\", \"showlegend\": false, \"type\": \"scattergeo\"}], \"name\": \"01/30/2020\"}, {\"data\": [{\"geo\": \"geo\", \"hoverlabel\": {\"namelength\": 0}, \"hovertemplate\": \"<b>%{hovertext}</b><br><br>date=01/31/2020<br>size=%{marker.size}<br>Lat=%{lat}<br>Long=%{lon}<br>cases=%{marker.color}\", \"hovertext\": [\"Australia\", \"Canada\", \"Germany\", \"Hong Kong\", \"Italy\", \"Japan\", \"Russia\", \"Singapore\", \"South Korea\", \"Sweden\", \"Taiwan\", \"Thailand\", \"UK\", \"US\"], \"lat\": [-28.0167, 51.2538, 51.0, 22.3, 43.0, 36.0, 60.0, 1.2833, 36.0, 63.0, 23.7, 15.0, 55.0, 41.7377], \"legendgroup\": \"\", \"lon\": [153.4, -85.3232, 9.0, 114.2, 12.0, 138.0, 90.0, 103.8333, 128.0, 16.0, 121.0, 101.0, -3.0, -87.6976], \"marker\": {\"color\": [1, 2, 1, 2, 2, 4, 2, 3, 7, 1, 1, 5, 2, 1], \"coloraxis\": \"coloraxis\", \"size\": [1.0, 1.3195079107728942, 1.0, 1.3195079107728942, 1.3195079107728942, 1.7411011265922482, 1.3195079107728942, 1.5518455739153598, 2.17790642448278, 1.0, 1.0, 1.9036539387158786, 1.3195079107728942, 1.0], \"sizemode\": \"area\", \"sizeref\": 0.05009094667077794}, \"name\": \"\", \"showlegend\": false, \"type\": \"scattergeo\"}], \"name\": \"01/31/2020\"}, {\"data\": [{\"geo\": \"geo\", \"hoverlabel\": {\"namelength\": 0}, \"hovertemplate\": \"<b>%{hovertext}</b><br><br>date=02/01/2020<br>size=%{marker.size}<br>Lat=%{lat}<br>Long=%{lon}<br>cases=%{marker.color}\", \"hovertext\": [\"Australia\", \"France\", \"Germany\", \"Hong Kong\", \"Japan\", \"Singapore\", \"South Korea\", \"Spain\", \"US\", \"Vietnam\"], \"lat\": [-28.0167, 47.0, 51.0, 22.3, 36.0, 1.2833, 36.0, 40.0, 42.3601, 16.0], \"legendgroup\": \"\", \"lon\": [153.4, 2.0, 9.0, 114.2, 138.0, 103.8333, 128.0, -4.0, -71.0589, 108.0], \"marker\": {\"color\": [1, 1, 3, 1, 5, 3, 1, 1, 1, 4], \"coloraxis\": \"coloraxis\", \"size\": [1.0, 1.0, 1.5518455739153598, 1.0, 1.9036539387158786, 1.5518455739153598, 1.0, 1.0, 1.0, 1.7411011265922482], \"sizemode\": \"area\", \"sizeref\": 0.05009094667077794}, \"name\": \"\", \"showlegend\": false, \"type\": \"scattergeo\"}], \"name\": \"02/01/2020\"}, {\"data\": [{\"geo\": \"geo\", \"hoverlabel\": {\"namelength\": 0}, \"hovertemplate\": \"<b>%{hovertext}</b><br><br>date=02/10/2020<br>size=%{marker.size}<br>Lat=%{lat}<br>Long=%{lon}<br>cases=%{marker.color}\", \"hovertext\": [\"Hong Kong\", \"Malaysia\", \"Others\", \"Singapore\", \"South Korea\", \"UK\", \"United Arab Emirates\", \"Vietnam\"], \"lat\": [22.3, 2.5, 35.4437, 1.2833, 36.0, 55.0, 24.0, 16.0], \"legendgroup\": \"\", \"lon\": [114.2, 112.5, 139.638, 103.8333, 128.0, -3.0, 54.0, 108.0], \"marker\": {\"color\": [9, 2, 71, 5, 2, 5, 1, 1], \"coloraxis\": \"coloraxis\", \"size\": [2.4082246852806923, 1.3195079107728942, 5.501781510642736, 1.9036539387158786, 1.3195079107728942, 1.9036539387158786, 1.0, 1.0], \"sizemode\": \"area\", \"sizeref\": 0.05009094667077794}, \"name\": \"\", \"showlegend\": false, \"type\": \"scattergeo\"}], \"name\": \"02/10/2020\"}, {\"data\": [{\"geo\": \"geo\", \"hoverlabel\": {\"namelength\": 0}, \"hovertemplate\": \"<b>%{hovertext}</b><br><br>date=02/11/2020<br>size=%{marker.size}<br>Lat=%{lat}<br>Long=%{lon}<br>cases=%{marker.color}\", \"hovertext\": [\"Germany\", \"Hong Kong\", \"Singapore\", \"South Korea\", \"Thailand\", \"US\", \"Vietnam\"], \"lat\": [51.0, 22.3, 1.2833, 36.0, 15.0, 32.7157, 16.0], \"legendgroup\": \"\", \"lon\": [9.0, 114.2, 103.8333, 128.0, 101.0, -117.1611, 108.0], \"marker\": {\"color\": [2, 11, 2, 1, 1, 1, 1], \"coloraxis\": \"coloraxis\", \"size\": [1.3195079107728942, 2.6094986352788734, 1.3195079107728942, 1.0, 1.0, 1.0, 1.0], \"sizemode\": \"area\", \"sizeref\": 0.05009094667077794}, \"name\": \"\", \"showlegend\": false, \"type\": \"scattergeo\"}], \"name\": \"02/11/2020\"}, {\"data\": [{\"geo\": \"geo\", \"hoverlabel\": {\"namelength\": 0}, \"hovertemplate\": \"<b>%{hovertext}</b><br><br>date=02/12/2020<br>size=%{marker.size}<br>Lat=%{lat}<br>Long=%{lon}<br>cases=%{marker.color}\", \"hovertext\": [\"Hong Kong\", \"Japan\", \"Others\", \"Singapore\", \"UK\"], \"lat\": [22.3, 36.0, 35.4437, 1.2833, 55.0], \"legendgroup\": \"\", \"lon\": [114.2, 138.0, 139.638, 103.8333, -3.0], \"marker\": {\"color\": [1, 2, 40, 3, 1], \"coloraxis\": \"coloraxis\", \"size\": [1.0, 1.3195079107728942, 4.3734482957731124, 1.5518455739153598, 1.0], \"sizemode\": \"area\", \"sizeref\": 0.05009094667077794}, \"name\": \"\", \"showlegend\": false, \"type\": \"scattergeo\"}], \"name\": \"02/12/2020\"}, {\"data\": [{\"geo\": \"geo\", \"hoverlabel\": {\"namelength\": 0}, \"hovertemplate\": \"<b>%{hovertext}</b><br><br>date=02/13/2020<br>size=%{marker.size}<br>Lat=%{lat}<br>Long=%{lon}<br>cases=%{marker.color}\", \"hovertext\": [\"Hong Kong\", \"Malaysia\", \"Singapore\", \"US\", \"Vietnam\"], \"lat\": [22.3, 2.5, 1.2833, 32.7157, 16.0], \"legendgroup\": \"\", \"lon\": [114.2, 112.5, 103.8333, -98.4936, 108.0], \"marker\": {\"color\": [3, 1, 8, 1, 1], \"coloraxis\": \"coloraxis\", \"size\": [1.5518455739153598, 1.0, 2.29739670999407, 1.0, 1.0], \"sizemode\": \"area\", \"sizeref\": 0.05009094667077794}, \"name\": \"\", \"showlegend\": false, \"type\": \"scattergeo\"}], \"name\": \"02/13/2020\"}, {\"data\": [{\"geo\": \"geo\", \"hoverlabel\": {\"namelength\": 0}, \"hovertemplate\": \"<b>%{hovertext}</b><br><br>date=02/14/2020<br>size=%{marker.size}<br>Lat=%{lat}<br>Long=%{lon}<br>cases=%{marker.color}\", \"hovertext\": [\"Egypt\", \"Hong Kong\", \"Japan\", \"Others\", \"Singapore\"], \"lat\": [26.0, 22.3, 36.0, 35.4437, 1.2833], \"legendgroup\": \"\", \"lon\": [30.0, 114.2, 138.0, 139.638, 103.8333], \"marker\": {\"color\": [1, 3, 1, 43, 9], \"coloraxis\": \"coloraxis\", \"size\": [1.0, 1.5518455739153598, 1.0, 4.501812287589042, 2.4082246852806923], \"sizemode\": \"area\", \"sizeref\": 0.05009094667077794}, \"name\": \"\", \"showlegend\": false, \"type\": \"scattergeo\"}], \"name\": \"02/14/2020\"}, {\"data\": [{\"geo\": \"geo\", \"hoverlabel\": {\"namelength\": 0}, \"hovertemplate\": \"<b>%{hovertext}</b><br><br>date=02/15/2020<br>size=%{marker.size}<br>Lat=%{lat}<br>Long=%{lon}<br>cases=%{marker.color}\", \"hovertext\": [\"France\", \"Japan\", \"Malaysia\", \"Others\", \"Singapore\"], \"lat\": [47.0, 36.0, 2.5, 35.4437, 1.2833], \"legendgroup\": \"\", \"lon\": [2.0, 138.0, 112.5, 139.638, 103.8333], \"marker\": {\"color\": [1, 14, 3, 67, 5], \"coloraxis\": \"coloraxis\", \"size\": [1.0, 2.8737647560281374, 1.5518455739153598, 5.375636834090112, 1.9036539387158786], \"sizemode\": \"area\", \"sizeref\": 0.05009094667077794}, \"name\": \"\", \"showlegend\": false, \"type\": \"scattergeo\"}], \"name\": \"02/15/2020\"}, {\"data\": [{\"geo\": \"geo\", \"hoverlabel\": {\"namelength\": 0}, \"hovertemplate\": \"<b>%{hovertext}</b><br><br>date=02/16/2020<br>size=%{marker.size}<br>Lat=%{lat}<br>Long=%{lon}<br>cases=%{marker.color}\", \"hovertext\": [\"Hong Kong\", \"Japan\", \"Others\", \"Singapore\", \"South Korea\", \"Taiwan\", \"Thailand\", \"United Arab Emirates\"], \"lat\": [22.3, 36.0, 35.4437, 1.2833, 36.0, 23.7, 15.0, 24.0], \"legendgroup\": \"\", \"lon\": [114.2, 138.0, 139.638, 103.8333, 128.0, 121.0, 101.0, 54.0], \"marker\": {\"color\": [1, 16, 70, 3, 1, 2, 1, 1], \"coloraxis\": \"coloraxis\", \"size\": [1.0, 3.0314331330207964, 5.470653596755839, 1.5518455739153598, 1.0, 1.3195079107728942, 1.0, 1.0], \"sizemode\": \"area\", \"sizeref\": 0.05009094667077794}, \"name\": \"\", \"showlegend\": false, \"type\": \"scattergeo\"}], \"name\": \"02/16/2020\"}, {\"data\": [{\"geo\": \"geo\", \"hoverlabel\": {\"namelength\": 0}, \"hovertemplate\": \"<b>%{hovertext}</b><br><br>date=02/17/2020<br>size=%{marker.size}<br>Lat=%{lat}<br>Long=%{lon}<br>cases=%{marker.color}\", \"hovertext\": [\"Canada\", \"Hong Kong\", \"Japan\", \"Others\", \"Singapore\", \"South Korea\", \"Taiwan\", \"Thailand\"], \"lat\": [49.2827, 22.3, 36.0, 35.4437, 1.2833, 36.0, 23.7, 15.0], \"legendgroup\": \"\", \"lon\": [-123.1207, 114.2, 138.0, 139.638, 103.8333, 128.0, 121.0, 101.0], \"marker\": {\"color\": [1, 3, 7, 99, 2, 1, 2, 1], \"coloraxis\": \"coloraxis\", \"size\": [1.0, 1.5518455739153598, 2.17790642448278, 6.28425902968486, 1.3195079107728942, 1.0, 1.3195079107728942, 1.0], \"sizemode\": \"area\", \"sizeref\": 0.05009094667077794}, \"name\": \"\", \"showlegend\": false, \"type\": \"scattergeo\"}], \"name\": \"02/17/2020\"}, {\"data\": [{\"geo\": \"geo\", \"hoverlabel\": {\"namelength\": 0}, \"hovertemplate\": \"<b>%{hovertext}</b><br><br>date=02/18/2020<br>size=%{marker.size}<br>Lat=%{lat}<br>Long=%{lon}<br>cases=%{marker.color}\", \"hovertext\": [\"Hong Kong\", \"Japan\", \"Others\", \"Singapore\", \"South Korea\"], \"lat\": [22.3, 36.0, 35.4437, 1.2833, 36.0], \"legendgroup\": \"\", \"lon\": [114.2, 138.0, 139.638, 103.8333, 128.0], \"marker\": {\"color\": [2, 8, 88, 4, 1], \"coloraxis\": \"coloraxis\", \"size\": [1.3195079107728942, 2.29739670999407, 5.9950535794237, 1.7411011265922482, 1.0], \"sizemode\": \"area\", \"sizeref\": 0.05009094667077794}, \"name\": \"\", \"showlegend\": false, \"type\": \"scattergeo\"}], \"name\": \"02/18/2020\"}, {\"data\": [{\"geo\": \"geo\", \"hoverlabel\": {\"namelength\": 0}, \"hovertemplate\": \"<b>%{hovertext}</b><br><br>date=02/19/2020<br>size=%{marker.size}<br>Lat=%{lat}<br>Long=%{lon}<br>cases=%{marker.color}\", \"hovertext\": [\"Hong Kong\", \"Iran\", \"Japan\", \"Others\", \"Singapore\", \"Taiwan\"], \"lat\": [22.3, 32.0, 36.0, 35.4437, 1.2833, 23.7], \"legendgroup\": \"\", \"lon\": [114.2, 53.0, 138.0, 139.638, 103.8333, 121.0], \"marker\": {\"color\": [1, 2, 10, 79, 3, 1], \"coloraxis\": \"coloraxis\", \"size\": [1.0, 1.3195079107728942, 2.51188643150958, 5.7418366957535865, 1.5518455739153598, 1.0], \"sizemode\": \"area\", \"sizeref\": 0.05009094667077794}, \"name\": \"\", \"showlegend\": false, \"type\": \"scattergeo\"}], \"name\": \"02/19/2020\"}, {\"data\": [{\"geo\": \"geo\", \"hoverlabel\": {\"namelength\": 0}, \"hovertemplate\": \"<b>%{hovertext}</b><br><br>date=02/02/2020<br>size=%{marker.size}<br>Lat=%{lat}<br>Long=%{lon}<br>cases=%{marker.color}\", \"hovertext\": [\"Australia\", \"Germany\", \"Hong Kong\", \"India\", \"Macau\", \"Philippines\", \"Singapore\", \"South Korea\", \"United Arab Emirates\"], \"lat\": [-28.0167, 51.0, 22.3, 21.0, 22.1667, 13.0, 1.2833, 36.0, 24.0], \"legendgroup\": \"\", \"lon\": [153.4, 9.0, 114.2, 78.0, 113.55, 122.0, 103.8333, 128.0, 54.0], \"marker\": {\"color\": [1, 2, 2, 1, 1, 1, 2, 3, 1], \"coloraxis\": \"coloraxis\", \"size\": [1.0, 1.3195079107728942, 1.3195079107728942, 1.0, 1.0, 1.0, 1.3195079107728942, 1.5518455739153598, 1.0], \"sizemode\": \"area\", \"sizeref\": 0.05009094667077794}, \"name\": \"\", \"showlegend\": false, \"type\": \"scattergeo\"}], \"name\": \"02/02/2020\"}, {\"data\": [{\"geo\": \"geo\", \"hoverlabel\": {\"namelength\": 0}, \"hovertemplate\": \"<b>%{hovertext}</b><br><br>date=02/20/2020<br>size=%{marker.size}<br>Lat=%{lat}<br>Long=%{lon}<br>cases=%{marker.color}\", \"hovertext\": [\"Hong Kong\", \"Iran\", \"Japan\", \"Others\", \"South Korea\", \"Taiwan\"], \"lat\": [22.3, 32.0, 36.0, 35.4437, 36.0, 23.7], \"legendgroup\": \"\", \"lon\": [114.2, 53.0, 138.0, 139.638, 128.0, 121.0], \"marker\": {\"color\": [5, 3, 10, 13, 73, 1], \"coloraxis\": \"coloraxis\", \"size\": [1.9036539387158786, 1.5518455739153598, 2.51188643150958, 2.789827435889086, 5.563257268920875, 1.0], \"sizemode\": \"area\", \"sizeref\": 0.05009094667077794}, \"name\": \"\", \"showlegend\": false, \"type\": \"scattergeo\"}], \"name\": \"02/20/2020\"}, {\"data\": [{\"geo\": \"geo\", \"hoverlabel\": {\"namelength\": 0}, \"hovertemplate\": \"<b>%{hovertext}</b><br><br>date=02/21/2020<br>size=%{marker.size}<br>Lat=%{lat}<br>Long=%{lon}<br>cases=%{marker.color}\", \"hovertext\": [\"Australia\", \"Canada\", \"Iran\", \"Israel\", \"Italy\", \"Japan\", \"Lebanon\", \"Singapore\", \"South Korea\", \"Taiwan\", \"US\"], \"lat\": [35.4437, 49.2827, 32.0, 31.0, 43.0, 36.0, 33.8547, 1.2833, 36.0, 23.7, 41.2545], \"legendgroup\": \"\", \"lon\": [139.638, -123.1207, 53.0, 35.0, 12.0, 138.0, 35.8623, 103.8333, 128.0, 121.0, -95.9758], \"marker\": {\"color\": [4, 1, 13, 1, 17, 11, 1, 1, 100, 2, 11], \"coloraxis\": \"coloraxis\", \"size\": [1.7411011265922482, 1.0, 2.789827435889086, 1.0, 3.1058435015977324, 2.6094986352788734, 1.0, 1.0, 6.309573444801933, 1.3195079107728942, 2.6094986352788734], \"sizemode\": \"area\", \"sizeref\": 0.05009094667077794}, \"name\": \"\", \"showlegend\": false, \"type\": \"scattergeo\"}], \"name\": \"02/21/2020\"}, {\"data\": [{\"geo\": \"geo\", \"hoverlabel\": {\"namelength\": 0}, \"hovertemplate\": \"<b>%{hovertext}</b><br><br>date=02/22/2020<br>size=%{marker.size}<br>Lat=%{lat}<br>Long=%{lon}<br>cases=%{marker.color}\", \"hovertext\": [\"Australia\", \"Hong Kong\", \"Iran\", \"Italy\", \"Japan\", \"South Korea\", \"United Arab Emirates\"], \"lat\": [35.4437, 22.3, 32.0, 43.0, 36.0, 36.0, 24.0], \"legendgroup\": \"\", \"lon\": [139.638, 114.2, 53.0, 12.0, 138.0, 128.0, 54.0], \"marker\": {\"color\": [3, 1, 10, 42, 17, 229, 4], \"coloraxis\": \"coloraxis\", \"size\": [1.5518455739153598, 1.0, 2.51188643150958, 4.459639117116218, 3.1058435015977324, 8.788893318352082, 1.7411011265922482], \"sizemode\": \"area\", \"sizeref\": 0.05009094667077794}, \"name\": \"\", \"showlegend\": false, \"type\": \"scattergeo\"}], \"name\": \"02/22/2020\"}, {\"data\": [{\"geo\": \"geo\", \"hoverlabel\": {\"namelength\": 0}, \"hovertemplate\": \"<b>%{hovertext}</b><br><br>date=02/23/2020<br>size=%{marker.size}<br>Lat=%{lat}<br>Long=%{lon}<br>cases=%{marker.color}\", \"hovertext\": [\"Hong Kong\", \"Iran\", \"Italy\", \"Japan\", \"Others\", \"Singapore\", \"South Korea\", \"Taiwan\"], \"lat\": [22.3, 32.0, 43.0, 36.0, 35.4437, 1.2833, 36.0, 23.7], \"legendgroup\": \"\", \"lon\": [114.2, 53.0, 12.0, 138.0, 139.638, 103.8333, 128.0, 121.0], \"marker\": {\"color\": [5, 15, 93, 25, 57, 4, 169, 2], \"coloraxis\": \"coloraxis\", \"size\": [1.9036539387158786, 2.9541769390627777, 6.129050213617685, 3.623898318388478, 5.039064789033284, 1.7411011265922482, 7.783137122039472, 1.3195079107728942], \"sizemode\": \"area\", \"sizeref\": 0.05009094667077794}, \"name\": \"\", \"showlegend\": false, \"type\": \"scattergeo\"}], \"name\": \"02/23/2020\"}, {\"data\": [{\"geo\": \"geo\", \"hoverlabel\": {\"namelength\": 0}, \"hovertemplate\": \"<b>%{hovertext}</b><br><br>date=02/24/2020<br>size=%{marker.size}<br>Lat=%{lat}<br>Long=%{lon}<br>cases=%{marker.color}\", \"hovertext\": [\"Afghanistan\", \"Bahrain\", \"Canada\", \"Hong Kong\", \"Iran\", \"Iraq\", \"Italy\", \"Japan\", \"Kuwait\", \"Oman\", \"South Korea\", \"Taiwan\", \"UK\", \"US\"], \"lat\": [33.0, 26.0275, 51.2538, 22.3, 32.0, 33.0, 43.0, 36.0, 29.5, 21.0, 36.0, 23.7, 55.0, 41.2545], \"legendgroup\": \"\", \"lon\": [65.0, 50.55, -85.3232, 114.2, 53.0, 44.0, 12.0, 138.0, 47.75, 57.0, 128.0, 121.0, -3.0, 139.638], \"marker\": {\"color\": [1, 1, 1, 5, 18, 1, 74, 12, 1, 2, 231, 2, 4, 36], \"coloraxis\": \"coloraxis\", \"size\": [1.0, 1.0, 1.0, 1.9036539387158786, 3.177671523146437, 1.0, 5.593616502501593, 2.701920077041227, 1.0, 1.3195079107728942, 8.819516802392263, 1.3195079107728942, 1.7411011265922482, 4.192962712629476], \"sizemode\": \"area\", \"sizeref\": 0.05009094667077794}, \"name\": \"\", \"showlegend\": false, \"type\": \"scattergeo\"}], \"name\": \"02/24/2020\"}, {\"data\": [{\"geo\": \"geo\", \"hoverlabel\": {\"namelength\": 0}, \"hovertemplate\": \"<b>%{hovertext}</b><br><br>date=02/25/2020<br>size=%{marker.size}<br>Lat=%{lat}<br>Long=%{lon}<br>cases=%{marker.color}\", \"hovertext\": [\"Algeria\", \"Austria\", \"Bahrain\", \"Canada\", \"Croatia\", \"France\", \"Germany\", \"Hong Kong\", \"Iran\", \"Italy\", \"Japan\", \"Kuwait\", \"Singapore\", \"South Korea\", \"Spain\", \"Switzerland\", \"Taiwan\", \"Thailand\"], \"lat\": [28.0339, 47.5162, 26.0275, 49.2827, 45.1, 47.0, 51.0, 22.3, 32.0, 43.0, 36.0, 29.5, 1.2833, 36.0, 40.0, 46.8182, 23.7, 15.0], \"legendgroup\": \"\", \"lon\": [1.6596, 14.5501, 50.55, -123.1207, 15.2, 2.0, 9.0, 114.2, 53.0, 12.0, 138.0, 47.75, 103.8333, 128.0, -4.0, 8.2275, 121.0, 101.0], \"marker\": {\"color\": [1, 2, 22, 1, 1, 2, 1, 5, 34, 93, 11, 10, 2, 144, 4, 1, 1, 2], \"coloraxis\": \"coloraxis\", \"size\": [1.0, 1.3195079107728942, 3.4432540924015447, 1.0, 1.0, 1.3195079107728942, 1.0, 1.9036539387158786, 4.0981850699807945, 6.129050213617685, 2.6094986352788734, 2.51188643150958, 1.3195079107728942, 7.30037210271847, 1.7411011265922482, 1.0, 1.0, 1.3195079107728942], \"sizemode\": \"area\", \"sizeref\": 0.05009094667077794}, \"name\": \"\", \"showlegend\": false, \"type\": \"scattergeo\"}], \"name\": \"02/25/2020\"}, {\"data\": [{\"geo\": \"geo\", \"hoverlabel\": {\"namelength\": 0}, \"hovertemplate\": \"<b>%{hovertext}</b><br><br>date=02/26/2020<br>size=%{marker.size}<br>Lat=%{lat}<br>Long=%{lon}<br>cases=%{marker.color}\", \"hovertext\": [\"Bahrain\", \"Brazil\", \"Croatia\", \"Finland\", \"France\", \"Georgia\", \"Germany\", \"Greece\", \"Hong Kong\", \"Iran\", \"Iraq\", \"Israel\", \"Italy\", \"Japan\", \"Kuwait\", \"Lebanon\", \"North Macedonia\", \"Norway\", \"Oman\", \"Others\", \"Pakistan\", \"Romania\", \"Singapore\", \"South Korea\", \"Spain\", \"Sweden\", \"Taiwan\", \"Thailand\", \"US\"], \"lat\": [26.0275, -14.235, 45.1, 64.0, 47.0, 42.3154, 51.0, 39.0742, 22.3, 32.0, 33.0, 31.0, 43.0, 36.0, 29.5, 33.8547, 41.6086, 60.472, 21.0, 35.4437, 30.3753, 45.9432, 1.2833, 36.0, 40.0, 63.0, 23.7, 15.0, 35.4437], \"legendgroup\": \"\", \"lon\": [50.55, -51.9253, 15.2, 26.0, 2.0, 43.3569, 9.0, 21.8243, 114.2, 53.0, 44.0, 35.0, 12.0, 138.0, 47.75, 35.8623, 21.7453, 8.4689, 57.0, 139.638, 69.3451, 24.9668, 103.8333, 128.0, -4.0, 16.0, 121.0, 101.0, 139.638], \"marker\": {\"color\": [10, 1, 2, 1, 4, 1, 10, 1, 7, 44, 4, 1, 131, 19, 15, 1, 1, 1, 2, 14, 2, 1, 2, 284, 7, 1, 1, 3, 6], \"coloraxis\": \"coloraxis\", \"size\": [2.51188643150958, 1.0, 1.3195079107728942, 1.0, 1.7411011265922482, 1.0, 2.51188643150958, 1.0, 2.17790642448278, 4.5434010137249805, 1.7411011265922482, 1.0, 7.029242371736958, 3.2471431911356685, 2.9541769390627777, 1.0, 1.0, 1.0, 1.3195079107728942, 2.8737647560281374, 1.3195079107728942, 1.0, 1.3195079107728942, 9.57915798644447, 2.17790642448278, 1.0, 1.0, 1.5518455739153598, 2.0476725110792193], \"sizemode\": \"area\", \"sizeref\": 0.05009094667077794}, \"name\": \"\", \"showlegend\": false, \"type\": \"scattergeo\"}], \"name\": \"02/26/2020\"}, {\"data\": [{\"geo\": \"geo\", \"hoverlabel\": {\"namelength\": 0}, \"hovertemplate\": \"<b>%{hovertext}</b><br><br>date=02/27/2020<br>size=%{marker.size}<br>Lat=%{lat}<br>Long=%{lon}<br>cases=%{marker.color}\", \"hovertext\": [\"Australia\", \"Austria\", \"Canada\", \"Denmark\", \"Estonia\", \"France\", \"Germany\", \"Greece\", \"Hong Kong\", \"Iran\", \"Iraq\", \"Israel\", \"Italy\", \"Japan\", \"Kuwait\", \"Malaysia\", \"Netherlands\", \"San Marino\", \"South Korea\", \"Spain\", \"Sweden\", \"Switzerland\", \"UK\", \"US\"], \"lat\": [35.4437, 47.5162, 51.2538, 56.2639, 58.5953, 47.0, 51.0, 39.0742, 22.3, 32.0, 33.0, 31.0, 43.0, 36.0, 29.5, 2.5, 52.1326, 43.9424, 36.0, 40.0, 63.0, 46.8182, 55.0, 38.4747], \"legendgroup\": \"\", \"lon\": [139.638, 14.5501, -85.3232, 9.5018, 25.0136, 2.0, 9.0, 21.8243, 114.2, 53.0, 44.0, 35.0, 12.0, 138.0, 47.75, 112.5, 5.2913, 12.4578, 128.0, -4.0, 16.0, 8.2275, -3.0, -121.3542], \"marker\": {\"color\": [1, 1, 2, 1, 1, 20, 19, 2, 1, 106, 2, 1, 202, 25, 17, 1, 1, 1, 505, 2, 5, 7, 2, 1], \"coloraxis\": \"coloraxis\", \"size\": [1.0, 1.0, 1.3195079107728942, 1.0, 1.0, 3.3144540173399872, 3.2471431911356685, 1.3195079107728942, 1.0, 6.458361434077656, 1.3195079107728942, 1.0, 8.358734825325298, 3.623898318388478, 3.1058435015977324, 1.0, 1.0, 1.0, 12.059145946000156, 1.3195079107728942, 1.9036539387158786, 2.17790642448278, 1.3195079107728942, 1.0], \"sizemode\": \"area\", \"sizeref\": 0.05009094667077794}, \"name\": \"\", \"showlegend\": false, \"type\": \"scattergeo\"}], \"name\": \"02/27/2020\"}, {\"data\": [{\"geo\": \"geo\", \"hoverlabel\": {\"namelength\": 0}, \"hovertemplate\": \"<b>%{hovertext}</b><br><br>date=02/28/2020<br>size=%{marker.size}<br>Lat=%{lat}<br>Long=%{lon}<br>cases=%{marker.color}\", \"hovertext\": [\"Bahrain\", \"Belarus\", \"Canada\", \"Croatia\", \"France\", \"Germany\", \"Greece\", \"Hong Kong\", \"Iceland\", \"Iran\", \"Israel\", \"Italy\", \"Japan\", \"Kuwait\", \"Lithuania\", \"Mexico\", \"New Zealand\", \"Nigeria\", \"Norway\", \"Romania\", \"South Korea\", \"Spain\", \"Taiwan\", \"Thailand\", \"UK\", \"US\", \"United Arab Emirates\"], \"lat\": [26.0275, 53.7098, 52.9399, 45.1, 47.0, 51.0, 39.0742, 22.3, 64.9631, 32.0, 31.0, 43.0, 36.0, 29.5, 55.1694, 23.6345, -40.9006, 9.082, 60.472, 45.9432, 36.0, 40.0, 23.7, 15.0, 55.0, 35.4437, 24.0], \"legendgroup\": \"\", \"lon\": [50.55, 27.9534, -73.5491, 15.2, 2.0, 9.0, 21.8243, 114.2, -19.0208, 53.0, 35.0, 12.0, 138.0, 47.75, 23.8813, -102.5528, 174.886, 8.6753, 8.4689, 24.9668, 128.0, -4.0, 121.0, 101.0, -3.0, 139.638, 54.0], \"marker\": {\"color\": [3, 1, 1, 2, 19, 2, 1, 2, 1, 143, 1, 233, 14, 2, 1, 1, 1, 1, 5, 2, 571, 17, 2, 1, 5, 2, 6], \"coloraxis\": \"coloraxis\", \"size\": [1.5518455739153598, 1.0, 1.0, 1.3195079107728942, 3.2471431911356685, 1.3195079107728942, 1.0, 1.3195079107728942, 1.0, 7.280050886616128, 1.0, 8.849981613316114, 2.8737647560281374, 1.3195079107728942, 1.0, 1.0, 1.0, 1.0, 1.9036539387158786, 1.3195079107728942, 12.666436297613846, 3.1058435015977324, 1.3195079107728942, 1.0, 1.9036539387158786, 1.3195079107728942, 2.0476725110792193], \"sizemode\": \"area\", \"sizeref\": 0.05009094667077794}, \"name\": \"\", \"showlegend\": false, \"type\": \"scattergeo\"}], \"name\": \"02/28/2020\"}, {\"data\": [{\"geo\": \"geo\", \"hoverlabel\": {\"namelength\": 0}, \"hovertemplate\": \"<b>%{hovertext}</b><br><br>date=02/29/2020<br>size=%{marker.size}<br>Lat=%{lat}<br>Long=%{lon}<br>cases=%{marker.color}\", \"hovertext\": [\"Australia\", \"Austria\", \"Bahrain\", \"Brazil\", \"Canada\", \"Croatia\", \"Denmark\", \"Finland\", \"France\", \"Germany\", \"Hong Kong\", \"Iran\", \"Iraq\", \"Ireland\", \"Israel\", \"Italy\", \"Japan\", \"Lebanon\", \"Luxembourg\", \"Malaysia\", \"Mexico\", \"Monaco\", \"Netherlands\", \"Norway\", \"Oman\", \"Pakistan\", \"Qatar\", \"Singapore\", \"South Korea\", \"Spain\", \"Sweden\", \"Switzerland\", \"Taiwan\", \"Thailand\", \"UK\", \"US\", \"United Arab Emirates\"], \"lat\": [35.4437, 47.5162, 26.0275, -14.235, 51.2538, 45.1, 56.2639, 64.0, 47.0, 51.0, 22.3, 32.0, 33.0, 53.1424, 31.0, 43.0, 36.0, 33.8547, 49.8153, 2.5, 23.6345, 43.7333, 52.1326, 60.472, 21.0, 30.3753, 25.3548, 1.2833, 36.0, 40.0, 63.0, 46.8182, 23.7, 15.0, 55.0, 48.033, 24.0], \"legendgroup\": \"\", \"lon\": [153.4, 14.5501, 50.55, -51.9253, -85.3232, 15.2, 9.5018, 26.0, 2.0, 9.0, 114.2, 53.0, 44.0, -7.6921, 35.0, 12.0, 138.0, 35.8623, 6.1296, 112.5, -102.5528, 7.4167, 5.2913, 8.4689, 57.0, 69.3451, 51.1839, 103.8333, 128.0, -4.0, 16.0, 8.2275, 121.0, 101.0, -3.0, -121.8339, 54.0], \"marker\": {\"color\": [8, 6, 5, 1, 5, 1, 2, 1, 43, 31, 1, 205, 6, 1, 3, 240, 13, 2, 1, 2, 3, 1, 5, 9, 2, 2, 1, 9, 813, 13, 5, 10, 5, 1, 3, 5, 2], \"coloraxis\": \"coloraxis\", \"size\": [2.29739670999407, 2.0476725110792193, 1.9036539387158786, 1.0, 1.9036539387158786, 1.0, 1.3195079107728942, 1.0, 4.501812287589042, 3.9495232751502978, 1.0, 8.408171172485003, 2.0476725110792193, 1.0, 1.5518455739153598, 8.955389853880861, 2.789827435889086, 1.3195079107728942, 1.0, 1.3195079107728942, 1.5518455739153598, 1.0, 1.9036539387158786, 2.4082246852806923, 1.3195079107728942, 1.3195079107728942, 1.0, 2.4082246852806923, 14.589359240010616, 2.789827435889086, 1.9036539387158786, 2.51188643150958, 1.9036539387158786, 1.0, 1.5518455739153598, 1.9036539387158786, 1.3195079107728942], \"sizemode\": \"area\", \"sizeref\": 0.05009094667077794}, \"name\": \"\", \"showlegend\": false, \"type\": \"scattergeo\"}], \"name\": \"02/29/2020\"}, {\"data\": [{\"geo\": \"geo\", \"hoverlabel\": {\"namelength\": 0}, \"hovertemplate\": \"<b>%{hovertext}</b><br><br>date=02/03/2020<br>size=%{marker.size}<br>Lat=%{lat}<br>Long=%{lon}<br>cases=%{marker.color}\", \"hovertext\": [\"Germany\", \"India\", \"US\", \"Vietnam\"], \"lat\": [51.0, 21.0, 37.3541, 16.0], \"legendgroup\": \"\", \"lon\": [9.0, 78.0, -120.9876, 108.0], \"marker\": {\"color\": [2, 1, 2, 2], \"coloraxis\": \"coloraxis\", \"size\": [1.3195079107728942, 1.0, 1.3195079107728942, 1.3195079107728942], \"sizemode\": \"area\", \"sizeref\": 0.05009094667077794}, \"name\": \"\", \"showlegend\": false, \"type\": \"scattergeo\"}], \"name\": \"02/03/2020\"}, {\"data\": [{\"geo\": \"geo\", \"hoverlabel\": {\"namelength\": 0}, \"hovertemplate\": \"<b>%{hovertext}</b><br><br>date=02/04/2020<br>size=%{marker.size}<br>Lat=%{lat}<br>Long=%{lon}<br>cases=%{marker.color}\", \"hovertext\": [\"Australia\", \"Belgium\", \"Hong Kong\", \"Japan\", \"Macau\", \"Malaysia\", \"Singapore\", \"South Korea\", \"Taiwan\", \"Thailand\"], \"lat\": [-28.0167, 50.8333, 22.3, 36.0, 22.1667, 2.5, 1.2833, 36.0, 23.7, 15.0], \"legendgroup\": \"\", \"lon\": [153.4, 4.0, 114.2, 138.0, 113.55, 112.5, 103.8333, 128.0, 121.0, 101.0], \"marker\": {\"color\": [1, 1, 2, 2, 2, 2, 6, 1, 1, 6], \"coloraxis\": \"coloraxis\", \"size\": [1.0, 1.0, 1.3195079107728942, 1.3195079107728942, 1.3195079107728942, 1.3195079107728942, 2.0476725110792193, 1.0, 1.0, 2.0476725110792193], \"sizemode\": \"area\", \"sizeref\": 0.05009094667077794}, \"name\": \"\", \"showlegend\": false, \"type\": \"scattergeo\"}], \"name\": \"02/04/2020\"}, {\"data\": [{\"geo\": \"geo\", \"hoverlabel\": {\"namelength\": 0}, \"hovertemplate\": \"<b>%{hovertext}</b><br><br>date=02/05/2020<br>size=%{marker.size}<br>Lat=%{lat}<br>Long=%{lon}<br>cases=%{marker.color}\", \"hovertext\": [\"Canada\", \"Hong Kong\", \"Malaysia\", \"Singapore\", \"South Korea\", \"US\"], \"lat\": [49.2827, 22.3, 2.5, 1.2833, 36.0, 43.0731], \"legendgroup\": \"\", \"lon\": [-123.1207, 114.2, 112.5, 103.8333, 128.0, -89.4012], \"marker\": {\"color\": [1, 4, 2, 4, 3, 1], \"coloraxis\": \"coloraxis\", \"size\": [1.0, 1.7411011265922482, 1.3195079107728942, 1.7411011265922482, 1.5518455739153598, 1.0], \"sizemode\": \"area\", \"sizeref\": 0.05009094667077794}, \"name\": \"\", \"showlegend\": false, \"type\": \"scattergeo\"}], \"name\": \"02/05/2020\"}, {\"data\": [{\"geo\": \"geo\", \"hoverlabel\": {\"namelength\": 0}, \"hovertemplate\": \"<b>%{hovertext}</b><br><br>date=02/06/2020<br>size=%{marker.size}<br>Lat=%{lat}<br>Long=%{lon}<br>cases=%{marker.color}\", \"hovertext\": [\"Australia\", \"Hong Kong\", \"Japan\", \"South Korea\", \"Taiwan\", \"Vietnam\"], \"lat\": [-28.0167, 22.3, 36.0, 36.0, 23.7, 16.0], \"legendgroup\": \"\", \"lon\": [153.4, 114.2, 138.0, 128.0, 121.0, 108.0], \"marker\": {\"color\": [1, 3, 3, 4, 5, 2], \"coloraxis\": \"coloraxis\", \"size\": [1.0, 1.5518455739153598, 1.5518455739153598, 1.7411011265922482, 1.9036539387158786, 1.3195079107728942], \"sizemode\": \"area\", \"sizeref\": 0.05009094667077794}, \"name\": \"\", \"showlegend\": false, \"type\": \"scattergeo\"}], \"name\": \"02/06/2020\"}, {\"data\": [{\"geo\": \"geo\", \"hoverlabel\": {\"namelength\": 0}, \"hovertemplate\": \"<b>%{hovertext}</b><br><br>date=02/07/2020<br>size=%{marker.size}<br>Lat=%{lat}<br>Long=%{lon}<br>cases=%{marker.color}\", \"hovertext\": [\"Australia\", \"Canada\", \"Germany\", \"Hong Kong\", \"Italy\", \"Others\", \"Philippines\", \"Singapore\", \"South Korea\", \"UK\"], \"lat\": [-28.0167, 49.2827, 51.0, 22.3, 43.0, 35.4437, 13.0, 1.2833, 36.0, 55.0], \"legendgroup\": \"\", \"lon\": [153.4, -123.1207, 9.0, 114.2, 12.0, 139.638, 122.0, 103.8333, 128.0, -3.0], \"marker\": {\"color\": [1, 2, 1, 1, 1, 61, 1, 2, 1, 1], \"coloraxis\": \"coloraxis\", \"size\": [1.0, 1.3195079107728942, 1.0, 1.0, 1.0, 5.177640992398568, 1.0, 1.3195079107728942, 1.0, 1.0], \"sizemode\": \"area\", \"sizeref\": 0.05009094667077794}, \"name\": \"\", \"showlegend\": false, \"type\": \"scattergeo\"}], \"name\": \"02/07/2020\"}, {\"data\": [{\"geo\": \"geo\", \"hoverlabel\": {\"namelength\": 0}, \"hovertemplate\": \"<b>%{hovertext}</b><br><br>date=02/08/2020<br>size=%{marker.size}<br>Lat=%{lat}<br>Long=%{lon}<br>cases=%{marker.color}\", \"hovertext\": [\"France\", \"Hong Kong\", \"Malaysia\", \"Singapore\", \"Taiwan\", \"Thailand\", \"United Arab Emirates\", \"Vietnam\"], \"lat\": [47.0, 22.3, 2.5, 1.2833, 23.7, 15.0, 24.0, 16.0], \"legendgroup\": \"\", \"lon\": [2.0, 114.2, 112.5, 103.8333, 121.0, 101.0, 54.0, 108.0], \"marker\": {\"color\": [5, 1, 4, 3, 1, 7, 2, 3], \"coloraxis\": \"coloraxis\", \"size\": [1.9036539387158786, 1.0, 1.7411011265922482, 1.5518455739153598, 1.0, 2.17790642448278, 1.3195079107728942, 1.5518455739153598], \"sizemode\": \"area\", \"sizeref\": 0.05009094667077794}, \"name\": \"\", \"showlegend\": false, \"type\": \"scattergeo\"}], \"name\": \"02/08/2020\"}, {\"data\": [{\"geo\": \"geo\", \"hoverlabel\": {\"namelength\": 0}, \"hovertemplate\": \"<b>%{hovertext}</b><br><br>date=02/09/2020<br>size=%{marker.size}<br>Lat=%{lat}<br>Long=%{lon}<br>cases=%{marker.color}\", \"hovertext\": [\"Germany\", \"Hong Kong\", \"Japan\", \"Others\", \"Singapore\", \"South Korea\", \"Spain\", \"Taiwan\"], \"lat\": [51.0, 22.3, 36.0, 35.4437, 1.2833, 36.0, 40.0, 23.7], \"legendgroup\": \"\", \"lon\": [9.0, 114.2, 138.0, 139.638, 103.8333, 128.0, -4.0, 121.0], \"marker\": {\"color\": [1, 3, 1, 3, 7, 1, 1, 1], \"coloraxis\": \"coloraxis\", \"size\": [1.0, 1.5518455739153598, 1.0, 1.5518455739153598, 2.17790642448278, 1.0, 1.0, 1.0], \"sizemode\": \"area\", \"sizeref\": 0.05009094667077794}, \"name\": \"\", \"showlegend\": false, \"type\": \"scattergeo\"}], \"name\": \"02/09/2020\"}, {\"data\": [{\"geo\": \"geo\", \"hoverlabel\": {\"namelength\": 0}, \"hovertemplate\": \"<b>%{hovertext}</b><br><br>date=03/01/2020<br>size=%{marker.size}<br>Lat=%{lat}<br>Long=%{lon}<br>cases=%{marker.color}\", \"hovertext\": [\"Armenia\", \"Australia\", \"Austria\", \"Azerbaijan\", \"Bahrain\", \"Belgium\", \"Canada\", \"Croatia\", \"Czech Republic\", \"Denmark\", \"Dominican Republic\", \"Ecuador\", \"Egypt\", \"Finland\", \"France\", \"Georgia\", \"Germany\", \"Greece\", \"Hong Kong\", \"Iceland\", \"Iran\", \"Iraq\", \"Israel\", \"Italy\", \"Japan\", \"Lebanon\", \"Malaysia\", \"Mexico\", \"Netherlands\", \"Norway\", \"Qatar\", \"Singapore\", \"South Korea\", \"Spain\", \"Sweden\", \"Switzerland\", \"Taiwan\", \"UK\", \"US\"], \"lat\": [40.0691, -33.8688, 47.5162, 40.1431, 26.0275, 50.8333, 51.2538, 45.1, 49.8175, 56.2639, 18.7357, -1.8312, 26.0, 64.0, 47.0, 42.3154, 51.0, 39.0742, 22.3, 64.9631, 32.0, 33.0, 31.0, 43.0, 36.0, 33.8547, 2.5, 23.6345, 52.1326, 60.472, 25.3548, 1.2833, 36.0, 40.0, 63.0, 46.8182, 23.7, 55.0, 48.033], \"legendgroup\": \"\", \"lon\": [45.0382, 151.2093, 14.5501, 47.5769, 50.55, 4.0, -85.3232, 15.2, 15.472999999999999, 9.5018, -70.1627, -78.1834, 30.0, 26.0, 2.0, 43.3569, 9.0, 21.8243, 114.2, -19.0208, 53.0, 44.0, 35.0, 12.0, 138.0, 35.8623, 112.5, -102.5528, 5.2913, 8.4689, 51.1839, 103.8333, 128.0, -4.0, 16.0, 8.2275, 121.0, -3.0, -71.4774], \"marker\": {\"color\": [1, 2, 5, 3, 6, 1, 4, 1, 3, 1, 1, 6, 1, 3, 30, 2, 51, 3, 1, 2, 385, 6, 3, 566, 15, 6, 4, 1, 4, 4, 2, 4, 586, 39, 2, 9, 1, 13, 3], \"coloraxis\": \"coloraxis\", \"size\": [1.0, 1.3195079107728942, 1.9036539387158786, 1.5518455739153598, 2.0476725110792193, 1.0, 1.7411011265922482, 1.0, 1.5518455739153598, 1.0, 1.0, 2.0476725110792193, 1.0, 1.5518455739153598, 3.8980598409161895, 1.3195079107728942, 4.8197894912282235, 1.5518455739153598, 1.0, 1.3195079107728942, 10.818929525368237, 2.0476725110792193, 1.5518455739153598, 12.621953401166884, 2.9541769390627777, 2.0476725110792193, 1.7411011265922482, 1.0, 1.7411011265922482, 1.7411011265922482, 1.3195079107728942, 1.7411011265922482, 12.798499222775598, 4.329381358372115, 1.3195079107728942, 2.4082246852806923, 1.0, 2.789827435889086, 1.5518455739153598], \"sizemode\": \"area\", \"sizeref\": 0.05009094667077794}, \"name\": \"\", \"showlegend\": false, \"type\": \"scattergeo\"}], \"name\": \"03/01/2020\"}, {\"data\": [{\"geo\": \"geo\", \"hoverlabel\": {\"namelength\": 0}, \"hovertemplate\": \"<b>%{hovertext}</b><br><br>date=03/02/2020<br>size=%{marker.size}<br>Lat=%{lat}<br>Long=%{lon}<br>cases=%{marker.color}\", \"hovertext\": [\"Algeria\", \"Andorra\", \"Australia\", \"Austria\", \"Bahrain\", \"Belgium\", \"Canada\", \"France\", \"Germany\", \"Hong Kong\", \"Iceland\", \"India\", \"Indonesia\", \"Iran\", \"Iraq\", \"Italy\", \"Japan\", \"Kuwait\", \"Latvia\", \"Lebanon\", \"Morocco\", \"Netherlands\", \"Norway\", \"Portugal\", \"Russia\", \"San Marino\", \"Saudi Arabia\", \"Senegal\", \"Singapore\", \"South Korea\", \"Spain\", \"Sweden\", \"Switzerland\", \"Taiwan\", \"Thailand\", \"UK\", \"US\"], \"lat\": [28.0339, 42.5063, -37.8136, 47.5162, 26.0275, 50.8333, 51.2538, 47.0, 51.0, 22.3, 64.9631, 21.0, -0.7893, 32.0, 33.0, 43.0, 36.0, 29.5, 56.8796, 33.8547, 31.7917, 52.1326, 60.472, 39.3999, 60.0, 43.9424, 24.0, 14.4974, 1.2833, 36.0, 40.0, 63.0, 46.8182, 23.7, 15.0, 55.0, 48.033], \"legendgroup\": \"\", \"lon\": [1.6596, 1.5218, 145.9707, 14.5501, 50.55, 4.0, -85.3232, 2.0, 9.0, 114.2, -19.0208, 78.0, 113.9213, 53.0, 44.0, 12.0, 138.0, 47.75, 24.6032, 35.8623, -7.0926, 5.2913, 8.4689, -8.2245, 90.0, 12.4578, 45.0, -14.4524, 103.8333, 128.0, -4.0, 16.0, 8.2275, 121.0, 101.0, -3.0, 139.638], \"marker\": {\"color\": [2, 1, 2, 4, 2, 6, 3, 61, 29, 4, 3, 2, 2, 523, 7, 342, 18, 11, 1, 3, 1, 8, 6, 2, 1, 7, 1, 1, 2, 599, 36, 1, 15, 1, 1, 4, 6], \"coloraxis\": \"coloraxis\", \"size\": [1.3195079107728942, 1.0, 1.3195079107728942, 1.7411011265922482, 1.3195079107728942, 2.0476725110792193, 1.5518455739153598, 5.177640992398568, 3.845556523418775, 1.7411011265922482, 1.5518455739153598, 1.3195079107728942, 1.3195079107728942, 12.229273998935247, 2.17790642448278, 10.318354450050661, 3.177671523146437, 2.6094986352788734, 1.0, 1.5518455739153598, 1.0, 2.29739670999407, 2.0476725110792193, 1.3195079107728942, 1.0, 2.17790642448278, 1.0, 1.0, 1.3195079107728942, 12.911322495677648, 4.192962712629476, 1.0, 2.9541769390627777, 1.0, 1.0, 1.7411011265922482, 2.0476725110792193], \"sizemode\": \"area\", \"sizeref\": 0.05009094667077794}, \"name\": \"\", \"showlegend\": false, \"type\": \"scattergeo\"}], \"name\": \"03/02/2020\"}, {\"data\": [{\"geo\": \"geo\", \"hoverlabel\": {\"namelength\": 0}, \"hovertemplate\": \"<b>%{hovertext}</b><br><br>date=03/03/2020<br>size=%{marker.size}<br>Lat=%{lat}<br>Long=%{lon}<br>cases=%{marker.color}\", \"hovertext\": [\"Algeria\", \"Argentina\", \"Australia\", \"Austria\", \"Belgium\", \"Canada\", \"Chile\", \"Croatia\", \"Czech Republic\", \"Denmark\", \"Ecuador\", \"Estonia\", \"France\", \"Germany\", \"Iceland\", \"Iran\", \"Iraq\", \"Ireland\", \"Israel\", \"Italy\", \"Japan\", \"Jordan\", \"Malaysia\", \"Netherlands\", \"Norway\", \"Oman\", \"Others\", \"Pakistan\", \"Qatar\", \"San Marino\", \"Senegal\", \"Singapore\", \"South Korea\", \"Spain\", \"Sweden\", \"Switzerland\", \"Taiwan\", \"UK\", \"US\", \"Ukraine\", \"United Arab Emirates\"], \"lat\": [28.0339, -38.4161, -28.0167, 47.5162, 50.8333, 51.2538, -35.6751, 45.1, 49.8175, 56.2639, -1.8312, 58.5953, 47.0, 51.0, 64.9631, 32.0, 33.0, 53.1424, 31.0, 43.0, 36.0, 31.24, 2.5, 52.1326, 60.472, 21.0, 35.4437, 30.3753, 25.3548, 43.9424, 14.4974, 1.2833, 36.0, 40.0, 63.0, 46.8182, 23.7, 55.0, 48.033, 48.3794, 24.0], \"legendgroup\": \"\", \"lon\": [1.6596, -63.6167, 153.4, 14.5501, 4.0, -85.3232, -71.543, 15.2, 15.472999999999999, 9.5018, -78.1834, 25.0136, 2.0, 9.0, -19.0208, 53.0, 44.0, -7.6921, 35.0, 12.0, 138.0, 36.51, 112.5, 5.2913, 8.4689, 57.0, 139.638, 69.3451, 51.1839, 12.4578, -14.4524, 103.8333, 128.0, -4.0, 16.0, 8.2275, 121.0, -3.0, -71.1449, 31.1656, 54.0], \"marker\": {\"color\": [2, 1, 7, 3, 5, 2, 1, 2, 2, 2, 1, 1, 13, 37, 5, 835, 6, 1, 2, 466, 19, 1, 7, 6, 7, 6, 1, 1, 4, 2, 1, 2, 851, 45, 6, 14, 1, 11, 7, 1, 6], \"coloraxis\": \"coloraxis\", \"size\": [1.3195079107728942, 1.0, 2.17790642448278, 1.5518455739153598, 1.9036539387158786, 1.3195079107728942, 1.0, 1.3195079107728942, 1.3195079107728942, 1.3195079107728942, 1.0, 1.0, 2.789827435889086, 4.239168599773809, 1.9036539387158786, 14.746012244683625, 2.0476725110792193, 1.0, 1.3195079107728942, 11.677620748965273, 3.2471431911356685, 1.0, 2.17790642448278, 2.0476725110792193, 2.17790642448278, 2.0476725110792193, 1.0, 1.0, 1.7411011265922482, 1.3195079107728942, 1.0, 1.3195079107728942, 14.858392415358626, 4.584426407447396, 2.0476725110792193, 2.8737647560281374, 1.0, 2.6094986352788734, 2.17790642448278, 1.0, 2.0476725110792193], \"sizemode\": \"area\", \"sizeref\": 0.05009094667077794}, \"name\": \"\", \"showlegend\": false, \"type\": \"scattergeo\"}], \"name\": \"03/03/2020\"}, {\"data\": [{\"geo\": \"geo\", \"hoverlabel\": {\"namelength\": 0}, \"hovertemplate\": \"<b>%{hovertext}</b><br><br>date=03/04/2020<br>size=%{marker.size}<br>Lat=%{lat}<br>Long=%{lon}<br>cases=%{marker.color}\", \"hovertext\": [\"Algeria\", \"Australia\", \"Austria\", \"Bahrain\", \"Belarus\", \"Belgium\", \"Brazil\", \"Canada\", \"Croatia\", \"Czech Republic\", \"Denmark\", \"Ecuador\", \"Faroe Islands\", \"France\", \"Germany\", \"Gibraltar\", \"Greece\", \"Hong Kong\", \"Hungary\", \"Iceland\", \"India\", \"Iran\", \"Iraq\", \"Ireland\", \"Israel\", \"Italy\", \"Japan\", \"Liechtenstein\", \"Malaysia\", \"Netherlands\", \"New Zealand\", \"Norway\", \"Oman\", \"Poland\", \"Portugal\", \"Qatar\", \"Romania\", \"Saint Barthelemy\", \"San Marino\", \"Senegal\", \"South Korea\", \"Spain\", \"Sweden\", \"Switzerland\", \"Tunisia\", \"UK\", \"US\"], \"lat\": [28.0339, -12.4634, 47.5162, 26.0275, 53.7098, 50.8333, -14.235, 49.2827, 45.1, 49.8175, 56.2639, -1.8312, 61.8926, 47.0, 51.0, 36.1408, 39.0742, 22.3, 47.1625, 64.9631, 21.0, 32.0, 33.0, 53.1424, 31.0, 43.0, 36.0, 47.14, 2.5, 52.1326, -40.9006, 60.472, 21.0, 51.9194, 39.3999, 25.3548, 45.9432, 17.9, 43.9424, 14.4974, 36.0, 40.0, 63.0, 46.8182, 34.0, 55.0, 48.033], \"legendgroup\": \"\", \"lon\": [1.6596, 151.2093, 14.5501, 50.55, 27.9534, 4.0, -51.9253, -123.1207, 15.2, 15.472999999999999, 9.5018, -78.1834, -6.9118, 2.0, 9.0, -5.3536, 21.8243, 114.2, 19.5033, -19.0208, 78.0, 53.0, 44.0, -7.6921, 35.0, 12.0, 138.0, 9.55, 112.5, 5.2913, 174.886, 8.4689, 57.0, 19.1451, -8.2245, 51.1839, 24.9668, -62.8333, 12.4578, -14.4524, 128.0, -4.0, 16.0, 8.2275, 9.0, -3.0, -73.7949], \"marker\": {\"color\": [7, 9, 8, 3, 5, 10, 2, 3, 1, 3, 4, 3, 1, 81, 66, 1, 2, 5, 2, 15, 23, 586, 3, 4, 3, 587, 38, 1, 14, 14, 2, 24, 3, 1, 3, 1, 1, 3, 6, 2, 435, 57, 14, 34, 1, 34, 10], \"coloraxis\": \"coloraxis\", \"size\": [2.17790642448278, 2.4082246852806923, 2.29739670999407, 1.5518455739153598, 1.9036539387158786, 2.51188643150958, 1.3195079107728942, 1.5518455739153598, 1.0, 1.5518455739153598, 1.7411011265922482, 1.5518455739153598, 1.0, 5.799546134795289, 5.3433986231592865, 1.0, 1.3195079107728942, 1.9036539387158786, 1.3195079107728942, 2.9541769390627777, 3.5050251165172894, 12.798499222775598, 1.5518455739153598, 1.7411011265922482, 1.5518455739153598, 12.807230931339914, 4.284631128115855, 1.0, 2.8737647560281374, 2.8737647560281374, 1.3195079107728942, 3.565204915932007, 1.5518455739153598, 1.0, 1.5518455739153598, 1.0, 1.0, 1.5518455739153598, 2.0476725110792193, 1.3195079107728942, 11.360454399346173, 5.039064789033284, 2.8737647560281374, 4.0981850699807945, 1.0, 4.0981850699807945, 2.51188643150958], \"sizemode\": \"area\", \"sizeref\": 0.05009094667077794}, \"name\": \"\", \"showlegend\": false, \"type\": \"scattergeo\"}], \"name\": \"03/04/2020\"}, {\"data\": [{\"geo\": \"geo\", \"hoverlabel\": {\"namelength\": 0}, \"hovertemplate\": \"<b>%{hovertext}</b><br><br>date=03/05/2020<br>size=%{marker.size}<br>Lat=%{lat}<br>Long=%{lon}<br>cases=%{marker.color}\", \"hovertext\": [\"Australia\", \"Austria\", \"Azerbaijan\", \"Bahrain\", \"Belgium\", \"Bosnia and Herzegovina\", \"Canada\", \"Chile\", \"Czech Republic\", \"Ecuador\", \"Egypt\", \"Estonia\", \"Finland\", \"France\", \"Georgia\", \"Germany\", \"Greece\", \"Iceland\", \"India\", \"Iran\", \"Israel\", \"Italy\", \"Japan\", \"Kuwait\", \"Lebanon\", \"Morocco\", \"Netherlands\", \"Norway\", \"Oman\", \"Palestine\", \"Portugal\", \"Romania\", \"Russia\", \"San Marino\", \"Saudi Arabia\", \"Singapore\", \"Slovenia\", \"South Africa\", \"South Korea\", \"Spain\", \"Sweden\", \"Switzerland\", \"Taiwan\", \"Thailand\", \"UK\", \"US\", \"United Arab Emirates\"], \"lat\": [-28.0167, 47.5162, 40.1431, 26.0275, 50.8333, 43.9159, 52.9399, -35.6751, 49.8175, -1.8312, 26.0, 58.5953, 64.0, 47.0, 42.3154, 51.0, 39.0742, 64.9631, 21.0, 32.0, 31.0, 43.0, 36.0, 29.5, 33.8547, 31.7917, 52.1326, 60.472, 21.0, 31.9522, 39.3999, 45.9432, 60.0, 43.9424, 24.0, 1.2833, 46.1512, -30.5595, 36.0, 40.0, 63.0, 46.8182, 23.7, 15.0, 55.0, 48.033, 24.0], \"legendgroup\": \"\", \"lon\": [153.4, 14.5501, 47.5769, 50.55, 4.0, 17.6791, -73.5491, -71.543, 15.472999999999999, -78.1834, 30.0, 25.0136, 26.0, 2.0, 43.3569, 9.0, 21.8243, -19.0208, 78.0, 53.0, 35.0, 12.0, 138.0, 47.75, 35.8623, -7.0926, 5.2913, 8.4689, 57.0, 35.2332, -8.2245, 24.9668, 90.0, 12.4578, 45.0, 103.8333, 14.9955, 22.9375, 128.0, -4.0, 16.0, 8.2275, 121.0, 101.0, -3.0, -73.5594, 54.0], \"marker\": {\"color\": [2, 12, 3, 3, 27, 2, 2, 3, 4, 3, 1, 1, 6, 92, 1, 220, 22, 8, 2, 591, 1, 769, 29, 2, 3, 1, 44, 31, 1, 4, 3, 2, 1, 5, 4, 7, 2, 1, 467, 37, 59, 24, 2, 4, 30, 20, 2], \"coloraxis\": \"coloraxis\", \"size\": [1.3195079107728942, 2.701920077041227, 1.5518455739153598, 1.5518455739153598, 3.737192818846552, 1.3195079107728942, 1.3195079107728942, 1.5518455739153598, 1.7411011265922482, 1.5518455739153598, 1.0, 1.0, 2.0476725110792193, 6.102603179102379, 1.0, 8.649063234943275, 3.4432540924015447, 2.29739670999407, 1.3195079107728942, 12.842068802362572, 1.0, 14.268244274611503, 3.845556523418775, 1.3195079107728942, 1.5518455739153598, 1.0, 4.5434010137249805, 3.9495232751502978, 1.0, 1.7411011265922482, 1.5518455739153598, 1.3195079107728942, 1.0, 1.9036539387158786, 1.7411011265922482, 2.17790642448278, 1.3195079107728942, 1.0, 11.687638012106412, 4.239168599773809, 5.109057666699868, 3.565204915932007, 1.3195079107728942, 1.7411011265922482, 3.8980598409161895, 3.3144540173399872, 1.3195079107728942], \"sizemode\": \"area\", \"sizeref\": 0.05009094667077794}, \"name\": \"\", \"showlegend\": false, \"type\": \"scattergeo\"}], \"name\": \"03/05/2020\"}, {\"data\": [{\"geo\": \"geo\", \"hoverlabel\": {\"namelength\": 0}, \"hovertemplate\": \"<b>%{hovertext}</b><br><br>date=03/06/2020<br>size=%{marker.size}<br>Lat=%{lat}<br>Long=%{lon}<br>cases=%{marker.color}\", \"hovertext\": [\"Algeria\", \"Argentina\", \"Australia\", \"Austria\", \"Bahrain\", \"Belgium\", \"Bhutan\", \"Brazil\", \"Cameroon\", \"Canada\", \"Colombia\", \"Costa Rica\", \"Croatia\", \"Czech Republic\", \"Denmark\", \"Dominican Republic\", \"Egypt\", \"Estonia\", \"Finland\", \"France\", \"Germany\", \"Greece\", \"Hong Kong\", \"Iceland\", \"India\", \"Indonesia\", \"Iran\", \"Iraq\", \"Ireland\", \"Israel\", \"Italy\", \"Japan\", \"Lebanon\", \"Luxembourg\", \"Malaysia\", \"Mexico\", \"Netherlands\", \"New Zealand\", \"North Macedonia\", \"Norway\", \"Others\", \"Pakistan\", \"Palestine\", \"Peru\", \"Philippines\", \"Poland\", \"Portugal\", \"Romania\", \"Russia\", \"Serbia\", \"Singapore\", \"Slovakia\", \"Slovenia\", \"South Korea\", \"Spain\", \"Sweden\", \"Switzerland\", \"Taiwan\", \"Thailand\", \"Togo\", \"UK\", \"US\", \"Vatican City\"], \"lat\": [28.0339, -38.4161, -12.4634, 47.5162, 26.0275, 50.8333, 27.5142, -14.235, 3.8480000000000003, 53.9333, 4.5709, 9.7489, 45.1, 49.8175, 56.2639, 18.7357, 26.0, 58.5953, 64.0, 47.0, 51.0, 39.0742, 22.3, 64.9631, 21.0, -0.7893, 32.0, 33.0, 53.1424, 31.0, 43.0, 36.0, 33.8547, 49.8153, 2.5, 23.6345, 52.1326, -40.9006, 41.6086, 60.472, 35.4437, 30.3753, 31.9522, -9.19, 13.0, 51.9194, 39.3999, 45.9432, 60.0, 44.0165, 1.2833, 48.669, 46.1512, 36.0, 40.0, 63.0, 46.8182, 23.7, 15.0, 8.6195, 55.0, 48.033, 41.9029], \"legendgroup\": \"\", \"lon\": [1.6596, -63.6167, 151.2093, 14.5501, 50.55, 4.0, 90.4336, -51.9253, 11.5021, -85.3232, -74.2973, -83.7534, 15.2, 15.472999999999999, 9.5018, -70.1627, 30.0, 25.0136, 26.0, 2.0, 9.0, 21.8243, 114.2, -19.0208, 78.0, 113.9213, 53.0, 44.0, -7.6921, 35.0, 12.0, 138.0, 35.8623, 6.1296, 112.5, -102.5528, 5.2913, 174.886, 21.7453, 8.4689, 139.638, 69.3451, 35.2332, -75.0152, 122.0, 19.1451, -8.2245, 24.9668, 90.0, 21.0059, 103.8333, 19.699, 14.9955, 128.0, -4.0, 16.0, 8.2275, 121.0, 101.0, 0.8248, -3.0, -70.7928, 12.4534], \"marker\": {\"color\": [5, 1, 4, 14, 5, 59, 1, 9, 1, 8, 1, 1, 1, 6, 13, 1, 12, 7, 3, 276, 188, 14, 2, 9, 1, 2, 1234, 5, 12, 5, 778, 60, 6, 1, 33, 1, 46, 1, 2, 21, 10, 1, 12, 1, 2, 4, 5, 3, 9, 1, 13, 1, 5, 505, 141, 7, 100, 1, 1, 1, 48, 12, 1], \"coloraxis\": \"coloraxis\", \"size\": [1.9036539387158786, 1.0, 1.7411011265922482, 2.8737647560281374, 1.9036539387158786, 5.109057666699868, 1.0, 2.4082246852806923, 1.0, 2.29739670999407, 1.0, 1.0, 1.0, 2.0476725110792193, 2.789827435889086, 1.0, 2.701920077041227, 2.17790642448278, 1.5518455739153598, 9.47029773285183, 8.122002890359385, 2.8737647560281374, 1.3195079107728942, 2.4082246852806923, 1.0, 1.3195079107728942, 17.23955549906252, 1.9036539387158786, 2.701920077041227, 1.9036539387158786, 14.33480662697117, 5.143520796755042, 2.0476725110792193, 1.0, 4.049538907295691, 1.0, 4.624908368702249, 1.0, 1.3195079107728942, 3.379774445235429, 2.51188643150958, 1.0, 2.701920077041227, 1.0, 1.3195079107728942, 1.7411011265922482, 1.9036539387158786, 1.5518455739153598, 2.4082246852806923, 1.0, 2.789827435889086, 1.0, 1.9036539387158786, 12.059145946000156, 7.239151157980811, 2.17790642448278, 6.309573444801933, 1.0, 1.0, 1.0, 4.704316090098695, 2.701920077041227, 1.0], \"sizemode\": \"area\", \"sizeref\": 0.05009094667077794}, \"name\": \"\", \"showlegend\": false, \"type\": \"scattergeo\"}], \"name\": \"03/06/2020\"}, {\"data\": [{\"geo\": \"geo\", \"hoverlabel\": {\"namelength\": 0}, \"hovertemplate\": \"<b>%{hovertext}</b><br><br>date=03/07/2020<br>size=%{marker.size}<br>Lat=%{lat}<br>Long=%{lon}<br>cases=%{marker.color}\", \"hovertext\": [\"Argentina\", \"Australia\", \"Austria\", \"Azerbaijan\", \"Bahrain\", \"Belgium\", \"Bosnia and Herzegovina\", \"Canada\", \"Croatia\", \"Czech Republic\", \"France\", \"French Guiana\", \"Germany\", \"Greece\", \"Hong Kong\", \"Hungary\", \"Iceland\", \"India\", \"Iran\", \"Iraq\", \"Italy\", \"Japan\", \"Kuwait\", \"Malaysia\", \"Malta\", \"Martinique\", \"Netherlands\", \"New Zealand\", \"Norway\", \"Palestine\", \"Philippines\", \"Portugal\", \"San Marino\", \"Singapore\", \"South Korea\", \"Spain\", \"Sweden\", \"Switzerland\", \"Thailand\", \"UK\", \"US\", \"United Arab Emirates\", \"Vietnam\"], \"lat\": [-38.4161, -33.8688, 47.5162, 40.1431, 26.0275, 50.8333, 43.9159, 53.9333, 45.1, 49.8175, 47.0, 3.9339, 51.0, 39.0742, 22.3, 47.1625, 64.9631, 21.0, 32.0, 33.0, 43.0, 36.0, 29.5, 2.5, 35.9375, 14.6415, 52.1326, -40.9006, 60.472, 31.9522, 13.0, 39.3999, 43.9424, 1.2833, 36.0, 40.0, 63.0, 46.8182, 15.0, 55.0, 48.033, 24.0, 16.0], \"legendgroup\": \"\", \"lon\": [-63.6167, 151.2093, 14.5501, 47.5769, 50.55, 4.0, 17.6791, -73.5491, 15.2, 15.472999999999999, 2.0, -53.1258, 9.0, 21.8243, 114.2, 19.5033, -19.0208, 78.0, 53.0, 44.0, 12.0, 138.0, 47.75, 112.5, 14.3754, -61.0242, 5.2913, 174.886, 8.4689, 35.2332, 122.0, -8.2245, 12.4578, 103.8333, 128.0, -4.0, 16.0, 8.2275, 101.0, -3.0, -71.4774, 54.0, 108.0], \"marker\": {\"color\": [6, 2, 24, 3, 25, 60, 1, 3, 1, 1, 296, 5, 129, 1, 1, 2, 7, 3, 1076, 14, 1247, 41, 3, 10, 3, 2, 60, 1, 39, 6, 1, 7, 2, 8, 448, 100, 60, 54, 2, 43, 38, 16, 2], \"coloraxis\": \"coloraxis\", \"size\": [2.0476725110792193, 1.3195079107728942, 3.565204915932007, 1.5518455739153598, 3.623898318388478, 5.143520796755042, 1.0, 1.5518455739153598, 1.0, 1.0, 9.739051994230516, 1.9036539387158786, 6.986117473092834, 1.0, 1.0, 1.3195079107728942, 2.17790642448278, 1.5518455739153598, 16.3201786519824, 2.8737647560281374, 17.311973609744836, 4.416859073743617, 1.5518455739153598, 2.51188643150958, 1.5518455739153598, 1.3195079107728942, 5.143520796755042, 1.0, 4.329381358372115, 2.0476725110792193, 1.0, 2.17790642448278, 1.3195079107728942, 2.29739670999407, 11.49505902411255, 6.309573444801933, 5.143520796755042, 4.9312554885516775, 1.3195079107728942, 4.501812287589042, 4.284631128115855, 3.0314331330207964, 1.3195079107728942], \"sizemode\": \"area\", \"sizeref\": 0.05009094667077794}, \"name\": \"\", \"showlegend\": false, \"type\": \"scattergeo\"}], \"name\": \"03/07/2020\"}, {\"data\": [{\"geo\": \"geo\", \"hoverlabel\": {\"namelength\": 0}, \"hovertemplate\": \"<b>%{hovertext}</b><br><br>date=03/08/2020<br>size=%{marker.size}<br>Lat=%{lat}<br>Long=%{lon}<br>cases=%{marker.color}\", \"hovertext\": [\"Afghanistan\", \"Algeria\", \"Argentina\", \"Australia\", \"Austria\", \"Bangladesh\", \"Belgium\", \"Brazil\", \"Bulgaria\", \"Cambodia\", \"Cameroon\", \"Canada\", \"Chile\", \"Costa Rica\", \"Czech Republic\", \"Denmark\", \"Dominican Republic\", \"Ecuador\", \"Egypt\", \"Faroe Islands\", \"Finland\", \"France\", \"Georgia\", \"Germany\", \"Greece\", \"Hong Kong\", \"Hungary\", \"India\", \"Indonesia\", \"Iran\", \"Iraq\", \"Ireland\", \"Israel\", \"Italy\", \"Japan\", \"Kuwait\", \"Latvia\", \"Lebanon\", \"Luxembourg\", \"Malaysia\", \"Maldives\", \"Mexico\", \"Moldova\", \"Netherlands\", \"Norway\", \"Paraguay\", \"Peru\", \"Philippines\", \"Poland\", \"Portugal\", \"Qatar\", \"Romania\", \"Russia\", \"San Marino\", \"Saudi Arabia\", \"Singapore\", \"Slovakia\", \"Slovenia\", \"South Africa\", \"South Korea\", \"Spain\", \"Sweden\", \"Switzerland\", \"Tunisia\", \"UK\", \"US\", \"Vietnam\"], \"lat\": [33.0, 28.0339, -38.4161, -28.0167, 47.5162, 23.685, 50.8333, -14.235, 42.7339, 11.55, 3.8480000000000003, 53.9333, -35.6751, 9.7489, 49.8175, 56.2639, 18.7357, -1.8312, 26.0, 61.8926, 64.0, 47.0, 42.3154, 51.0, 39.0742, 22.3, 47.1625, 21.0, -0.7893, 32.0, 33.0, 53.1424, 31.0, 43.0, 36.0, 29.5, 56.8796, 33.8547, 49.8153, 2.5, 3.2028, 23.6345, 47.4116, 52.1326, 60.472, -23.4425, -9.19, 13.0, 51.9194, 39.3999, 25.3548, 45.9432, 60.0, 43.9424, 24.0, 1.2833, 48.669, 46.1512, -30.5595, 36.0, 40.0, 63.0, 46.8182, 34.0, 55.0, 48.033, 16.0], \"legendgroup\": \"\", \"lon\": [65.0, 1.6596, -63.6167, 153.4, 14.5501, 90.3563, 4.0, -51.9253, 25.4858, 104.9167, 11.5021, -73.5491, -71.543, -83.7534, 15.472999999999999, 9.5018, -70.1627, -78.1834, 30.0, -6.9118, 26.0, 2.0, 43.3569, 9.0, 21.8243, 114.2, 19.5033, 78.0, 113.9213, 53.0, 44.0, -7.6921, 35.0, 12.0, 138.0, 47.75, 24.6032, 35.8623, 6.1296, 112.5, 73.2207, -102.5528, 28.3699, 5.2913, 8.4689, -58.4438, -75.0152, 122.0, 19.1451, -8.2245, 51.1839, 24.9668, 90.0, 12.4578, 45.0, 103.8333, 19.699, 14.9955, 22.9375, 128.0, -4.0, 16.0, 8.2275, 9.0, -3.0, -71.0498, 108.0], \"marker\": {\"color\": [3, 2, 4, 10, 25, 3, 31, 7, 4, 1, 1, 6, 4, 4, 12, 12, 3, 1, 34, 1, 8, 177, 9, 241, 27, 6, 3, 5, 2, 743, 6, 1, 18, 1492, 41, 3, 1, 10, 1, 6, 4, 1, 1, 77, 29, 1, 5, 4, 6, 10, 7, 6, 4, 13, 6, 12, 2, 9, 2, 273, 173, 42, 69, 1, 67, 26, 12], \"coloraxis\": \"coloraxis\", \"size\": [1.5518455739153598, 1.3195079107728942, 1.7411011265922482, 2.51188643150958, 3.623898318388478, 1.5518455739153598, 3.9495232751502978, 2.17790642448278, 1.7411011265922482, 1.0, 1.0, 2.0476725110792193, 1.7411011265922482, 1.7411011265922482, 2.701920077041227, 2.701920077041227, 1.5518455739153598, 1.0, 4.0981850699807945, 1.0, 2.29739670999407, 7.928468526946524, 2.4082246852806923, 8.97029688792332, 3.737192818846552, 2.0476725110792193, 1.5518455739153598, 1.9036539387158786, 1.3195079107728942, 14.073286386672086, 2.0476725110792193, 1.0, 3.177671523146437, 18.599768088951468, 4.416859073743617, 1.5518455739153598, 1.0, 2.51188643150958, 1.0, 2.0476725110792193, 1.7411011265922482, 1.0, 1.0, 5.683243842452905, 3.845556523418775, 1.0, 1.9036539387158786, 1.7411011265922482, 2.0476725110792193, 2.51188643150958, 2.17790642448278, 2.0476725110792193, 1.7411011265922482, 2.789827435889086, 2.0476725110792193, 2.701920077041227, 1.3195079107728942, 2.4082246852806923, 1.3195079107728942, 9.428987474434614, 7.856306914359049, 4.459639117116218, 5.439257713529523, 1.0, 5.375636834090112, 3.6811993713469082, 2.701920077041227], \"sizemode\": \"area\", \"sizeref\": 0.05009094667077794}, \"name\": \"\", \"showlegend\": false, \"type\": \"scattergeo\"}], \"name\": \"03/08/2020\"}, {\"data\": [{\"geo\": \"geo\", \"hoverlabel\": {\"namelength\": 0}, \"hovertemplate\": \"<b>%{hovertext}</b><br><br>date=03/09/2020<br>size=%{marker.size}<br>Lat=%{lat}<br>Long=%{lon}<br>cases=%{marker.color}\", \"hovertext\": [\"Albania\", \"Algeria\", \"Australia\", \"Austria\", \"Bahrain\", \"Belgium\", \"Brazil\", \"Brunei\", \"Canada\", \"Costa Rica\", \"Cyprus\", \"Denmark\", \"Ecuador\", \"Egypt\", \"Finland\", \"France\", \"Georgia\", \"Germany\", \"Hong Kong\", \"Hungary\", \"Iceland\", \"India\", \"Indonesia\", \"Iran\", \"Ireland\", \"Italy\", \"Japan\", \"Latvia\", \"Malaysia\", \"Netherlands\", \"Nigeria\", \"Norway\", \"Peru\", \"Philippines\", \"Poland\", \"Qatar\", \"Saint Barthelemy\", \"Saudi Arabia\", \"South Korea\", \"Spain\", \"St. Martin\", \"Sweden\", \"Switzerland\", \"UK\", \"US\"], \"lat\": [41.1533, 28.0339, -31.9505, 47.5162, 26.0275, 50.8333, -14.235, 4.5353, 53.9333, 9.7489, 35.1264, 56.2639, -1.8312, 26.0, 64.0, 47.0, 42.3154, 51.0, 22.3, 47.1625, 64.9631, 21.0, -0.7893, 32.0, 53.1424, 43.0, 36.0, 56.8796, 2.5, 52.1326, 9.082, 60.472, -9.19, 13.0, 51.9194, 25.3548, 17.9, 24.0, 36.0, 40.0, 18.0708, 63.0, 46.8182, 55.0, 44.8254], \"legendgroup\": \"\", \"lon\": [20.1683, 1.6596, 151.2093, 14.5501, 50.55, 4.0, -51.9253, 114.7277, -85.3232, -83.7534, 33.4299, 9.5018, -78.1834, 30.0, 26.0, 2.0, 43.3569, 9.0, 114.2, 19.5033, -19.0208, 78.0, 113.9213, 53.0, -7.6921, 12.0, 138.0, 24.6032, 112.5, 5.2913, 8.6753, 8.4689, -75.0152, 122.0, 19.1451, 51.1839, -62.8333, 45.0, 128.0, -4.0, -63.0501, 16.0, 8.2275, -3.0, -71.0498], \"marker\": {\"color\": [2, 1, 10, 27, 10, 39, 5, 1, 5, 4, 2, 55, 1, 6, 7, 83, 2, 136, 1, 2, 8, 4, 13, 595, 2, 1797, 9, 4, 18, 56, 1, 29, 1, 10, 5, 3, 2, 4, 164, 400, 2, 45, 37, 48, 15], \"coloraxis\": \"coloraxis\", \"size\": [1.3195079107728942, 1.0, 2.51188643150958, 3.737192818846552, 2.51188643150958, 4.329381358372115, 1.9036539387158786, 1.0, 1.9036539387158786, 1.7411011265922482, 1.3195079107728942, 4.967582355122337, 1.0, 2.0476725110792193, 2.17790642448278, 5.856406809717238, 1.3195079107728942, 7.135354642327092, 1.0, 1.3195079107728942, 2.29739670999407, 1.7411011265922482, 2.789827435889086, 12.876765485266402, 1.3195079107728942, 20.036378668311176, 2.4082246852806923, 1.7411011265922482, 3.177671523146437, 5.003515054281688, 1.0, 3.845556523418775, 1.0, 2.51188643150958, 1.9036539387158786, 1.5518455739153598, 1.3195079107728942, 1.7411011265922482, 7.690198309294206, 10.98560543306118, 1.3195079107728942, 4.584426407447396, 4.239168599773809, 4.704316090098695, 2.9541769390627777], \"sizemode\": \"area\", \"sizeref\": 0.05009094667077794}, \"name\": \"\", \"showlegend\": false, \"type\": \"scattergeo\"}], \"name\": \"03/09/2020\"}]);\n",
       "                        }).then(function(){\n",
       "                            \n",
       "var gd = document.getElementById('d9a86fa6-b888-4c95-918b-280cd00a2af4');\n",
       "var x = new MutationObserver(function (mutations, observer) {{\n",
       "        var display = window.getComputedStyle(gd).display;\n",
       "        if (!display || display === 'none') {{\n",
       "            console.log([gd, 'removed!']);\n",
       "            Plotly.purge(gd);\n",
       "            observer.disconnect();\n",
       "        }}\n",
       "}});\n",
       "\n",
       "// Listen for the removal of the full notebook cells\n",
       "var notebookContainer = gd.closest('#notebook-container');\n",
       "if (notebookContainer) {{\n",
       "    x.observe(notebookContainer, {childList: true});\n",
       "}}\n",
       "\n",
       "// Listen for the clearing of the current output cell\n",
       "var outputEl = gd.closest('.output');\n",
       "if (outputEl) {{\n",
       "    x.observe(outputEl, {childList: true});\n",
       "}}\n",
       "\n",
       "                        })\n",
       "                };\n",
       "                });\n",
       "            </script>\n",
       "        </div>"
      ]
     },
     "metadata": {},
     "output_type": "display_data"
    }
   ],
   "source": [
    "df1 = df1[df1['type'] == 'confirmed']\n",
    "\n",
    "## GROUP BY DATE AND COUNTRY\n",
    "df1_map = df1.groupby(['date','Country'])['type','cases','Lat', 'Long'].max()\n",
    "df1_map = df1_map.reset_index()\n",
    "\n",
    "## SIZE OF MARK\n",
    "\n",
    "df1_map['size'] = df1_map['cases'].pow(0.4)\n",
    "\n",
    "## CONVERT THE DATE INTO DATETIME\n",
    "\n",
    "df1_map['date'] = pd.to_datetime(df1_map['date'])\n",
    "df1_map['date'] = df1_map['date'].dt.strftime('%m/%d/%Y')\n",
    "df1_map.head()\n",
    "\n",
    "## ANIMATION PLOT\n",
    "fig = px.scatter_geo(df1_map, lat='Lat', lon='Long', scope='world',\n",
    "                     color=\"cases\", size='size', hover_name = 'Country',\n",
    "                     projection= \"equirectangular\", animation_frame=\"date\", \n",
    "                     title='Spread of COVID-19 outside China over time')\n",
    "fig.update(layout_coloraxis_showscale=True)\n",
    "fig.show()\n"
   ]
  },
  {
   "cell_type": "markdown",
   "metadata": {},
   "source": [
    "# POSITIVE CASES OF COVID-19 IN THE WORLD"
   ]
  },
  {
   "cell_type": "code",
   "execution_count": 212,
   "metadata": {
    "scrolled": false
   },
   "outputs": [
    {
     "data": {
      "application/vnd.plotly.v1+json": {
       "config": {
        "plotlyServerURL": "https://plot.ly"
       },
       "data": [
        {
         "coloraxis": "coloraxis",
         "geo": "geo",
         "hoverlabel": {
          "namelength": 0
         },
         "hovertemplate": "Country=%{location}<br>cases=%{z}",
         "locationmode": "country names",
         "locations": [
          "Afghanistan",
          "Albania",
          "Algeria",
          "Andorra",
          "Argentina",
          "Armenia",
          "Australia",
          "Austria",
          "Azerbaijan",
          "Bahrain",
          "Bangladesh",
          "Belarus",
          "Belgium",
          "Bhutan",
          "Bosnia and Herzegovina",
          "Brazil",
          "Brunei",
          "Bulgaria",
          "Cambodia",
          "Cameroon",
          "Canada",
          "Chile",
          "China",
          "Colombia",
          "Costa Rica",
          "Croatia",
          "Cyprus",
          "Czech Republic",
          "Denmark",
          "Dominican Republic",
          "Ecuador",
          "Egypt",
          "Estonia",
          "Faroe Islands",
          "Finland",
          "France",
          "French Guiana",
          "Georgia",
          "Germany",
          "Gibraltar",
          "Greece",
          "Hong Kong",
          "Hungary",
          "Iceland",
          "India",
          "Indonesia",
          "Iran",
          "Iraq",
          "Ireland",
          "Israel",
          "Italy",
          "Japan",
          "Jordan",
          "Kuwait",
          "Latvia",
          "Lebanon",
          "Liechtenstein",
          "Lithuania",
          "Luxembourg",
          "Macau",
          "Malaysia",
          "Maldives",
          "Malta",
          "Martinique",
          "Mexico",
          "Moldova",
          "Monaco",
          "Morocco",
          "Nepal",
          "Netherlands",
          "New Zealand",
          "Nigeria",
          "North Macedonia",
          "Norway",
          "Oman",
          "Others",
          "Pakistan",
          "Palestine",
          "Paraguay",
          "Peru",
          "Philippines",
          "Poland",
          "Portugal",
          "Qatar",
          "Romania",
          "Russia",
          "Saint Barthelemy",
          "San Marino",
          "Saudi Arabia",
          "Senegal",
          "Serbia",
          "Singapore",
          "Slovakia",
          "Slovenia",
          "South Africa",
          "South Korea",
          "Spain",
          "Sri Lanka",
          "St. Martin",
          "Sweden",
          "Switzerland",
          "Taiwan",
          "Thailand",
          "Togo",
          "Tunisia",
          "UK",
          "US",
          "Ukraine",
          "United Arab Emirates",
          "Vatican City",
          "Vietnam"
         ],
         "name": "",
         "type": "choropleth",
         "z": [
          4,
          2,
          20,
          1,
          13,
          1,
          138,
          133,
          9,
          109,
          3,
          7,
          240,
          1,
          3,
          25,
          1,
          4,
          3,
          2,
          86,
          8,
          142616,
          1,
          9,
          12,
          2,
          31,
          91,
          5,
          15,
          68,
          10,
          2,
          31,
          1240,
          5,
          15,
          1196,
          1,
          73,
          179,
          9,
          58,
          46,
          19,
          9792,
          75,
          21,
          41,
          10361,
          606,
          1,
          65,
          6,
          33,
          1,
          1,
          3,
          20,
          141,
          4,
          3,
          2,
          8,
          1,
          1,
          2,
          2,
          324,
          5,
          2,
          3,
          206,
          18,
          764,
          7,
          22,
          1,
          7,
          22,
          16,
          30,
          18,
          18,
          20,
          5,
          37,
          15,
          5,
          1,
          228,
          3,
          16,
          3,
          7683,
          1133,
          2,
          2,
          249,
          379,
          61,
          82,
          1,
          2,
          343,
          687,
          1,
          52,
          1,
          46
         ]
        }
       ],
       "layout": {
        "coloraxis": {
         "cmax": 2000,
         "cmin": 1,
         "colorbar": {
          "title": {
           "text": "cases"
          }
         },
         "colorscale": [
          [
           0,
           "#0d0887"
          ],
          [
           0.1111111111111111,
           "#46039f"
          ],
          [
           0.2222222222222222,
           "#7201a8"
          ],
          [
           0.3333333333333333,
           "#9c179e"
          ],
          [
           0.4444444444444444,
           "#bd3786"
          ],
          [
           0.5555555555555556,
           "#d8576b"
          ],
          [
           0.6666666666666666,
           "#ed7953"
          ],
          [
           0.7777777777777778,
           "#fb9f3a"
          ],
          [
           0.8888888888888888,
           "#fdca26"
          ],
          [
           1,
           "#f0f921"
          ]
         ],
         "showscale": true
        },
        "geo": {
         "center": {},
         "domain": {
          "x": [
           0,
           1
          ],
          "y": [
           0,
           1
          ]
         },
         "projection": {
          "type": "natural earth"
         }
        },
        "legend": {
         "tracegroupgap": 0
        },
        "template": {
         "data": {
          "bar": [
           {
            "error_x": {
             "color": "#2a3f5f"
            },
            "error_y": {
             "color": "#2a3f5f"
            },
            "marker": {
             "line": {
              "color": "#E5ECF6",
              "width": 0.5
             }
            },
            "type": "bar"
           }
          ],
          "barpolar": [
           {
            "marker": {
             "line": {
              "color": "#E5ECF6",
              "width": 0.5
             }
            },
            "type": "barpolar"
           }
          ],
          "carpet": [
           {
            "aaxis": {
             "endlinecolor": "#2a3f5f",
             "gridcolor": "white",
             "linecolor": "white",
             "minorgridcolor": "white",
             "startlinecolor": "#2a3f5f"
            },
            "baxis": {
             "endlinecolor": "#2a3f5f",
             "gridcolor": "white",
             "linecolor": "white",
             "minorgridcolor": "white",
             "startlinecolor": "#2a3f5f"
            },
            "type": "carpet"
           }
          ],
          "choropleth": [
           {
            "colorbar": {
             "outlinewidth": 0,
             "ticks": ""
            },
            "type": "choropleth"
           }
          ],
          "contour": [
           {
            "colorbar": {
             "outlinewidth": 0,
             "ticks": ""
            },
            "colorscale": [
             [
              0,
              "#0d0887"
             ],
             [
              0.1111111111111111,
              "#46039f"
             ],
             [
              0.2222222222222222,
              "#7201a8"
             ],
             [
              0.3333333333333333,
              "#9c179e"
             ],
             [
              0.4444444444444444,
              "#bd3786"
             ],
             [
              0.5555555555555556,
              "#d8576b"
             ],
             [
              0.6666666666666666,
              "#ed7953"
             ],
             [
              0.7777777777777778,
              "#fb9f3a"
             ],
             [
              0.8888888888888888,
              "#fdca26"
             ],
             [
              1,
              "#f0f921"
             ]
            ],
            "type": "contour"
           }
          ],
          "contourcarpet": [
           {
            "colorbar": {
             "outlinewidth": 0,
             "ticks": ""
            },
            "type": "contourcarpet"
           }
          ],
          "heatmap": [
           {
            "colorbar": {
             "outlinewidth": 0,
             "ticks": ""
            },
            "colorscale": [
             [
              0,
              "#0d0887"
             ],
             [
              0.1111111111111111,
              "#46039f"
             ],
             [
              0.2222222222222222,
              "#7201a8"
             ],
             [
              0.3333333333333333,
              "#9c179e"
             ],
             [
              0.4444444444444444,
              "#bd3786"
             ],
             [
              0.5555555555555556,
              "#d8576b"
             ],
             [
              0.6666666666666666,
              "#ed7953"
             ],
             [
              0.7777777777777778,
              "#fb9f3a"
             ],
             [
              0.8888888888888888,
              "#fdca26"
             ],
             [
              1,
              "#f0f921"
             ]
            ],
            "type": "heatmap"
           }
          ],
          "heatmapgl": [
           {
            "colorbar": {
             "outlinewidth": 0,
             "ticks": ""
            },
            "colorscale": [
             [
              0,
              "#0d0887"
             ],
             [
              0.1111111111111111,
              "#46039f"
             ],
             [
              0.2222222222222222,
              "#7201a8"
             ],
             [
              0.3333333333333333,
              "#9c179e"
             ],
             [
              0.4444444444444444,
              "#bd3786"
             ],
             [
              0.5555555555555556,
              "#d8576b"
             ],
             [
              0.6666666666666666,
              "#ed7953"
             ],
             [
              0.7777777777777778,
              "#fb9f3a"
             ],
             [
              0.8888888888888888,
              "#fdca26"
             ],
             [
              1,
              "#f0f921"
             ]
            ],
            "type": "heatmapgl"
           }
          ],
          "histogram": [
           {
            "marker": {
             "colorbar": {
              "outlinewidth": 0,
              "ticks": ""
             }
            },
            "type": "histogram"
           }
          ],
          "histogram2d": [
           {
            "colorbar": {
             "outlinewidth": 0,
             "ticks": ""
            },
            "colorscale": [
             [
              0,
              "#0d0887"
             ],
             [
              0.1111111111111111,
              "#46039f"
             ],
             [
              0.2222222222222222,
              "#7201a8"
             ],
             [
              0.3333333333333333,
              "#9c179e"
             ],
             [
              0.4444444444444444,
              "#bd3786"
             ],
             [
              0.5555555555555556,
              "#d8576b"
             ],
             [
              0.6666666666666666,
              "#ed7953"
             ],
             [
              0.7777777777777778,
              "#fb9f3a"
             ],
             [
              0.8888888888888888,
              "#fdca26"
             ],
             [
              1,
              "#f0f921"
             ]
            ],
            "type": "histogram2d"
           }
          ],
          "histogram2dcontour": [
           {
            "colorbar": {
             "outlinewidth": 0,
             "ticks": ""
            },
            "colorscale": [
             [
              0,
              "#0d0887"
             ],
             [
              0.1111111111111111,
              "#46039f"
             ],
             [
              0.2222222222222222,
              "#7201a8"
             ],
             [
              0.3333333333333333,
              "#9c179e"
             ],
             [
              0.4444444444444444,
              "#bd3786"
             ],
             [
              0.5555555555555556,
              "#d8576b"
             ],
             [
              0.6666666666666666,
              "#ed7953"
             ],
             [
              0.7777777777777778,
              "#fb9f3a"
             ],
             [
              0.8888888888888888,
              "#fdca26"
             ],
             [
              1,
              "#f0f921"
             ]
            ],
            "type": "histogram2dcontour"
           }
          ],
          "mesh3d": [
           {
            "colorbar": {
             "outlinewidth": 0,
             "ticks": ""
            },
            "type": "mesh3d"
           }
          ],
          "parcoords": [
           {
            "line": {
             "colorbar": {
              "outlinewidth": 0,
              "ticks": ""
             }
            },
            "type": "parcoords"
           }
          ],
          "pie": [
           {
            "automargin": true,
            "type": "pie"
           }
          ],
          "scatter": [
           {
            "marker": {
             "colorbar": {
              "outlinewidth": 0,
              "ticks": ""
             }
            },
            "type": "scatter"
           }
          ],
          "scatter3d": [
           {
            "line": {
             "colorbar": {
              "outlinewidth": 0,
              "ticks": ""
             }
            },
            "marker": {
             "colorbar": {
              "outlinewidth": 0,
              "ticks": ""
             }
            },
            "type": "scatter3d"
           }
          ],
          "scattercarpet": [
           {
            "marker": {
             "colorbar": {
              "outlinewidth": 0,
              "ticks": ""
             }
            },
            "type": "scattercarpet"
           }
          ],
          "scattergeo": [
           {
            "marker": {
             "colorbar": {
              "outlinewidth": 0,
              "ticks": ""
             }
            },
            "type": "scattergeo"
           }
          ],
          "scattergl": [
           {
            "marker": {
             "colorbar": {
              "outlinewidth": 0,
              "ticks": ""
             }
            },
            "type": "scattergl"
           }
          ],
          "scattermapbox": [
           {
            "marker": {
             "colorbar": {
              "outlinewidth": 0,
              "ticks": ""
             }
            },
            "type": "scattermapbox"
           }
          ],
          "scatterpolar": [
           {
            "marker": {
             "colorbar": {
              "outlinewidth": 0,
              "ticks": ""
             }
            },
            "type": "scatterpolar"
           }
          ],
          "scatterpolargl": [
           {
            "marker": {
             "colorbar": {
              "outlinewidth": 0,
              "ticks": ""
             }
            },
            "type": "scatterpolargl"
           }
          ],
          "scatterternary": [
           {
            "marker": {
             "colorbar": {
              "outlinewidth": 0,
              "ticks": ""
             }
            },
            "type": "scatterternary"
           }
          ],
          "surface": [
           {
            "colorbar": {
             "outlinewidth": 0,
             "ticks": ""
            },
            "colorscale": [
             [
              0,
              "#0d0887"
             ],
             [
              0.1111111111111111,
              "#46039f"
             ],
             [
              0.2222222222222222,
              "#7201a8"
             ],
             [
              0.3333333333333333,
              "#9c179e"
             ],
             [
              0.4444444444444444,
              "#bd3786"
             ],
             [
              0.5555555555555556,
              "#d8576b"
             ],
             [
              0.6666666666666666,
              "#ed7953"
             ],
             [
              0.7777777777777778,
              "#fb9f3a"
             ],
             [
              0.8888888888888888,
              "#fdca26"
             ],
             [
              1,
              "#f0f921"
             ]
            ],
            "type": "surface"
           }
          ],
          "table": [
           {
            "cells": {
             "fill": {
              "color": "#EBF0F8"
             },
             "line": {
              "color": "white"
             }
            },
            "header": {
             "fill": {
              "color": "#C8D4E3"
             },
             "line": {
              "color": "white"
             }
            },
            "type": "table"
           }
          ]
         },
         "layout": {
          "annotationdefaults": {
           "arrowcolor": "#2a3f5f",
           "arrowhead": 0,
           "arrowwidth": 1
          },
          "coloraxis": {
           "colorbar": {
            "outlinewidth": 0,
            "ticks": ""
           }
          },
          "colorscale": {
           "diverging": [
            [
             0,
             "#8e0152"
            ],
            [
             0.1,
             "#c51b7d"
            ],
            [
             0.2,
             "#de77ae"
            ],
            [
             0.3,
             "#f1b6da"
            ],
            [
             0.4,
             "#fde0ef"
            ],
            [
             0.5,
             "#f7f7f7"
            ],
            [
             0.6,
             "#e6f5d0"
            ],
            [
             0.7,
             "#b8e186"
            ],
            [
             0.8,
             "#7fbc41"
            ],
            [
             0.9,
             "#4d9221"
            ],
            [
             1,
             "#276419"
            ]
           ],
           "sequential": [
            [
             0,
             "#0d0887"
            ],
            [
             0.1111111111111111,
             "#46039f"
            ],
            [
             0.2222222222222222,
             "#7201a8"
            ],
            [
             0.3333333333333333,
             "#9c179e"
            ],
            [
             0.4444444444444444,
             "#bd3786"
            ],
            [
             0.5555555555555556,
             "#d8576b"
            ],
            [
             0.6666666666666666,
             "#ed7953"
            ],
            [
             0.7777777777777778,
             "#fb9f3a"
            ],
            [
             0.8888888888888888,
             "#fdca26"
            ],
            [
             1,
             "#f0f921"
            ]
           ],
           "sequentialminus": [
            [
             0,
             "#0d0887"
            ],
            [
             0.1111111111111111,
             "#46039f"
            ],
            [
             0.2222222222222222,
             "#7201a8"
            ],
            [
             0.3333333333333333,
             "#9c179e"
            ],
            [
             0.4444444444444444,
             "#bd3786"
            ],
            [
             0.5555555555555556,
             "#d8576b"
            ],
            [
             0.6666666666666666,
             "#ed7953"
            ],
            [
             0.7777777777777778,
             "#fb9f3a"
            ],
            [
             0.8888888888888888,
             "#fdca26"
            ],
            [
             1,
             "#f0f921"
            ]
           ]
          },
          "colorway": [
           "#636efa",
           "#EF553B",
           "#00cc96",
           "#ab63fa",
           "#FFA15A",
           "#19d3f3",
           "#FF6692",
           "#B6E880",
           "#FF97FF",
           "#FECB52"
          ],
          "font": {
           "color": "#2a3f5f"
          },
          "geo": {
           "bgcolor": "white",
           "lakecolor": "white",
           "landcolor": "#E5ECF6",
           "showlakes": true,
           "showland": true,
           "subunitcolor": "white"
          },
          "hoverlabel": {
           "align": "left"
          },
          "hovermode": "closest",
          "mapbox": {
           "style": "light"
          },
          "paper_bgcolor": "white",
          "plot_bgcolor": "#E5ECF6",
          "polar": {
           "angularaxis": {
            "gridcolor": "white",
            "linecolor": "white",
            "ticks": ""
           },
           "bgcolor": "#E5ECF6",
           "radialaxis": {
            "gridcolor": "white",
            "linecolor": "white",
            "ticks": ""
           }
          },
          "scene": {
           "xaxis": {
            "backgroundcolor": "#E5ECF6",
            "gridcolor": "white",
            "gridwidth": 2,
            "linecolor": "white",
            "showbackground": true,
            "ticks": "",
            "zerolinecolor": "white"
           },
           "yaxis": {
            "backgroundcolor": "#E5ECF6",
            "gridcolor": "white",
            "gridwidth": 2,
            "linecolor": "white",
            "showbackground": true,
            "ticks": "",
            "zerolinecolor": "white"
           },
           "zaxis": {
            "backgroundcolor": "#E5ECF6",
            "gridcolor": "white",
            "gridwidth": 2,
            "linecolor": "white",
            "showbackground": true,
            "ticks": "",
            "zerolinecolor": "white"
           }
          },
          "shapedefaults": {
           "line": {
            "color": "#2a3f5f"
           }
          },
          "ternary": {
           "aaxis": {
            "gridcolor": "white",
            "linecolor": "white",
            "ticks": ""
           },
           "baxis": {
            "gridcolor": "white",
            "linecolor": "white",
            "ticks": ""
           },
           "bgcolor": "#E5ECF6",
           "caxis": {
            "gridcolor": "white",
            "linecolor": "white",
            "ticks": ""
           }
          },
          "title": {
           "x": 0.05
          },
          "xaxis": {
           "automargin": true,
           "gridcolor": "white",
           "linecolor": "white",
           "ticks": "",
           "title": {
            "standoff": 15
           },
           "zerolinecolor": "white",
           "zerolinewidth": 2
          },
          "yaxis": {
           "automargin": true,
           "gridcolor": "white",
           "linecolor": "white",
           "ticks": "",
           "title": {
            "standoff": 15
           },
           "zerolinecolor": "white",
           "zerolinewidth": 2
          }
         }
        },
        "title": {
         "text": "Countries affected by COVID-19"
        }
       }
      },
      "text/html": [
       "<div>\n",
       "        \n",
       "        \n",
       "            <div id=\"b91642bd-b527-458f-a7b0-79a35fd56395\" class=\"plotly-graph-div\" style=\"height:525px; width:100%;\"></div>\n",
       "            <script type=\"text/javascript\">\n",
       "                require([\"plotly\"], function(Plotly) {\n",
       "                    window.PLOTLYENV=window.PLOTLYENV || {};\n",
       "                    \n",
       "                if (document.getElementById(\"b91642bd-b527-458f-a7b0-79a35fd56395\")) {\n",
       "                    Plotly.newPlot(\n",
       "                        'b91642bd-b527-458f-a7b0-79a35fd56395',\n",
       "                        [{\"coloraxis\": \"coloraxis\", \"geo\": \"geo\", \"hoverlabel\": {\"namelength\": 0}, \"hovertemplate\": \"Country=%{location}<br>cases=%{z}\", \"locationmode\": \"country names\", \"locations\": [\"Afghanistan\", \"Albania\", \"Algeria\", \"Andorra\", \"Argentina\", \"Armenia\", \"Australia\", \"Austria\", \"Azerbaijan\", \"Bahrain\", \"Bangladesh\", \"Belarus\", \"Belgium\", \"Bhutan\", \"Bosnia and Herzegovina\", \"Brazil\", \"Brunei\", \"Bulgaria\", \"Cambodia\", \"Cameroon\", \"Canada\", \"Chile\", \"China\", \"Colombia\", \"Costa Rica\", \"Croatia\", \"Cyprus\", \"Czech Republic\", \"Denmark\", \"Dominican Republic\", \"Ecuador\", \"Egypt\", \"Estonia\", \"Faroe Islands\", \"Finland\", \"France\", \"French Guiana\", \"Georgia\", \"Germany\", \"Gibraltar\", \"Greece\", \"Hong Kong\", \"Hungary\", \"Iceland\", \"India\", \"Indonesia\", \"Iran\", \"Iraq\", \"Ireland\", \"Israel\", \"Italy\", \"Japan\", \"Jordan\", \"Kuwait\", \"Latvia\", \"Lebanon\", \"Liechtenstein\", \"Lithuania\", \"Luxembourg\", \"Macau\", \"Malaysia\", \"Maldives\", \"Malta\", \"Martinique\", \"Mexico\", \"Moldova\", \"Monaco\", \"Morocco\", \"Nepal\", \"Netherlands\", \"New Zealand\", \"Nigeria\", \"North Macedonia\", \"Norway\", \"Oman\", \"Others\", \"Pakistan\", \"Palestine\", \"Paraguay\", \"Peru\", \"Philippines\", \"Poland\", \"Portugal\", \"Qatar\", \"Romania\", \"Russia\", \"Saint Barthelemy\", \"San Marino\", \"Saudi Arabia\", \"Senegal\", \"Serbia\", \"Singapore\", \"Slovakia\", \"Slovenia\", \"South Africa\", \"South Korea\", \"Spain\", \"Sri Lanka\", \"St. Martin\", \"Sweden\", \"Switzerland\", \"Taiwan\", \"Thailand\", \"Togo\", \"Tunisia\", \"UK\", \"US\", \"Ukraine\", \"United Arab Emirates\", \"Vatican City\", \"Vietnam\"], \"name\": \"\", \"type\": \"choropleth\", \"z\": [4, 2, 20, 1, 13, 1, 138, 133, 9, 109, 3, 7, 240, 1, 3, 25, 1, 4, 3, 2, 86, 8, 142616, 1, 9, 12, 2, 31, 91, 5, 15, 68, 10, 2, 31, 1240, 5, 15, 1196, 1, 73, 179, 9, 58, 46, 19, 9792, 75, 21, 41, 10361, 606, 1, 65, 6, 33, 1, 1, 3, 20, 141, 4, 3, 2, 8, 1, 1, 2, 2, 324, 5, 2, 3, 206, 18, 764, 7, 22, 1, 7, 22, 16, 30, 18, 18, 20, 5, 37, 15, 5, 1, 228, 3, 16, 3, 7683, 1133, 2, 2, 249, 379, 61, 82, 1, 2, 343, 687, 1, 52, 1, 46]}],\n",
       "                        {\"coloraxis\": {\"cmax\": 2000, \"cmin\": 1, \"colorbar\": {\"title\": {\"text\": \"cases\"}}, \"colorscale\": [[0.0, \"#0d0887\"], [0.1111111111111111, \"#46039f\"], [0.2222222222222222, \"#7201a8\"], [0.3333333333333333, \"#9c179e\"], [0.4444444444444444, \"#bd3786\"], [0.5555555555555556, \"#d8576b\"], [0.6666666666666666, \"#ed7953\"], [0.7777777777777778, \"#fb9f3a\"], [0.8888888888888888, \"#fdca26\"], [1.0, \"#f0f921\"]], \"showscale\": true}, \"geo\": {\"center\": {}, \"domain\": {\"x\": [0.0, 1.0], \"y\": [0.0, 1.0]}, \"projection\": {\"type\": \"natural earth\"}}, \"legend\": {\"tracegroupgap\": 0}, \"template\": {\"data\": {\"bar\": [{\"error_x\": {\"color\": \"#2a3f5f\"}, \"error_y\": {\"color\": \"#2a3f5f\"}, \"marker\": {\"line\": {\"color\": \"#E5ECF6\", \"width\": 0.5}}, \"type\": \"bar\"}], \"barpolar\": [{\"marker\": {\"line\": {\"color\": \"#E5ECF6\", \"width\": 0.5}}, \"type\": \"barpolar\"}], \"carpet\": [{\"aaxis\": {\"endlinecolor\": \"#2a3f5f\", \"gridcolor\": \"white\", \"linecolor\": \"white\", \"minorgridcolor\": \"white\", \"startlinecolor\": \"#2a3f5f\"}, \"baxis\": {\"endlinecolor\": \"#2a3f5f\", \"gridcolor\": \"white\", \"linecolor\": \"white\", \"minorgridcolor\": \"white\", \"startlinecolor\": \"#2a3f5f\"}, \"type\": \"carpet\"}], \"choropleth\": [{\"colorbar\": {\"outlinewidth\": 0, \"ticks\": \"\"}, \"type\": \"choropleth\"}], \"contour\": [{\"colorbar\": {\"outlinewidth\": 0, \"ticks\": \"\"}, \"colorscale\": [[0.0, \"#0d0887\"], [0.1111111111111111, \"#46039f\"], [0.2222222222222222, \"#7201a8\"], [0.3333333333333333, \"#9c179e\"], [0.4444444444444444, \"#bd3786\"], [0.5555555555555556, \"#d8576b\"], [0.6666666666666666, \"#ed7953\"], [0.7777777777777778, \"#fb9f3a\"], [0.8888888888888888, \"#fdca26\"], [1.0, \"#f0f921\"]], \"type\": \"contour\"}], \"contourcarpet\": [{\"colorbar\": {\"outlinewidth\": 0, \"ticks\": \"\"}, \"type\": \"contourcarpet\"}], \"heatmap\": [{\"colorbar\": {\"outlinewidth\": 0, \"ticks\": \"\"}, \"colorscale\": [[0.0, \"#0d0887\"], [0.1111111111111111, \"#46039f\"], [0.2222222222222222, \"#7201a8\"], [0.3333333333333333, \"#9c179e\"], [0.4444444444444444, \"#bd3786\"], [0.5555555555555556, \"#d8576b\"], [0.6666666666666666, \"#ed7953\"], [0.7777777777777778, \"#fb9f3a\"], [0.8888888888888888, \"#fdca26\"], [1.0, \"#f0f921\"]], \"type\": \"heatmap\"}], \"heatmapgl\": [{\"colorbar\": {\"outlinewidth\": 0, \"ticks\": \"\"}, \"colorscale\": [[0.0, \"#0d0887\"], [0.1111111111111111, \"#46039f\"], [0.2222222222222222, \"#7201a8\"], [0.3333333333333333, \"#9c179e\"], [0.4444444444444444, \"#bd3786\"], [0.5555555555555556, \"#d8576b\"], [0.6666666666666666, \"#ed7953\"], [0.7777777777777778, \"#fb9f3a\"], [0.8888888888888888, \"#fdca26\"], [1.0, \"#f0f921\"]], \"type\": \"heatmapgl\"}], \"histogram\": [{\"marker\": {\"colorbar\": {\"outlinewidth\": 0, \"ticks\": \"\"}}, \"type\": \"histogram\"}], \"histogram2d\": [{\"colorbar\": {\"outlinewidth\": 0, \"ticks\": \"\"}, \"colorscale\": [[0.0, \"#0d0887\"], [0.1111111111111111, \"#46039f\"], [0.2222222222222222, \"#7201a8\"], [0.3333333333333333, \"#9c179e\"], [0.4444444444444444, \"#bd3786\"], [0.5555555555555556, \"#d8576b\"], [0.6666666666666666, \"#ed7953\"], [0.7777777777777778, \"#fb9f3a\"], [0.8888888888888888, \"#fdca26\"], [1.0, \"#f0f921\"]], \"type\": \"histogram2d\"}], \"histogram2dcontour\": [{\"colorbar\": {\"outlinewidth\": 0, \"ticks\": \"\"}, \"colorscale\": [[0.0, \"#0d0887\"], [0.1111111111111111, \"#46039f\"], [0.2222222222222222, \"#7201a8\"], [0.3333333333333333, \"#9c179e\"], [0.4444444444444444, \"#bd3786\"], [0.5555555555555556, \"#d8576b\"], [0.6666666666666666, \"#ed7953\"], [0.7777777777777778, \"#fb9f3a\"], [0.8888888888888888, \"#fdca26\"], [1.0, \"#f0f921\"]], \"type\": \"histogram2dcontour\"}], \"mesh3d\": [{\"colorbar\": {\"outlinewidth\": 0, \"ticks\": \"\"}, \"type\": \"mesh3d\"}], \"parcoords\": [{\"line\": {\"colorbar\": {\"outlinewidth\": 0, \"ticks\": \"\"}}, \"type\": \"parcoords\"}], \"pie\": [{\"automargin\": true, \"type\": \"pie\"}], \"scatter\": [{\"marker\": {\"colorbar\": {\"outlinewidth\": 0, \"ticks\": \"\"}}, \"type\": \"scatter\"}], \"scatter3d\": [{\"line\": {\"colorbar\": {\"outlinewidth\": 0, \"ticks\": \"\"}}, \"marker\": {\"colorbar\": {\"outlinewidth\": 0, \"ticks\": \"\"}}, \"type\": \"scatter3d\"}], \"scattercarpet\": [{\"marker\": {\"colorbar\": {\"outlinewidth\": 0, \"ticks\": \"\"}}, \"type\": \"scattercarpet\"}], \"scattergeo\": [{\"marker\": {\"colorbar\": {\"outlinewidth\": 0, \"ticks\": \"\"}}, \"type\": \"scattergeo\"}], \"scattergl\": [{\"marker\": {\"colorbar\": {\"outlinewidth\": 0, \"ticks\": \"\"}}, \"type\": \"scattergl\"}], \"scattermapbox\": [{\"marker\": {\"colorbar\": {\"outlinewidth\": 0, \"ticks\": \"\"}}, \"type\": \"scattermapbox\"}], \"scatterpolar\": [{\"marker\": {\"colorbar\": {\"outlinewidth\": 0, \"ticks\": \"\"}}, \"type\": \"scatterpolar\"}], \"scatterpolargl\": [{\"marker\": {\"colorbar\": {\"outlinewidth\": 0, \"ticks\": \"\"}}, \"type\": \"scatterpolargl\"}], \"scatterternary\": [{\"marker\": {\"colorbar\": {\"outlinewidth\": 0, \"ticks\": \"\"}}, \"type\": \"scatterternary\"}], \"surface\": [{\"colorbar\": {\"outlinewidth\": 0, \"ticks\": \"\"}, \"colorscale\": [[0.0, \"#0d0887\"], [0.1111111111111111, \"#46039f\"], [0.2222222222222222, \"#7201a8\"], [0.3333333333333333, \"#9c179e\"], [0.4444444444444444, \"#bd3786\"], [0.5555555555555556, \"#d8576b\"], [0.6666666666666666, \"#ed7953\"], [0.7777777777777778, \"#fb9f3a\"], [0.8888888888888888, \"#fdca26\"], [1.0, \"#f0f921\"]], \"type\": \"surface\"}], \"table\": [{\"cells\": {\"fill\": {\"color\": \"#EBF0F8\"}, \"line\": {\"color\": \"white\"}}, \"header\": {\"fill\": {\"color\": \"#C8D4E3\"}, \"line\": {\"color\": \"white\"}}, \"type\": \"table\"}]}, \"layout\": {\"annotationdefaults\": {\"arrowcolor\": \"#2a3f5f\", \"arrowhead\": 0, \"arrowwidth\": 1}, \"coloraxis\": {\"colorbar\": {\"outlinewidth\": 0, \"ticks\": \"\"}}, \"colorscale\": {\"diverging\": [[0, \"#8e0152\"], [0.1, \"#c51b7d\"], [0.2, \"#de77ae\"], [0.3, \"#f1b6da\"], [0.4, \"#fde0ef\"], [0.5, \"#f7f7f7\"], [0.6, \"#e6f5d0\"], [0.7, \"#b8e186\"], [0.8, \"#7fbc41\"], [0.9, \"#4d9221\"], [1, \"#276419\"]], \"sequential\": [[0.0, \"#0d0887\"], [0.1111111111111111, \"#46039f\"], [0.2222222222222222, \"#7201a8\"], [0.3333333333333333, \"#9c179e\"], [0.4444444444444444, \"#bd3786\"], [0.5555555555555556, \"#d8576b\"], [0.6666666666666666, \"#ed7953\"], [0.7777777777777778, \"#fb9f3a\"], [0.8888888888888888, \"#fdca26\"], [1.0, \"#f0f921\"]], \"sequentialminus\": [[0.0, \"#0d0887\"], [0.1111111111111111, \"#46039f\"], [0.2222222222222222, \"#7201a8\"], [0.3333333333333333, \"#9c179e\"], [0.4444444444444444, \"#bd3786\"], [0.5555555555555556, \"#d8576b\"], [0.6666666666666666, \"#ed7953\"], [0.7777777777777778, \"#fb9f3a\"], [0.8888888888888888, \"#fdca26\"], [1.0, \"#f0f921\"]]}, \"colorway\": [\"#636efa\", \"#EF553B\", \"#00cc96\", \"#ab63fa\", \"#FFA15A\", \"#19d3f3\", \"#FF6692\", \"#B6E880\", \"#FF97FF\", \"#FECB52\"], \"font\": {\"color\": \"#2a3f5f\"}, \"geo\": {\"bgcolor\": \"white\", \"lakecolor\": \"white\", \"landcolor\": \"#E5ECF6\", \"showlakes\": true, \"showland\": true, \"subunitcolor\": \"white\"}, \"hoverlabel\": {\"align\": \"left\"}, \"hovermode\": \"closest\", \"mapbox\": {\"style\": \"light\"}, \"paper_bgcolor\": \"white\", \"plot_bgcolor\": \"#E5ECF6\", \"polar\": {\"angularaxis\": {\"gridcolor\": \"white\", \"linecolor\": \"white\", \"ticks\": \"\"}, \"bgcolor\": \"#E5ECF6\", \"radialaxis\": {\"gridcolor\": \"white\", \"linecolor\": \"white\", \"ticks\": \"\"}}, \"scene\": {\"xaxis\": {\"backgroundcolor\": \"#E5ECF6\", \"gridcolor\": \"white\", \"gridwidth\": 2, \"linecolor\": \"white\", \"showbackground\": true, \"ticks\": \"\", \"zerolinecolor\": \"white\"}, \"yaxis\": {\"backgroundcolor\": \"#E5ECF6\", \"gridcolor\": \"white\", \"gridwidth\": 2, \"linecolor\": \"white\", \"showbackground\": true, \"ticks\": \"\", \"zerolinecolor\": \"white\"}, \"zaxis\": {\"backgroundcolor\": \"#E5ECF6\", \"gridcolor\": \"white\", \"gridwidth\": 2, \"linecolor\": \"white\", \"showbackground\": true, \"ticks\": \"\", \"zerolinecolor\": \"white\"}}, \"shapedefaults\": {\"line\": {\"color\": \"#2a3f5f\"}}, \"ternary\": {\"aaxis\": {\"gridcolor\": \"white\", \"linecolor\": \"white\", \"ticks\": \"\"}, \"baxis\": {\"gridcolor\": \"white\", \"linecolor\": \"white\", \"ticks\": \"\"}, \"bgcolor\": \"#E5ECF6\", \"caxis\": {\"gridcolor\": \"white\", \"linecolor\": \"white\", \"ticks\": \"\"}}, \"title\": {\"x\": 0.05}, \"xaxis\": {\"automargin\": true, \"gridcolor\": \"white\", \"linecolor\": \"white\", \"ticks\": \"\", \"title\": {\"standoff\": 15}, \"zerolinecolor\": \"white\", \"zerolinewidth\": 2}, \"yaxis\": {\"automargin\": true, \"gridcolor\": \"white\", \"linecolor\": \"white\", \"ticks\": \"\", \"title\": {\"standoff\": 15}, \"zerolinecolor\": \"white\", \"zerolinewidth\": 2}}}, \"title\": {\"text\": \"Countries affected by COVID-19\"}},\n",
       "                        {\"responsive\": true}\n",
       "                    ).then(function(){\n",
       "                            \n",
       "var gd = document.getElementById('b91642bd-b527-458f-a7b0-79a35fd56395');\n",
       "var x = new MutationObserver(function (mutations, observer) {{\n",
       "        var display = window.getComputedStyle(gd).display;\n",
       "        if (!display || display === 'none') {{\n",
       "            console.log([gd, 'removed!']);\n",
       "            Plotly.purge(gd);\n",
       "            observer.disconnect();\n",
       "        }}\n",
       "}});\n",
       "\n",
       "// Listen for the removal of the full notebook cells\n",
       "var notebookContainer = gd.closest('#notebook-container');\n",
       "if (notebookContainer) {{\n",
       "    x.observe(notebookContainer, {childList: true});\n",
       "}}\n",
       "\n",
       "// Listen for the clearing of the current output cell\n",
       "var outputEl = gd.closest('.output');\n",
       "if (outputEl) {{\n",
       "    x.observe(outputEl, {childList: true});\n",
       "}}\n",
       "\n",
       "                        })\n",
       "                };\n",
       "                });\n",
       "            </script>\n",
       "        </div>"
      ]
     },
     "metadata": {},
     "output_type": "display_data"
    }
   ],
   "source": [
    "df_choro = df.groupby('Country')['type','cases'].sum().reset_index()\n",
    "\n",
    "\n",
    "fig = px.choropleth(df_choro, locations ='Country', locationmode = 'country names',\n",
    "                     color=\"cases\",\n",
    "                     projection= \"natural earth\", range_color = [1,2000],\n",
    "              color_continuous_scale= px.colors.sequential.Plasma,\n",
    "                     title='Countries affected by COVID-19')\n",
    "fig.update(layout_coloraxis_showscale=True)\n",
    "fig.show()"
   ]
  },
  {
   "cell_type": "markdown",
   "metadata": {},
   "source": [
    "# TOTAL DEATH CASES IN THE COUNTRIES"
   ]
  },
  {
   "cell_type": "code",
   "execution_count": 213,
   "metadata": {},
   "outputs": [
    {
     "data": {
      "application/vnd.plotly.v1+json": {
       "config": {
        "plotlyServerURL": "https://plot.ly"
       },
       "data": [
        {
         "coloraxis": "coloraxis",
         "geo": "geo",
         "hoverlabel": {
          "namelength": 0
         },
         "hovertemplate": "Country=%{location}<br>cases=%{z}",
         "locationmode": "country names",
         "locations": [
          "Argentina",
          "Australia",
          "Canada",
          "China",
          "Egypt",
          "France",
          "Germany",
          "Hong Kong",
          "Iran",
          "Iraq",
          "Italy",
          "Japan",
          "Netherlands",
          "Others",
          "Philippines",
          "San Marino",
          "South Korea",
          "Spain",
          "Switzerland",
          "Taiwan",
          "Thailand",
          "UK",
          "US"
         ],
         "name": "",
         "type": "choropleth",
         "z": [
          1,
          4,
          1,
          3120,
          1,
          19,
          2,
          3,
          237,
          6,
          463,
          17,
          3,
          6,
          1,
          1,
          53,
          28,
          2,
          1,
          1,
          4,
          22
         ]
        }
       ],
       "layout": {
        "coloraxis": {
         "cmax": 1000,
         "cmin": 1,
         "colorbar": {
          "title": {
           "text": "cases"
          }
         },
         "colorscale": [
          [
           0,
           "#0d0887"
          ],
          [
           0.1111111111111111,
           "#46039f"
          ],
          [
           0.2222222222222222,
           "#7201a8"
          ],
          [
           0.3333333333333333,
           "#9c179e"
          ],
          [
           0.4444444444444444,
           "#bd3786"
          ],
          [
           0.5555555555555556,
           "#d8576b"
          ],
          [
           0.6666666666666666,
           "#ed7953"
          ],
          [
           0.7777777777777778,
           "#fb9f3a"
          ],
          [
           0.8888888888888888,
           "#fdca26"
          ],
          [
           1,
           "#f0f921"
          ]
         ],
         "showscale": true
        },
        "geo": {
         "center": {},
         "domain": {
          "x": [
           0,
           1
          ],
          "y": [
           0,
           1
          ]
         },
         "projection": {
          "type": "natural earth"
         }
        },
        "legend": {
         "tracegroupgap": 0
        },
        "template": {
         "data": {
          "bar": [
           {
            "error_x": {
             "color": "#2a3f5f"
            },
            "error_y": {
             "color": "#2a3f5f"
            },
            "marker": {
             "line": {
              "color": "#E5ECF6",
              "width": 0.5
             }
            },
            "type": "bar"
           }
          ],
          "barpolar": [
           {
            "marker": {
             "line": {
              "color": "#E5ECF6",
              "width": 0.5
             }
            },
            "type": "barpolar"
           }
          ],
          "carpet": [
           {
            "aaxis": {
             "endlinecolor": "#2a3f5f",
             "gridcolor": "white",
             "linecolor": "white",
             "minorgridcolor": "white",
             "startlinecolor": "#2a3f5f"
            },
            "baxis": {
             "endlinecolor": "#2a3f5f",
             "gridcolor": "white",
             "linecolor": "white",
             "minorgridcolor": "white",
             "startlinecolor": "#2a3f5f"
            },
            "type": "carpet"
           }
          ],
          "choropleth": [
           {
            "colorbar": {
             "outlinewidth": 0,
             "ticks": ""
            },
            "type": "choropleth"
           }
          ],
          "contour": [
           {
            "colorbar": {
             "outlinewidth": 0,
             "ticks": ""
            },
            "colorscale": [
             [
              0,
              "#0d0887"
             ],
             [
              0.1111111111111111,
              "#46039f"
             ],
             [
              0.2222222222222222,
              "#7201a8"
             ],
             [
              0.3333333333333333,
              "#9c179e"
             ],
             [
              0.4444444444444444,
              "#bd3786"
             ],
             [
              0.5555555555555556,
              "#d8576b"
             ],
             [
              0.6666666666666666,
              "#ed7953"
             ],
             [
              0.7777777777777778,
              "#fb9f3a"
             ],
             [
              0.8888888888888888,
              "#fdca26"
             ],
             [
              1,
              "#f0f921"
             ]
            ],
            "type": "contour"
           }
          ],
          "contourcarpet": [
           {
            "colorbar": {
             "outlinewidth": 0,
             "ticks": ""
            },
            "type": "contourcarpet"
           }
          ],
          "heatmap": [
           {
            "colorbar": {
             "outlinewidth": 0,
             "ticks": ""
            },
            "colorscale": [
             [
              0,
              "#0d0887"
             ],
             [
              0.1111111111111111,
              "#46039f"
             ],
             [
              0.2222222222222222,
              "#7201a8"
             ],
             [
              0.3333333333333333,
              "#9c179e"
             ],
             [
              0.4444444444444444,
              "#bd3786"
             ],
             [
              0.5555555555555556,
              "#d8576b"
             ],
             [
              0.6666666666666666,
              "#ed7953"
             ],
             [
              0.7777777777777778,
              "#fb9f3a"
             ],
             [
              0.8888888888888888,
              "#fdca26"
             ],
             [
              1,
              "#f0f921"
             ]
            ],
            "type": "heatmap"
           }
          ],
          "heatmapgl": [
           {
            "colorbar": {
             "outlinewidth": 0,
             "ticks": ""
            },
            "colorscale": [
             [
              0,
              "#0d0887"
             ],
             [
              0.1111111111111111,
              "#46039f"
             ],
             [
              0.2222222222222222,
              "#7201a8"
             ],
             [
              0.3333333333333333,
              "#9c179e"
             ],
             [
              0.4444444444444444,
              "#bd3786"
             ],
             [
              0.5555555555555556,
              "#d8576b"
             ],
             [
              0.6666666666666666,
              "#ed7953"
             ],
             [
              0.7777777777777778,
              "#fb9f3a"
             ],
             [
              0.8888888888888888,
              "#fdca26"
             ],
             [
              1,
              "#f0f921"
             ]
            ],
            "type": "heatmapgl"
           }
          ],
          "histogram": [
           {
            "marker": {
             "colorbar": {
              "outlinewidth": 0,
              "ticks": ""
             }
            },
            "type": "histogram"
           }
          ],
          "histogram2d": [
           {
            "colorbar": {
             "outlinewidth": 0,
             "ticks": ""
            },
            "colorscale": [
             [
              0,
              "#0d0887"
             ],
             [
              0.1111111111111111,
              "#46039f"
             ],
             [
              0.2222222222222222,
              "#7201a8"
             ],
             [
              0.3333333333333333,
              "#9c179e"
             ],
             [
              0.4444444444444444,
              "#bd3786"
             ],
             [
              0.5555555555555556,
              "#d8576b"
             ],
             [
              0.6666666666666666,
              "#ed7953"
             ],
             [
              0.7777777777777778,
              "#fb9f3a"
             ],
             [
              0.8888888888888888,
              "#fdca26"
             ],
             [
              1,
              "#f0f921"
             ]
            ],
            "type": "histogram2d"
           }
          ],
          "histogram2dcontour": [
           {
            "colorbar": {
             "outlinewidth": 0,
             "ticks": ""
            },
            "colorscale": [
             [
              0,
              "#0d0887"
             ],
             [
              0.1111111111111111,
              "#46039f"
             ],
             [
              0.2222222222222222,
              "#7201a8"
             ],
             [
              0.3333333333333333,
              "#9c179e"
             ],
             [
              0.4444444444444444,
              "#bd3786"
             ],
             [
              0.5555555555555556,
              "#d8576b"
             ],
             [
              0.6666666666666666,
              "#ed7953"
             ],
             [
              0.7777777777777778,
              "#fb9f3a"
             ],
             [
              0.8888888888888888,
              "#fdca26"
             ],
             [
              1,
              "#f0f921"
             ]
            ],
            "type": "histogram2dcontour"
           }
          ],
          "mesh3d": [
           {
            "colorbar": {
             "outlinewidth": 0,
             "ticks": ""
            },
            "type": "mesh3d"
           }
          ],
          "parcoords": [
           {
            "line": {
             "colorbar": {
              "outlinewidth": 0,
              "ticks": ""
             }
            },
            "type": "parcoords"
           }
          ],
          "pie": [
           {
            "automargin": true,
            "type": "pie"
           }
          ],
          "scatter": [
           {
            "marker": {
             "colorbar": {
              "outlinewidth": 0,
              "ticks": ""
             }
            },
            "type": "scatter"
           }
          ],
          "scatter3d": [
           {
            "line": {
             "colorbar": {
              "outlinewidth": 0,
              "ticks": ""
             }
            },
            "marker": {
             "colorbar": {
              "outlinewidth": 0,
              "ticks": ""
             }
            },
            "type": "scatter3d"
           }
          ],
          "scattercarpet": [
           {
            "marker": {
             "colorbar": {
              "outlinewidth": 0,
              "ticks": ""
             }
            },
            "type": "scattercarpet"
           }
          ],
          "scattergeo": [
           {
            "marker": {
             "colorbar": {
              "outlinewidth": 0,
              "ticks": ""
             }
            },
            "type": "scattergeo"
           }
          ],
          "scattergl": [
           {
            "marker": {
             "colorbar": {
              "outlinewidth": 0,
              "ticks": ""
             }
            },
            "type": "scattergl"
           }
          ],
          "scattermapbox": [
           {
            "marker": {
             "colorbar": {
              "outlinewidth": 0,
              "ticks": ""
             }
            },
            "type": "scattermapbox"
           }
          ],
          "scatterpolar": [
           {
            "marker": {
             "colorbar": {
              "outlinewidth": 0,
              "ticks": ""
             }
            },
            "type": "scatterpolar"
           }
          ],
          "scatterpolargl": [
           {
            "marker": {
             "colorbar": {
              "outlinewidth": 0,
              "ticks": ""
             }
            },
            "type": "scatterpolargl"
           }
          ],
          "scatterternary": [
           {
            "marker": {
             "colorbar": {
              "outlinewidth": 0,
              "ticks": ""
             }
            },
            "type": "scatterternary"
           }
          ],
          "surface": [
           {
            "colorbar": {
             "outlinewidth": 0,
             "ticks": ""
            },
            "colorscale": [
             [
              0,
              "#0d0887"
             ],
             [
              0.1111111111111111,
              "#46039f"
             ],
             [
              0.2222222222222222,
              "#7201a8"
             ],
             [
              0.3333333333333333,
              "#9c179e"
             ],
             [
              0.4444444444444444,
              "#bd3786"
             ],
             [
              0.5555555555555556,
              "#d8576b"
             ],
             [
              0.6666666666666666,
              "#ed7953"
             ],
             [
              0.7777777777777778,
              "#fb9f3a"
             ],
             [
              0.8888888888888888,
              "#fdca26"
             ],
             [
              1,
              "#f0f921"
             ]
            ],
            "type": "surface"
           }
          ],
          "table": [
           {
            "cells": {
             "fill": {
              "color": "#EBF0F8"
             },
             "line": {
              "color": "white"
             }
            },
            "header": {
             "fill": {
              "color": "#C8D4E3"
             },
             "line": {
              "color": "white"
             }
            },
            "type": "table"
           }
          ]
         },
         "layout": {
          "annotationdefaults": {
           "arrowcolor": "#2a3f5f",
           "arrowhead": 0,
           "arrowwidth": 1
          },
          "coloraxis": {
           "colorbar": {
            "outlinewidth": 0,
            "ticks": ""
           }
          },
          "colorscale": {
           "diverging": [
            [
             0,
             "#8e0152"
            ],
            [
             0.1,
             "#c51b7d"
            ],
            [
             0.2,
             "#de77ae"
            ],
            [
             0.3,
             "#f1b6da"
            ],
            [
             0.4,
             "#fde0ef"
            ],
            [
             0.5,
             "#f7f7f7"
            ],
            [
             0.6,
             "#e6f5d0"
            ],
            [
             0.7,
             "#b8e186"
            ],
            [
             0.8,
             "#7fbc41"
            ],
            [
             0.9,
             "#4d9221"
            ],
            [
             1,
             "#276419"
            ]
           ],
           "sequential": [
            [
             0,
             "#0d0887"
            ],
            [
             0.1111111111111111,
             "#46039f"
            ],
            [
             0.2222222222222222,
             "#7201a8"
            ],
            [
             0.3333333333333333,
             "#9c179e"
            ],
            [
             0.4444444444444444,
             "#bd3786"
            ],
            [
             0.5555555555555556,
             "#d8576b"
            ],
            [
             0.6666666666666666,
             "#ed7953"
            ],
            [
             0.7777777777777778,
             "#fb9f3a"
            ],
            [
             0.8888888888888888,
             "#fdca26"
            ],
            [
             1,
             "#f0f921"
            ]
           ],
           "sequentialminus": [
            [
             0,
             "#0d0887"
            ],
            [
             0.1111111111111111,
             "#46039f"
            ],
            [
             0.2222222222222222,
             "#7201a8"
            ],
            [
             0.3333333333333333,
             "#9c179e"
            ],
            [
             0.4444444444444444,
             "#bd3786"
            ],
            [
             0.5555555555555556,
             "#d8576b"
            ],
            [
             0.6666666666666666,
             "#ed7953"
            ],
            [
             0.7777777777777778,
             "#fb9f3a"
            ],
            [
             0.8888888888888888,
             "#fdca26"
            ],
            [
             1,
             "#f0f921"
            ]
           ]
          },
          "colorway": [
           "#636efa",
           "#EF553B",
           "#00cc96",
           "#ab63fa",
           "#FFA15A",
           "#19d3f3",
           "#FF6692",
           "#B6E880",
           "#FF97FF",
           "#FECB52"
          ],
          "font": {
           "color": "#2a3f5f"
          },
          "geo": {
           "bgcolor": "white",
           "lakecolor": "white",
           "landcolor": "#E5ECF6",
           "showlakes": true,
           "showland": true,
           "subunitcolor": "white"
          },
          "hoverlabel": {
           "align": "left"
          },
          "hovermode": "closest",
          "mapbox": {
           "style": "light"
          },
          "paper_bgcolor": "white",
          "plot_bgcolor": "#E5ECF6",
          "polar": {
           "angularaxis": {
            "gridcolor": "white",
            "linecolor": "white",
            "ticks": ""
           },
           "bgcolor": "#E5ECF6",
           "radialaxis": {
            "gridcolor": "white",
            "linecolor": "white",
            "ticks": ""
           }
          },
          "scene": {
           "xaxis": {
            "backgroundcolor": "#E5ECF6",
            "gridcolor": "white",
            "gridwidth": 2,
            "linecolor": "white",
            "showbackground": true,
            "ticks": "",
            "zerolinecolor": "white"
           },
           "yaxis": {
            "backgroundcolor": "#E5ECF6",
            "gridcolor": "white",
            "gridwidth": 2,
            "linecolor": "white",
            "showbackground": true,
            "ticks": "",
            "zerolinecolor": "white"
           },
           "zaxis": {
            "backgroundcolor": "#E5ECF6",
            "gridcolor": "white",
            "gridwidth": 2,
            "linecolor": "white",
            "showbackground": true,
            "ticks": "",
            "zerolinecolor": "white"
           }
          },
          "shapedefaults": {
           "line": {
            "color": "#2a3f5f"
           }
          },
          "ternary": {
           "aaxis": {
            "gridcolor": "white",
            "linecolor": "white",
            "ticks": ""
           },
           "baxis": {
            "gridcolor": "white",
            "linecolor": "white",
            "ticks": ""
           },
           "bgcolor": "#E5ECF6",
           "caxis": {
            "gridcolor": "white",
            "linecolor": "white",
            "ticks": ""
           }
          },
          "title": {
           "x": 0.05
          },
          "xaxis": {
           "automargin": true,
           "gridcolor": "white",
           "linecolor": "white",
           "ticks": "",
           "title": {
            "standoff": 15
           },
           "zerolinecolor": "white",
           "zerolinewidth": 2
          },
          "yaxis": {
           "automargin": true,
           "gridcolor": "white",
           "linecolor": "white",
           "ticks": "",
           "title": {
            "standoff": 15
           },
           "zerolinecolor": "white",
           "zerolinewidth": 2
          }
         }
        },
        "title": {
         "text": "Death in Countries due to COVID-19"
        }
       }
      },
      "text/html": [
       "<div>\n",
       "        \n",
       "        \n",
       "            <div id=\"e21f0a70-5c47-4c11-b680-5599d01f9aa7\" class=\"plotly-graph-div\" style=\"height:525px; width:100%;\"></div>\n",
       "            <script type=\"text/javascript\">\n",
       "                require([\"plotly\"], function(Plotly) {\n",
       "                    window.PLOTLYENV=window.PLOTLYENV || {};\n",
       "                    \n",
       "                if (document.getElementById(\"e21f0a70-5c47-4c11-b680-5599d01f9aa7\")) {\n",
       "                    Plotly.newPlot(\n",
       "                        'e21f0a70-5c47-4c11-b680-5599d01f9aa7',\n",
       "                        [{\"coloraxis\": \"coloraxis\", \"geo\": \"geo\", \"hoverlabel\": {\"namelength\": 0}, \"hovertemplate\": \"Country=%{location}<br>cases=%{z}\", \"locationmode\": \"country names\", \"locations\": [\"Argentina\", \"Australia\", \"Canada\", \"China\", \"Egypt\", \"France\", \"Germany\", \"Hong Kong\", \"Iran\", \"Iraq\", \"Italy\", \"Japan\", \"Netherlands\", \"Others\", \"Philippines\", \"San Marino\", \"South Korea\", \"Spain\", \"Switzerland\", \"Taiwan\", \"Thailand\", \"UK\", \"US\"], \"name\": \"\", \"type\": \"choropleth\", \"z\": [1, 4, 1, 3120, 1, 19, 2, 3, 237, 6, 463, 17, 3, 6, 1, 1, 53, 28, 2, 1, 1, 4, 22]}],\n",
       "                        {\"coloraxis\": {\"cmax\": 1000, \"cmin\": 1, \"colorbar\": {\"title\": {\"text\": \"cases\"}}, \"colorscale\": [[0.0, \"#0d0887\"], [0.1111111111111111, \"#46039f\"], [0.2222222222222222, \"#7201a8\"], [0.3333333333333333, \"#9c179e\"], [0.4444444444444444, \"#bd3786\"], [0.5555555555555556, \"#d8576b\"], [0.6666666666666666, \"#ed7953\"], [0.7777777777777778, \"#fb9f3a\"], [0.8888888888888888, \"#fdca26\"], [1.0, \"#f0f921\"]], \"showscale\": true}, \"geo\": {\"center\": {}, \"domain\": {\"x\": [0.0, 1.0], \"y\": [0.0, 1.0]}, \"projection\": {\"type\": \"natural earth\"}}, \"legend\": {\"tracegroupgap\": 0}, \"template\": {\"data\": {\"bar\": [{\"error_x\": {\"color\": \"#2a3f5f\"}, \"error_y\": {\"color\": \"#2a3f5f\"}, \"marker\": {\"line\": {\"color\": \"#E5ECF6\", \"width\": 0.5}}, \"type\": \"bar\"}], \"barpolar\": [{\"marker\": {\"line\": {\"color\": \"#E5ECF6\", \"width\": 0.5}}, \"type\": \"barpolar\"}], \"carpet\": [{\"aaxis\": {\"endlinecolor\": \"#2a3f5f\", \"gridcolor\": \"white\", \"linecolor\": \"white\", \"minorgridcolor\": \"white\", \"startlinecolor\": \"#2a3f5f\"}, \"baxis\": {\"endlinecolor\": \"#2a3f5f\", \"gridcolor\": \"white\", \"linecolor\": \"white\", \"minorgridcolor\": \"white\", \"startlinecolor\": \"#2a3f5f\"}, \"type\": \"carpet\"}], \"choropleth\": [{\"colorbar\": {\"outlinewidth\": 0, \"ticks\": \"\"}, \"type\": \"choropleth\"}], \"contour\": [{\"colorbar\": {\"outlinewidth\": 0, \"ticks\": \"\"}, \"colorscale\": [[0.0, \"#0d0887\"], [0.1111111111111111, \"#46039f\"], [0.2222222222222222, \"#7201a8\"], [0.3333333333333333, \"#9c179e\"], [0.4444444444444444, \"#bd3786\"], [0.5555555555555556, \"#d8576b\"], [0.6666666666666666, \"#ed7953\"], [0.7777777777777778, \"#fb9f3a\"], [0.8888888888888888, \"#fdca26\"], [1.0, \"#f0f921\"]], \"type\": \"contour\"}], \"contourcarpet\": [{\"colorbar\": {\"outlinewidth\": 0, \"ticks\": \"\"}, \"type\": \"contourcarpet\"}], \"heatmap\": [{\"colorbar\": {\"outlinewidth\": 0, \"ticks\": \"\"}, \"colorscale\": [[0.0, \"#0d0887\"], [0.1111111111111111, \"#46039f\"], [0.2222222222222222, \"#7201a8\"], [0.3333333333333333, \"#9c179e\"], [0.4444444444444444, \"#bd3786\"], [0.5555555555555556, \"#d8576b\"], [0.6666666666666666, \"#ed7953\"], [0.7777777777777778, \"#fb9f3a\"], [0.8888888888888888, \"#fdca26\"], [1.0, \"#f0f921\"]], \"type\": \"heatmap\"}], \"heatmapgl\": [{\"colorbar\": {\"outlinewidth\": 0, \"ticks\": \"\"}, \"colorscale\": [[0.0, \"#0d0887\"], [0.1111111111111111, \"#46039f\"], [0.2222222222222222, \"#7201a8\"], [0.3333333333333333, \"#9c179e\"], [0.4444444444444444, \"#bd3786\"], [0.5555555555555556, \"#d8576b\"], [0.6666666666666666, \"#ed7953\"], [0.7777777777777778, \"#fb9f3a\"], [0.8888888888888888, \"#fdca26\"], [1.0, \"#f0f921\"]], \"type\": \"heatmapgl\"}], \"histogram\": [{\"marker\": {\"colorbar\": {\"outlinewidth\": 0, \"ticks\": \"\"}}, \"type\": \"histogram\"}], \"histogram2d\": [{\"colorbar\": {\"outlinewidth\": 0, \"ticks\": \"\"}, \"colorscale\": [[0.0, \"#0d0887\"], [0.1111111111111111, \"#46039f\"], [0.2222222222222222, \"#7201a8\"], [0.3333333333333333, \"#9c179e\"], [0.4444444444444444, \"#bd3786\"], [0.5555555555555556, \"#d8576b\"], [0.6666666666666666, \"#ed7953\"], [0.7777777777777778, \"#fb9f3a\"], [0.8888888888888888, \"#fdca26\"], [1.0, \"#f0f921\"]], \"type\": \"histogram2d\"}], \"histogram2dcontour\": [{\"colorbar\": {\"outlinewidth\": 0, \"ticks\": \"\"}, \"colorscale\": [[0.0, \"#0d0887\"], [0.1111111111111111, \"#46039f\"], [0.2222222222222222, \"#7201a8\"], [0.3333333333333333, \"#9c179e\"], [0.4444444444444444, \"#bd3786\"], [0.5555555555555556, \"#d8576b\"], [0.6666666666666666, \"#ed7953\"], [0.7777777777777778, \"#fb9f3a\"], [0.8888888888888888, \"#fdca26\"], [1.0, \"#f0f921\"]], \"type\": \"histogram2dcontour\"}], \"mesh3d\": [{\"colorbar\": {\"outlinewidth\": 0, \"ticks\": \"\"}, \"type\": \"mesh3d\"}], \"parcoords\": [{\"line\": {\"colorbar\": {\"outlinewidth\": 0, \"ticks\": \"\"}}, \"type\": \"parcoords\"}], \"pie\": [{\"automargin\": true, \"type\": \"pie\"}], \"scatter\": [{\"marker\": {\"colorbar\": {\"outlinewidth\": 0, \"ticks\": \"\"}}, \"type\": \"scatter\"}], \"scatter3d\": [{\"line\": {\"colorbar\": {\"outlinewidth\": 0, \"ticks\": \"\"}}, \"marker\": {\"colorbar\": {\"outlinewidth\": 0, \"ticks\": \"\"}}, \"type\": \"scatter3d\"}], \"scattercarpet\": [{\"marker\": {\"colorbar\": {\"outlinewidth\": 0, \"ticks\": \"\"}}, \"type\": \"scattercarpet\"}], \"scattergeo\": [{\"marker\": {\"colorbar\": {\"outlinewidth\": 0, \"ticks\": \"\"}}, \"type\": \"scattergeo\"}], \"scattergl\": [{\"marker\": {\"colorbar\": {\"outlinewidth\": 0, \"ticks\": \"\"}}, \"type\": \"scattergl\"}], \"scattermapbox\": [{\"marker\": {\"colorbar\": {\"outlinewidth\": 0, \"ticks\": \"\"}}, \"type\": \"scattermapbox\"}], \"scatterpolar\": [{\"marker\": {\"colorbar\": {\"outlinewidth\": 0, \"ticks\": \"\"}}, \"type\": \"scatterpolar\"}], \"scatterpolargl\": [{\"marker\": {\"colorbar\": {\"outlinewidth\": 0, \"ticks\": \"\"}}, \"type\": \"scatterpolargl\"}], \"scatterternary\": [{\"marker\": {\"colorbar\": {\"outlinewidth\": 0, \"ticks\": \"\"}}, \"type\": \"scatterternary\"}], \"surface\": [{\"colorbar\": {\"outlinewidth\": 0, \"ticks\": \"\"}, \"colorscale\": [[0.0, \"#0d0887\"], [0.1111111111111111, \"#46039f\"], [0.2222222222222222, \"#7201a8\"], [0.3333333333333333, \"#9c179e\"], [0.4444444444444444, \"#bd3786\"], [0.5555555555555556, \"#d8576b\"], [0.6666666666666666, \"#ed7953\"], [0.7777777777777778, \"#fb9f3a\"], [0.8888888888888888, \"#fdca26\"], [1.0, \"#f0f921\"]], \"type\": \"surface\"}], \"table\": [{\"cells\": {\"fill\": {\"color\": \"#EBF0F8\"}, \"line\": {\"color\": \"white\"}}, \"header\": {\"fill\": {\"color\": \"#C8D4E3\"}, \"line\": {\"color\": \"white\"}}, \"type\": \"table\"}]}, \"layout\": {\"annotationdefaults\": {\"arrowcolor\": \"#2a3f5f\", \"arrowhead\": 0, \"arrowwidth\": 1}, \"coloraxis\": {\"colorbar\": {\"outlinewidth\": 0, \"ticks\": \"\"}}, \"colorscale\": {\"diverging\": [[0, \"#8e0152\"], [0.1, \"#c51b7d\"], [0.2, \"#de77ae\"], [0.3, \"#f1b6da\"], [0.4, \"#fde0ef\"], [0.5, \"#f7f7f7\"], [0.6, \"#e6f5d0\"], [0.7, \"#b8e186\"], [0.8, \"#7fbc41\"], [0.9, \"#4d9221\"], [1, \"#276419\"]], \"sequential\": [[0.0, \"#0d0887\"], [0.1111111111111111, \"#46039f\"], [0.2222222222222222, \"#7201a8\"], [0.3333333333333333, \"#9c179e\"], [0.4444444444444444, \"#bd3786\"], [0.5555555555555556, \"#d8576b\"], [0.6666666666666666, \"#ed7953\"], [0.7777777777777778, \"#fb9f3a\"], [0.8888888888888888, \"#fdca26\"], [1.0, \"#f0f921\"]], \"sequentialminus\": [[0.0, \"#0d0887\"], [0.1111111111111111, \"#46039f\"], [0.2222222222222222, \"#7201a8\"], [0.3333333333333333, \"#9c179e\"], [0.4444444444444444, \"#bd3786\"], [0.5555555555555556, \"#d8576b\"], [0.6666666666666666, \"#ed7953\"], [0.7777777777777778, \"#fb9f3a\"], [0.8888888888888888, \"#fdca26\"], [1.0, \"#f0f921\"]]}, \"colorway\": [\"#636efa\", \"#EF553B\", \"#00cc96\", \"#ab63fa\", \"#FFA15A\", \"#19d3f3\", \"#FF6692\", \"#B6E880\", \"#FF97FF\", \"#FECB52\"], \"font\": {\"color\": \"#2a3f5f\"}, \"geo\": {\"bgcolor\": \"white\", \"lakecolor\": \"white\", \"landcolor\": \"#E5ECF6\", \"showlakes\": true, \"showland\": true, \"subunitcolor\": \"white\"}, \"hoverlabel\": {\"align\": \"left\"}, \"hovermode\": \"closest\", \"mapbox\": {\"style\": \"light\"}, \"paper_bgcolor\": \"white\", \"plot_bgcolor\": \"#E5ECF6\", \"polar\": {\"angularaxis\": {\"gridcolor\": \"white\", \"linecolor\": \"white\", \"ticks\": \"\"}, \"bgcolor\": \"#E5ECF6\", \"radialaxis\": {\"gridcolor\": \"white\", \"linecolor\": \"white\", \"ticks\": \"\"}}, \"scene\": {\"xaxis\": {\"backgroundcolor\": \"#E5ECF6\", \"gridcolor\": \"white\", \"gridwidth\": 2, \"linecolor\": \"white\", \"showbackground\": true, \"ticks\": \"\", \"zerolinecolor\": \"white\"}, \"yaxis\": {\"backgroundcolor\": \"#E5ECF6\", \"gridcolor\": \"white\", \"gridwidth\": 2, \"linecolor\": \"white\", \"showbackground\": true, \"ticks\": \"\", \"zerolinecolor\": \"white\"}, \"zaxis\": {\"backgroundcolor\": \"#E5ECF6\", \"gridcolor\": \"white\", \"gridwidth\": 2, \"linecolor\": \"white\", \"showbackground\": true, \"ticks\": \"\", \"zerolinecolor\": \"white\"}}, \"shapedefaults\": {\"line\": {\"color\": \"#2a3f5f\"}}, \"ternary\": {\"aaxis\": {\"gridcolor\": \"white\", \"linecolor\": \"white\", \"ticks\": \"\"}, \"baxis\": {\"gridcolor\": \"white\", \"linecolor\": \"white\", \"ticks\": \"\"}, \"bgcolor\": \"#E5ECF6\", \"caxis\": {\"gridcolor\": \"white\", \"linecolor\": \"white\", \"ticks\": \"\"}}, \"title\": {\"x\": 0.05}, \"xaxis\": {\"automargin\": true, \"gridcolor\": \"white\", \"linecolor\": \"white\", \"ticks\": \"\", \"title\": {\"standoff\": 15}, \"zerolinecolor\": \"white\", \"zerolinewidth\": 2}, \"yaxis\": {\"automargin\": true, \"gridcolor\": \"white\", \"linecolor\": \"white\", \"ticks\": \"\", \"title\": {\"standoff\": 15}, \"zerolinecolor\": \"white\", \"zerolinewidth\": 2}}}, \"title\": {\"text\": \"Death in Countries due to COVID-19\"}},\n",
       "                        {\"responsive\": true}\n",
       "                    ).then(function(){\n",
       "                            \n",
       "var gd = document.getElementById('e21f0a70-5c47-4c11-b680-5599d01f9aa7');\n",
       "var x = new MutationObserver(function (mutations, observer) {{\n",
       "        var display = window.getComputedStyle(gd).display;\n",
       "        if (!display || display === 'none') {{\n",
       "            console.log([gd, 'removed!']);\n",
       "            Plotly.purge(gd);\n",
       "            observer.disconnect();\n",
       "        }}\n",
       "}});\n",
       "\n",
       "// Listen for the removal of the full notebook cells\n",
       "var notebookContainer = gd.closest('#notebook-container');\n",
       "if (notebookContainer) {{\n",
       "    x.observe(notebookContainer, {childList: true});\n",
       "}}\n",
       "\n",
       "// Listen for the clearing of the current output cell\n",
       "var outputEl = gd.closest('.output');\n",
       "if (outputEl) {{\n",
       "    x.observe(outputEl, {childList: true});\n",
       "}}\n",
       "\n",
       "                        })\n",
       "                };\n",
       "                });\n",
       "            </script>\n",
       "        </div>"
      ]
     },
     "metadata": {},
     "output_type": "display_data"
    }
   ],
   "source": [
    "death_choro = death.groupby('Country')['type','cases'].sum().reset_index()\n",
    "\n",
    "\n",
    "fig = px.choropleth(death_choro, locations ='Country', locationmode = 'country names',\n",
    "                     color=\"cases\",\n",
    "                     projection= \"natural earth\", range_color = [1,1000],\n",
    "                     color_continuous_scale= px.colors.sequential.Plasma,\n",
    "                     title='Death in Countries due to COVID-19')\n",
    "fig.update(layout_coloraxis_showscale=True)\n",
    "fig.show()"
   ]
  }
 ],
 "metadata": {
  "kernelspec": {
   "display_name": "Python 3",
   "language": "python",
   "name": "python3"
  },
  "language_info": {
   "codemirror_mode": {
    "name": "ipython",
    "version": 3
   },
   "file_extension": ".py",
   "mimetype": "text/x-python",
   "name": "python",
   "nbconvert_exporter": "python",
   "pygments_lexer": "ipython3",
   "version": "3.7.1"
  }
 },
 "nbformat": 4,
 "nbformat_minor": 2
}
